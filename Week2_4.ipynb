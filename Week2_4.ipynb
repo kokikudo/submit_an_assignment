{
  "nbformat": 4,
  "nbformat_minor": 0,
  "metadata": {
    "colab": {
      "name": "Week2_4.ipynb",
      "provenance": [],
      "collapsed_sections": [],
      "authorship_tag": "ABX9TyPnnpUii1Agd2JrnmAmtrQz",
      "include_colab_link": true
    },
    "kernelspec": {
      "name": "python3",
      "display_name": "Python 3"
    }
  },
  "cells": [
    {
      "cell_type": "markdown",
      "metadata": {
        "id": "view-in-github",
        "colab_type": "text"
      },
      "source": [
        "<a href=\"https://colab.research.google.com/github/kokikudo/submit_an_assignment/blob/master/Week2_4.ipynb\" target=\"_parent\"><img src=\"https://colab.research.google.com/assets/colab-badge.svg\" alt=\"Open In Colab\"/></a>"
      ]
    },
    {
      "cell_type": "markdown",
      "metadata": {
        "id": "ax8383IlTE1o"
      },
      "source": [
        "前置きが長いため割愛。diverの本文を確認する。"
      ]
    },
    {
      "cell_type": "markdown",
      "metadata": {
        "id": "ec5BvsSyXhQL"
      },
      "source": [
        "___\n",
        "### 問題1　ダーツのマトを選ぶ"
      ]
    },
    {
      "cell_type": "code",
      "metadata": {
        "id": "xsLY9xXfXoHF",
        "outputId": "7816bf10-121c-44f4-f883-28e669e87c5f",
        "colab": {
          "base_uri": "https://localhost:8080/",
          "height": 34
        }
      },
      "source": [
        "import numpy as np\n",
        "\n",
        "num_darts = 6\n",
        "choice_of_darts = np.random.choice(range(1, num_darts+1))\n",
        "choice_of_darts"
      ],
      "execution_count": 26,
      "outputs": [
        {
          "output_type": "execute_result",
          "data": {
            "text/plain": [
              "2"
            ]
          },
          "metadata": {
            "tags": []
          },
          "execution_count": 26
        }
      ]
    },
    {
      "cell_type": "markdown",
      "metadata": {
        "id": "i7t-6d3aYcKY"
      },
      "source": [
        "___\n",
        "### 問題2　ダーツを投げる→刺さった場所を記録"
      ]
    },
    {
      "cell_type": "code",
      "metadata": {
        "id": "nBrWNgVSYsfa",
        "outputId": "5f0e7fc7-8c37-4f49-a133-f605a4c0b8e3",
        "colab": {
          "base_uri": "https://localhost:8080/",
          "height": 34
        }
      },
      "source": [
        "mean = [choice_of_darts, 0]\n",
        "cov = [[0.01, 0], [0, 0.01]]\n",
        "x_y = np.random.multivariate_normal(mean, cov)\n",
        "coordinates = [x_y[0], x_y[1]]\n",
        "coordinates"
      ],
      "execution_count": 27,
      "outputs": [
        {
          "output_type": "execute_result",
          "data": {
            "text/plain": [
              "[1.9100432620428693, 0.1249039465436031]"
            ]
          },
          "metadata": {
            "tags": []
          },
          "execution_count": 27
        }
      ]
    },
    {
      "cell_type": "markdown",
      "metadata": {
        "id": "Lmq8o0bNe6xO"
      },
      "source": [
        "共分散行列の確認\n",
        "\n",
        "$\n",
        "        \\left[\\begin{array}{c}\n",
        "            S_x^2 \\quad S_{xy} \\\\\n",
        "            S_{xy} \\quad S_y^2 \\\\\n",
        "        \\end{array}\\right]\n",
        "$"
      ]
    },
    {
      "cell_type": "markdown",
      "metadata": {
        "id": "5qSA0uKifl1f"
      },
      "source": [
        "$S_x^2$...分散。データの散らばり具合を数値化したもの。この数値の平方根が標準偏差$S_x$となる。（$S_y^2$も一緒）"
      ]
    },
    {
      "cell_type": "markdown",
      "metadata": {
        "id": "SdNu44Negzq1"
      },
      "source": [
        "$S_{xy}$...共分散。2種類（xとy）のデータの相関関係を数値化したもの。この値が＋なら片方の値が増加するともう片方も増加する、**正の相関**。<br>➖なら片方が増加するともう片方は減少する、負の相関。"
      ]
    },
    {
      "cell_type": "markdown",
      "metadata": {
        "id": "d8pT_AEtiFkY"
      },
      "source": [
        "___\n",
        "### 問題3　ダーツを1000回投げる→マトの番号と座標を辞書にする\n",
        "マトの番号をkey、座標のリストをvalueとする。<br>\n",
        "繰り返し処理のなかで辞書に格納する際、同じkeyがあったら値を更新してしまうため、更新されないよう、valueをリストオブジェクトにしてappendで追加する。"
      ]
    },
    {
      "cell_type": "code",
      "metadata": {
        "id": "Bjg6SfBRkz1o",
        "outputId": "2f1dbd9b-d0b7-431a-f123-8c7bc5c03e6d",
        "colab": {
          "base_uri": "https://localhost:8080/",
          "height": 70
        }
      },
      "source": [
        "# 辞書作成時、valueのオブジェクトが指定できるdefauldictメソッドをimport\n",
        "from collections import defaultdict\n",
        "\n",
        "num_darts = 6\n",
        "result = defaultdict(list)  # valueのオブジェクトがリストの辞書を作成\n",
        "\n",
        "for _ in range(1000):\n",
        "    choice_of_darts = np.random.choice(range(1, num_darts+1))\n",
        "    mean = [choice_of_darts, 0]\n",
        "    cov = [[0.01, 0], [0, 0.01]]\n",
        "    x_y = np.random.multivariate_normal(mean, cov)\n",
        "    coordinates = [x_y[0], x_y[1]]\n",
        "    result[choice_of_darts].append(coordinates) # valueがリストなのでappendが使える！\n",
        "\n",
        "# 確認\n",
        "print('マトの数：', len(result))\n",
        "print('6番のマトに刺さったダーツ：', result[6])"
      ],
      "execution_count": 36,
      "outputs": [
        {
          "output_type": "stream",
          "text": [
            "マトの数： 6\n",
            "6番のマトに刺さったダーツ： [[5.99191366336221, 0.17055311195451117], [6.020432753153407, 0.16783656774571898], [5.973651363567359, 0.19867267853868498], [6.0131763017504545, 0.09785748493993404], [6.113943168948267, -0.0022949483033255645], [6.000204567813322, 0.14169189109597782], [6.076880976436832, -0.04842396811019652], [6.008513478163425, 0.1766885922122554], [5.925025174160588, -0.15509826891990208], [5.878035916456043, 0.09483868395699975], [6.184036662761103, 0.044170823103633065], [6.2273799134041585, -0.016026114570138115], [5.859697303812514, 0.1058424425343248], [5.907661467904069, -0.08120390909009884], [5.968281722374714, -0.09579804397572744], [6.205208757033495, -0.040787756481774455], [5.933657996453484, 0.022135120038936213], [6.0169801572348804, 0.04209919730212164], [6.076550296283845, 0.03178011051610315], [5.961953757822554, -0.012070523548441186], [5.924928501244725, -0.00717218535585568], [6.141026865105873, 0.036443697781516245], [5.9856423802505505, -0.004403776113302619], [6.074722639346558, -0.019128907943606194], [6.171014309435575, 0.13601360528805953], [6.085559805165752, 0.006457835254793851], [5.972221823986336, 0.0002188181120566157], [5.9777268560901815, 0.06354975823787194], [6.034451585084259, -0.1368476366884923], [5.993789394768636, 0.020296668449570697], [5.938933204332585, 0.1225115969663597], [6.086628499160052, -0.07609950882522776], [6.028362973442863, -0.07027922930943886], [6.050884474845376, -0.043036973246784835], [6.126645564952942, 0.04260907157938887], [5.941909797181561, 0.16294069075722503], [5.962319464091508, -0.18150589331557887], [5.8086782240737564, 0.056945257253481374], [5.93666408179803, -0.08610684787495168], [6.198354324504291, -0.007851602747954994], [6.107396464898549, 0.02975838956494231], [5.87746804293875, -0.011721467598364645], [6.165460417219708, 0.010627701314702816], [6.003100133304276, -0.11668353250963306], [6.003455980608488, -0.11487490945640187], [5.982934391384977, 0.0878248781083068], [5.923422263849592, 0.02205618886304909], [5.849453635744308, 0.14918445751261428], [5.993929863598531, 0.005302506940331204], [5.778496888723652, -0.048517023206567894], [5.876999704429955, -0.03568600995698477], [5.983509105269645, 0.009181620061789629], [5.85156217778611, -0.0308656468133566], [5.948046964799075, -0.04005719833109804], [6.0235350992918, -0.014638517944947582], [6.111588988212625, 0.12158310358911928], [5.999881229341071, -0.14333266610148473], [6.008947885206765, 0.10748608888059877], [5.991301027717704, -0.10471999171556437], [6.116238835671212, 0.04834087619765365], [5.980966447590749, 0.0272142546398737], [5.964417441549858, 0.04983042249989905], [6.042932166450807, 0.016152479011884664], [5.936090628057787, 0.020355554580616695], [5.787426988111196, -0.047954308766748305], [5.822174607139248, -0.12009301048081533], [6.0799131906133566, 0.1393634717213324], [5.906677894039624, -0.021123187615712302], [6.110592328743788, -0.06944096202330913], [6.012860569721563, 0.049204758799763514], [5.990310296635005, -0.25357886663898155], [6.095876576507945, -0.11859509031219356], [6.036428574663931, -0.08869933639984326], [5.955106482585492, 0.08848826112726861], [6.047355358660577, 0.1300669727769746], [6.0646781758836426, -0.16591781261412725], [5.967698854506685, 0.0388214763493257], [6.113136401395635, -0.07629489779596926], [6.006962414521777, 0.10829714216622084], [5.923498348346178, -0.020628104153219487], [5.98935905040866, 0.02382817732700365], [5.998255133637741, -0.13261847099570445], [6.037872209477735, -0.05212592899930257], [6.256429387694141, -0.021338626168612315], [6.043810705083842, 0.08118054455666779], [5.980077294377137, -0.1648983017260821], [5.8542598387390985, -0.09214481920728079], [5.9629991574975865, 0.036630594995222004], [6.008259132417245, 0.013615975172273524], [5.983013745021277, 0.028666841413565666], [6.042407155145668, -0.06450210982198086], [6.001613314713208, -0.022658538210319948], [6.038117156902622, -0.03191294293924401], [6.131179823707036, 0.12625213603425842], [5.992889491354548, -0.05350014050497007], [6.126866976375393, 0.14541679686044048], [6.023905637471699, 0.11820794444726489], [6.031833838695271, 0.13265478519527082], [5.955819758658578, -0.08422960800599649], [5.829992117440685, 0.03717155461165334], [5.9757913652294965, 0.08077195442554451], [6.174123131919948, -0.039546842120557674], [5.841899072710137, -0.14955026064243226], [5.806901074586266, -0.009429506273371904], [6.039147830413006, -0.024692838946593645], [5.849756550121302, -0.042776851833215224], [5.928104596785577, 0.020283651634046728], [5.895659965897909, -0.03204702199267345], [6.033128046235288, 0.012999707674366208], [5.982869025688067, -0.04976813015188431], [5.82617270813058, 0.0587255260766292], [5.774856788527603, -0.07548068462296033], [5.906147781956683, -0.00799919679798716], [5.892674999870429, -0.09083087577509297], [5.891149706924054, -0.20425900308394965], [6.022878498342131, 0.07692394521508202], [5.976381593325093, -0.07867991517490096], [5.904030988319432, -0.17736166942980225], [6.045649192230508, -0.028859566924014292], [6.10217294866361, 0.052083751986013484], [6.134016626162271, 0.09795658637564117], [5.8313758011774315, 0.1523998023522331], [6.1217260711603805, 0.050355357679918604], [5.9703339869323075, 0.18464774608244194], [6.190875117637374, 0.14323657509583632], [5.979820437532513, -0.046446273659468795], [6.128614165754606, -0.04624934955635476], [5.9364580057618275, -0.07284289621709637], [6.003468915359132, -0.0855454389563916], [6.062959041726225, 0.10622609216538728], [6.023071338689691, 0.054921951306766574], [6.0448967055279725, 0.1309791783558023], [5.98022068961879, -0.05866307550843726], [6.097008576812597, 0.15479477986630286], [5.893692325886603, -0.08062381170579808], [5.819041830571556, 0.007958595850176586], [6.1169527623808095, 0.01603682080086283], [5.984304324075098, -0.1176412930073503], [5.955337248059787, 0.028772719392048503], [5.971622490363499, -0.1207049875921698], [5.730368925453625, 0.17058748643508503], [6.059536518519394, -0.1995306849499668], [6.161191664495859, -0.04092267443935027], [5.97049898108657, -0.10024338776456665], [5.99791660871601, -0.14592209425400707], [6.002805204409659, 0.00012057450517457057], [5.958597452148036, -0.04525281762055473], [5.699703689914965, 0.11162876510957653], [5.902920732823341, -0.028052446311832277], [5.970927838560599, 0.20115671123145626], [6.025774158349444, -0.21657861513944968], [5.902302838490263, -0.19670503730706412], [5.915248637637515, -0.1473914934716527]]\n"
          ],
          "name": "stdout"
        }
      ]
    },
    {
      "cell_type": "markdown",
      "metadata": {
        "id": "fhBdK5Hqr3NG"
      },
      "source": [
        "___\n",
        "### 問題4　描画する\n",
        "辞書からキーごとに値を取り出し、マトごとに刺さった場所を描画する。"
      ]
    },
    {
      "cell_type": "code",
      "metadata": {
        "id": "OCdkQseJsYrD",
        "outputId": "a8012c08-6824-4717-9a7a-7ea5f601a7cf",
        "colab": {
          "base_uri": "https://localhost:8080/",
          "height": 105
        }
      },
      "source": [
        "import matplotlib.patches as patches\n",
        "import matplotlib.pyplot as plt\n",
        "import random\n",
        "%matplotlib inline\n",
        "\n",
        "# Figureオブジェクトとそれに属する一つのAxesオブジェクトを同時に生成\n",
        "fig, ax = plt.subplots()\n",
        "\n",
        "# ダーツの色をマトごとに振り分けたいので、axes.prop_cycleのカラーサイクルリストを使う\n",
        "colors = plt.rcParams['axes.prop_cycle'].by_key()['color']\n",
        "\n",
        "for key, list_value in result.items():\n",
        "    # 円を定義し、描画する\n",
        "    outer_circle = patches.Circle(xy=(key, 0), radius=0.5, ec='b', fill=False)\n",
        "    inner_circle = patches.Circle(xy=(key, 0), radius=0.3, ec='b', fill=False)\n",
        "    ax.add_patch(outer_circle)\n",
        "    ax.add_patch(inner_circle)\n",
        "\n",
        "    color = random.choice(colors)   # 10色格納されてるcolorsからランダムにチョイス\n",
        "    # 乱数をプロッド\n",
        "    for value in list_value:\n",
        "        plt.scatter(value[0], value[1], c=color)\n",
        "\n",
        "plt.axis('scaled')\n",
        "ax.set_aspect('equal')"
      ],
      "execution_count": 32,
      "outputs": [
        {
          "output_type": "display_data",
          "data": {
            "image/png": "[encoded data removed]",
            "text/plain": [
              "<Figure size 432x288 with 1 Axes>"
            ]
          },
          "metadata": {
            "tags": [],
            "needs_background": "light"
          }
        }
      ]
    },
    {
      "cell_type": "markdown",
      "metadata": {
        "id": "jK8tbdI-ICNT"
      },
      "source": [
        "___\n",
        "### 問題5　関数化する\n",
        "第一引数に投げる数、第二引数にマトの数を受け取り、ダーツの描画する関数を作る。"
      ]
    },
    {
      "cell_type": "code",
      "metadata": {
        "id": "UKLvil_mIbdp",
        "outputId": "3523f25d-3c73-4558-ca4f-f1500860202a",
        "colab": {
          "base_uri": "https://localhost:8080/",
          "height": 215
        }
      },
      "source": [
        "import numpy as np\n",
        "import matplotlib.patches as patches\n",
        "import matplotlib.pyplot as plt\n",
        "from collections import defaultdict\n",
        "import random\n",
        "%matplotlib inline\n",
        "\n",
        "def Hitting_the_matte_on_the_dart(count, darts):\n",
        "    result = defaultdict(list)  # valueのオブジェクトがリストの辞書を作成\n",
        "\n",
        "    for _ in range(count):\n",
        "        num_darts = darts\n",
        "        choice_of_darts = np.random.choice(range(1, num_darts+1))\n",
        "        mean = [choice_of_darts, 0]\n",
        "        cov = [[0.01, 0], [0, 0.01]]\n",
        "        x_y = np.random.multivariate_normal(mean, cov)\n",
        "        coordinates = [x_y[0], x_y[1]]\n",
        "        result[choice_of_darts].append(coordinates)\n",
        "\n",
        "    fig, ax = plt.subplots()\n",
        "    colors = plt.rcParams['axes.prop_cycle'].by_key()['color']\n",
        "\n",
        "    for key, list_value in result.items():\n",
        "        # 円を定義し、描画する\n",
        "        outer_circle = patches.Circle(xy=(key, 0), radius=0.5, ec='b', fill=False)\n",
        "        inner_circle = patches.Circle(xy=(key, 0), radius=0.3, ec='b', fill=False)\n",
        "        ax.add_patch(outer_circle)\n",
        "        ax.add_patch(inner_circle)\n",
        "\n",
        "        color = random.choice(colors)\n",
        "        for value in list_value:\n",
        "            plt.scatter(value[0], value[1], c=color)\n",
        "\n",
        "    plt.axis('scaled')\n",
        "    ax.set_aspect('equal')\n",
        "\n",
        "Hitting_the_matte_on_the_dart(100, 2)"
      ],
      "execution_count": 30,
      "outputs": [
        {
          "output_type": "display_data",
          "data": {
            "image/png": "[encoded data removed]",
            "text/plain": [
              "<Figure size 432x288 with 1 Axes>"
            ]
          },
          "metadata": {
            "tags": [],
            "needs_background": "light"
          }
        }
      ]
    },
    {
      "cell_type": "markdown",
      "metadata": {
        "id": "Ly-qlTinQAUS"
      },
      "source": [
        "___\n",
        "### 感想\n",
        "描画に苦戦した。正直、ネットのコピペの部分が多く、理解しないまま実装している部分が多くある。特に、figとaxの概念がわからない。また、マトの数が増えると描画される図が小さくなってしまう現象があり、ネットで調べても解決できなかった。"
      ]
    }
  ]
}