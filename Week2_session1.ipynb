{
  "nbformat": 4,
  "nbformat_minor": 0,
  "metadata": {
    "colab": {
      "name": "Week2_session1.ipynb",
      "provenance": [],
      "authorship_tag": "ABX9TyMA+E1NLpiHqmBzzwthXZLI",
      "include_colab_link": true
    },
    "kernelspec": {
      "name": "python3",
      "display_name": "Python 3"
    }
  },
  "cells": [
    {
      "cell_type": "markdown",
      "metadata": {
        "id": "view-in-github",
        "colab_type": "text"
      },
      "source": [
        "<a href=\"https://colab.research.google.com/github/kokikudo/submit_an_assignment/blob/master/Week2_session1.ipynb\" target=\"_parent\"><img src=\"https://colab.research.google.com/assets/colab-badge.svg\" alt=\"Open In Colab\"/></a>"
      ]
    },
    {
      "cell_type": "markdown",
      "metadata": {
        "id": "Z-mDx80RbHo9"
      },
      "source": [
        "課題の内容は[diver](https://diver.diveintocode.jp/curriculums/1631)で確認してください。"
      ]
    },
    {
      "cell_type": "code",
      "metadata": {
        "id": "ihAQOPzscy9d"
      },
      "source": [
        "import matplotlib.pyplot as plt\n",
        "%matplotlib inline\n",
        "import numpy as np"
      ],
      "execution_count": 118,
      "outputs": []
    },
    {
      "cell_type": "markdown",
      "metadata": {
        "id": "oYS_7RYHbiHc"
      },
      "source": [
        "###問題1"
      ]
    },
    {
      "cell_type": "code",
      "metadata": {
        "id": "F2RwrrppcSjj",
        "outputId": "e7376cdc-eb07-4a45-dcf6-dd0277fc6a48",
        "colab": {
          "base_uri": "https://localhost:8080/",
          "height": 34
        }
      },
      "source": [
        "x_min = -50\n",
        "x_max = 50\n",
        "x_step = 0.1\n",
        "x_array = np.arange(x_min, x_max+x_step, x_step)\n",
        "x_array.shape"
      ],
      "execution_count": 133,
      "outputs": [
        {
          "output_type": "execute_result",
          "data": {
            "text/plain": [
              "(1001,)"
            ]
          },
          "metadata": {
            "tags": []
          },
          "execution_count": 133
        }
      ]
    },
    {
      "cell_type": "code",
      "metadata": {
        "id": "ZF8H5S18dDrj",
        "outputId": "789a40e1-a47e-43cc-e7f8-1a4b08099b3a",
        "colab": {
          "base_uri": "https://localhost:8080/",
          "height": 34
        }
      },
      "source": [
        "y_array = 0.5*x_array + 1\n",
        "y_array.shape"
      ],
      "execution_count": 134,
      "outputs": [
        {
          "output_type": "execute_result",
          "data": {
            "text/plain": [
              "(1001,)"
            ]
          },
          "metadata": {
            "tags": []
          },
          "execution_count": 134
        }
      ]
    },
    {
      "cell_type": "markdown",
      "metadata": {
        "id": "TJluny4lfJvo"
      },
      "source": [
        "###問題2"
      ]
    },
    {
      "cell_type": "code",
      "metadata": {
        "id": "Oel5RzU4diCM",
        "outputId": "c1c176eb-1272-415b-cc53-2baeb99d4f43",
        "colab": {
          "base_uri": "https://localhost:8080/",
          "height": 134
        }
      },
      "source": [
        "# 結合するときに二次元以上の配列に変形する。\n",
        "x_array = x_array.reshape(-1, 1)\n",
        "y_array = y_array.reshape(-1, 1)\n",
        "\n",
        "# np.concatenate([a, b], 1) aとbの配列を横に結合\n",
        "combination_x_and_y = np.concatenate([x_array, y_array], 1)\n",
        "combination_x_and_y"
      ],
      "execution_count": 136,
      "outputs": [
        {
          "output_type": "execute_result",
          "data": {
            "text/plain": [
              "array([[-50.  , -24.  ],\n",
              "       [-49.9 , -23.95],\n",
              "       [-49.8 , -23.9 ],\n",
              "       ...,\n",
              "       [ 49.8 ,  25.9 ],\n",
              "       [ 49.9 ,  25.95],\n",
              "       [ 50.  ,  26.  ]])"
            ]
          },
          "metadata": {
            "tags": []
          },
          "execution_count": 136
        }
      ]
    },
    {
      "cell_type": "markdown",
      "metadata": {
        "id": "XpaOQfQLfv3n"
      },
      "source": [
        "###問題3"
      ]
    },
    {
      "cell_type": "code",
      "metadata": {
        "id": "SskQr_csfylD",
        "outputId": "4849f37c-5c98-488c-db97-9f5d68ecadf1",
        "colab": {
          "base_uri": "https://localhost:8080/",
          "height": 958
        }
      },
      "source": [
        "# 勾配　＝　yの変化量　/ xの変化量　　= グラフの傾き\n",
        "gradient = (\n",
        "            (combination_x_and_y[1:, 1] - combination_x_and_y[:-1, 1])\n",
        "            / (combination_x_and_y[1:, 0] - combination_x_and_y[:-1, 0]) \n",
        "            )\n",
        "print(gradient)"
      ],
      "execution_count": 140,
      "outputs": [
        {
          "output_type": "stream",
          "text": [
            "[0.5 0.5 0.5 0.5 0.5 0.5 0.5 0.5 0.5 0.5 0.5 0.5 0.5 0.5 0.5 0.5 0.5 0.5\n",
            " 0.5 0.5 0.5 0.5 0.5 0.5 0.5 0.5 0.5 0.5 0.5 0.5 0.5 0.5 0.5 0.5 0.5 0.5\n",
            " 0.5 0.5 0.5 0.5 0.5 0.5 0.5 0.5 0.5 0.5 0.5 0.5 0.5 0.5 0.5 0.5 0.5 0.5\n",
            " 0.5 0.5 0.5 0.5 0.5 0.5 0.5 0.5 0.5 0.5 0.5 0.5 0.5 0.5 0.5 0.5 0.5 0.5\n",
            " 0.5 0.5 0.5 0.5 0.5 0.5 0.5 0.5 0.5 0.5 0.5 0.5 0.5 0.5 0.5 0.5 0.5 0.5\n",
            " 0.5 0.5 0.5 0.5 0.5 0.5 0.5 0.5 0.5 0.5 0.5 0.5 0.5 0.5 0.5 0.5 0.5 0.5\n",
            " 0.5 0.5 0.5 0.5 0.5 0.5 0.5 0.5 0.5 0.5 0.5 0.5 0.5 0.5 0.5 0.5 0.5 0.5\n",
            " 0.5 0.5 0.5 0.5 0.5 0.5 0.5 0.5 0.5 0.5 0.5 0.5 0.5 0.5 0.5 0.5 0.5 0.5\n",
            " 0.5 0.5 0.5 0.5 0.5 0.5 0.5 0.5 0.5 0.5 0.5 0.5 0.5 0.5 0.5 0.5 0.5 0.5\n",
            " 0.5 0.5 0.5 0.5 0.5 0.5 0.5 0.5 0.5 0.5 0.5 0.5 0.5 0.5 0.5 0.5 0.5 0.5\n",
            " 0.5 0.5 0.5 0.5 0.5 0.5 0.5 0.5 0.5 0.5 0.5 0.5 0.5 0.5 0.5 0.5 0.5 0.5\n",
            " 0.5 0.5 0.5 0.5 0.5 0.5 0.5 0.5 0.5 0.5 0.5 0.5 0.5 0.5 0.5 0.5 0.5 0.5\n",
            " 0.5 0.5 0.5 0.5 0.5 0.5 0.5 0.5 0.5 0.5 0.5 0.5 0.5 0.5 0.5 0.5 0.5 0.5\n",
            " 0.5 0.5 0.5 0.5 0.5 0.5 0.5 0.5 0.5 0.5 0.5 0.5 0.5 0.5 0.5 0.5 0.5 0.5\n",
            " 0.5 0.5 0.5 0.5 0.5 0.5 0.5 0.5 0.5 0.5 0.5 0.5 0.5 0.5 0.5 0.5 0.5 0.5\n",
            " 0.5 0.5 0.5 0.5 0.5 0.5 0.5 0.5 0.5 0.5 0.5 0.5 0.5 0.5 0.5 0.5 0.5 0.5\n",
            " 0.5 0.5 0.5 0.5 0.5 0.5 0.5 0.5 0.5 0.5 0.5 0.5 0.5 0.5 0.5 0.5 0.5 0.5\n",
            " 0.5 0.5 0.5 0.5 0.5 0.5 0.5 0.5 0.5 0.5 0.5 0.5 0.5 0.5 0.5 0.5 0.5 0.5\n",
            " 0.5 0.5 0.5 0.5 0.5 0.5 0.5 0.5 0.5 0.5 0.5 0.5 0.5 0.5 0.5 0.5 0.5 0.5\n",
            " 0.5 0.5 0.5 0.5 0.5 0.5 0.5 0.5 0.5 0.5 0.5 0.5 0.5 0.5 0.5 0.5 0.5 0.5\n",
            " 0.5 0.5 0.5 0.5 0.5 0.5 0.5 0.5 0.5 0.5 0.5 0.5 0.5 0.5 0.5 0.5 0.5 0.5\n",
            " 0.5 0.5 0.5 0.5 0.5 0.5 0.5 0.5 0.5 0.5 0.5 0.5 0.5 0.5 0.5 0.5 0.5 0.5\n",
            " 0.5 0.5 0.5 0.5 0.5 0.5 0.5 0.5 0.5 0.5 0.5 0.5 0.5 0.5 0.5 0.5 0.5 0.5\n",
            " 0.5 0.5 0.5 0.5 0.5 0.5 0.5 0.5 0.5 0.5 0.5 0.5 0.5 0.5 0.5 0.5 0.5 0.5\n",
            " 0.5 0.5 0.5 0.5 0.5 0.5 0.5 0.5 0.5 0.5 0.5 0.5 0.5 0.5 0.5 0.5 0.5 0.5\n",
            " 0.5 0.5 0.5 0.5 0.5 0.5 0.5 0.5 0.5 0.5 0.5 0.5 0.5 0.5 0.5 0.5 0.5 0.5\n",
            " 0.5 0.5 0.5 0.5 0.5 0.5 0.5 0.5 0.5 0.5 0.5 0.5 0.5 0.5 0.5 0.5 0.5 0.5\n",
            " 0.5 0.5 0.5 0.5 0.5 0.5 0.5 0.5 0.5 0.5 0.5 0.5 0.5 0.5 0.5 0.5 0.5 0.5\n",
            " 0.5 0.5 0.5 0.5 0.5 0.5 0.5 0.5 0.5 0.5 0.5 0.5 0.5 0.5 0.5 0.5 0.5 0.5\n",
            " 0.5 0.5 0.5 0.5 0.5 0.5 0.5 0.5 0.5 0.5 0.5 0.5 0.5 0.5 0.5 0.5 0.5 0.5\n",
            " 0.5 0.5 0.5 0.5 0.5 0.5 0.5 0.5 0.5 0.5 0.5 0.5 0.5 0.5 0.5 0.5 0.5 0.5\n",
            " 0.5 0.5 0.5 0.5 0.5 0.5 0.5 0.5 0.5 0.5 0.5 0.5 0.5 0.5 0.5 0.5 0.5 0.5\n",
            " 0.5 0.5 0.5 0.5 0.5 0.5 0.5 0.5 0.5 0.5 0.5 0.5 0.5 0.5 0.5 0.5 0.5 0.5\n",
            " 0.5 0.5 0.5 0.5 0.5 0.5 0.5 0.5 0.5 0.5 0.5 0.5 0.5 0.5 0.5 0.5 0.5 0.5\n",
            " 0.5 0.5 0.5 0.5 0.5 0.5 0.5 0.5 0.5 0.5 0.5 0.5 0.5 0.5 0.5 0.5 0.5 0.5\n",
            " 0.5 0.5 0.5 0.5 0.5 0.5 0.5 0.5 0.5 0.5 0.5 0.5 0.5 0.5 0.5 0.5 0.5 0.5\n",
            " 0.5 0.5 0.5 0.5 0.5 0.5 0.5 0.5 0.5 0.5 0.5 0.5 0.5 0.5 0.5 0.5 0.5 0.5\n",
            " 0.5 0.5 0.5 0.5 0.5 0.5 0.5 0.5 0.5 0.5 0.5 0.5 0.5 0.5 0.5 0.5 0.5 0.5\n",
            " 0.5 0.5 0.5 0.5 0.5 0.5 0.5 0.5 0.5 0.5 0.5 0.5 0.5 0.5 0.5 0.5 0.5 0.5\n",
            " 0.5 0.5 0.5 0.5 0.5 0.5 0.5 0.5 0.5 0.5 0.5 0.5 0.5 0.5 0.5 0.5 0.5 0.5\n",
            " 0.5 0.5 0.5 0.5 0.5 0.5 0.5 0.5 0.5 0.5 0.5 0.5 0.5 0.5 0.5 0.5 0.5 0.5\n",
            " 0.5 0.5 0.5 0.5 0.5 0.5 0.5 0.5 0.5 0.5 0.5 0.5 0.5 0.5 0.5 0.5 0.5 0.5\n",
            " 0.5 0.5 0.5 0.5 0.5 0.5 0.5 0.5 0.5 0.5 0.5 0.5 0.5 0.5 0.5 0.5 0.5 0.5\n",
            " 0.5 0.5 0.5 0.5 0.5 0.5 0.5 0.5 0.5 0.5 0.5 0.5 0.5 0.5 0.5 0.5 0.5 0.5\n",
            " 0.5 0.5 0.5 0.5 0.5 0.5 0.5 0.5 0.5 0.5 0.5 0.5 0.5 0.5 0.5 0.5 0.5 0.5\n",
            " 0.5 0.5 0.5 0.5 0.5 0.5 0.5 0.5 0.5 0.5 0.5 0.5 0.5 0.5 0.5 0.5 0.5 0.5\n",
            " 0.5 0.5 0.5 0.5 0.5 0.5 0.5 0.5 0.5 0.5 0.5 0.5 0.5 0.5 0.5 0.5 0.5 0.5\n",
            " 0.5 0.5 0.5 0.5 0.5 0.5 0.5 0.5 0.5 0.5 0.5 0.5 0.5 0.5 0.5 0.5 0.5 0.5\n",
            " 0.5 0.5 0.5 0.5 0.5 0.5 0.5 0.5 0.5 0.5 0.5 0.5 0.5 0.5 0.5 0.5 0.5 0.5\n",
            " 0.5 0.5 0.5 0.5 0.5 0.5 0.5 0.5 0.5 0.5 0.5 0.5 0.5 0.5 0.5 0.5 0.5 0.5\n",
            " 0.5 0.5 0.5 0.5 0.5 0.5 0.5 0.5 0.5 0.5 0.5 0.5 0.5 0.5 0.5 0.5 0.5 0.5\n",
            " 0.5 0.5 0.5 0.5 0.5 0.5 0.5 0.5 0.5 0.5 0.5 0.5 0.5 0.5 0.5 0.5 0.5 0.5\n",
            " 0.5 0.5 0.5 0.5 0.5 0.5 0.5 0.5 0.5 0.5 0.5 0.5 0.5 0.5 0.5 0.5 0.5 0.5\n",
            " 0.5 0.5 0.5 0.5 0.5 0.5 0.5 0.5 0.5 0.5 0.5 0.5 0.5 0.5 0.5 0.5 0.5 0.5\n",
            " 0.5 0.5 0.5 0.5 0.5 0.5 0.5 0.5 0.5 0.5 0.5 0.5 0.5 0.5 0.5 0.5 0.5 0.5\n",
            " 0.5 0.5 0.5 0.5 0.5 0.5 0.5 0.5 0.5 0.5]\n"
          ],
          "name": "stdout"
        }
      ]
    },
    {
      "cell_type": "markdown",
      "metadata": {
        "id": "p2EcztIihiI9"
      },
      "source": [
        "###問題4"
      ]
    },
    {
      "cell_type": "code",
      "metadata": {
        "id": "qrhFZp3yhj_x",
        "outputId": "b891d3ca-1133-4fc1-9441-17dd9aae53b0",
        "colab": {
          "base_uri": "https://localhost:8080/",
          "height": 573
        }
      },
      "source": [
        "plt.title('y=x/2 + 1')\n",
        "plt.xlabel('x')\n",
        "plt.ylabel('y')\n",
        "plt.plot(combination_x_and_y[:, 0], combination_x_and_y[:, 1])\n",
        "plt.show()\n",
        "\n",
        "plt.title(\"gradient of y=x/2 + 1\")\n",
        "plt.xlabel('x')\n",
        "plt.ylabel('gradient')\n",
        "plt.plot(combination_x_and_y[:-1, 0], gradient)\n",
        "plt.show()"
      ],
      "execution_count": 141,
      "outputs": [
        {
          "output_type": "display_data",
          "data": {
            "image/png": "[encoded data removed]",
            "text/plain": [
              "<Figure size 432x288 with 1 Axes>"
            ]
          },
          "metadata": {
            "tags": [],
            "needs_background": "light"
          }
        },
        {
          "output_type": "display_data",
          "data": {
            "image/png": "[encoded data removed]",
            "text/plain": [
              "<Figure size 432x288 with 1 Axes>"
            ]
          },
          "metadata": {
            "tags": [],
            "needs_background": "light"
          }
        }
      ]
    },
    {
      "cell_type": "markdown",
      "metadata": {
        "id": "Eq4pcJ8PmhjG"
      },
      "source": [
        "###問題5"
      ]
    },
    {
      "cell_type": "code",
      "metadata": {
        "id": "irM0sDI_mxi_"
      },
      "source": [
        "def compute_gradient(function, x_range=(-50, 50.1, 0.1)):\n",
        "    \"\"\"\n",
        "    後輩を計算する\n",
        "\n",
        "    Prameters\n",
        "    ------------------\n",
        "    function: function\n",
        "    関数の戻り値ではなく、関数そのものが入っている\n",
        "    x_range: tuple\n",
        "    np.arrange(*x_range)とすると展開して引数として渡す\n",
        "\n",
        "    Returns\n",
        "    ------------------\n",
        "    array_xy: daarray, shape(n, 2)\n",
        "    xとyの結合配列。nはx_rangeに依存する\n",
        "    gradient: ndarray, shape(n,)\n",
        "    関数の勾配\n",
        "    \"\"\"\n",
        "    array_x = np.arange(*x_range)\n",
        "    array_y = function(array_x) # 任意の関数を通して結果をyにできる（便利！）\n",
        "    array_xy = np.concatenate((array_x[:, np.newaxis], array_y[:, np.newaxis]), axis=1)\n",
        "    gradient = (array_xy[1:, 1] - array_xy[:-1, 1])/(array_xy[1:, 0] - array_xy[:-1, 0])\n",
        "    return array_xy, gradient\n"
      ],
      "execution_count": 143,
      "outputs": []
    },
    {
      "cell_type": "code",
      "metadata": {
        "id": "r15YnMGwoYlV",
        "outputId": "09f0c2dc-2d9e-425f-abe1-d866a0b7e803",
        "colab": {
          "base_uri": "https://localhost:8080/",
          "height": 573
        }
      },
      "source": [
        "# y = x^2 (-50<=x<=50)\n",
        "def function1(array_x):\n",
        "    \"\"\"\n",
        "    y = x**2の関数。xのndarrayを入れるとyのndarrayを返す。\n",
        "\n",
        "    Parameters\n",
        "    ----------------\n",
        "    array_x : ndarray, shape(n,)\n",
        "\n",
        "    Returns\n",
        "    ----------------\n",
        "    ndarray, shape(n,)  \n",
        "    \"\"\"\n",
        "    return array_x**2\n",
        "\n",
        "array_xy2, gradient2 = compute_gradient(function1)\n",
        "\n",
        "plt.title(\"y=x**2\")\n",
        "plt.xlabel(\"x\")\n",
        "plt.ylabel(\"y\")\n",
        "plt.plot(array_xy2[:, 0], array_xy2[:, 1])\n",
        "plt.show()\n",
        "\n",
        "plt.title(\"gradient of y=x**2\")\n",
        "plt.xlabel(\"x\")\n",
        "plt.ylabel(\"gradient\")\n",
        "plt.plot(array_xy2[:-1, 0], gradient2)\n",
        "plt.show()"
      ],
      "execution_count": 145,
      "outputs": [
        {
          "output_type": "display_data",
          "data": {
            "image/png": "[encoded data removed]",
            "text/plain": [
              "<Figure size 432x288 with 1 Axes>"
            ]
          },
          "metadata": {
            "tags": [],
            "needs_background": "light"
          }
        },
        {
          "output_type": "display_data",
          "data": {
            "image/png": "[encoded data removed]",
            "text/plain": [
              "<Figure size 432x288 with 1 Axes>"
            ]
          },
          "metadata": {
            "tags": [],
            "needs_background": "light"
          }
        }
      ]
    },
    {
      "cell_type": "code",
      "metadata": {
        "id": "-vKixGHbnS3A",
        "outputId": "e83e03c1-4056-4a5a-ab6a-55a492b7e184",
        "colab": {
          "base_uri": "https://localhost:8080/",
          "height": 573
        }
      },
      "source": [
        "# y = 2x^2 + 2^x(-50<=x<=50)\n",
        "def function2(x_array):\n",
        "    return 2*(x_array**2) + 2**x_array\n",
        "\n",
        "array_xy3, gradient3 = compute_gradient(function2)\n",
        "\n",
        "plt.title(\"y=2*x**2 + 2**x\")\n",
        "plt.xlabel(\"x\")\n",
        "plt.ylabel(\"y\")\n",
        "plt.plot(array_xy3[:, 0], array_xy3[:, 1])\n",
        "plt.show()\n",
        "\n",
        "plt.title(\"gradient of y=2*x**2 + 2**x\")\n",
        "plt.xlabel(\"x\")\n",
        "plt.ylabel(\"gradient\")\n",
        "plt.plot(array_xy3[:-1, 0], gradient3)\n",
        "plt.show()"
      ],
      "execution_count": 147,
      "outputs": [
        {
          "output_type": "display_data",
          "data": {
            "image/png": "[encoded data removed]",
            "text/plain": [
              "<Figure size 432x288 with 1 Axes>"
            ]
          },
          "metadata": {
            "tags": [],
            "needs_background": "light"
          }
        },
        {
          "output_type": "display_data",
          "data": {
            "image/png": "[encoded data removed]",
            "text/plain": [
              "<Figure size 432x288 with 1 Axes>"
            ]
          },
          "metadata": {
            "tags": [],
            "needs_background": "light"
          }
        }
      ]
    },
    {
      "cell_type": "code",
      "metadata": {
        "id": "thvfsJbfqERS",
        "outputId": "8ac03cac-a492-4a53-e295-6acad5207287",
        "colab": {
          "base_uri": "https://localhost:8080/",
          "height": 573
        }
      },
      "source": [
        "# y = sin(x^0.5)(0<=x<=50)\n",
        "def function3(x_array):\n",
        "    return np.sin(x_array**0.5)\n",
        "\n",
        "array_xy4, gradient4 = compute_gradient(function3, x_range=(0, 50.1, 0.1))# 開始をマイナスにすると警告が出るので０開始にしている\n",
        "\n",
        "plt.title(\"y=sin(x**0.5)\")\n",
        "plt.xlabel(\"x\")\n",
        "plt.ylabel(\"y\")\n",
        "plt.plot(array_xy4[:, 0], array_xy4[:, 1])\n",
        "plt.show()\n",
        "\n",
        "plt.title(\"gradient of y=sin(x**0.5)\")\n",
        "plt.xlabel(\"x\")\n",
        "plt.ylabel(\"gradient\")\n",
        "plt.plot(array_xy4[:-1, 0], gradient4)\n",
        "plt.show()"
      ],
      "execution_count": 148,
      "outputs": [
        {
          "output_type": "display_data",
          "data": {
            "image/png": "[encoded data removed]",
            "text/plain": [
              "<Figure size 432x288 with 1 Axes>"
            ]
          },
          "metadata": {
            "tags": [],
            "needs_background": "light"
          }
        },
        {
          "output_type": "display_data",
          "data": {
            "image/png": "[encoded data removed]",
            "text/plain": [
              "<Figure size 432x288 with 1 Axes>"
            ]
          },
          "metadata": {
            "tags": [],
            "needs_background": "light"
          }
        }
      ]
    },
    {
      "cell_type": "markdown",
      "metadata": {
        "id": "1IPAjpa4wNNH"
      },
      "source": [
        "###問題6"
      ]
    },
    {
      "cell_type": "code",
      "metadata": {
        "id": "IM8w_4Rq6LF1",
        "outputId": "61678cfc-5005-441f-ddf4-08f4960bc30c",
        "colab": {
          "base_uri": "https://localhost:8080/",
          "height": 67
        }
      },
      "source": [
        "print('function1を通した時の最小値y=', array_xy2.min(axis=0)[1], ',インデックス番号:', array_xy2.argmin(axis=0)[1])\n",
        "print('function2を通した時の最小値y=', array_xy3.min(axis=0)[1], ',インデックス番号:', array_xy3.argmin(axis=0)[1])\n",
        "print('function3を通した時の最小値y=', array_xy4.min(axis=0)[1], ',インデックス番号:', array_xy4.argmin(axis=0)[1])"
      ],
      "execution_count": 152,
      "outputs": [
        {
          "output_type": "stream",
          "text": [
            "function1を通した時の最小値y= 5.048709793414476e-25 ,インデックス番号: 500\n",
            "function2を通した時の最小値y= 0.9505505632959851 ,インデックス番号: 498\n",
            "function3を通した時の最小値y= -0.9999997540298113 ,インデックス番号: 222\n"
          ],
          "name": "stdout"
        }
      ]
    },
    {
      "cell_type": "code",
      "metadata": {
        "id": "eKhiuP-y6rUO",
        "outputId": "03ce71e4-e068-4c69-fcd2-0f03faced9a5",
        "colab": {
          "base_uri": "https://localhost:8080/",
          "height": 50
        }
      },
      "source": [
        "# 前後の勾配の±10を取得している。\n",
        "gradient2[490:510]"
      ],
      "execution_count": 150,
      "outputs": [
        {
          "output_type": "execute_result",
          "data": {
            "text/plain": [
              "array([-1.9, -1.7, -1.5, -1.3, -1.1, -0.9, -0.7, -0.5, -0.3, -0.1,  0.1,\n",
              "        0.3,  0.5,  0.7,  0.9,  1.1,  1.3,  1.5,  1.7,  1.9])"
            ]
          },
          "metadata": {
            "tags": []
          },
          "execution_count": 150
        }
      ]
    },
    {
      "cell_type": "code",
      "metadata": {
        "id": "gentrfhm601_",
        "outputId": "26e16bb8-f7e8-4833-f6b9-505ce29c742a",
        "colab": {
          "base_uri": "https://localhost:8080/",
          "height": 84
        }
      },
      "source": [
        "gradient3[488:508]"
      ],
      "execution_count": 153,
      "outputs": [
        {
          "output_type": "execute_result",
          "data": {
            "text/plain": [
              "array([-4.28758786, -3.86516496, -3.44113269, -3.01537554, -2.58776971,\n",
              "       -2.15818251, -1.72647174, -1.29248498, -0.85605887, -0.41701833,\n",
              "        0.02482428,  0.46967008,  0.91773463,  1.36924892,  1.82446058,\n",
              "        2.28363497,  2.74705652,  3.21503004,  3.68788226,  4.16596334])"
            ]
          },
          "metadata": {
            "tags": []
          },
          "execution_count": 153
        }
      ]
    },
    {
      "cell_type": "code",
      "metadata": {
        "id": "oQsVr0Us7t-I",
        "outputId": "2706f831-9e26-40ac-d670-a0c241dad2fa",
        "colab": {
          "base_uri": "https://localhost:8080/",
          "height": 84
        }
      },
      "source": [
        "gradient4[212:232]"
      ],
      "execution_count": 154,
      "outputs": [
        {
          "output_type": "execute_result",
          "data": {
            "text/plain": [
              "array([-0.01111112, -0.00991828, -0.00873263, -0.00755423, -0.00638312,\n",
              "       -0.00521937, -0.00406302, -0.00291412, -0.00177271, -0.00063884,\n",
              "        0.00048745,  0.00160612,  0.00271712,  0.00382043,  0.004916  ,\n",
              "        0.0060038 ,  0.00708379,  0.00815594,  0.00922022,  0.0102766 ])"
            ]
          },
          "metadata": {
            "tags": []
          },
          "execution_count": 154
        }
      ]
    },
    {
      "cell_type": "markdown",
      "metadata": {
        "id": "Ka9_uQ-37v_w"
      },
      "source": [
        "###感想\n",
        "関数の引数に別の関数を渡すと、戻り値が渡されると思っていたが、関数そのもの（functionオブジェクト？）が渡されることを初めて知った。これを利用すると、複数ある関数をひとまとめに処理できるのでうまく活用したいと思った。"
      ]
    },
    {
      "cell_type": "code",
      "metadata": {
        "id": "MNCKXsSr8Yo_"
      },
      "source": [
        "def add(x, y):\n",
        "    return x + y"
      ],
      "execution_count": 155,
      "outputs": []
    },
    {
      "cell_type": "code",
      "metadata": {
        "id": "9R0ERBI8-jNY"
      },
      "source": [
        "def sub(x, y):\n",
        "    return x - y"
      ],
      "execution_count": 164,
      "outputs": []
    },
    {
      "cell_type": "code",
      "metadata": {
        "id": "b9fomsHC8hZZ"
      },
      "source": [
        "def squaring(func):\n",
        "    add_return = func(2, 3) #ここで初めて引数の関数が実行される\n",
        "    return add_return ** 2"
      ],
      "execution_count": 160,
      "outputs": []
    },
    {
      "cell_type": "code",
      "metadata": {
        "id": "BZ_XTqIh8yoB",
        "outputId": "2691092c-a6b6-4cd1-8c89-9c73a541fb50",
        "colab": {
          "base_uri": "https://localhost:8080/",
          "height": 34
        }
      },
      "source": [
        "squaring(add)"
      ],
      "execution_count": 163,
      "outputs": [
        {
          "output_type": "execute_result",
          "data": {
            "text/plain": [
              "25"
            ]
          },
          "metadata": {
            "tags": []
          },
          "execution_count": 163
        }
      ]
    },
    {
      "cell_type": "code",
      "metadata": {
        "id": "76z_FhkE-Vca",
        "outputId": "d9a9fa3e-170c-4d33-bb5c-0d2e879d3090",
        "colab": {
          "base_uri": "https://localhost:8080/",
          "height": 34
        }
      },
      "source": [
        "squaring(sub)"
      ],
      "execution_count": 165,
      "outputs": [
        {
          "output_type": "execute_result",
          "data": {
            "text/plain": [
              "1"
            ]
          },
          "metadata": {
            "tags": []
          },
          "execution_count": 165
        }
      ]
    },
    {
      "cell_type": "markdown",
      "metadata": {
        "id": "8ZNX7f3U-xoC"
      },
      "source": [
        "今まで関数を呼び出すときに、何も考えずに後ろに（）をつけていた（add()など）。（）は戻り値が欲しい時に付ける。（）をつけないとfunctionオブジェクトとして取得できる。うまく使いこなせるようになりたい。"
      ]
    }
  ]
}