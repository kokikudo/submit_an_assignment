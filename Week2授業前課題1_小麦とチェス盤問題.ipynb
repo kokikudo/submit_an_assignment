{
  "nbformat": 4,
  "nbformat_minor": 0,
  "metadata": {
    "colab": {
      "name": " Week2授業前課題1 小麦とチェス盤問題.ipynb",
      "provenance": [],
      "collapsed_sections": [],
      "authorship_tag": "ABX9TyMHSLx2jdB9JUaaefqJJAKB",
      "include_colab_link": true
    },
    "kernelspec": {
      "name": "python3",
      "display_name": "Python 3"
    }
  },
  "cells": [
    {
      "cell_type": "markdown",
      "metadata": {
        "id": "view-in-github",
        "colab_type": "text"
      },
      "source": [
        "<a href=\"https://colab.research.google.com/github/kokikudo/submit_an_assignment/blob/master/Week2%E6%8E%88%E6%A5%AD%E5%89%8D%E8%AA%B2%E9%A1%8C1_%E5%B0%8F%E9%BA%A6%E3%81%A8%E3%83%81%E3%82%A7%E3%82%B9%E7%9B%A4%E5%95%8F%E9%A1%8C.ipynb\" target=\"_parent\"><img src=\"https://colab.research.google.com/assets/colab-badge.svg\" alt=\"Open In Colab\"/></a>"
      ]
    },
    {
      "cell_type": "markdown",
      "metadata": {
        "id": "ZrUkaw-wdErq"
      },
      "source": [
        "## Week2授業前課題1 小麦とチェス盤問題\n",
        "### **1.課題の目的**\n",
        "\n",
        "\n",
        "*   Numpyを使ってみる\n",
        "*   グラフの操作に慣れる\n",
        "\n",
        "\n"
      ]
    },
    {
      "cell_type": "markdown",
      "metadata": {
        "id": "VDQQvrcGdpsf"
      },
      "source": [
        "### **2. 作業内容**\n",
        "\n",
        "「小麦とチェス盤」という話を元に、8×8マスのチェス盤の上に、小麦の粒を1, 2, 4と順番に置いていくと最終的な小麦の数はどのようになるかという問題をNumpyを使って解く。<br>以下、小麦とチェス盤の原文及び日本語訳\n",
        "> If a chessboard were to have wheat placed upon each square such that one grain were placed on the first square, two on the second, four on the third, and so on (doubling the number of grains on each subsequent square), how many grains of wheat would be on the chessboard at the finish?<br>\n",
        ">>チェス盤の各マスに小麦を置いて、1マス目に1粒、2マス目に2粒、3マス目に4粒とした場合（後続のマスには2倍の数の小麦を置く）、終了時には何粒の小麦がチェス盤に置かれているでしょうか？\n",
        "\n",
        "Wheat and chessboard problem (Oct. 3, 2020, 11:29 UTC). In Wikipedia: The Free Encyclopedia. Retrieved from https://en.wikipedia.org/wiki/Wheat_and_chessboard_problem\n",
        "\n",
        "<a title=\"McGeddon / CC BY-SA (https://creativecommons.org/licenses/by-sa/4.0)\" href=\"https://commons.wikimedia.org/wiki/File:Wheat_and_chessboard_problem.jpg\"><img width=\"512\" alt=\"Wheat and chessboard problem\" src=\"https://upload.wikimedia.org/wikipedia/commons/thumb/c/cd/Wheat_and_chessboard_problem.jpg/512px-Wheat_and_chessboard_problem.jpg\"></a></br>\n",
        "McGeddon / CC BY-SA (https://creativecommons.org/licenses/by-sa/4.0)\n"
      ]
    },
    {
      "cell_type": "markdown",
      "metadata": {
        "id": "ZQt_EZ7wepAv"
      },
      "source": [
        "### 問題1　2×2マスのチェス盤の小麦の数\n",
        "___\n",
        "2×2マスのチェス盤をndarrayによって表現し、各マスの小麦の数を計算する。<br>左上のマスに小麦を1つ置いた後、その右が2つ、左下が4つ、右下が8つという風に進みます。<br>**一般化させたいので任意のマスに対応した関数を作成。**"
      ]
    },
    {
      "cell_type": "code",
      "metadata": {
        "id": "oPwSWtyRqBas",
        "outputId": "67a68de4-3503-4e28-9840-0e4cb51d039b",
        "colab": {
          "base_uri": "https://localhost:8080/",
          "height": 52
        }
      },
      "source": [
        "import numpy as np\n",
        "\n",
        "# n×nマスの関数を作成\n",
        "def board_list(n):\n",
        "  n_squares = n**2  # マス目の数\n",
        "  board_list = [1]    # マスに小麦が一個乗った状態からスタート\n",
        "  for _ in range(n_squares - 1):    # 4マスの場合は3回繰り返す\n",
        "    board_list.append(board_list[-1]*2)   # 前のマスに乗ってる小麦の数の2倍をリストに追加\n",
        "  array_board_list = np.array(board_list).reshape(n, n)   # 形状を整理し、ndarrayにする。\n",
        "  return array_board_list   # ndarrayを返す\n",
        "\n",
        "print(board_list(2))"
      ],
      "execution_count": 1,
      "outputs": [
        {
          "output_type": "stream",
          "text": [
            "[[1 2]\n",
            " [4 8]]\n"
          ],
          "name": "stdout"
        }
      ]
    },
    {
      "cell_type": "markdown",
      "metadata": {
        "id": "iz3yZThDuvL4"
      },
      "source": [
        "### 問題2 n×mマスへの拡張\n",
        "___\n",
        "さっきの問題はnしか受け取ってないためマスの縦横が均等でない場合の関数に変える。"
      ]
    },
    {
      "cell_type": "code",
      "metadata": {
        "id": "MeAG1kzFvFcO",
        "outputId": "bd8ef23b-e31b-49b6-be3b-5da253d3f14c",
        "colab": {
          "base_uri": "https://localhost:8080/",
          "height": 69
        }
      },
      "source": [
        "# n×mマスの関数を作成\n",
        "def board_list(n, m):\n",
        "  n_squares = n*m  # マス目の数\n",
        "  board_list = [1]    \n",
        "  for _ in range(n_squares - 1):   \n",
        "    board_list.append(board_list[-1]*2)\n",
        "  array_board_list = np.array(board_list).reshape(n, m)   # 行数n,列数m\n",
        "  return array_board_list \n",
        "\n",
        "print(board_list(3, 4))"
      ],
      "execution_count": 2,
      "outputs": [
        {
          "output_type": "stream",
          "text": [
            "[[   1    2    4    8]\n",
            " [  16   32   64  128]\n",
            " [ 256  512 1024 2048]]\n"
          ],
          "name": "stdout"
        }
      ]
    },
    {
      "cell_type": "markdown",
      "metadata": {
        "id": "M-nR42JQvqLP"
      },
      "source": [
        "### 問題3 小麦の数の合計\n",
        "___\n",
        "1.   8×8マスのチェス盤の小麦の数の合計を求める\n",
        "2.   各列の平均を求め、それを棒グラフで可視化する\n",
        "\n"
      ]
    },
    {
      "cell_type": "code",
      "metadata": {
        "id": "WplMgcxMwGHZ",
        "outputId": "a089b06d-2f00-4b05-dc53-998dbe887e9a",
        "colab": {
          "base_uri": "https://localhost:8080/",
          "height": 34
        }
      },
      "source": [
        "# 1\n",
        "square_8 = board_list(8, 8)\n",
        "sum_square_8 = np.sum(square_8)\n",
        "print('8×8マスの小麦の合計： {:,}'.format(sum_square_8))"
      ],
      "execution_count": 17,
      "outputs": [
        {
          "output_type": "stream",
          "text": [
            "8×8マスの小麦の合計： 18,446,744,073,709,551,615\n"
          ],
          "name": "stdout"
        }
      ]
    },
    {
      "cell_type": "code",
      "metadata": {
        "id": "toNceihayDQJ",
        "outputId": "a19daa43-66b2-4f86-e58d-ead1c6695245",
        "colab": {
          "base_uri": "https://localhost:8080/",
          "height": 294
        }
      },
      "source": [
        "# 2\n",
        "import matplotlib.pyplot as plt\n",
        "%matplotlib inline\n",
        "\n",
        "ave_for_each_column = np.mean(square_8, axis=0)\n",
        "\n",
        "plt.xlabel(\"column\")\n",
        "plt.ylabel(\"number\")\n",
        "plt.title(\"number in each column\")\n",
        "plt.bar(np.arange(1,9), np.array(ave_for_each_column))\n",
        "plt.show()"
      ],
      "execution_count": 4,
      "outputs": [
        {
          "output_type": "display_data",
          "data": {
            "image/png": "[encoded data removed]",
            "text/plain": [
              "<Figure size 432x288 with 1 Axes>"
            ]
          },
          "metadata": {
            "tags": [],
            "needs_background": "light"
          }
        }
      ]
    },
    {
      "cell_type": "markdown",
      "metadata": {
        "id": "tZfDDer62JQ9"
      },
      "source": [
        "### 問題4 小麦の数のヒートマップ\n",
        "___\n",
        "*   8×8マスのチェス盤の小麦の数をヒートマップとして可視化する。\n",
        "\n"
      ]
    },
    {
      "cell_type": "code",
      "metadata": {
        "id": "sq1xiE7a2WEA",
        "outputId": "69817ffb-9cab-4d00-9e9c-4ece13357bab",
        "colab": {
          "base_uri": "https://localhost:8080/",
          "height": 294
        }
      },
      "source": [
        "list_element = [0, 1]\n",
        "for _ in range(8**2 -2):\n",
        "  list_element.append(list_element[-1] + 2)\n",
        "\n",
        "plt.xlabel(\"column\")\n",
        "plt.ylabel(\"row\")\n",
        "plt.title(\"heatmap\")\n",
        "plt.pcolor(np.array(list_element).reshape(8, 8))\n",
        "plt.show()"
      ],
      "execution_count": 5,
      "outputs": [
        {
          "output_type": "display_data",
          "data": {
            "image/png": "[encoded data removed]",
            "text/plain": [
              "<Figure size 432x288 with 1 Axes>"
            ]
          },
          "metadata": {
            "tags": [],
            "needs_background": "light"
          }
        }
      ]
    },
    {
      "cell_type": "markdown",
      "metadata": {
        "id": "Br-IP9uA-S0p"
      },
      "source": [
        "### 問題5　チェス盤の後半\n",
        "___\n",
        "チェス盤の後半(行数が8の場合は4〜7行目)にある小麦の数は前半（0〜3行目）にある小麦の数の何倍かを求める。\n",
        "\n"
      ]
    },
    {
      "cell_type": "code",
      "metadata": {
        "id": "BM1fNekGErmb",
        "outputId": "9f4dbe16-5033-4860-98a2-02d40875b3db",
        "colab": {
          "base_uri": "https://localhost:8080/",
          "height": 34
        }
      },
      "source": [
        "# 前半の小麦\n",
        "first_harf = np.sum(square_8[:4])\n",
        "\n",
        "# 後半の小麦\n",
        "second_harf = np.sum(square_8[4:])\n",
        "\n",
        "# 何倍になるか\n",
        "print('後半の小麦の数は前半の{:,}倍である。'.format(second_harf / first_harf))"
      ],
      "execution_count": 6,
      "outputs": [
        {
          "output_type": "stream",
          "text": [
            "後半の小麦の数は前半の4,294,967,296.0倍である。\n"
          ],
          "name": "stdout"
        }
      ]
    },
    {
      "cell_type": "markdown",
      "metadata": {
        "id": "c7FrMeOCHQdd"
      },
      "source": [
        "### 問題6　他の計算方法によるn×mマスへの拡張\n",
        "___\n",
        "問題2の関数を\n",
        "1.   np.append()を使って実装\n",
        "2.   ブロードキャストを利用して実装\n",
        "<br>※ndarrayのデフォルトの型がint64である。\n",
        "int64で表現できる値は　-2の64乗から2の64乗-1まで、つまり64マス目に乗っている小麦の数（$2 × 2^{64}$）は範囲外のため計算がおかしくなる。<br>今回は正の値しか利用しないため、 astype()でuint64を指定し、型を変える。\n",
        "\n",
        "\n"
      ]
    },
    {
      "cell_type": "code",
      "metadata": {
        "id": "oqxRaDADH5Uk",
        "outputId": "0e18de8e-73cd-47b2-b262-9eede24b7fa4",
        "colab": {
          "base_uri": "https://localhost:8080/",
          "height": 34
        }
      },
      "source": [
        "# 1\n",
        "def board_list(n, m):\n",
        "  n_squares = n*m  # マス目の数\n",
        "  board_list = np.array([1]).astype(np.uint64)    # 型をuint64に変更\n",
        "  for _ in range(n_squares - 1):   \n",
        "    board_list = np.append(board_list, board_list[-1]*2)  # np.append(配列, 追加する要素)\n",
        "  array_board_list = np.array(board_list).reshape(n, m)   # 行数n,列数m\n",
        "  return array_board_list \n",
        "\n",
        "print(board_list(8, 8)[-1][-1])"
      ],
      "execution_count": 18,
      "outputs": [
        {
          "output_type": "stream",
          "text": [
            "9.223372036854776e+18\n"
          ],
          "name": "stdout"
        }
      ]
    },
    {
      "cell_type": "code",
      "metadata": {
        "id": "-fOXpx1HJlcv",
        "outputId": "18c13287-5be5-43dc-ac79-bfa593b90338",
        "colab": {
          "base_uri": "https://localhost:8080/",
          "height": 34
        }
      },
      "source": [
        "# 2\n",
        "def board_list(n, m):\n",
        "  n_squares = n*m\n",
        "  # 要素数がマス目分の配列をreshapeし、型をuint64に変更\n",
        "  indices_of_squares = np.arange(n_squares).reshape(n, m).astype(np.uint64)\n",
        "  return 2**indices_of_squares    # 各要素を2の乗数として計算した行列を返す（2がブロードキャストされる）\n",
        "\n",
        "print(board_list(8, 8)[-1][-1])"
      ],
      "execution_count": 19,
      "outputs": [
        {
          "output_type": "stream",
          "text": [
            "9223372036854775808\n"
          ],
          "name": "stdout"
        }
      ]
    },
    {
      "cell_type": "markdown",
      "metadata": {
        "id": "r7m2hgPyMFub"
      },
      "source": [
        "### 問題7　計算時間の比較\n",
        "___\n",
        "3種類の処理方法の実行時間を比較してみる。<br>マジックコマンドを使い、セル内の実行時間の平均を算出する。"
      ]
    },
    {
      "cell_type": "code",
      "metadata": {
        "id": "2wM9GI7ahJSe",
        "outputId": "b805dece-d120-4aaa-e61a-c26c95493792",
        "colab": {
          "base_uri": "https://localhost:8080/",
          "height": 52
        }
      },
      "source": [
        "# 1 リストにappendしていく処理\n",
        "%%timeit\n",
        "def board_list(n, m):\n",
        "  n_squares = n*m  # マス目の数\n",
        "  board_list = [1]    \n",
        "  for _ in range(n_squares - 1):   \n",
        "    board_list.append(board_list[-1]*2)\n",
        "  array_board_list = np.array(board_list).reshape(n, m)   # 行数n,列数m\n",
        "  return array_board_list \n",
        "\n",
        "board_list(3, 4)"
      ],
      "execution_count": 15,
      "outputs": [
        {
          "output_type": "stream",
          "text": [
            "The slowest run took 8.01 times longer than the fastest. This could mean that an intermediate result is being cached.\n",
            "100000 loops, best of 3: 4.01 µs per loop\n"
          ],
          "name": "stdout"
        }
      ]
    },
    {
      "cell_type": "code",
      "metadata": {
        "id": "XF1SPoLFhXkK",
        "outputId": "c34d6840-4a4d-45b8-c3da-68e3d8c9d105",
        "colab": {
          "base_uri": "https://localhost:8080/",
          "height": 34
        }
      },
      "source": [
        "# 2 np.append()の処理\n",
        "%%timeit\n",
        "def board_list(n, m):\n",
        "  n_squares = n*m  # マス目の数\n",
        "  board_list = np.array([1]).astype(np.uint64)    # 型をuint64に変更\n",
        "  for _ in range(n_squares - 1):   \n",
        "    board_list = np.append(board_list, board_list[-1]*2)  # np.append(配列, 追加する要素)\n",
        "  array_board_list = np.array(board_list).reshape(n, m)   # 行数n,列数m\n",
        "  return array_board_list \n",
        "\n",
        "  board_list(3, 4)"
      ],
      "execution_count": 13,
      "outputs": [
        {
          "output_type": "stream",
          "text": [
            "10000000 loops, best of 3: 59.3 ns per loop\n"
          ],
          "name": "stdout"
        }
      ]
    },
    {
      "cell_type": "code",
      "metadata": {
        "id": "1qaNvqpciJsn",
        "outputId": "0e1d4e28-8bb4-4d98-d330-c83064f546e8",
        "colab": {
          "base_uri": "https://localhost:8080/",
          "height": 52
        }
      },
      "source": [
        "# 3 ブロードキャスト\n",
        "%%timeit\n",
        "def board_list(n, m):\n",
        "  n_squares = n*m\n",
        "  # 要素数がマス目分の配列をreshapeし、型をuint64に変更\n",
        "  indices_of_squares = np.arange(n_squares).reshape(n, m).astype(np.uint64)\n",
        "  return 2**indices_of_squares    # 各要素を2の乗数として計算した行列を返す（2がブロードキャストされる）\n",
        "\n",
        "board_list(3, 4)"
      ],
      "execution_count": 14,
      "outputs": [
        {
          "output_type": "stream",
          "text": [
            "The slowest run took 65.89 times longer than the fastest. This could mean that an intermediate result is being cached.\n",
            "100000 loops, best of 3: 4.18 µs per loop\n"
          ],
          "name": "stdout"
        }
      ]
    },
    {
      "cell_type": "markdown",
      "metadata": {
        "id": "axQHwgilidVf"
      },
      "source": [
        "np.append()での処理が一番早かった(60ns前後)。<br>\n",
        "個人的にはブロードキャストの処理がfor文を通さないため一番早いと思っていたが、リストに追加する処理とあまり時間は変わらなかった(4μs前後)。"
      ]
    },
    {
      "cell_type": "markdown",
      "metadata": {
        "id": "2UXAyMgvlG62"
      },
      "source": [
        "### 感想\n",
        "___\n",
        "リストの後ろを2倍していく処理方法よりも、$2^n$という配列にしてブロードキャスティングしていく処理方法の方がかっこいいと感じた。似たような処理が出てきたら積極的にブロードキャスティングで実装しようと思った。\n"
      ]
    }
  ]
}