{
  "nbformat": 4,
  "nbformat_minor": 0,
  "metadata": {
    "colab": {
      "name": "Week2授業前課題3 行列積のスクラッチ.ipynb",
      "provenance": [],
      "collapsed_sections": [],
      "authorship_tag": "ABX9TyMjMyFKs5jR8FsiCczhDBXx",
      "include_colab_link": true
    },
    "kernelspec": {
      "name": "python3",
      "display_name": "Python 3"
    }
  },
  "cells": [
    {
      "cell_type": "markdown",
      "metadata": {
        "id": "view-in-github",
        "colab_type": "text"
      },
      "source": [
        "<a href=\"https://colab.research.google.com/github/kokikudo/submit_an_assignment/blob/master/Week2%E6%8E%88%E6%A5%AD%E5%89%8D%E8%AA%B2%E9%A1%8C3_%E8%A1%8C%E5%88%97%E7%A9%8D%E3%81%AE%E3%82%B9%E3%82%AF%E3%83%A9%E3%83%83%E3%83%81.ipynb\" target=\"_parent\"><img src=\"https://colab.research.google.com/assets/colab-badge.svg\" alt=\"Open In Colab\"/></a>"
      ]
    },
    {
      "cell_type": "markdown",
      "metadata": {
        "id": "sDB3pKTndZBC"
      },
      "source": [
        "## 1.テキストの目的\n",
        "* Numpyに慣れる\n",
        "* 行列演算に慣れる"
      ]
    },
    {
      "cell_type": "markdown",
      "metadata": {
        "id": "vlMGWaWPd1zd"
      },
      "source": [
        "## 2.　やること\n",
        "以下の行列積を手計算で行い、スクラッチ実装することで理解を深める。\n",
        "\n",
        "$$\n",
        "A = \n",
        "  \\left[\\begin{array}{c}\n",
        "            -1 & 2 & 3 \\\\\n",
        "            4 & -5 & 6 \\\\\n",
        "            7 & 8 & -9 \\\\\n",
        "  \\end{array}\\right], \\quad\n",
        "B = \n",
        "  \\left[\\begin{array}{c}\n",
        "            0 & 2 & 1 \\\\\n",
        "            0 & 2 & -8 \\\\\n",
        "            2 & 9 & -1 \\\\\n",
        "  \\end{array}\\right] \\quad\n",
        "$$"
      ]
    },
    {
      "cell_type": "code",
      "metadata": {
        "id": "cWSbexS1eUa_"
      },
      "source": [
        "import numpy as np\n",
        "a_ndarray = np.array([\n",
        "                      [-1, 2, 3],\n",
        "                      [4, -5, 6],\n",
        "                      [7, 8, -9],\n",
        "                      ])\n",
        "b_ndarray = np.array([\n",
        "                      [0, 2, 1],\n",
        "                      [0, 2, -8],\n",
        "                      [2, 9, -1],\n",
        "                      ])"
      ],
      "execution_count": 22,
      "outputs": []
    },
    {
      "cell_type": "markdown",
      "metadata": {
        "id": "2ishpcTagVBS"
      },
      "source": [
        "___\n",
        "### 問題1　行列積を手計算する"
      ]
    },
    {
      "cell_type": "markdown",
      "metadata": {
        "id": "bTYcWhvFgnoe"
      },
      "source": [
        "Aの0行の要素とBの0列の要素をそれぞれ掛け算し、その総和が新たな配列の要素となる。\n",
        "\n",
        "$$\n",
        "A = \n",
        "  \\left[\\begin{array}{c}\n",
        "            a_1 & a_2 & a_3 \\\\\n",
        "            a_4 & a_5 & a_6 \\\\\n",
        "            a_7 & a_8 & a_9 \\\\\n",
        "  \\end{array}\\right], \\quad\n",
        "B = \n",
        "  \\left[\\begin{array}{c}\n",
        "            b_1 & b_2 & b_3 \\\\\n",
        "            b_4 & b_5 & b_6 \\\\\n",
        "            b_7 & b_8 & b_9 \\\\\n",
        "  \\end{array}\\right] \\quad\n",
        "$$\n",
        "\n",
        "だとすると、行列Aと行列Bの行列積ABは、、、\n",
        "\n",
        "$$\n",
        "AB = \n",
        "  \\left[\\begin{array}{c}\n",
        "            a_1b_1+a_2b_4+a_3b_7 & a_1b_2+a_2b_5+a_3b_8 & a_1b_3+a_2b_6+a_3b_9 \\\\\n",
        "            a_4b_1+a_5b_4+a_6b_7 & a_4b_2+a_5b_5+a_6b_8 & a_4b_3+a_5b_6+a_6b_9 \\\\\n",
        "            a_7b_1+a_8b_4+a_9b_7 & a_7b_2+a_8b_5+a_9b_8 & a_7b_3+a_8b_6+a_9b_9 \\\\\n",
        "  \\end{array}\\right] \\quad\n",
        "$$\n",
        "\n",
        "よって、\n",
        "$$\n",
        "AB = \n",
        "  \\left[\\begin{array}{c}\n",
        "            (-1*0)+(2*0)+(3*2) & (-1*2)+(2*2)+(3*9) & (-1*1)+(2*-8)+(3*-1) \\\\\n",
        "            (4*0)+(-5*0)+(6*2) & (4*2)+(-5*2)+(6*9) & (4*1)+(-5*-8)+(6*-1) \\\\\n",
        "            (7*0)+(8*0)+(-9*2) & (7*2)+(8*2)+(-9*9) & (7*1)+(8*-8)+(-9*-1) \\\\\n",
        "  \\end{array}\\right] \\quad\n",
        "AB = \n",
        "  \\left[\\begin{array}{c}\n",
        "            6 & 29 & -20 \\\\\n",
        "            12 & 52 & 38 \\\\\n",
        "            -18 & -51 & -48 \\\\\n",
        "  \\end{array}\\right] \\quad\n",
        "$$\n"
      ]
    },
    {
      "cell_type": "markdown",
      "metadata": {
        "id": "s0a7yVYRljG0"
      },
      "source": [
        "___\n",
        "### 問題2　Numpyの関数を使って計算\n",
        "Numpyを使って計算する方法は3種類ある。それぞれ試してみる。"
      ]
    },
    {
      "cell_type": "code",
      "metadata": {
        "id": "Hkdmu6cSpeYy",
        "outputId": "b8ba9379-13ca-4e20-cb3b-9802eeae14d5",
        "colab": {
          "base_uri": "https://localhost:8080/",
          "height": 67
        }
      },
      "source": [
        "# np.matmul()\n",
        "matmul_A_B = np.matmul(a_ndarray, b_ndarray)\n",
        "matmul_A_B"
      ],
      "execution_count": 23,
      "outputs": [
        {
          "output_type": "execute_result",
          "data": {
            "text/plain": [
              "array([[  6,  29, -20],\n",
              "       [ 12,  52,  38],\n",
              "       [-18, -51, -48]])"
            ]
          },
          "metadata": {
            "tags": []
          },
          "execution_count": 23
        }
      ]
    },
    {
      "cell_type": "code",
      "metadata": {
        "id": "vWzRIPVu0c_V",
        "outputId": "a64917f9-4135-40a1-cfe6-1f88d1a422a0",
        "colab": {
          "base_uri": "https://localhost:8080/",
          "height": 67
        }
      },
      "source": [
        "# @\n",
        "at_sign_A_B = a_ndarray @ b_ndarray\n",
        "at_sign_A_B\n"
      ],
      "execution_count": 24,
      "outputs": [
        {
          "output_type": "execute_result",
          "data": {
            "text/plain": [
              "array([[  6,  29, -20],\n",
              "       [ 12,  52,  38],\n",
              "       [-18, -51, -48]])"
            ]
          },
          "metadata": {
            "tags": []
          },
          "execution_count": 24
        }
      ]
    },
    {
      "cell_type": "code",
      "metadata": {
        "id": "ppREw8Kg1dZF",
        "outputId": "ce68f083-bf24-42c5-953a-aa04ce7a703d",
        "colab": {
          "base_uri": "https://localhost:8080/",
          "height": 67
        }
      },
      "source": [
        "# np.dot()\n",
        "dot_A_B = np.dot(a_ndarray, b_ndarray)\n",
        "dot_A_B"
      ],
      "execution_count": 25,
      "outputs": [
        {
          "output_type": "execute_result",
          "data": {
            "text/plain": [
              "array([[  6,  29, -20],\n",
              "       [ 12,  52,  38],\n",
              "       [-18, -51, -48]])"
            ]
          },
          "metadata": {
            "tags": []
          },
          "execution_count": 25
        }
      ]
    },
    {
      "cell_type": "markdown",
      "metadata": {
        "id": "GILPCICt2Cix"
      },
      "source": [
        "## 3.行列積のスクラッチ実装\n",
        "問題2で使った関数（と演算子）を使わずに手計算で行った計算過程をNumpyによるスクラッチ実装で再現してみる。"
      ]
    },
    {
      "cell_type": "markdown",
      "metadata": {
        "id": "ANe6vUIE2ZDO"
      },
      "source": [
        "___\n",
        "### 問題3　ある要素の計算を実装\n",
        "行列Aの0行と行列Bの0列の計算は、以下の式で表せる。\n",
        "$$\n",
        "\\sum_{k=0}^{2}a_0,_k b_k,_0 \\quad\n",
        "$$\n"
      ]
    },
    {
      "cell_type": "code",
      "metadata": {
        "id": "5l_zvGOu4Rvx",
        "outputId": "99794336-4d0a-4837-faf9-71760cd2dbf4",
        "colab": {
          "base_uri": "https://localhost:8080/",
          "height": 34
        }
      },
      "source": [
        "rowA0_columnB0 = np.sum([a_ndarray[0][k] * b_ndarray[k][0] for k in range(a_ndarray.shape[0])])\n",
        "rowA0_columnB0"
      ],
      "execution_count": 60,
      "outputs": [
        {
          "output_type": "execute_result",
          "data": {
            "text/plain": [
              "6"
            ]
          },
          "metadata": {
            "tags": []
          },
          "execution_count": 60
        }
      ]
    },
    {
      "cell_type": "markdown",
      "metadata": {
        "id": "28dmJPOR7f8T"
      },
      "source": [
        "___\n",
        "### 問題4　関数の作成\n",
        "行列Aと行列Bを引数として、行列積を返す関数を作る。\n",
        "$$\n",
        "c_i,_j = \\sum_{k=0}^{2}a_i,_k b_k,_j \\quad\n",
        "$$"
      ]
    },
    {
      "cell_type": "code",
      "metadata": {
        "id": "shSSdY_HF2nW",
        "outputId": "bb8ae68f-3a1f-4c2b-a242-8e4a7151a1e0",
        "colab": {
          "base_uri": "https://localhost:8080/",
          "height": 84
        }
      },
      "source": [
        "def matrix_ab(a, b):\n",
        "    # 計算後のshapeの配列（要素が全て0）を先に作成\n",
        "    # 例）(2, 3)と（3, 4）の積の場合は(2, 4)\n",
        "    c = np.zeros((a.shape[0], b.shape[1]), dtype=a.dtype)\n",
        "\n",
        "    for i in range(a.shape[0]):\n",
        "        for j in range(b.shape[1]):\n",
        "            for k in range(a.shape[1]):\n",
        "                # c[i, j]の要素0にa[i, k] * b[k, j]を加算\n",
        "                c[i, j] += a[i, k] * b[k, j]\n",
        "    return c\n",
        "\n",
        "print('AとBの行列積C=\\n', matrix_ab(a_ndarray, b_ndarray))"
      ],
      "execution_count": 45,
      "outputs": [
        {
          "output_type": "stream",
          "text": [
            "AとBの行列積C=\n",
            " [[  6  29 -20]\n",
            " [ 12  52  38]\n",
            " [-18 -51 -48]]\n"
          ],
          "name": "stdout"
        }
      ]
    },
    {
      "cell_type": "markdown",
      "metadata": {
        "id": "s1tMSLWvDtH_"
      },
      "source": [
        "##4.行列積が定義されない組み合わせの行列\n",
        "以下の行列の積を考える。\n",
        "$$\n",
        "D = \n",
        "  \\left[\\begin{array}{c}\n",
        "            -1 & 2 & 3 \\\\\n",
        "            4 & -5 & 6 \\\\\n",
        "  \\end{array}\\right], \\quad\n",
        "E = \n",
        "  \\left[\\begin{array}{c}\n",
        "            -9 & 8 & 7 \\\\\n",
        "            6 & -5 & 4 \\\\\n",
        "  \\end{array}\\right] \\quad\n",
        "$$"
      ]
    },
    {
      "cell_type": "code",
      "metadata": {
        "id": "a9dbopwDUWe0"
      },
      "source": [
        "d_ndarray = np.array([\n",
        "                      [-1, 2, 3],\n",
        "                      [4, -5, 6],\n",
        "                      ])\n",
        "e_ndarray = np.array([\n",
        "                      [-9, 8, 7],\n",
        "                      [6, -5, 4],\n",
        "                      ])"
      ],
      "execution_count": 46,
      "outputs": []
    },
    {
      "cell_type": "markdown",
      "metadata": {
        "id": "JFlxquCSUppS"
      },
      "source": [
        "___\n",
        "### 問題5　計算が定義されてない入力を判定する\n",
        "Dの列数とEの行数が違うため行列積の計算ができない。<br>\n",
        "問題4で作った関数に通すとエラーになる。<br>\n",
        "エラーを回避するため、第一引数の行列の列数と第二引数の行列の行数が一致しているかの確認処理を追加する。"
      ]
    },
    {
      "cell_type": "code",
      "metadata": {
        "id": "_k_odrRqVmnG",
        "outputId": "db652032-950c-4317-864a-3d12c54578e6",
        "colab": {
          "base_uri": "https://localhost:8080/",
          "height": 34
        }
      },
      "source": [
        "def matrix_ab(a, b):\n",
        "    if a.shape[1] != b.shape[0]:\n",
        "        return '第一引数の行列の列数と第二引数の行列の行数が一致していないため計算できません。'\n",
        "\n",
        "    c = np.zeros((a.shape[0], b.shape[1]), dtype=a.dtype)\n",
        "    for i in range(a.shape[0]):\n",
        "        for j in range(b.shape[1]):\n",
        "            for k in range(a.shape[1]):\n",
        "                c[i, j] += a[i, k] * b[k, j]\n",
        "    return c\n",
        "\n",
        "print(matrix_ab(d_ndarray, e_ndarray))"
      ],
      "execution_count": 52,
      "outputs": [
        {
          "output_type": "stream",
          "text": [
            "第一引数の行列の列数と第二引数の行列の行数が一致していないため計算できません。\n"
          ],
          "name": "stdout"
        }
      ]
    },
    {
      "cell_type": "markdown",
      "metadata": {
        "id": "6zPg4SNRXG4e"
      },
      "source": [
        "___\n",
        "### 問題6　転置\n",
        "転置して計算してみる。"
      ]
    },
    {
      "cell_type": "code",
      "metadata": {
        "id": "ZC0Bs44GXXSa",
        "outputId": "433a31c6-1b21-454a-9fe5-0f2422ec229f",
        "colab": {
          "base_uri": "https://localhost:8080/",
          "height": 185
        }
      },
      "source": [
        "# np.transpose()\n",
        "trans_e_ndarray = np.transpose(e_ndarray)\n",
        "print('D=\\n', d_ndarray)\n",
        "print('転置済E=\\n', trans_e_ndarray)\n",
        "print('Dと転置Eの行列積=\\n', matrix_ab(d_ndarray, trans_e_ndarray))"
      ],
      "execution_count": 58,
      "outputs": [
        {
          "output_type": "stream",
          "text": [
            "D=\n",
            " [[-1  2  3]\n",
            " [ 4 -5  6]]\n",
            "転置済E=\n",
            " [[-9  6]\n",
            " [ 8 -5]\n",
            " [ 7  4]]\n",
            "Dと転置Eの行列積=\n",
            " [[ 46  -4]\n",
            " [-34  73]]\n"
          ],
          "name": "stdout"
        }
      ]
    },
    {
      "cell_type": "code",
      "metadata": {
        "id": "3Z2BNE1VYuRG",
        "outputId": "bc9b63a2-df8f-4c60-fe68-37c788d1af2f",
        "colab": {
          "base_uri": "https://localhost:8080/",
          "height": 50
        }
      },
      "source": [
        "# もっと簡単な　.T\n",
        "print(matrix_ab(d_ndarray, e_ndarray.T))"
      ],
      "execution_count": 59,
      "outputs": [
        {
          "output_type": "stream",
          "text": [
            "[[ 46  -4]\n",
            " [-34  73]]\n"
          ],
          "name": "stdout"
        }
      ]
    },
    {
      "cell_type": "markdown",
      "metadata": {
        "id": "tEsB2A_RbnrU"
      },
      "source": [
        "## 5.感想\n",
        "スクラッチ実装が難しかった。単純な繰り返し処理の組み合わせなのに頭がパンクしそうになった。paizaのスキルチェックでもfor文が積み重なった実装が苦手なので、克服できるようにしたい。"
      ]
    }
  ]
}