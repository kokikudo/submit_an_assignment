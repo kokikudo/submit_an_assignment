{
  "nbformat": 4,
  "nbformat_minor": 0,
  "metadata": {
    "kernelspec": {
      "display_name": "Python 3",
      "language": "python",
      "name": "python3"
    },
    "language_info": {
      "codemirror_mode": {
        "name": "ipython",
        "version": 3
      },
      "file_extension": ".py",
      "mimetype": "text/x-python",
      "name": "python",
      "nbconvert_exporter": "python",
      "pygments_lexer": "ipython3",
      "version": "3.7.9"
    },
    "toc": {
      "base_numbering": 1,
      "nav_menu": {},
      "number_sections": false,
      "sideBar": true,
      "skip_h1_title": false,
      "title_cell": "Table of Contents",
      "title_sidebar": "Contents",
      "toc_cell": false,
      "toc_position": {
        "height": "calc(100% - 180px)",
        "left": "10px",
        "top": "150px",
        "width": "230.4px"
      },
      "toc_section_display": true,
      "toc_window_display": true
    },
    "varInspector": {
      "cols": {
        "lenName": 16,
        "lenType": 16,
        "lenVar": 40
      },
      "kernels_config": {
        "python": {
          "delete_cmd_postfix": "",
          "delete_cmd_prefix": "del ",
          "library": "var_list.py",
          "varRefreshCmd": "print(var_dic_list())"
        },
        "r": {
          "delete_cmd_postfix": ") ",
          "delete_cmd_prefix": "rm(",
          "library": "var_list.r",
          "varRefreshCmd": "cat(var_dic_list()) "
        }
      },
      "position": {
        "height": "355.4px",
        "left": "782px",
        "right": "20px",
        "top": "121px",
        "width": "350px"
      },
      "types_to_exclude": [
        "module",
        "function",
        "builtin_function_or_method",
        "instance",
        "_Feature"
      ],
      "window_display": false
    },
    "colab": {
      "name": "Sprint4_Scratch_Logistic_Regression.ipynb",
      "provenance": [],
      "include_colab_link": true
    }
  },
  "cells": [
    {
      "cell_type": "markdown",
      "metadata": {
        "id": "view-in-github",
        "colab_type": "text"
      },
      "source": [
        "<a href=\"https://colab.research.google.com/github/kokikudo/submit_an_assignment/blob/master/Sprint4_Scratch_Logistic_Regression.ipynb\" target=\"_parent\"><img src=\"https://colab.research.google.com/assets/colab-badge.svg\" alt=\"Open In Colab\"/></a>"
      ]
    },
    {
      "cell_type": "markdown",
      "metadata": {
        "id": "hNWbicqULkLM"
      },
      "source": [
        "# ロジスティック回帰スクラッチ\n",
        "下記の雛形クラスにコードを書き加える。推定結果のメソッドは2種類（ラベルと確率）作る。"
      ]
    },
    {
      "cell_type": "code",
      "metadata": {
        "id": "HdZp4zAKLkLQ"
      },
      "source": [
        "class ScratchLogisticRegression():\n",
        "    \"\"\"\n",
        "    ロジスティック回帰のスクラッチ実装\n",
        "\n",
        "    Parameters\n",
        "    ----------\n",
        "    num_iter : int\n",
        "      イテレーション数\n",
        "    lr : float\n",
        "      学習率\n",
        "    no_bias : bool\n",
        "      バイアス項を入れない場合はTrue\n",
        "    verbose : bool\n",
        "      学習過程を出力する場合はTrue\n",
        "\n",
        "    Attributes\n",
        "    ----------\n",
        "    self.coef_ : 次の形のndarray, shape (n_features,)\n",
        "      パラメータ\n",
        "    self.loss : 次の形のndarray, shape (self.iter,)\n",
        "      訓練データに対する損失の記録\n",
        "    self.val_loss : 次の形のndarray, shape (self.iter,)\n",
        "      検証データに対する損失の記録\n",
        "\n",
        "    \"\"\"\n",
        "    def __init__(self, num_iter=5000, lr=1e-3, no_bias=False, verbose=False):\n",
        "        # ハイパーパラメータを属性として記録\n",
        "        self.iter = num_iter\n",
        "        self.lr = lr\n",
        "        self.no_bias = no_bias\n",
        "        self.verbose = verbose\n",
        "        # 損失を記録する配列を用意\n",
        "        self.loss = np.zeros(self.iter)\n",
        "        self.val_loss = np.zeros(self.iter)\n",
        "\n",
        "    # 問題1　仮定関数--------------------------------------------------------------------\n",
        "    def _logistic_hypothesis(self, X):\n",
        "        \"\"\"\n",
        "        \n",
        "        \"\"\"\n",
        "        x1 = X\n",
        "        x0 = np.ones(x1.shape[0]).reshape(-1, 1)\n",
        "\n",
        "        return np.concatenate([x0, x1], axis=1)\n",
        "\n",
        "    # 問題2　最急降下法---------------------------------------------------------------------\n",
        "    def _gradient_descent(self, error, X):\n",
        "        \"\"\"\n",
        "        \n",
        "        \"\"\"\n",
        "        # 正則化項ではない式\n",
        "        left = np.dot(error.T, X) / len(X)\n",
        "\n",
        "        # 正則化項(x0=バイアス項の値は0に置換)\n",
        "        gamma = 0.01  # ガンマ。0.01がオーソドックス。\n",
        "        right = (gamma / X.shape[0]) * self.theta\n",
        "        np.put(right, 0, 0)\n",
        "\n",
        "        # 移動量\n",
        "        amount = left + right\n",
        "        # θを更新\n",
        "        self.theta = self.theta - (self.lr * amount)\n",
        "\n",
        "    #問題4　目的関数-----------------------------------------------------------------------\n",
        "    def _loss_function(self, y_true, z, gamma=0.01):\n",
        "        left1 = (-y_true * np.log(z))\n",
        "        left2 = ((1 - y_true) * np.log(1 - z))\n",
        "        left_J = np.sum(left1 - left2) / z.shape[0]\n",
        "        right_J = ((gamma / z.shape[0]) * 2) * np.sum((self.theta**2))\n",
        "        #right_J = (gamma/2) * np.mean(self.theta**2)\n",
        "        np.put(right_J, 0, 0)\n",
        "        loss = left_J + right_J\n",
        "        return loss\n",
        "\n",
        "    #------------------------------------------------------------------------------------------\n",
        "    def fit(self, X, y, X_val=None, y_val=None):\n",
        "        \"\"\"\n",
        "        ロジスティック回帰を学習する。検証データが入力された場合はそれに対する損失と精度もイテレーションごとに計算する。\n",
        "\n",
        "        Parameters\n",
        "        ----------\n",
        "        X : 次の形のndarray, shape (n_samples, n_features)\n",
        "            訓練データの特徴量\n",
        "        y : 次の形のndarray, shape (n_samples, )\n",
        "            訓練データの正解値\n",
        "        X_val : 次の形のndarray, shape (n_samples, n_features)\n",
        "            検証データの特徴量\n",
        "        y_val : 次の形のndarray, shape (n_samples, )\n",
        "            検証データの正解値\n",
        "        \"\"\"\n",
        "        # バイアス項有無で分岐\n",
        "        if self.no_bias is not True:\n",
        "            X = self._logistic_hypothesis(X)\n",
        "        else:\n",
        "            X = X\n",
        "        np.random.seed(2)\n",
        "        self.theta = np.random.rand(X.shape[1]).reshape(1, -1)\n",
        "\n",
        "        for i in range(self.iter):\n",
        "            # 仮定関数\n",
        "            z = np.dot(X, self.theta.T)  # (75, 1)\n",
        "            \n",
        "            # シグモイト関数で出力\n",
        "            y_pred = 1 / (1 + np.exp(-z))  # (75, 1)\n",
        "\n",
        "            # 正解値\n",
        "            y_true = y  #(75, )\n",
        "            y_true = y_true.reshape(-1, 1)\n",
        "            \n",
        "            # 誤差\n",
        "            error = y_pred - y_true\n",
        "            \n",
        "            # X_validを入力した場合は、X2として読み込む\n",
        "            if X_val is not None:\n",
        "                if self.no_bias is not True:\n",
        "                    X2 = self._logistic_hypothesis(X_val)\n",
        "                else:\n",
        "                    X2 = X_val\n",
        "                z2 = np.dot(X2, self.theta.T)\n",
        "                y_pred2 = 1 / (1 + np.exp(-z2))\n",
        "                y_true2 = y_val\n",
        "                y_true2 = y_true2.reshape(-1, 1)\n",
        "                error_val = y_pred2 - y_true2\n",
        "                self.val_loss[i] += self._loss_function(y_true2, y_pred2)\n",
        "\n",
        "            # 目的関数を算術し記録する\n",
        "            loss = self._loss_function(y_true, y_pred)\n",
        "            self.loss[i] += loss\n",
        "\n",
        "            # 最急降下法\n",
        "            self._gradient_descent(error, X)\n",
        "\n",
        "        if self.verbose:\n",
        "            #verboseをTrueにした際は学習過程を出力\n",
        "            print('n_iter:', i, 'loss:', self.loss[i], 'theta:', self.theta)\n",
        "\n",
        "    def predict(self, X, threshold=0.5):\n",
        "        \"\"\"\n",
        "        ロジスティック回帰を使いラベルを推定する。\n",
        "\n",
        "        Parameters\n",
        "        ----------\n",
        "        X : 次の形のndarray, shape (n_samples, n_features)\n",
        "            サンプル\n",
        "\n",
        "        Returns\n",
        "        -------\n",
        "            次の形のndarray, shape (n_samples, 1)\n",
        "            ロジスティック回帰による推定結果\n",
        "        \"\"\"\n",
        "        proba = self.predict_proba(X)\n",
        "        threshold = threshold\n",
        "\n",
        "        predict = proba >= threshold\n",
        "        predict = predict.astype(int).ravel()\n",
        "        return predict\n",
        "\n",
        "    def predict_proba(self, X):\n",
        "        \"\"\"\n",
        "        ロジスティック回帰を使い確率を推定する。\n",
        "\n",
        "        Parameters\n",
        "        ----------\n",
        "        X : 次の形のndarray, shape (n_samples, n_features)\n",
        "            サンプル\n",
        "\n",
        "        Returns\n",
        "        -------\n",
        "            次の形のndarray, shape (n_samples, 1)\n",
        "            ロジスティック回帰による推定結果\n",
        "        \"\"\"\n",
        "        if self.no_bias is not True:\n",
        "            z = np.dot(self._logistic_hypothesis(X), self.theta.T)\n",
        "        else:\n",
        "            z = np.dot(X, self.theta.T)\n",
        "        s = 1 / (1 + np.exp(-z))\n",
        "        return s"
      ],
      "execution_count": null,
      "outputs": []
    },
    {
      "cell_type": "code",
      "metadata": {
        "id": "Cam3FvV8LkLV"
      },
      "source": [
        "import numpy as np\n",
        "import warnings\n",
        "warnings.simplefilter('ignore')"
      ],
      "execution_count": null,
      "outputs": []
    },
    {
      "cell_type": "markdown",
      "metadata": {
        "id": "rVEvAj_1LkLY"
      },
      "source": [
        "## 【問題1】仮定関数"
      ]
    },
    {
      "cell_type": "code",
      "metadata": {
        "id": "WC3rRTqLLkLY",
        "outputId": "c96e1ccc-525d-47fb-fd50-9c9e42d61253"
      },
      "source": [
        "# 線形回帰の仮定関数zを定義\n",
        "x = np.arange(10)\n",
        "\n",
        "x1 = x.reshape(-1, 1)\n",
        "x0 = np.ones(x1.shape[0]).reshape(-1, 1)\n",
        "\n",
        "X = np.concatenate([x0, x1], axis=1)\n",
        "theta = np.random.random(X.shape[1]).reshape(1, -1)\n",
        "print('X:', X.shape)\n",
        "print('theta:', theta.shape)\n",
        "\n",
        "z = np.dot(X, theta.T)\n",
        "print(z)"
      ],
      "execution_count": null,
      "outputs": [
        {
          "output_type": "stream",
          "text": [
            "X: (10, 2)\n",
            "theta: (1, 2)\n",
            "[[0.83309142]\n",
            " [1.66184115]\n",
            " [2.49059087]\n",
            " [3.3193406 ]\n",
            " [4.14809032]\n",
            " [4.97684005]\n",
            " [5.80558978]\n",
            " [6.6343395 ]\n",
            " [7.46308923]\n",
            " [8.29183895]]\n"
          ],
          "name": "stdout"
        }
      ]
    },
    {
      "cell_type": "code",
      "metadata": {
        "id": "UIJAI0K3LkLc"
      },
      "source": [
        "#シグモイド関数\n",
        "def sigmoid(z):\n",
        "    \"\"\"\n",
        "    \n",
        "    \"\"\"\n",
        "    g = 1 / (1 + np.exp(-z))\n",
        "    return g"
      ],
      "execution_count": null,
      "outputs": []
    },
    {
      "cell_type": "code",
      "metadata": {
        "id": "YWY3mxicLkLe",
        "outputId": "9729111c-0637-499c-fcfb-364877f55baa"
      },
      "source": [
        "y_pred = sigmoid(z)\n",
        "y_pred = y_pred.reshape(1, -1)\n",
        "print(y_pred)"
      ],
      "execution_count": null,
      "outputs": [
        {
          "output_type": "stream",
          "text": [
            "[[0.6970082  0.840485   0.92347957 0.96508638 0.98445104 0.99315141\n",
            "  0.99699836 0.99868728 0.99942645 0.99974951]]\n"
          ],
          "name": "stdout"
        }
      ]
    },
    {
      "cell_type": "markdown",
      "metadata": {
        "id": "u5kToqNKLkLh"
      },
      "source": [
        "とりあえずエラーは起きないためクラスに加える。"
      ]
    },
    {
      "cell_type": "markdown",
      "metadata": {
        "id": "Zy5VH2SDLkLi"
      },
      "source": [
        "## 【問題2】最急降下法\n",
        "最急降下法により学習させパラメータを更新するメソッド_gradient_descentを追加し、fit\n",
        "メソッドから呼び出すようにする。"
      ]
    },
    {
      "cell_type": "code",
      "metadata": {
        "id": "iCjoLKWjLkLi",
        "outputId": "d676ac24-c9fa-4efc-9a68-f255939a7428"
      },
      "source": [
        "print('現在のtheta:\\n', theta)\n",
        "\n",
        "# 正解値\n",
        "y_true = np.array([1, 1, 1, 0, 1, 0, 0, 1, 1, 0])\n",
        "\n",
        "# 誤差\n",
        "error = y_pred - y_true\n",
        "print('error.shape', error.shape)\n",
        "# 正則化項ではない式\n",
        "left = np.dot(error, X) / len(X)\n",
        "print('left.shape', left.shape)\n",
        "\n",
        "# 正則化項(x0=バイアス項の値は0に置換)\n",
        "gamma = 0.01     # ガンマ。0.01がオーソドックス。\n",
        "right = (gamma / X.shape[0]) * theta\n",
        "np.put(right, 0, 0)\n",
        "\n",
        "# 移動量\n",
        "amount = left + right\n",
        "\n",
        "# 学習率\n",
        "alpha = 1e-2\n",
        "\n",
        "# θを更新\n",
        "theta = theta - (alpha * amount)\n",
        "\n",
        "print('各要素の確率予測 y_pred:', y_pred.shape, '\\n',y_pred)\n",
        "print('正解値y_true:', y_true.shape, '\\n', y_true)\n",
        "print('誤差error:\\n', error)\n",
        "print('正則化項right:\\n', right)\n",
        "print('更新後のtheta:\\n', theta)"
      ],
      "execution_count": null,
      "outputs": [
        {
          "output_type": "stream",
          "text": [
            "現在のtheta:\n",
            " [[0.83309142 0.82874973]]\n",
            "error.shape (1, 10)\n",
            "left.shape (1, 2)\n",
            "各要素の確率予測 y_pred: (1, 10) \n",
            " [[0.6970082  0.840485   0.92347957 0.96508638 0.98445104 0.99315141\n",
            "  0.99699836 0.99868728 0.99942645 0.99974951]]\n",
            "正解値y_true: (10,) \n",
            " [1 1 1 0 1 0 0 1 1 0]\n",
            "誤差error:\n",
            " [[-3.02991803e-01 -1.59515000e-01 -7.65204329e-02  9.65086380e-01\n",
            "  -1.55489613e-02  9.93151408e-01  9.96998358e-01 -1.31272115e-03\n",
            "  -5.73551433e-04  9.99749509e-01]]\n",
            "正則化項right:\n",
            " [[0.         0.00082875]]\n",
            "更新後のtheta:\n",
            " [[0.8296929  0.80628922]]\n"
          ],
          "name": "stdout"
        }
      ]
    },
    {
      "cell_type": "markdown",
      "metadata": {
        "id": "I6OgIhWwLkLl"
      },
      "source": [
        "とりあえず動いたのでクラスに入れる。"
      ]
    },
    {
      "cell_type": "markdown",
      "metadata": {
        "id": "3MLvrMX1LkLl"
      },
      "source": [
        "## 【問題3】推定\n",
        "推定する仕組みを実装してください。ScratchLogisticRegressionクラスの雛形に含まれるpredictメソッドとpredict_probaメソッドに書き加えてください。\n",
        "\n",
        "\n",
        "仮定関数 $h_θ(x)$\n",
        " の出力がpredict_probaの返り値、さらにその値に閾値を設けて1と0のラベルとしたものがpredictの返り値となります。\n",
        "\n"
      ]
    },
    {
      "cell_type": "code",
      "metadata": {
        "id": "CtYs-gFJLkLm",
        "outputId": "b3729473-31b0-4bea-de44-18e03c53b01a"
      },
      "source": [
        "# 閾値\n",
        "threshold = 0.7\n",
        "print('予測確率y_pred:\\n', y_pred)\n",
        "\n",
        "# 閾値を条件にBoolに変換\n",
        "ttt = y_pred >= threshold\n",
        "print('閾値を条件にしてBool値に変換：', ttt)\n",
        "\n",
        "# Bool値をintに変換\n",
        "ttt = ttt.astype(int)\n",
        "print('int形に変換:', ttt)"
      ],
      "execution_count": null,
      "outputs": [
        {
          "output_type": "stream",
          "text": [
            "予測確率y_pred:\n",
            " [[0.6970082  0.840485   0.92347957 0.96508638 0.98445104 0.99315141\n",
            "  0.99699836 0.99868728 0.99942645 0.99974951]]\n",
            "閾値を条件にしてBool値に変換： [[False  True  True  True  True  True  True  True  True  True]]\n",
            "int形に変換: [[0 1 1 1 1 1 1 1 1 1]]\n"
          ],
          "name": "stdout"
        }
      ]
    },
    {
      "cell_type": "markdown",
      "metadata": {
        "id": "LbaHfnxLLkLp"
      },
      "source": [
        "うまく確率を閾値で0と1に区分けできた。クラスに加える。"
      ]
    },
    {
      "cell_type": "markdown",
      "metadata": {
        "id": "GmkpG5m7LkLq"
      },
      "source": [
        "## 【問題4】目的関数\n",
        "以下の数式で表されるロジスティック回帰の 目的関数（損失関数） を実装してください。そして、これをself.loss, self.val_lossに記録するようにしてください。\n",
        "\n",
        "\n",
        "なお、この数式には正則化項が含まれています。\n",
        "$$\n",
        "J(\\theta)=  \\frac{1}{m}  \\sum_{i=1}^{m}[−y^{(i)} log(h_θ(x^{(i)})) − (1−y^{(i)}) log(1−h_θ(x^{(i)}))] +\n",
        "\\frac{λ}{2m}\\sum_{j=1}^n\n",
        "θ^2_j.\\\\\n",
        "$$"
      ]
    },
    {
      "cell_type": "code",
      "metadata": {
        "id": "emIfQvmzLkLq",
        "outputId": "2e3ab972-590e-48ba-cc23-da0319842f7b"
      },
      "source": [
        "left1 = (- y_true * np.log(y_pred))\n",
        "left2 = -((1 - y_true) * np.log(1 - y_pred))\n",
        "left_J = np.mean(left1 + left2)\n",
        "\n",
        "gamma = 0.01     # ガンマ。0.01がオーソドックス。\n",
        "right_J = (gamma / (X.shape[0])*2) * np.mean((theta**2))\n",
        "#np.put(right, 0, 0) バイアスを0に置換は不要？\n",
        "\n",
        "loss = left_J + right_J\n",
        "loss"
      ],
      "execution_count": null,
      "outputs": [
        {
          "output_type": "execute_result",
          "data": {
            "text/plain": [
              "2.308456009762205"
            ]
          },
          "metadata": {
            "tags": []
          },
          "execution_count": 8
        }
      ]
    },
    {
      "cell_type": "markdown",
      "metadata": {
        "id": "3yfORGjkLkLt"
      },
      "source": [
        "## 【問題5】学習と推定\n",
        "機械学習スクラッチ入門のSprintで用意したirisデータセットのvirgicolorとvirginicaの2値分類に対してスクラッチ実装の学習と推定を行なってください。\n",
        "\n",
        "\n",
        "scikit-learnによる実装と比べ、正しく動いているかを確認してください。\n",
        "\n",
        "\n",
        "AccuracyやPrecision、Recallなどの指標値はscikit-learnを使用してください。"
      ]
    },
    {
      "cell_type": "code",
      "metadata": {
        "id": "madT0aneLkLt"
      },
      "source": [
        "import sklearn\n",
        "from sklearn.datasets import load_iris\n",
        "import pandas as pd"
      ],
      "execution_count": null,
      "outputs": []
    },
    {
      "cell_type": "code",
      "metadata": {
        "id": "i9r0jLwwLkLw"
      },
      "source": [
        "iris = load_iris()"
      ],
      "execution_count": null,
      "outputs": []
    },
    {
      "cell_type": "code",
      "metadata": {
        "id": "mrqd4T5OLkLz",
        "outputId": "15c50266-3ba6-451e-b16b-92679818df39"
      },
      "source": [
        "df = pd.DataFrame(iris.data, columns=[\"sepal length\", \"sepal width\", \"petal length\", \"petal width\"])\n",
        "df[\"target\"] = iris.target\n",
        "df.info()"
      ],
      "execution_count": null,
      "outputs": [
        {
          "output_type": "stream",
          "text": [
            "<class 'pandas.core.frame.DataFrame'>\n",
            "RangeIndex: 150 entries, 0 to 149\n",
            "Data columns (total 5 columns):\n",
            " #   Column        Non-Null Count  Dtype  \n",
            "---  ------        --------------  -----  \n",
            " 0   sepal length  150 non-null    float64\n",
            " 1   sepal width   150 non-null    float64\n",
            " 2   petal length  150 non-null    float64\n",
            " 3   petal width   150 non-null    float64\n",
            " 4   target        150 non-null    int64  \n",
            "dtypes: float64(4), int64(1)\n",
            "memory usage: 6.0 KB\n"
          ],
          "name": "stdout"
        }
      ]
    },
    {
      "cell_type": "code",
      "metadata": {
        "id": "UTE3rrnWLkL2",
        "outputId": "4006c0bd-2550-4b52-aa67-3afcc64b0f3a"
      },
      "source": [
        "select_df = df.query('target != 0')\n",
        "select_df"
      ],
      "execution_count": null,
      "outputs": [
        {
          "output_type": "execute_result",
          "data": {
            "text/html": [
              "<div>\n",
              "<style scoped>\n",
              "    .dataframe tbody tr th:only-of-type {\n",
              "        vertical-align: middle;\n",
              "    }\n",
              "\n",
              "    .dataframe tbody tr th {\n",
              "        vertical-align: top;\n",
              "    }\n",
              "\n",
              "    .dataframe thead th {\n",
              "        text-align: right;\n",
              "    }\n",
              "</style>\n",
              "<table border=\"1\" class=\"dataframe\">\n",
              "  <thead>\n",
              "    <tr style=\"text-align: right;\">\n",
              "      <th></th>\n",
              "      <th>sepal length</th>\n",
              "      <th>sepal width</th>\n",
              "      <th>petal length</th>\n",
              "      <th>petal width</th>\n",
              "      <th>target</th>\n",
              "    </tr>\n",
              "  </thead>\n",
              "  <tbody>\n",
              "    <tr>\n",
              "      <th>50</th>\n",
              "      <td>7.0</td>\n",
              "      <td>3.2</td>\n",
              "      <td>4.7</td>\n",
              "      <td>1.4</td>\n",
              "      <td>1</td>\n",
              "    </tr>\n",
              "    <tr>\n",
              "      <th>51</th>\n",
              "      <td>6.4</td>\n",
              "      <td>3.2</td>\n",
              "      <td>4.5</td>\n",
              "      <td>1.5</td>\n",
              "      <td>1</td>\n",
              "    </tr>\n",
              "    <tr>\n",
              "      <th>52</th>\n",
              "      <td>6.9</td>\n",
              "      <td>3.1</td>\n",
              "      <td>4.9</td>\n",
              "      <td>1.5</td>\n",
              "      <td>1</td>\n",
              "    </tr>\n",
              "    <tr>\n",
              "      <th>53</th>\n",
              "      <td>5.5</td>\n",
              "      <td>2.3</td>\n",
              "      <td>4.0</td>\n",
              "      <td>1.3</td>\n",
              "      <td>1</td>\n",
              "    </tr>\n",
              "    <tr>\n",
              "      <th>54</th>\n",
              "      <td>6.5</td>\n",
              "      <td>2.8</td>\n",
              "      <td>4.6</td>\n",
              "      <td>1.5</td>\n",
              "      <td>1</td>\n",
              "    </tr>\n",
              "    <tr>\n",
              "      <th>...</th>\n",
              "      <td>...</td>\n",
              "      <td>...</td>\n",
              "      <td>...</td>\n",
              "      <td>...</td>\n",
              "      <td>...</td>\n",
              "    </tr>\n",
              "    <tr>\n",
              "      <th>145</th>\n",
              "      <td>6.7</td>\n",
              "      <td>3.0</td>\n",
              "      <td>5.2</td>\n",
              "      <td>2.3</td>\n",
              "      <td>2</td>\n",
              "    </tr>\n",
              "    <tr>\n",
              "      <th>146</th>\n",
              "      <td>6.3</td>\n",
              "      <td>2.5</td>\n",
              "      <td>5.0</td>\n",
              "      <td>1.9</td>\n",
              "      <td>2</td>\n",
              "    </tr>\n",
              "    <tr>\n",
              "      <th>147</th>\n",
              "      <td>6.5</td>\n",
              "      <td>3.0</td>\n",
              "      <td>5.2</td>\n",
              "      <td>2.0</td>\n",
              "      <td>2</td>\n",
              "    </tr>\n",
              "    <tr>\n",
              "      <th>148</th>\n",
              "      <td>6.2</td>\n",
              "      <td>3.4</td>\n",
              "      <td>5.4</td>\n",
              "      <td>2.3</td>\n",
              "      <td>2</td>\n",
              "    </tr>\n",
              "    <tr>\n",
              "      <th>149</th>\n",
              "      <td>5.9</td>\n",
              "      <td>3.0</td>\n",
              "      <td>5.1</td>\n",
              "      <td>1.8</td>\n",
              "      <td>2</td>\n",
              "    </tr>\n",
              "  </tbody>\n",
              "</table>\n",
              "<p>100 rows × 5 columns</p>\n",
              "</div>"
            ],
            "text/plain": [
              "     sepal length  sepal width  petal length  petal width  target\n",
              "50            7.0          3.2           4.7          1.4       1\n",
              "51            6.4          3.2           4.5          1.5       1\n",
              "52            6.9          3.1           4.9          1.5       1\n",
              "53            5.5          2.3           4.0          1.3       1\n",
              "54            6.5          2.8           4.6          1.5       1\n",
              "..            ...          ...           ...          ...     ...\n",
              "145           6.7          3.0           5.2          2.3       2\n",
              "146           6.3          2.5           5.0          1.9       2\n",
              "147           6.5          3.0           5.2          2.0       2\n",
              "148           6.2          3.4           5.4          2.3       2\n",
              "149           5.9          3.0           5.1          1.8       2\n",
              "\n",
              "[100 rows x 5 columns]"
            ]
          },
          "metadata": {
            "tags": []
          },
          "execution_count": 12
        }
      ]
    },
    {
      "cell_type": "code",
      "metadata": {
        "id": "129G9UkpLkL4"
      },
      "source": [
        "# versicolorを0、virginicaを1に変更\n",
        "target_index = [\"versicolor\", \"virginica\"]\n",
        "\n",
        "select_df.loc[select_df['target'] == 1, 'target'] = 0\n",
        "select_df.loc[select_df['target'] == 2, 'target'] = 1"
      ],
      "execution_count": null,
      "outputs": []
    },
    {
      "cell_type": "code",
      "metadata": {
        "id": "FvQ-gqNJLkL7",
        "outputId": "a16392b5-49ce-4a47-d66b-0bad355efdf7"
      },
      "source": [
        "select_df"
      ],
      "execution_count": null,
      "outputs": [
        {
          "output_type": "execute_result",
          "data": {
            "text/html": [
              "<div>\n",
              "<style scoped>\n",
              "    .dataframe tbody tr th:only-of-type {\n",
              "        vertical-align: middle;\n",
              "    }\n",
              "\n",
              "    .dataframe tbody tr th {\n",
              "        vertical-align: top;\n",
              "    }\n",
              "\n",
              "    .dataframe thead th {\n",
              "        text-align: right;\n",
              "    }\n",
              "</style>\n",
              "<table border=\"1\" class=\"dataframe\">\n",
              "  <thead>\n",
              "    <tr style=\"text-align: right;\">\n",
              "      <th></th>\n",
              "      <th>sepal length</th>\n",
              "      <th>sepal width</th>\n",
              "      <th>petal length</th>\n",
              "      <th>petal width</th>\n",
              "      <th>target</th>\n",
              "    </tr>\n",
              "  </thead>\n",
              "  <tbody>\n",
              "    <tr>\n",
              "      <th>50</th>\n",
              "      <td>7.0</td>\n",
              "      <td>3.2</td>\n",
              "      <td>4.7</td>\n",
              "      <td>1.4</td>\n",
              "      <td>0</td>\n",
              "    </tr>\n",
              "    <tr>\n",
              "      <th>51</th>\n",
              "      <td>6.4</td>\n",
              "      <td>3.2</td>\n",
              "      <td>4.5</td>\n",
              "      <td>1.5</td>\n",
              "      <td>0</td>\n",
              "    </tr>\n",
              "    <tr>\n",
              "      <th>52</th>\n",
              "      <td>6.9</td>\n",
              "      <td>3.1</td>\n",
              "      <td>4.9</td>\n",
              "      <td>1.5</td>\n",
              "      <td>0</td>\n",
              "    </tr>\n",
              "    <tr>\n",
              "      <th>53</th>\n",
              "      <td>5.5</td>\n",
              "      <td>2.3</td>\n",
              "      <td>4.0</td>\n",
              "      <td>1.3</td>\n",
              "      <td>0</td>\n",
              "    </tr>\n",
              "    <tr>\n",
              "      <th>54</th>\n",
              "      <td>6.5</td>\n",
              "      <td>2.8</td>\n",
              "      <td>4.6</td>\n",
              "      <td>1.5</td>\n",
              "      <td>0</td>\n",
              "    </tr>\n",
              "    <tr>\n",
              "      <th>...</th>\n",
              "      <td>...</td>\n",
              "      <td>...</td>\n",
              "      <td>...</td>\n",
              "      <td>...</td>\n",
              "      <td>...</td>\n",
              "    </tr>\n",
              "    <tr>\n",
              "      <th>145</th>\n",
              "      <td>6.7</td>\n",
              "      <td>3.0</td>\n",
              "      <td>5.2</td>\n",
              "      <td>2.3</td>\n",
              "      <td>1</td>\n",
              "    </tr>\n",
              "    <tr>\n",
              "      <th>146</th>\n",
              "      <td>6.3</td>\n",
              "      <td>2.5</td>\n",
              "      <td>5.0</td>\n",
              "      <td>1.9</td>\n",
              "      <td>1</td>\n",
              "    </tr>\n",
              "    <tr>\n",
              "      <th>147</th>\n",
              "      <td>6.5</td>\n",
              "      <td>3.0</td>\n",
              "      <td>5.2</td>\n",
              "      <td>2.0</td>\n",
              "      <td>1</td>\n",
              "    </tr>\n",
              "    <tr>\n",
              "      <th>148</th>\n",
              "      <td>6.2</td>\n",
              "      <td>3.4</td>\n",
              "      <td>5.4</td>\n",
              "      <td>2.3</td>\n",
              "      <td>1</td>\n",
              "    </tr>\n",
              "    <tr>\n",
              "      <th>149</th>\n",
              "      <td>5.9</td>\n",
              "      <td>3.0</td>\n",
              "      <td>5.1</td>\n",
              "      <td>1.8</td>\n",
              "      <td>1</td>\n",
              "    </tr>\n",
              "  </tbody>\n",
              "</table>\n",
              "<p>100 rows × 5 columns</p>\n",
              "</div>"
            ],
            "text/plain": [
              "     sepal length  sepal width  petal length  petal width  target\n",
              "50            7.0          3.2           4.7          1.4       0\n",
              "51            6.4          3.2           4.5          1.5       0\n",
              "52            6.9          3.1           4.9          1.5       0\n",
              "53            5.5          2.3           4.0          1.3       0\n",
              "54            6.5          2.8           4.6          1.5       0\n",
              "..            ...          ...           ...          ...     ...\n",
              "145           6.7          3.0           5.2          2.3       1\n",
              "146           6.3          2.5           5.0          1.9       1\n",
              "147           6.5          3.0           5.2          2.0       1\n",
              "148           6.2          3.4           5.4          2.3       1\n",
              "149           5.9          3.0           5.1          1.8       1\n",
              "\n",
              "[100 rows x 5 columns]"
            ]
          },
          "metadata": {
            "tags": []
          },
          "execution_count": 14
        }
      ]
    },
    {
      "cell_type": "code",
      "metadata": {
        "id": "_kegjkEyLkL-"
      },
      "source": [
        "X = select_df[['sepal length', 'sepal width', 'petal length', 'petal width']].values\n",
        "y = select_df['target'].values"
      ],
      "execution_count": null,
      "outputs": []
    },
    {
      "cell_type": "code",
      "metadata": {
        "id": "xQQC3UU1LkMA",
        "outputId": "cfa3e02f-da0d-4ca9-9f40-23a4e22e2486"
      },
      "source": [
        "# データを分割し標準化\n",
        "from sklearn.preprocessing import StandardScaler\n",
        "from sklearn.model_selection import train_test_split\n",
        "\n",
        "X_train, X_valid, y_train, y_valid = train_test_split(X, y, random_state=2)\n",
        "\n",
        "scaler = StandardScaler()\n",
        "scaler.fit(X_train)\n",
        "X_train_std = scaler.transform(X_train)\n",
        "X_valid_std = scaler.transform(X_valid)\n",
        "\n",
        "print('X_train_std.shape:', X_train_std.shape)\n",
        "print('X_valid_std.shape:', X_valid_std.shape)\n",
        "print('y_train.shape:', y_train.shape)\n",
        "print('y_valid.shape:', y_valid.shape)"
      ],
      "execution_count": null,
      "outputs": [
        {
          "output_type": "stream",
          "text": [
            "X_train_std.shape: (75, 4)\n",
            "X_valid_std.shape: (25, 4)\n",
            "y_train.shape: (75,)\n",
            "y_valid.shape: (25,)\n"
          ],
          "name": "stdout"
        }
      ]
    },
    {
      "cell_type": "code",
      "metadata": {
        "id": "ejEykRkLLkMD",
        "outputId": "649bf5a0-7e1a-4221-8abc-7d00eb5b56a1"
      },
      "source": [
        "# 既存のライブラリで試す\n",
        "from sklearn.linear_model import LogisticRegression\n",
        "from sklearn.metrics import confusion_matrix, accuracy_score, precision_score, recall_score, f1_score\n",
        "\n",
        "sklearn_reg = LogisticRegression()\n",
        "sklearn_reg.fit(X_train_std, y_train)\n",
        "sklearn_y_pred = sklearn_reg.predict(X_valid_std)\n",
        "print('sklearnのロジスティック回帰モデルで学習した場合')\n",
        "\n",
        "print('推定結果=', sklearn_y_pred)\n",
        "print('confusion matrix = \\n', confusion_matrix(y_true=y_valid, y_pred=sklearn_y_pred))\n",
        "print('accuracy = ', accuracy_score(y_true=y_valid, y_pred=sklearn_y_pred))\n",
        "print('precision = ', precision_score(y_true=y_valid, y_pred=sklearn_y_pred))\n",
        "print('recall = ', recall_score(y_true=y_valid, y_pred=sklearn_y_pred))\n",
        "print('f1 score = ', f1_score(y_true=y_valid, y_pred=sklearn_y_pred))\n"
      ],
      "execution_count": null,
      "outputs": [
        {
          "output_type": "stream",
          "text": [
            "sklearnのロジスティック回帰モデルで学習した場合\n",
            "推定結果= [0 0 0 0 0 0 0 1 0 0 1 1 1 0 0 0 0 0 1 1 0 0 1 0 1]\n",
            "confusion matrix = \n",
            " [[15  1]\n",
            " [ 2  7]]\n",
            "accuracy =  0.88\n",
            "precision =  0.875\n",
            "recall =  0.7777777777777778\n",
            "f1 score =  0.823529411764706\n"
          ],
          "name": "stdout"
        }
      ]
    },
    {
      "cell_type": "code",
      "metadata": {
        "id": "GMCa_mULLkMG"
      },
      "source": [
        "# スクラッチの場合\n",
        "scrathc_reg1 = ScratchLogisticRegression(num_iter=10000, lr=1e-2)\n",
        "\n",
        "scrathc_reg1.fit(X_train_std, y_train, X_valid_std, y_valid)"
      ],
      "execution_count": null,
      "outputs": []
    },
    {
      "cell_type": "code",
      "metadata": {
        "id": "2l5szEKzLkMI",
        "outputId": "c05cfc80-b684-427a-f55e-da0f179dbbd3"
      },
      "source": [
        "scrathc_y_pred1 = scrathc_reg1.predict(X_valid_std, threshold=0.5)\n",
        "\n",
        "print('スクラッチで学習した場合')\n",
        "\n",
        "print('推定結果=', scrathc_y_pred1)\n",
        "print('confusion matrix = \\n', confusion_matrix(y_true=y_valid, y_pred=scrathc_y_pred1))\n",
        "print('accuracy = ', accuracy_score(y_true=y_valid, y_pred=scrathc_y_pred1))\n",
        "print('precision = ', precision_score(y_true=y_valid, y_pred=scrathc_y_pred1))\n",
        "print('recall = ', recall_score(y_true=y_valid, y_pred=scrathc_y_pred1))\n",
        "print('f1 score = ', f1_score(y_true=y_valid, y_pred=scrathc_y_pred1))"
      ],
      "execution_count": null,
      "outputs": [
        {
          "output_type": "stream",
          "text": [
            "スクラッチで学習した場合\n",
            "推定結果= [0 0 0 0 0 0 0 1 0 0 1 1 1 0 0 0 0 0 1 1 0 0 1 0 1]\n",
            "confusion matrix = \n",
            " [[15  1]\n",
            " [ 2  7]]\n",
            "accuracy =  0.88\n",
            "precision =  0.875\n",
            "recall =  0.7777777777777778\n",
            "f1 score =  0.823529411764706\n"
          ],
          "name": "stdout"
        }
      ]
    },
    {
      "cell_type": "code",
      "metadata": {
        "id": "1sCeB3ZSLkMK",
        "outputId": "a23df047-e103-445a-933e-538106d11651"
      },
      "source": [
        "# 閾値を変更し正解値が上がるか検証\n",
        "Accuracy_list = []\n",
        "Threshold_list = []\n",
        "for i in np.arange(0.40, 0.60, 0.001):\n",
        "    scrathc_y_pred = scrathc_reg1.predict(X_valid_std, threshold=i)\n",
        "    Accuracy_list.append(accuracy_score(y_true=y_valid, y_pred=scrathc_y_pred))\n",
        "    Threshold_list.append(i)\n",
        "    \n",
        "max_acc = max(Accuracy_list)\n",
        "print('acc_score最高値', max_acc)\n",
        "print('その時の閾値', Threshold_list[Accuracy_list.index(max_acc)])\n",
        "\n",
        "import matplotlib.pyplot as plt\n",
        "\n",
        "plt.title('Threshold and Accuracy score')\n",
        "plt.xlabel('Threshold')\n",
        "plt.ylabel('Accuracy score')\n",
        "plt.plot(Threshold_list, Accuracy_list);"
      ],
      "execution_count": null,
      "outputs": [
        {
          "output_type": "stream",
          "text": [
            "acc_score最高値 0.92\n",
            "その時の閾値 0.5370000000000001\n"
          ],
          "name": "stdout"
        },
        {
          "output_type": "display_data",
          "data": {
            "image/png": "[encoded data removed]",
            "text/plain": [
              "<Figure size 432x288 with 1 Axes>"
            ]
          },
          "metadata": {
            "tags": [],
            "needs_background": "light"
          }
        }
      ]
    },
    {
      "cell_type": "markdown",
      "metadata": {
        "id": "V8iiCnfTLkMN"
      },
      "source": [
        "なぜか結果が変わることがある（fitする時のθを乱数生成にしてるから？）。"
      ]
    },
    {
      "cell_type": "code",
      "metadata": {
        "id": "vuSKfdttLkMO"
      },
      "source": [
        "# 学習率の値を少なくした。　1e-3 →　1e-4\n",
        "scrathc_reg2 = ScratchLogisticRegression(num_iter=5000, lr=1e-4)\n",
        "\n",
        "scrathc_reg2.fit(X_train_std, y_train, X_valid_std, y_valid)"
      ],
      "execution_count": null,
      "outputs": []
    },
    {
      "cell_type": "code",
      "metadata": {
        "id": "qKodKJxRLkMQ",
        "outputId": "e2738cf8-0db0-4878-8132-f847bbfaea7c"
      },
      "source": [
        "scrathc_y_pred2 = scrathc_reg2.predict(X_valid_std, threshold=0.5)\n",
        "\n",
        "print('スクラッチで学習した場合')\n",
        "\n",
        "print('推定結果=', scrathc_y_pred2)\n",
        "print('confusion matrix = \\n',\n",
        "      confusion_matrix(y_true=y_valid, y_pred=scrathc_y_pred2))\n",
        "print('accuracy = ', accuracy_score(y_true=y_valid, y_pred=scrathc_y_pred2))\n",
        "print('precision = ', precision_score(y_true=y_valid, y_pred=scrathc_y_pred2))\n",
        "print('recall = ', recall_score(y_true=y_valid, y_pred=scrathc_y_pred2))\n",
        "print('f1 score = ', f1_score(y_true=y_valid, y_pred=scrathc_y_pred2))"
      ],
      "execution_count": null,
      "outputs": [
        {
          "output_type": "stream",
          "text": [
            "スクラッチで学習した場合\n",
            "推定結果= [1 0 0 0 0 0 1 1 0 0 1 1 1 0 1 0 0 0 1 1 1 0 0 0 1]\n",
            "confusion matrix = \n",
            " [[12  4]\n",
            " [ 2  7]]\n",
            "accuracy =  0.76\n",
            "precision =  0.6363636363636364\n",
            "recall =  0.7777777777777778\n",
            "f1 score =  0.7000000000000001\n"
          ],
          "name": "stdout"
        }
      ]
    },
    {
      "cell_type": "markdown",
      "metadata": {
        "id": "chx2n74KLkMS"
      },
      "source": [
        "こりゃひでぇや"
      ]
    },
    {
      "cell_type": "code",
      "metadata": {
        "id": "R5uVt1EYLkMS"
      },
      "source": [
        "# 条件を戻し、閾値を再設定\n",
        "scrathc_reg3 = ScratchLogisticRegression(num_iter=10000, lr=1e-2)\n",
        "\n",
        "scrathc_reg3.fit(X_train_std, y_train, X_valid_std, y_valid)"
      ],
      "execution_count": null,
      "outputs": []
    },
    {
      "cell_type": "code",
      "metadata": {
        "id": "-K5YBjJLLkMV",
        "outputId": "c7fd94b1-e26e-4013-b49d-e939cdf52b0c"
      },
      "source": [
        "scrathc_y_pred3 = scrathc_reg3.predict(X_valid_std, threshold=0.537)\n",
        "print('スクラッチで学習した場合')\n",
        "\n",
        "print('推定結果=', scrathc_y_pred3)\n",
        "print('正解=', y_valid)\n",
        "print('confusion matrix = \\n',\n",
        "      confusion_matrix(y_true=y_valid, y_pred=scrathc_y_pred3))\n",
        "print('accuracy = ', accuracy_score(y_true=y_valid, y_pred=scrathc_y_pred3))\n",
        "print('precision = ', precision_score(y_true=y_valid, y_pred=scrathc_y_pred3))\n",
        "print('recall = ', recall_score(y_true=y_valid, y_pred=scrathc_y_pred3))\n",
        "print('f1 score = ', f1_score(y_true=y_valid, y_pred=scrathc_y_pred3))"
      ],
      "execution_count": null,
      "outputs": [
        {
          "output_type": "stream",
          "text": [
            "スクラッチで学習した場合\n",
            "推定結果= [0 0 0 0 0 0 0 0 0 0 1 1 1 0 0 0 0 0 1 1 0 0 1 0 1]\n",
            "正解= [1 0 1 0 0 0 0 0 0 0 1 1 1 0 0 0 0 0 1 1 0 0 1 0 1]\n",
            "confusion matrix = \n",
            " [[16  0]\n",
            " [ 2  7]]\n",
            "accuracy =  0.92\n",
            "precision =  1.0\n",
            "recall =  0.7777777777777778\n",
            "f1 score =  0.8750000000000001\n"
          ],
          "name": "stdout"
        }
      ]
    },
    {
      "cell_type": "markdown",
      "metadata": {
        "id": "45UZnxb0LkMY"
      },
      "source": [
        "学習率と勾配回数からどのように結果が変わったのか、うまく把握できない。"
      ]
    },
    {
      "cell_type": "markdown",
      "metadata": {
        "id": "ocBS9aAZLkMZ"
      },
      "source": [
        "## 【問題6】学習曲線のプロット\n",
        "学習曲線を見て損失が適切に下がっているかどうか確認してください。"
      ]
    },
    {
      "cell_type": "code",
      "metadata": {
        "id": "6YOs4ZXRLkMZ",
        "outputId": "ee5f0a32-59dc-4905-b1a8-e5e5ae4bb359"
      },
      "source": [
        "fig = plt.figure(figsize=(16, 9))\n",
        "plt.rcParams[\"font.size\"] = 15\n",
        "\n",
        "plt.title('model loss')\n",
        "plt.xlabel('iter')\n",
        "plt.ylabel('loss')\n",
        "plt.plot(scrathc_reg3.loss, label='train_loss', linewidth=5.0)\n",
        "plt.plot(scrathc_reg3.val_loss, label='val_loss', linewidth=5.0)\n",
        "plt.legend();"
      ],
      "execution_count": null,
      "outputs": [
        {
          "output_type": "display_data",
          "data": {
            "image/png": "[encoded data removed]",
            "text/plain": [
              "<Figure size 1152x648 with 1 Axes>"
            ]
          },
          "metadata": {
            "tags": [],
            "needs_background": "light"
          }
        }
      ]
    },
    {
      "cell_type": "markdown",
      "metadata": {
        "id": "S8hkDbEbLkMg"
      },
      "source": [
        "大きく離れている。学習率や勾配回数をいじっても改善しなかった。"
      ]
    },
    {
      "cell_type": "markdown",
      "metadata": {
        "id": "cWzuckzTLkMg"
      },
      "source": [
        "## 【問題7】決定領域の可視化\n",
        "決定領域を可視化してください。\n",
        "\n",
        "4つの特徴量の決定領域の可視化は不可能なので、2つの組み合わせからそれぞれ2Dで可視化する。"
      ]
    },
    {
      "cell_type": "code",
      "metadata": {
        "id": "h-jOac-1LkMh"
      },
      "source": [
        "import matplotlib.pyplot as plt\n",
        "from matplotlib.colors import ListedColormap\n",
        "import matplotlib.patches as mpatches\n",
        "\n",
        "def decision_region(X,\n",
        "                    y,\n",
        "                    model,\n",
        "                    step=0.1,\n",
        "                    title='decision region',\n",
        "                    xlabel='xlabel',\n",
        "                    ylabel='ylabel',\n",
        "                    target_names=['versicolor', 'virginica']):\n",
        "    \"\"\"\n",
        "    2値分類を2次元の特徴量で学習したモデルの決定領域を描く。\n",
        "    背景の色が学習したモデルによる推定値から描画される。\n",
        "    散布図の点は訓練データまたは検証データである。\n",
        "\n",
        "    Parameters\n",
        "    ----------------\n",
        "    X : ndarray, shape(n_samples, 2)\n",
        "        特徴量\n",
        "    y : ndarray, shape(n_samples,)\n",
        "        ラベル\n",
        "    model : object\n",
        "        学習したモデルのインスンタスを入れる\n",
        "    step : float, (default : 0.1)\n",
        "        推定値を計算する間隔を設定する\n",
        "    title : str\n",
        "        グラフのタイトルの文章を与える\n",
        "    xlabel, ylabel : str\n",
        "        軸ラベルの文章を与える\n",
        "    target_names= : list of str\n",
        "        凡例の一覧を与える\n",
        "    \"\"\"\n",
        "    # setting\n",
        "    scatter_color = ['red', 'blue']\n",
        "    contourf_color = ['pink', 'skyblue']\n",
        "    n_class = 2\n",
        "    # pred\n",
        "    # 2つの特徴量の座標の作成（0.5の余白を追加する）\n",
        "    a = np.arange(np.min(X[:, 0]) - 0.5, np.max(X[:, 0]) + 0.5, step)\n",
        "    b = np.arange(np.min(X[:, 1]) - 0.5, np.max(X[:, 1]) + 0.5, step)\n",
        "    # 残りの特徴量は平均値をとる\n",
        "    c = np.array(np.mean(X[:, 2]))\n",
        "    d = np.array(np.mean(X[:, 3]))\n",
        "    # 各特徴量同士の組み合わせの数列を作る→座標空間全てを埋める空間を作成\n",
        "    aa, bb, cc, dd = np.meshgrid(a, b, c, d)\n",
        "    # 座標を結合\n",
        "    mesh = np.c_[np.ravel(aa), np.ravel(bb), np.ravel(cc), np.ravel(dd)]\n",
        "    \n",
        "    y_pred = model.predict(mesh, threshold=0.537).reshape(aa.shape)\n",
        "    print(y_pred.shape)\n",
        "    print(aa.shape)\n",
        "    print(bb.shape)\n",
        "    # plot\n",
        "    plt.title(title)\n",
        "    plt.xlabel(xlabel)\n",
        "    plt.ylabel(ylabel)\n",
        "    plt.contourf(aa[:,:,0,0],\n",
        "                 bb[:,:,0,0],\n",
        "                 y_pred[:,:,0,0],\n",
        "                 n_class - 1,\n",
        "                 cmap=ListedColormap(contourf_color))\n",
        "    plt.contour(aa[:,:,0,0],\n",
        "                bb[:,:,0,0],\n",
        "                y_pred[:,:,0,0],\n",
        "                n_class - 1,\n",
        "                colors='y',\n",
        "                linewidths=3,\n",
        "                alpha=0.5)\n",
        "    for i, target in enumerate(set(y)):\n",
        "        plt.scatter(X[y == target][:, 0],\n",
        "                    X[y == target][:, 1],\n",
        "                    s=80,\n",
        "                    color=scatter_color[i],\n",
        "                    label=target_names[i],\n",
        "                    marker='o')\n",
        "    patches = [\n",
        "        mpatches.Patch(color=scatter_color[i], label=target_names[i])\n",
        "        for i in range(n_class)\n",
        "    ]\n",
        "    plt.legend(handles=patches)\n",
        "    plt.legend()\n",
        "    plt.show()"
      ],
      "execution_count": null,
      "outputs": []
    },
    {
      "cell_type": "code",
      "metadata": {
        "id": "8CX5g5R2LkMj"
      },
      "source": [
        "feature_list = [\"sepal length\", \"sepal width\", \"petal length\", \"petal width\"]\n",
        "target_index = [\"versicolor\", \"virginica\"]\n",
        "\n",
        "select_X = select_df[feature_list].values\n",
        "select_y = select_df['target'].values\n",
        "scaler = StandardScaler()\n",
        "scaler.fit(select_X)\n",
        "X_data = scaler.transform(select_X)\n",
        "\n",
        "X_train_std, X_valid_std, y_train, y_valid = train_test_split(X_data,\n",
        "                                                              select_y,\n",
        "                                                              random_state=2)"
      ],
      "execution_count": null,
      "outputs": []
    },
    {
      "cell_type": "code",
      "metadata": {
        "id": "aQ8dobyVLkMm"
      },
      "source": [
        "new_scrathc_reg = ScratchLogisticRegression(num_iter=10000, lr=1e-2)\n",
        "new_scrathc_reg.fit(X_train_std, y_train)"
      ],
      "execution_count": null,
      "outputs": []
    },
    {
      "cell_type": "code",
      "metadata": {
        "id": "cpEMSYEwLkMo",
        "outputId": "1bad2b86-aa79-4da8-897d-62ed71bc8258"
      },
      "source": [
        "decision_region(X_data, select_y, new_scrathc_reg)"
      ],
      "execution_count": null,
      "outputs": [
        {
          "output_type": "stream",
          "text": [
            "(65, 56, 1, 1)\n",
            "(65, 56, 1, 1)\n",
            "(65, 56, 1, 1)\n"
          ],
          "name": "stdout"
        },
        {
          "output_type": "display_data",
          "data": {
            "image/png": "[encoded data removed]",
            "text/plain": [
              "<Figure size 432x288 with 1 Axes>"
            ]
          },
          "metadata": {
            "tags": [],
            "needs_background": "light"
          }
        }
      ]
    },
    {
      "cell_type": "markdown",
      "metadata": {
        "id": "95ab3c9zLkMr"
      },
      "source": [
        "なぜかすべて赤くなった。警告文を見る限り、color設定をいじる必要があるみたいだが、ネットで調べたが解決できなかった。<br>(11/14追記)4つの特徴量にしたため、全てに座標±0.5で設定したらカーネルが止まった。アドバイスをもらい、後ろ2つの特徴量は平均値をとった。"
      ]
    },
    {
      "cell_type": "markdown",
      "metadata": {
        "id": "5FZLastfLkMr"
      },
      "source": [
        "## 【問題8】（アドバンス課題）重みの保存\n",
        "検証が容易になるように、学習した重みを保存および読み込みができるようにしましょう。pickleモジュールやNumPyのnp.savezを利用します。"
      ]
    },
    {
      "cell_type": "code",
      "metadata": {
        "id": "0Ap4NNuHLkMs"
      },
      "source": [
        "np.save('Sprint4_learned_theta', scrathc_reg3.theta)"
      ],
      "execution_count": null,
      "outputs": []
    },
    {
      "cell_type": "code",
      "metadata": {
        "id": "aaFw-ex8LkMu",
        "outputId": "c55a392a-6d03-41c0-d279-23824ab6f72e"
      },
      "source": [
        "# 確認のため呼び出し\n",
        "load_theta = np.load(\"Sprint4_learned_theta.npy\")\n",
        "print(load_theta)"
      ],
      "execution_count": null,
      "outputs": [
        {
          "output_type": "stream",
          "text": [
            "[[ 0.58066382  0.11138487 -0.62413464  2.6856488   3.43235388]]\n"
          ],
          "name": "stdout"
        }
      ]
    },
    {
      "cell_type": "markdown",
      "metadata": {
        "id": "Yh9G2OC6LkMw"
      },
      "source": [
        "## 感想\n",
        "特徴量を4つ全て学習したので、決定領域の可視化にすごく悩んだ。最初から2つに絞っていれば簡単にできたかもしれないと少し後悔した。また、学習曲線のプロットで、検証データと訓練データで縦軸が大きくずれている原因がわからなかった。そもそも、検証データを学習させる意義をよく理解していなかったため、時間がある時に調べようと思った。\n",
        "\n",
        "（11/14追記）可視化に苦戦した。なんとか4つの特徴量で学習したモデルの予測の決定領域を可視化できたが、うまく分離できていないように見える。慣れるまでは2つの特徴量で実施しようと思った。"
      ]
    }
  ]
}