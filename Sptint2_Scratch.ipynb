{
  "nbformat": 4,
  "nbformat_minor": 0,
  "metadata": {
    "colab": {
      "name": "Sptint2_Scratch.ipynb",
      "provenance": [],
      "collapsed_sections": [],
      "mount_file_id": "1TfvH_jh7590SdRiTmjrLhxNLz6EOnnDC",
      "authorship_tag": "ABX9TyOS+1WEtAYw2SKyevEF43l9",
      "include_colab_link": true
    },
    "kernelspec": {
      "name": "python3",
      "display_name": "Python 3"
    }
  },
  "cells": [
    {
      "cell_type": "markdown",
      "metadata": {
        "id": "view-in-github",
        "colab_type": "text"
      },
      "source": [
        "<a href=\"https://colab.research.google.com/github/kokikudo/submit_an_assignment/blob/master/Sptint2_Scratch.ipynb\" target=\"_parent\"><img src=\"https://colab.research.google.com/assets/colab-badge.svg\" alt=\"Open In Colab\"/></a>"
      ]
    },
    {
      "cell_type": "markdown",
      "metadata": {
        "id": "jEbKVilF-ykK"
      },
      "source": [
        "## **概要**　：　sklearnの処理方法と同じ関数を作成する。\n",
        "## **目的**　：　新たな手法に出会ったときに理論・数式を理解しやすくする。ライブラリを使う上での曖昧さを減らす。既存の実装を読みやすくする。\n"
      ]
    },
    {
      "cell_type": "markdown",
      "metadata": {
        "id": "3Da0AoPO_mux"
      },
      "source": [
        "### **問題1　train_test_splitのスクラッチ**"
      ]
    },
    {
      "cell_type": "code",
      "metadata": {
        "id": "sjNfi5fE-c_M",
        "outputId": "b3d0345c-6ab5-40e1-8664-ff85b5bc16b0",
        "colab": {
          "base_uri": "https://localhost:8080/",
          "height": 118
        }
      },
      "source": [
        "# train_test_splitの処理内容の確認\n",
        "from sklearn.model_selection import train_test_split\n",
        "import numpy as np\n",
        "\n",
        "X = np.arange(10)\n",
        "display(X)\n",
        "\n",
        "y = np.arange(10, 20)\n",
        "display(y)\n",
        "\n",
        "X_train, X_test, y_train, y_test = train_test_split(X, y, test_size=0.25, random_state=2)\n",
        "print('X_train = ', X_train)\n",
        "print('X_test = ', X_test)\n",
        "print('y_train = ', y_train)\n",
        "print('y_test = ', y_test)"
      ],
      "execution_count": 68,
      "outputs": [
        {
          "output_type": "display_data",
          "data": {
            "text/plain": [
              "array([0, 1, 2, 3, 4, 5, 6, 7, 8, 9])"
            ]
          },
          "metadata": {
            "tags": []
          }
        },
        {
          "output_type": "display_data",
          "data": {
            "text/plain": [
              "array([10, 11, 12, 13, 14, 15, 16, 17, 18, 19])"
            ]
          },
          "metadata": {
            "tags": []
          }
        },
        {
          "output_type": "stream",
          "text": [
            "X_train =  [0 7 2 3 6 9 8]\n",
            "X_test =  [4 1 5]\n",
            "y_train =  [10 17 12 13 16 19 18]\n",
            "y_test =  [14 11 15]\n"
          ],
          "name": "stdout"
        }
      ]
    },
    {
      "cell_type": "markdown",
      "metadata": {
        "id": "2K5SJT3fBuey"
      },
      "source": [
        "第一引数の配列と第二引数の配列を指定の対比でランダムに分割してる。要素数10の配列では小数点数では分割できないので、train側を切り捨てる。\n",
        "\n",
        "処理するたびに結果が変わらないよう、random_stateに適当な整数を入れてる。整数の大小でどのように結果が変わるのかがよくわからない。"
      ]
    },
    {
      "cell_type": "code",
      "metadata": {
        "id": "7rHwu4WpCWmj"
      },
      "source": [
        "# 実装してみる\n",
        "def scratch_train_test_split(X, y, train_size=0.8, shuffle=True, random_seed=None):\n",
        "    \"\"\"\n",
        "    検証データを分割する。\n",
        "\n",
        "    Parameters\n",
        "    ----------\n",
        "    X : 次の形のndarray, shape (n_samples, n_features)\n",
        "      訓練データ\n",
        "    y : 次の形のndarray, shape (n_samples, )\n",
        "      正解値\n",
        "    train_size : float (0<train_size<1)\n",
        "      何割をtrainとするか指定\n",
        "\n",
        "    Returns\n",
        "    ----------\n",
        "    X_train : 次の形のndarray, shape (n_samples, n_features)\n",
        "      訓練データ\n",
        "    X_test : 次の形のndarray, shape (n_samples, n_features)\n",
        "      検証データ\n",
        "    y_train : 次の形のndarray, shape (n_samples, )\n",
        "      訓練データの正解値\n",
        "    y_test : 次の形のndarray, shape (n_samples, )\n",
        "      検証データの正解値\n",
        "    \"\"\"\n",
        "    #ここにコードを書く\n",
        "\n",
        "    # スライスする割合を定義\n",
        "    s = int(len(y) * train_size)\n",
        "\n",
        "    # 各配列の要素の並びをランダムに変える\n",
        "    # np.random.permutation()で配列内の要素の順番をランダムに変える\n",
        "    # ! np.random.shuffle()だと引数のデータも変換されてしまう\n",
        "    if shuffle:\n",
        "        if type(random_seed) == int:\n",
        "            np.random.seed(seed=random_seed)\n",
        "            random_index = np.random.permutation(np.arange(len(y)))\n",
        "        X = X[random_index]\n",
        "        y = y[random_index]\n",
        "    \n",
        "    # スライスして各変数に格納\n",
        "    X_train = X[:s]\n",
        "    X_test = X[s:]\n",
        "    y_train = y[:s]\n",
        "    y_test = y[s:]\n",
        "\n",
        "    return X_train, X_test, y_train, y_test\n"
      ],
      "execution_count": 69,
      "outputs": []
    },
    {
      "cell_type": "code",
      "metadata": {
        "id": "7J2wMQCoE__1",
        "outputId": "c1b61a07-77a4-4c05-e697-f070cde7d009",
        "colab": {
          "base_uri": "https://localhost:8080/"
        }
      },
      "source": [
        "print('X : {}\\ny : {}'.format(X, y))\n",
        "print('------分割後--------')\n",
        "print('X_train : {}\\nX_test : {}\\ny_train : {}\\ny_test : {}'.format(*scratch_train_test_split(X, y, train_size=0.75, random_seed=2)))"
      ],
      "execution_count": 70,
      "outputs": [
        {
          "output_type": "stream",
          "text": [
            "X : [0 1 2 3 4 5 6 7 8 9]\n",
            "y : [10 11 12 13 14 15 16 17 18 19]\n",
            "------分割後--------\n",
            "X_train : [4 1 5 0 7 2 3]\n",
            "X_test : [6 9 8]\n",
            "y_train : [14 11 15 10 17 12 13]\n",
            "y_test : [16 19 18]\n"
          ],
          "name": "stdout"
        }
      ]
    },
    {
      "cell_type": "markdown",
      "metadata": {
        "id": "ViAM9urnSHl1"
      },
      "source": [
        "1次元配列を渡すとtrain_test_splitと同じ結果となった。\n",
        "\n",
        "アヤメデータを入れてみる。"
      ]
    },
    {
      "cell_type": "code",
      "metadata": {
        "id": "9bojWHUDW7W5",
        "outputId": "a98afd99-2b85-48b6-ca9f-5fd0b399e055",
        "colab": {
          "base_uri": "https://localhost:8080/"
        }
      },
      "source": [
        "from sklearn.datasets import load_iris\n",
        "iris = load_iris()\n",
        "\n",
        "iris_X = iris.data\n",
        "iris_y = iris.target\n",
        "print('iris_X.shape', iris_X.shape)\n",
        "print('iris_y.shape', iris_y.shape)\n",
        "\n",
        "X_train, X_test, y_train, y_test = scratch_train_test_split(iris_X, iris_y, train_size=0.75, random_seed=2)\n",
        "\n",
        "print('自作関数の場合')\n",
        "print('X_tarin.shape :', X_train.shape)\n",
        "print('X_test.shape :', X_test.shape)\n",
        "print('y_tarin.shape :', y_train.shape)\n",
        "print('y_test.shape :', y_test.shape)"
      ],
      "execution_count": 71,
      "outputs": [
        {
          "output_type": "stream",
          "text": [
            "iris_X.shape (150, 4)\n",
            "iris_y.shape (150,)\n",
            "自作関数の場合\n",
            "X_tarin.shape : (112, 4)\n",
            "X_test.shape : (38, 4)\n",
            "y_tarin.shape : (112,)\n",
            "y_test.shape : (38,)\n"
          ],
          "name": "stdout"
        }
      ]
    },
    {
      "cell_type": "code",
      "metadata": {
        "id": "rVSCiIeiSYzb",
        "outputId": "6263ac17-f3bf-4af7-cac7-c509fb80abb2",
        "colab": {
          "base_uri": "https://localhost:8080/"
        }
      },
      "source": [
        "X_train, X_test, y_train, y_test = train_test_split(iris_X, iris_y, train_size=0.75, random_state=2)\n",
        "print('train_test_split　の場合')\n",
        "print('X_tarin.shape :', X_train.shape)\n",
        "print('X_test.shape :', X_test.shape)\n",
        "print('y_tarin.shape :', y_train.shape)\n",
        "print('y_test.shape :', y_test.shape)"
      ],
      "execution_count": 72,
      "outputs": [
        {
          "output_type": "stream",
          "text": [
            "train_test_split　の場合\n",
            "X_tarin.shape : (112, 4)\n",
            "X_test.shape : (38, 4)\n",
            "y_tarin.shape : (112,)\n",
            "y_test.shape : (38,)\n"
          ],
          "name": "stdout"
        }
      ]
    },
    {
      "cell_type": "markdown",
      "metadata": {
        "id": "pni0DjmiaVCi"
      },
      "source": [
        "分割数は同じになったが、おそらくランダムシードの処理がtrain_test_splitと違うため、完全同一ではない。"
      ]
    },
    {
      "cell_type": "markdown",
      "metadata": {
        "id": "zpcrJ7cDbiDv"
      },
      "source": [
        "### **問題2　sklearnを用いて機械学習を行うコードを作成**\n",
        "3つの分類モデルをスクラッチする。\n",
        "* ロジスティック回帰（勾配降下法を用いて計算するSGDClassifierクラスを利用。引数でloss=\"log\"とする）\n",
        "* SVM\n",
        "* 決定木\n",
        "\n",
        "使うデータセットは3種類\n",
        "* irisのversicolorとvirginicaのみのデータ\n",
        "* サンプルの「シンプルデータセット1作成コード」\n",
        "* サンプルの「シンプルデータセット2作成コード」"
      ]
    },
    {
      "cell_type": "code",
      "metadata": {
        "id": "ooA1dro7ah6k",
        "outputId": "993b0052-88d3-4a6f-df2d-c8cfe77918fa",
        "colab": {
          "base_uri": "https://localhost:8080/"
        }
      },
      "source": [
        "# irisデータの準備\n",
        "import pandas as pd\n",
        "\n",
        "data = load_iris().data\n",
        "target = load_iris().target.reshape(-1,1)\n",
        "iris = np.concatenate([data,target],axis=1)\n",
        "iris = pd.DataFrame(iris)\n",
        "iris_selected_X = iris.loc[iris[4]!=0,0:3].values\n",
        "iris_selected_y = iris.loc[iris[4]!=0,4].values\n",
        "print('iris_selected_X.shape :', iris_selected_X.shape)\n",
        "print('iris_selected_y.shape :', iris_selected_y.shape)"
      ],
      "execution_count": 73,
      "outputs": [
        {
          "output_type": "stream",
          "text": [
            "iris_selected_X.shape : (100, 4)\n",
            "iris_selected_y.shape : (100,)\n"
          ],
          "name": "stdout"
        }
      ]
    },
    {
      "cell_type": "code",
      "metadata": {
        "id": "x2D-O94RhGRS",
        "outputId": "e96c8129-70fc-4951-a1a2-7f3292c7146a",
        "colab": {
          "base_uri": "https://localhost:8080/"
        }
      },
      "source": [
        "# シンプルデータセット1作成コード\n",
        "np.random.seed(seed=0)\n",
        "n_samples = 500\n",
        "f0 = [-1, 2]\n",
        "f1 = [2, -1]\n",
        "cov = [[1.0,0.8], [0.8, 1.0]]\n",
        "f0 = np.random.multivariate_normal(f0, cov, int(n_samples/2))\n",
        "f1 = np.random.multivariate_normal(f1, cov, int(n_samples/2))\n",
        "X = np.concatenate((f0, f1))\n",
        "y = np.concatenate((np.ones((int(n_samples/2))), np.ones((int(n_samples/2))) *(-1))).astype(np.int)\n",
        "random_index = np.random.permutation(np.arange(n_samples))\n",
        "X = X[random_index]\n",
        "y = y[random_index]\n",
        "\n",
        "simple1_X = X\n",
        "simple1_y = y\n",
        "\n",
        "print('simple1_X.shape :', simple1_X.shape)\n",
        "print('simple1_y.shape :', simple1_y.shape)"
      ],
      "execution_count": 74,
      "outputs": [
        {
          "output_type": "stream",
          "text": [
            "simple1_X.shape : (500, 2)\n",
            "simple1_y.shape : (500,)\n"
          ],
          "name": "stdout"
        }
      ]
    },
    {
      "cell_type": "code",
      "metadata": {
        "id": "1LKwSg_uhiRl",
        "outputId": "821b6684-3def-4066-82f7-0aad221c914f",
        "colab": {
          "base_uri": "https://localhost:8080/"
        }
      },
      "source": [
        "# シンプルデータセット2作成コード\n",
        "X = np.array([[-0.44699 , -2.8073  ],[-1.4621  , -2.4586  ],\n",
        "       [ 0.10645 ,  1.9242  ],[-3.5944  , -4.0112  ],\n",
        "       [-0.9888  ,  4.5718  ],[-3.1625  , -3.9606  ],\n",
        "       [ 0.56421 ,  0.72888 ],[-0.60216 ,  8.4636  ],\n",
        "       [-0.61251 , -0.75345 ],[-0.73535 , -2.2718  ],\n",
        "       [-0.80647 , -2.2135  ],[ 0.86291 ,  2.3946  ],\n",
        "       [-3.1108  ,  0.15394 ],[-2.9362  ,  2.5462  ],\n",
        "       [-0.57242 , -2.9915  ],[ 1.4771  ,  3.4896  ],\n",
        "       [ 0.58619 ,  0.37158 ],[ 0.6017  ,  4.3439  ],\n",
        "       [-2.1086  ,  8.3428  ],[-4.1013  , -4.353   ],\n",
        "       [-1.9948  , -1.3927  ],[ 0.35084 , -0.031994],\n",
        "       [ 0.96765 ,  7.8929  ],[-1.281   , 15.6824  ],\n",
        "       [ 0.96765 , 10.083   ],[ 1.3763  ,  1.3347  ],\n",
        "       [-2.234   , -2.5323  ],[-2.9452  , -1.8219  ],\n",
        "       [ 0.14654 , -0.28733 ],[ 0.5461  ,  5.8245  ],\n",
        "       [-0.65259 ,  9.3444  ],[ 0.59912 ,  5.3524  ],\n",
        "       [ 0.50214 , -0.31818 ],[-3.0603  , -3.6461  ],\n",
        "       [-6.6797  ,  0.67661 ],[-2.353   , -0.72261 ],\n",
        "       [ 1.1319  ,  2.4023  ],[-0.12243 ,  9.0162  ],\n",
        "       [-2.5677  , 13.1779  ],[ 0.057313,  5.4681  ]])\n",
        "y = np.array([0, 0, 0, 0, 0, 0, 0, 0, 0, 0, 0, 0, 0, 0, 0, 0, 0, 0, 0, 0, 1, 1,\n",
        "       1, 1, 1, 1, 1, 1, 1, 1, 1, 1, 1, 1, 1, 1, 1, 1, 1, 1])\n",
        "\n",
        "simple2_X = X\n",
        "simple2_y = y\n",
        "print('simple2_X.shape :', simple2_X.shape)\n",
        "print('simple2_y.shape :', simple2_y.shape)"
      ],
      "execution_count": 75,
      "outputs": [
        {
          "output_type": "stream",
          "text": [
            "simple2_X.shape : (40, 2)\n",
            "simple2_y.shape : (40,)\n"
          ],
          "name": "stdout"
        }
      ]
    },
    {
      "cell_type": "markdown",
      "metadata": {
        "id": "u3zkvaoB9kjG"
      },
      "source": [
        "### **irisデータを3種類の分類法で分類し、指標値を出す。**"
      ]
    },
    {
      "cell_type": "code",
      "metadata": {
        "id": "b2gywQ4_-VBi"
      },
      "source": [
        "# 指標値を返す関数\n",
        "from sklearn import metrics \n",
        "\n",
        "# 評価する関数を作成する\n",
        "def evaluate(y_test, y_pred):\n",
        "    \"\"\"\n",
        "    2値分類の評価指標を計算する\n",
        "    \"\"\"\n",
        "    acc = metrics.accuracy_score(y_test, y_pred)\n",
        "    precision = metrics.precision_score(y_test, y_pred)\n",
        "    recall = metrics.recall_score(y_test, y_pred)\n",
        "    f1 = metrics.f1_score(y_test, y_pred)\n",
        "    return acc, precision, recall, f1"
      ],
      "execution_count": 76,
      "outputs": []
    },
    {
      "cell_type": "code",
      "metadata": {
        "id": "ZTFUSsfThpAZ",
        "outputId": "4cbb5011-4c56-430b-e892-ba2920d70ecf",
        "colab": {
          "base_uri": "https://localhost:8080/"
        }
      },
      "source": [
        "# ロジスティック回帰で学習\n",
        "from sklearn.linear_model import SGDClassifier\n",
        "\n",
        "clf = SGDClassifier(loss='log')\n",
        "\n",
        "X_train, X_test, y_train, y_test = scratch_train_test_split(iris_selected_X, iris_selected_y, random_seed=2)\n",
        "\n",
        "clf.fit(X_train, y_train)\n",
        "\n",
        "y_pred = clf.predict(X_test)\n",
        "\n",
        "print('正解率{:.2f}, 適合率{:.2f}, 再現率{:.2f}, F1値{:.2f}'.format(*evaluate(y_test, y_pred)))"
      ],
      "execution_count": 77,
      "outputs": [
        {
          "output_type": "stream",
          "text": [
            "正解率0.90, 適合率1.00, 再現率0.85, F1値0.92\n"
          ],
          "name": "stdout"
        }
      ]
    },
    {
      "cell_type": "code",
      "metadata": {
        "id": "tTCjejs3HMQy",
        "outputId": "db189588-d490-4c84-8690-299c4d8d0fef",
        "colab": {
          "base_uri": "https://localhost:8080/"
        }
      },
      "source": [
        "# SVM\n",
        "from sklearn.svm import SVC\n",
        "\n",
        "svc = SVC()\n",
        "svc.fit(X_train, y_train)\n",
        "y_pred = svc.predict(X_test)\n",
        "\n",
        "print('正解率{:.2f}, 適合率{:.2f}, 再現率{:.2f}, F1値{:.2f}'.format(*evaluate(y_test, y_pred)))"
      ],
      "execution_count": 78,
      "outputs": [
        {
          "output_type": "stream",
          "text": [
            "正解率0.90, 適合率1.00, 再現率0.85, F1値0.92\n"
          ],
          "name": "stdout"
        }
      ]
    },
    {
      "cell_type": "code",
      "metadata": {
        "id": "sxJMecld9bkG",
        "outputId": "f98eb4ad-c390-41e0-8104-799f71cb0a3c",
        "colab": {
          "base_uri": "https://localhost:8080/"
        }
      },
      "source": [
        "# 決定木\n",
        "from sklearn.tree import DecisionTreeClassifier\n",
        "\n",
        "tree = DecisionTreeClassifier()\n",
        "tree.fit(X_train, y_train)\n",
        "y_pred = tree.predict(X_test)\n",
        "\n",
        "print('正解率{:.2f}, 適合率{:.2f}, 再現率{:.2f}, F1値{:.2f}'.format(*evaluate(y_test, y_pred)))"
      ],
      "execution_count": 79,
      "outputs": [
        {
          "output_type": "stream",
          "text": [
            "正解率0.95, 適合率1.00, 再現率0.92, F1値0.96\n"
          ],
          "name": "stdout"
        }
      ]
    },
    {
      "cell_type": "markdown",
      "metadata": {
        "id": "3Aye_6rRuWzR"
      },
      "source": [
        "## **シンプルデータ1で学習**"
      ]
    },
    {
      "cell_type": "code",
      "metadata": {
        "id": "r1seo64Ut74Q",
        "outputId": "5c34dc64-9bdf-4cb7-9bd4-410feb74b4c4",
        "colab": {
          "base_uri": "https://localhost:8080/"
        }
      },
      "source": [
        "X_train, X_test, y_train, y_test = scratch_train_test_split(simple1_X, simple1_y, random_seed=2)\n",
        "\n",
        "clf = SGDClassifier(loss='log')\n",
        "clf.fit(X_train, y_train)\n",
        "y_pred = clf.predict(X_test)\n",
        "print('ロジスティック回帰での学習結果')\n",
        "print('正解率{:.2f}, 適合率{:.2f}, 再現率{:.2f}, F1値{:.2f}'.format(*evaluate(y_test, y_pred)))\n",
        "\n",
        "svc = SVC()\n",
        "svc.fit(X_train, y_train)\n",
        "y_pred = svc.predict(X_test)\n",
        "print('SVCでの学習結果')\n",
        "print('正解率{:.2f}, 適合率{:.2f}, 再現率{:.2f}, F1値{:.2f}'.format(*evaluate(y_test, y_pred)))\n",
        "\n",
        "tree = DecisionTreeClassifier()\n",
        "tree.fit(X_train, y_train)\n",
        "y_pred = tree.predict(X_test)\n",
        "print('決定木での学習結果')\n",
        "print('正解率{:.2f}, 適合率{:.2f}, 再現率{:.2f}, F1値{:.2f}'.format(*evaluate(y_test, y_pred)))"
      ],
      "execution_count": 80,
      "outputs": [
        {
          "output_type": "stream",
          "text": [
            "ロジスティック回帰での学習結果\n",
            "正解率1.00, 適合率1.00, 再現率1.00, F1値1.00\n",
            "SVCでの学習結果\n",
            "正解率1.00, 適合率1.00, 再現率1.00, F1値1.00\n",
            "決定木での学習結果\n",
            "正解率1.00, 適合率1.00, 再現率1.00, F1値1.00\n"
          ],
          "name": "stdout"
        }
      ]
    },
    {
      "cell_type": "markdown",
      "metadata": {
        "id": "TZbAmL7hvxGg"
      },
      "source": [
        "## **シンプルデータ2で学習**"
      ]
    },
    {
      "cell_type": "code",
      "metadata": {
        "id": "53wJYbGvv2JI",
        "outputId": "0633d151-c751-4f82-b0db-2d3be00629a6",
        "colab": {
          "base_uri": "https://localhost:8080/"
        }
      },
      "source": [
        "X_train, X_test, y_train, y_test = scratch_train_test_split(simple2_X, simple2_y, random_seed=2)\n",
        "\n",
        "clf = SGDClassifier(loss='log')\n",
        "clf.fit(X_train, y_train)\n",
        "y_pred = clf.predict(X_test)\n",
        "print('ロジスティック回帰での学習結果')\n",
        "print('正解率{:.2f}, 適合率{:.2f}, 再現率{:.2f}, F1値{:.2f}'.format(*evaluate(y_test, y_pred)))\n",
        "\n",
        "svc = SVC()\n",
        "svc.fit(X_train, y_train)\n",
        "y_pred = svc.predict(X_test)\n",
        "print('SVCでの学習結果')\n",
        "print('正解率{:.2f}, 適合率{:.2f}, 再現率{:.2f}, F1値{:.2f}'.format(*evaluate(y_test, y_pred)))\n",
        "\n",
        "tree = DecisionTreeClassifier()\n",
        "tree.fit(X_train, y_train)\n",
        "y_pred = tree.predict(X_test)\n",
        "print('決定木での学習結果')\n",
        "print('正解率{:.2f}, 適合率{:.2f}, 再現率{:.2f}, F1値{:.2f}'.format(*evaluate(y_test, y_pred)))"
      ],
      "execution_count": 81,
      "outputs": [
        {
          "output_type": "stream",
          "text": [
            "ロジスティック回帰での学習結果\n",
            "正解率0.38, 適合率0.38, 再現率1.00, F1値0.55\n",
            "SVCでの学習結果\n",
            "正解率0.38, 適合率0.33, 再現率0.67, F1値0.44\n",
            "決定木での学習結果\n",
            "正解率0.50, 適合率0.43, 再現率1.00, F1値0.60\n"
          ],
          "name": "stdout"
        }
      ]
    },
    {
      "cell_type": "markdown",
      "metadata": {
        "id": "CetX_WCOwWwZ"
      },
      "source": [
        "### **問題3　House Praiseデータセットを学習・推定する**"
      ]
    },
    {
      "cell_type": "code",
      "metadata": {
        "id": "8s9N-kgUwWFr",
        "outputId": "caee0dfb-b4cb-41e5-f572-b8f3f9704220",
        "colab": {
          "base_uri": "https://localhost:8080/"
        }
      },
      "source": [
        "app_train = pd.read_csv('/content/drive/My Drive/事前学習フォルダ/train.csv')\n",
        "X = app_train.loc[:, ['GrLivArea', 'YearBuilt']].values\n",
        "y = app_train.loc[:, ['SalePrice']].values\n",
        "\n",
        "print('X.shape : ', X.shape)\n",
        "print('y.shape : ', y.shape)"
      ],
      "execution_count": 82,
      "outputs": [
        {
          "output_type": "stream",
          "text": [
            "X.shape :  (1460, 2)\n",
            "y.shape :  (1460, 1)\n"
          ],
          "name": "stdout"
        }
      ]
    },
    {
      "cell_type": "code",
      "metadata": {
        "id": "eU3jSvx_xVb7",
        "outputId": "e31786a2-49e0-412a-b449-d52710e8f316",
        "colab": {
          "base_uri": "https://localhost:8080/",
          "height": 690
        }
      },
      "source": [
        "from sklearn.linear_model import SGDRegressor\n",
        "import matplotlib.pyplot as plt\n",
        "%matplotlib inline\n",
        "\n",
        "X_train, X_test, y_train, y_test = scratch_train_test_split(X, y, random_seed=2)\n",
        "print('X_train.shape : {}\\nX_test.shape : {}'.format(X_train.shape, X_test.shape))\n",
        "print('y_train.shape : {}\\ny_test.shape : {}'.format(y_train.shape, y_test.shape))\n",
        "\n",
        "reg = SGDRegressor(max_iter=1000)\n",
        "reg.fit(X_train, y_train.ravel())\n",
        "print('傾き　：　{}\\n切片 : {}'.format(reg.intercept_, reg.coef_))\n",
        "\n",
        "y_pred = reg.predict(X_test)\n",
        "MSE = metrics.mean_squared_error(y_test, y_pred)\n",
        "print('MSE :', MSE)\n",
        "\n",
        "# 可視化\n",
        "plt.title(\"predicted SalePrice, GrLivArea\")\n",
        "plt.xlabel(\"GrLivArea [square feet]\")\n",
        "plt.ylabel(\"SalePrice [$]\")\n",
        "plt.scatter(X_test[:, 0], y_pred)\n",
        "plt.show()\n",
        "\n",
        "plt.title(\"predicted SalePrice, YearBuilt\")\n",
        "plt.xlabel(\"YearBuilt\")\n",
        "plt.ylabel(\"SalePrice [$]\")\n",
        "plt.scatter(X_test[:, 1], y_pred)\n",
        "plt.show()"
      ],
      "execution_count": 98,
      "outputs": [
        {
          "output_type": "stream",
          "text": [
            "X_train.shape : (1168, 2)\n",
            "X_test.shape : (292, 2)\n",
            "y_train.shape : (1168, 1)\n",
            "y_test.shape : (292, 1)\n",
            "傾き　：　[4.26838574e+09]\n",
            "切片 : [-4.96061501e+11  6.18305401e+11]\n",
            "MSE : 2.903314604863337e+29\n"
          ],
          "name": "stdout"
        },
        {
          "output_type": "display_data",
          "data": {
            "image/png": "[encoded data removed]",
            "text/plain": [
              "<Figure size 432x288 with 1 Axes>"
            ]
          },
          "metadata": {
            "tags": [],
            "needs_background": "light"
          }
        },
        {
          "output_type": "display_data",
          "data": {
            "image/png": "[encoded data removed]",
            "text/plain": [
              "<Figure size 432x288 with 1 Axes>"
            ]
          },
          "metadata": {
            "tags": [],
            "needs_background": "light"
          }
        }
      ]
    },
    {
      "cell_type": "code",
      "metadata": {
        "id": "XriUpVixMkKN",
        "outputId": "aaf0bfa3-f6df-4b82-b780-2f9d9fd5166a",
        "colab": {
          "base_uri": "https://localhost:8080/",
          "height": 623
        }
      },
      "source": [
        "# 標準化してみた\n",
        "from sklearn.preprocessing import StandardScaler\n",
        "clf = StandardScaler()\n",
        "X_train_transformed = clf.fit_transform(X_train)\n",
        "X_test_trandformed = clf.transform(X_test)\n",
        "\n",
        "reg = SGDRegressor(max_iter=1000)\n",
        "reg.fit(X_train_transformed, y_train.ravel())\n",
        "print('傾き　：　{}\\n切片 : {}'.format(reg.intercept_, reg.coef_))\n",
        "\n",
        "y_pred = reg.predict(X_test_trandformed)\n",
        "MSE = metrics.mean_squared_error(y_test, y_pred)\n",
        "print('MSE :', MSE)\n",
        "\n",
        "# 可視化\n",
        "plt.title(\"predicted SalePrice, GrLivArea\")\n",
        "plt.xlabel(\"GrLivArea [square feet]\")\n",
        "plt.ylabel(\"SalePrice [$]\")\n",
        "plt.scatter(X_test[:, 0], y_pred)\n",
        "plt.show()\n",
        "\n",
        "plt.title(\"predicted SalePrice, YearBuilt\")\n",
        "plt.xlabel(\"YearBuilt\")\n",
        "plt.ylabel(\"SalePrice [$]\")\n",
        "plt.scatter(X_test[:, 1], y_pred)\n",
        "plt.show()"
      ],
      "execution_count": 103,
      "outputs": [
        {
          "output_type": "stream",
          "text": [
            "傾き　：　[182063.48312018]\n",
            "切片 : [50524.03039402 31435.13960654]\n",
            "MSE : 1830126637.603922\n"
          ],
          "name": "stdout"
        },
        {
          "output_type": "display_data",
          "data": {
            "image/png": "[encoded data removed]",
            "text/plain": [
              "<Figure size 432x288 with 1 Axes>"
            ]
          },
          "metadata": {
            "tags": [],
            "needs_background": "light"
          }
        },
        {
          "output_type": "display_data",
          "data": {
            "image/png": "[encoded data removed]",
            "text/plain": [
              "<Figure size 432x288 with 1 Axes>"
            ]
          },
          "metadata": {
            "tags": [],
            "needs_background": "light"
          }
        }
      ]
    },
    {
      "cell_type": "markdown",
      "metadata": {
        "id": "lEYMibdzQ4Yp"
      },
      "source": [
        "## **感想**\n",
        "標準化しないと可視化したときにがおかしくなることに気づいた。データ分割関数をスクラッチしたときに、最初にnp.random.permutation（）をXとyの両方に実行していたため、分割後にXとyの整合性が取れなくて苦戦した。同期の方に協力していただき修正することに成功した。"
      ]
    }
  ]
}