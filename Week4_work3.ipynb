{
  "nbformat": 4,
  "nbformat_minor": 0,
  "metadata": {
    "colab": {
      "name": "Week4_work3.ipynb",
      "provenance": [],
      "authorship_tag": "ABX9TyNVYwUQ36rwz05BGmB9Ra/k",
      "include_colab_link": true
    },
    "kernelspec": {
      "name": "python3",
      "display_name": "Python 3"
    }
  },
  "cells": [
    {
      "cell_type": "markdown",
      "metadata": {
        "id": "view-in-github",
        "colab_type": "text"
      },
      "source": [
        "<a href=\"https://colab.research.google.com/github/kokikudo/submit_an_assignment/blob/master/Week4_work3.ipynb\" target=\"_parent\"><img src=\"https://colab.research.google.com/assets/colab-badge.svg\" alt=\"Open In Colab\"/></a>"
      ]
    },
    {
      "cell_type": "code",
      "metadata": {
        "id": "0Osr0jYCg29h",
        "outputId": "4f8763f8-2bc9-4487-bb25-1cc9ce841bda",
        "colab": {
          "base_uri": "https://localhost:8080/"
        }
      },
      "source": [
        "import numpy as np\n",
        "from sklearn.preprocessing import StandardScaler\n",
        "from sklearn.datasets import load_iris\n",
        "data = load_iris()\n",
        "X = data.data[:10]\n",
        "scaler = StandardScaler()\n",
        "scaler.fit(X)\n",
        "print(\"平均 :\", scaler.mean_)\n",
        "print(\"分散 :\", scaler.var_)\n",
        "X_std = scaler.transform(X)"
      ],
      "execution_count": null,
      "outputs": [
        {
          "output_type": "stream",
          "text": [
            "平均 : [4.86 3.31 1.45 0.22]\n",
            "分散 : [0.0764 0.0849 0.0105 0.0056]\n"
          ],
          "name": "stdout"
        }
      ]
    },
    {
      "cell_type": "markdown",
      "metadata": {
        "id": "rbkFtGhshdbY"
      },
      "source": [
        "## **【問題1】これまで利用してきたクラスの列挙**\n",
        "クラスを使う際はインスタンス化を行うことと、クラスの命名法がわかりました。この情報を元に、これまでの課題で利用してきたコードの中でどのようなクラスがあったかを答えてください。\n",
        "\n",
        "\n",
        "Pandas、matplotlib、scikit-learnからそれぞれ1つ以上見つけてください。"
      ]
    },
    {
      "cell_type": "code",
      "metadata": {
        "id": "AIZQLWy6kh6f",
        "outputId": "01061934-0791-4c50-f8c3-057d99d921d9",
        "colab": {
          "base_uri": "https://localhost:8080/"
        }
      },
      "source": [
        "# Pandasのクラスを一部出力\n",
        "import pandas as pd\n",
        "import inspect\n",
        "\n",
        "classes = list(map(lambda x:x[0], inspect.getmembers(pd, inspect.isclass)))\n",
        "classes[:5]"
      ],
      "execution_count": null,
      "outputs": [
        {
          "output_type": "execute_result",
          "data": {
            "text/plain": [
              "['BooleanDtype',\n",
              " 'Categorical',\n",
              " 'CategoricalDtype',\n",
              " 'CategoricalIndex',\n",
              " 'DataFrame']"
            ]
          },
          "metadata": {
            "tags": []
          },
          "execution_count": 11
        }
      ]
    },
    {
      "cell_type": "code",
      "metadata": {
        "id": "pV6H2tXQjoPB",
        "outputId": "69eb7dee-4a97-4575-ea46-db1b9defb5d1",
        "colab": {
          "base_uri": "https://localhost:8080/"
        }
      },
      "source": [
        "# matplotlib\n",
        "import matplotlib\n",
        "classes = list(map(lambda x:x[0], inspect.getmembers(matplotlib, inspect.isclass)))\n",
        "classes[:5]"
      ],
      "execution_count": null,
      "outputs": [
        {
          "output_type": "execute_result",
          "data": {
            "text/plain": [
              "['ExecutableNotFoundError',\n",
              " 'LooseVersion',\n",
              " 'MatplotlibDeprecationWarning',\n",
              " 'MutableMapping',\n",
              " 'Parameter']"
            ]
          },
          "metadata": {
            "tags": []
          },
          "execution_count": 12
        }
      ]
    },
    {
      "cell_type": "markdown",
      "metadata": {
        "id": "h0gPHI1VnQkP"
      },
      "source": [
        "sklearnはdatasetsやmetrics、modelselection、linear_modelなどがあった。"
      ]
    },
    {
      "cell_type": "markdown",
      "metadata": {
        "id": "aQQoe3HCnuHR"
      },
      "source": [
        "**メソッド**\n",
        "\n",
        "インスタンス化を行った後には、scaler.fit(X)のような メソッド の実行ができます。StandardScalerのfitメソッドは後でスケーリングに使われる平均と標準偏差を計算する機能があります。\n",
        "\n",
        "\n",
        "**インスタンス変数（アトリビュート）**\n",
        "\n",
        "fitメソッドにより平均と標準偏差が計算されましたが、見た目には変化があるわけではありません。しかし、scalerインスタンスの内部では計算結果が保存されています。こういったインスタンスの中で値を保存するものを インスタンス変数 や アトリビュート（属性） と呼びます。ここで平均がscaler.mean_、標準偏差の2乗した値である分散がscaler.var_に保存されています。\n",
        "\n",
        "\n",
        "以下のようにprint文で出力させることができます。"
      ]
    },
    {
      "cell_type": "code",
      "metadata": {
        "id": "TR6keOVpkfIy",
        "outputId": "96a7e576-f4d6-4e02-da59-bccac81e868d",
        "colab": {
          "base_uri": "https://localhost:8080/"
        }
      },
      "source": [
        "print(\"平均 : {}\".format(scaler.mean_)) # 平均 : [4.86 3.31 1.45 0.22]\n",
        "print(\"分散 : {}\".format(scaler.var_)) # 分散 : [0.0764 0.0849 0.0105 0.0056]"
      ],
      "execution_count": null,
      "outputs": [
        {
          "output_type": "stream",
          "text": [
            "平均 : [4.86 3.31 1.45 0.22]\n",
            "分散 : [0.0764 0.0849 0.0105 0.0056]\n"
          ],
          "name": "stdout"
        }
      ]
    },
    {
      "cell_type": "markdown",
      "metadata": {
        "id": "2l9CrgCxoWH5"
      },
      "source": [
        "## **【問題2】これまで利用してきたメソッドやインスタンス変数の列挙**\n",
        "これまでの課題で利用してきたコードの中でどのようなメソッドやインスタンス変数があったかを答えてください。\n",
        "\n",
        "\n",
        "最低でもそれぞれ5つ以上答えてください。\n",
        "\n",
        "* メソッド\n",
        "1. ndarray.sum()\n",
        "2.pandas.DataFrame.groupby()\n",
        "3.range()\n",
        "4.zip()\n",
        "5.matplotlib.pyplot.scatter\n",
        "\n",
        "\n",
        "* インスタンス変数\n",
        "1. ndarray.shape\n",
        "2.pandas.DataFrame.columns\n",
        "3.pandas.DataFrame.index\n",
        "4.ndarray.dtype\n",
        "5.ndarray.T\n"
      ]
    },
    {
      "cell_type": "markdown",
      "metadata": {
        "id": "1auYHBKjzWpS"
      },
      "source": [
        "## **【問題3】標準化クラスをスクラッチで作成**\n",
        "ポイント：雛形を元にして、標準化は何をしているのかを調査して、実装しましょう！\n",
        "理解をより深めるため、StandardScalerをスクラッチで作成しましょう。scikit-learnは使わず、NumPyなどを活用して標準化の計算を記述します。具体的にはfitメソッドとtransformメソッドを作ります。"
      ]
    },
    {
      "cell_type": "code",
      "metadata": {
        "id": "dclFbTMAoCIv"
      },
      "source": [
        "class ScratchStandardScaler():\n",
        "    \"\"\"\n",
        "    標準化のためのクラス\n",
        "\n",
        "    Attributes\n",
        "    ----------\n",
        "    mean_ : 次の形のndarray, shape(n_features,)\n",
        "        平均\n",
        "    var_ : 次の形のndarray, shape(n_features,)\n",
        "        分散\n",
        "    \"\"\"\n",
        "    def fit(self, X):\n",
        "        \"\"\"\n",
        "        標準化のために平均と標準偏差を計算する。\n",
        "\n",
        "        Parameters\n",
        "        ----------\n",
        "        X : 次の形のndarray, shape (n_samples, n_features)\n",
        "            訓練データ\n",
        "        \"\"\"\n",
        "        self.mean_ = X.mean(axis=0)\n",
        "        self.var_ = X.var(axis=0)\n",
        "        \n",
        "    def transform(self, X):\n",
        "        \"\"\"\n",
        "        fitで求めた値を使い標準化を行う。\n",
        "\n",
        "        Parameters\n",
        "        ----------\n",
        "        X : 次の形のndarray, shape (n_samples, n_features)\n",
        "            特徴量\n",
        "\n",
        "        Returns\n",
        "        ----------\n",
        "        X_scaled : 次の形のndarray, shape (n_samples, n_features)\n",
        "            標準化された特緒量\n",
        "        \"\"\"\n",
        "        #説明変数-その列の平均値 / 各列の標準偏差の平方根\n",
        "        X_scaled = (X - self.mean_) / np.sqrt(self.var_)\n",
        "        return X_scaled"
      ],
      "execution_count": 58,
      "outputs": []
    },
    {
      "cell_type": "code",
      "metadata": {
        "id": "HBRynx_7vCWv",
        "outputId": "a4e459b4-4c9d-42cf-e6b3-363e45384c03",
        "colab": {
          "base_uri": "https://localhost:8080/"
        }
      },
      "source": [
        "scratch_scaler = ScratchStandardScaler()\n",
        "scratch_scaler.fit(X)\n",
        "print(\"平均 :\", scratch_scaler.mean_)\n",
        "print(\"分散 :\", scratch_scaler.var_)\n",
        "X_std = scratch_scaler.transform(X)\n",
        "print(X_std)\n",
        "\n",
        "print('X_std mean: {:.1f}, std: {:.1f}'.format(X_std.mean(), X_std.var()))"
      ],
      "execution_count": 59,
      "outputs": [
        {
          "output_type": "stream",
          "text": [
            "平均 : [4.86 3.31 1.45 0.22]\n",
            "分散 : [0.0764 0.0849 0.0105 0.0056]\n",
            "[[ 0.86828953  0.65207831 -0.48795004 -0.26726124]\n",
            " [ 0.14471492 -1.06391725 -0.48795004 -0.26726124]\n",
            " [-0.57885968 -0.37751902 -1.46385011 -0.26726124]\n",
            " [-0.94064699 -0.72071813  0.48795004 -0.26726124]\n",
            " [ 0.50650222  0.99527742 -0.48795004 -0.26726124]\n",
            " [ 1.95365143  2.02487476  2.43975018  2.40535118]\n",
            " [-0.94064699  0.3088792  -0.48795004  1.06904497]\n",
            " [ 0.50650222  0.3088792   0.48795004 -0.26726124]\n",
            " [-1.66422159 -1.40711636 -0.48795004 -0.26726124]\n",
            " [ 0.14471492 -0.72071813  0.48795004 -1.60356745]]\n",
            "X_std mean: 0.0, std: 1.0\n"
          ],
          "name": "stdout"
        }
      ]
    },
    {
      "cell_type": "code",
      "metadata": {
        "id": "8yhIsIyl4HT_",
        "outputId": "81859d7a-4745-4d54-9b0f-1bfff2a1496e",
        "colab": {
          "base_uri": "https://localhost:8080/"
        }
      },
      "source": [
        "# 既存の標準化メソッドと出力の比較\n",
        "scaler = StandardScaler()\n",
        "scaler.fit(X)\n",
        "print(\"平均 :\", scaler.mean_)\n",
        "print(\"分散 :\", scaler.var_)\n",
        "X_std = scaler.transform(X)\n",
        "print(X_std)"
      ],
      "execution_count": 60,
      "outputs": [
        {
          "output_type": "stream",
          "text": [
            "平均 : [4.86 3.31 1.45 0.22]\n",
            "分散 : [0.0764 0.0849 0.0105 0.0056]\n",
            "[[ 0.86828953  0.65207831 -0.48795004 -0.26726124]\n",
            " [ 0.14471492 -1.06391725 -0.48795004 -0.26726124]\n",
            " [-0.57885968 -0.37751902 -1.46385011 -0.26726124]\n",
            " [-0.94064699 -0.72071813  0.48795004 -0.26726124]\n",
            " [ 0.50650222  0.99527742 -0.48795004 -0.26726124]\n",
            " [ 1.95365143  2.02487476  2.43975018  2.40535118]\n",
            " [-0.94064699  0.3088792  -0.48795004  1.06904497]\n",
            " [ 0.50650222  0.3088792   0.48795004 -0.26726124]\n",
            " [-1.66422159 -1.40711636 -0.48795004 -0.26726124]\n",
            " [ 0.14471492 -0.72071813  0.48795004 -1.60356745]]\n"
          ],
          "name": "stdout"
        }
      ]
    },
    {
      "cell_type": "markdown",
      "metadata": {
        "id": "RI-RsVSZ4zPt"
      },
      "source": [
        "## **【問題4】 四則演算を行うクラスの作成**\n",
        "上記ExampleClassは足し算のメソッドを持っていますが、これに引き算、掛け算、割り算のメソッドを加えてください。\n",
        "\n",
        "\n",
        "コンストラクタに入力されたvalueが文字列や配列など数値以外だった場合にはエラーを出すようにしてください。\n",
        "\n",
        "\n",
        "クラス名や説明文も適切に書き換えてください。"
      ]
    },
    {
      "cell_type": "code",
      "metadata": {
        "id": "A02fr8Qi-ZSp"
      },
      "source": [
        "import warnings"
      ],
      "execution_count": 66,
      "outputs": []
    },
    {
      "cell_type": "code",
      "metadata": {
        "id": "UTETLvSt4W4R",
        "outputId": "1818f6eb-6f5a-4511-f61a-47b10482c55d",
        "colab": {
          "base_uri": "https://localhost:8080/"
        }
      },
      "source": [
        "class FourArithmeticOperations():\n",
        "    \"\"\"\n",
        "    四則演算するクラス。\n",
        "    引数を初期値に設定。\n",
        "    計算後は更新されるので注意。\n",
        "    例）　\n",
        "    example = FourArithmeticOperations(5)\n",
        "    example.add(3)\n",
        "    ==> 8\n",
        "\n",
        "    Parameters\n",
        "    ----------\n",
        "    value : float or int\n",
        "        初期値\n",
        "\n",
        "    Attributes\n",
        "    ----------\n",
        "    value : float or int\n",
        "        計算結果\n",
        "    \"\"\"\n",
        "    def __init__(self, value):\n",
        "        try:\n",
        "            value+1\n",
        "            self.value = value\n",
        "            print(\"初期値{}が設定されました\".format(self.value))\n",
        "        except TypeError:\n",
        "            print('数値を渡してください！！')\n",
        "    def add(self, value):\n",
        "        \"\"\"\n",
        "        受け取った引数をself.valueに加える\n",
        "        \"\"\"\n",
        "        try:\n",
        "            value+1\n",
        "            self.value += value\n",
        "        except TypeError:\n",
        "            print('数値を渡してください！！')\n",
        "    def sub(self, value):\n",
        "        \"\"\"\n",
        "        受け取った引数をself.valueに引き算する\n",
        "        \"\"\"\n",
        "        try:\n",
        "            value+1\n",
        "            self.value -= value\n",
        "        except TypeError:\n",
        "            print('数値を渡してください！！')\n",
        "    def mul(self, value):\n",
        "        \"\"\"\n",
        "        受け取った引数をself.valueに掛け算する\n",
        "        \"\"\"\n",
        "        try:\n",
        "            value+1\n",
        "            self.value *= value\n",
        "        except TypeError:\n",
        "            print('数値を渡してください！！')\n",
        "    def div(self, value):\n",
        "        \"\"\"\n",
        "        受け取った引数をself.valueに割り算する\n",
        "        \"\"\"\n",
        "        try:\n",
        "            value+1\n",
        "            self.value /= value\n",
        "        except TypeError:\n",
        "            print('数値を渡してください！！')\n",
        "\n",
        "example = FourArithmeticOperations(5)\n",
        "print(\"value : {}\".format(example.value))\n",
        "example.add(3)\n",
        "print(\"value : {}\".format(example.value))\n",
        "example.sub(4)\n",
        "print(\"value : {}\".format(example.value))\n",
        "example.mul(2)\n",
        "print(\"value : {}\".format(example.value))\n",
        "example.div(3)\n",
        "print(\"value : {}\".format(example.value))"
      ],
      "execution_count": 95,
      "outputs": [
        {
          "output_type": "stream",
          "text": [
            "初期値5が設定されました\n",
            "value : 5\n",
            "value : 8\n",
            "value : 4\n",
            "value : 8\n",
            "value : 2.6666666666666665\n"
          ],
          "name": "stdout"
        }
      ]
    },
    {
      "cell_type": "code",
      "metadata": {
        "id": "iT-HnkPP-eFw",
        "outputId": "2b19ebd8-ef7b-4908-b8bf-66061d7b985a",
        "colab": {
          "base_uri": "https://localhost:8080/"
        }
      },
      "source": [
        "# エラーメッセージの表示確認\n",
        "example2 = FourArithmeticOperations(\"aaa\")\n",
        "example2 = FourArithmeticOperations(2)\n",
        "example2.add('吉田')\n",
        "example2.sub('岡本')\n",
        "example2.mul('apple')\n",
        "example2.div([1, 2, 3, 4])"
      ],
      "execution_count": 96,
      "outputs": [
        {
          "output_type": "stream",
          "text": [
            "数値を渡してください！！\n",
            "初期値2が設定されました\n",
            "数値を渡してください！！\n",
            "数値を渡してください！！\n",
            "数値を渡してください！！\n",
            "数値を渡してください！！\n"
          ],
          "name": "stdout"
        }
      ]
    },
    {
      "cell_type": "markdown",
      "metadata": {
        "id": "pKnfF4ZQFE55"
      },
      "source": [
        "## **感想**\n",
        "progateでクラスの概念を少しだけ知っていたので、学習する上での抵抗感はなかった。が、課題に取り組んでる時やテキスト学習している時など、頭が一杯いっぱいの状態で自作するのは、現状はまだ難しいと感じた。"
      ]
    }
  ]
}