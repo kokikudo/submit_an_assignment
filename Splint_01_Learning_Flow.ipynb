{
  "nbformat": 4,
  "nbformat_minor": 0,
  "metadata": {
    "colab": {
      "name": "Splint_01_Learning_Flow.ipynb",
      "provenance": [],
      "collapsed_sections": [],
      "include_colab_link": true
    },
    "kernelspec": {
      "display_name": "Python 3",
      "language": "python",
      "name": "python3"
    },
    "language_info": {
      "codemirror_mode": {
        "name": "ipython",
        "version": 3
      },
      "file_extension": ".py",
      "mimetype": "text/x-python",
      "name": "python",
      "nbconvert_exporter": "python",
      "pygments_lexer": "ipython3",
      "version": "3.7.9"
    }
  },
  "cells": [
    {
      "cell_type": "markdown",
      "metadata": {
        "id": "view-in-github",
        "colab_type": "text"
      },
      "source": [
        "<a href=\"https://colab.research.google.com/github/kokikudo/submit_an_assignment/blob/master/Splint_01_Learning_Flow.ipynb\" target=\"_parent\"><img src=\"https://colab.research.google.com/assets/colab-badge.svg\" alt=\"Open In Colab\"/></a>"
      ]
    },
    {
      "cell_type": "code",
      "metadata": {
        "id": "2g27GYgj9_IR"
      },
      "source": [
        "import numpy as np\n",
        "import pandas as pd \n",
        "import matplotlib.pyplot as plt\n",
        "import seaborn as sns\n",
        "import my_functions"
      ],
      "execution_count": null,
      "outputs": []
    },
    {
      "cell_type": "code",
      "metadata": {
        "id": "ezzBTh3M_Gn9",
        "outputId": "75ad09f3-4cda-4343-e26a-74dd15f35b8e",
        "colab": {
          "base_uri": "https://localhost:8080/"
        }
      },
      "source": [
        "app_train = pd.read_csv('/Users/kudokoki/dive-practice/downroad_data_sets/HomeCresit/application_train.csv')\n",
        "print('Training data shape: ', app_train.shape)"
      ],
      "execution_count": null,
      "outputs": [
        {
          "output_type": "stream",
          "text": [
            "Training data shape:  (307511, 122)\n"
          ],
          "name": "stdout"
        }
      ]
    },
    {
      "cell_type": "code",
      "metadata": {
        "id": "ZbbUIRUw_JmS",
        "outputId": "4dfb18d0-9f56-4e4a-87fd-fa53596d924a",
        "colab": {
          "base_uri": "https://localhost:8080/"
        }
      },
      "source": [
        "# トレインデータの確認\n",
        "app_train.describe()"
      ],
      "execution_count": null,
      "outputs": [
        {
          "output_type": "execute_result",
          "data": {
            "text/html": [
              "<div>\n",
              "<style scoped>\n",
              "    .dataframe tbody tr th:only-of-type {\n",
              "        vertical-align: middle;\n",
              "    }\n",
              "\n",
              "    .dataframe tbody tr th {\n",
              "        vertical-align: top;\n",
              "    }\n",
              "\n",
              "    .dataframe thead th {\n",
              "        text-align: right;\n",
              "    }\n",
              "</style>\n",
              "<table border=\"1\" class=\"dataframe\">\n",
              "  <thead>\n",
              "    <tr style=\"text-align: right;\">\n",
              "      <th></th>\n",
              "      <th>SK_ID_CURR</th>\n",
              "      <th>TARGET</th>\n",
              "      <th>CNT_CHILDREN</th>\n",
              "      <th>AMT_INCOME_TOTAL</th>\n",
              "      <th>AMT_CREDIT</th>\n",
              "      <th>AMT_ANNUITY</th>\n",
              "      <th>AMT_GOODS_PRICE</th>\n",
              "      <th>REGION_POPULATION_RELATIVE</th>\n",
              "      <th>DAYS_BIRTH</th>\n",
              "      <th>DAYS_EMPLOYED</th>\n",
              "      <th>...</th>\n",
              "      <th>FLAG_DOCUMENT_18</th>\n",
              "      <th>FLAG_DOCUMENT_19</th>\n",
              "      <th>FLAG_DOCUMENT_20</th>\n",
              "      <th>FLAG_DOCUMENT_21</th>\n",
              "      <th>AMT_REQ_CREDIT_BUREAU_HOUR</th>\n",
              "      <th>AMT_REQ_CREDIT_BUREAU_DAY</th>\n",
              "      <th>AMT_REQ_CREDIT_BUREAU_WEEK</th>\n",
              "      <th>AMT_REQ_CREDIT_BUREAU_MON</th>\n",
              "      <th>AMT_REQ_CREDIT_BUREAU_QRT</th>\n",
              "      <th>AMT_REQ_CREDIT_BUREAU_YEAR</th>\n",
              "    </tr>\n",
              "  </thead>\n",
              "  <tbody>\n",
              "    <tr>\n",
              "      <th>count</th>\n",
              "      <td>307511.000000</td>\n",
              "      <td>307511.000000</td>\n",
              "      <td>307511.000000</td>\n",
              "      <td>3.075110e+05</td>\n",
              "      <td>3.075110e+05</td>\n",
              "      <td>307499.000000</td>\n",
              "      <td>3.072330e+05</td>\n",
              "      <td>307511.000000</td>\n",
              "      <td>307511.000000</td>\n",
              "      <td>307511.000000</td>\n",
              "      <td>...</td>\n",
              "      <td>307511.000000</td>\n",
              "      <td>307511.000000</td>\n",
              "      <td>307511.000000</td>\n",
              "      <td>307511.000000</td>\n",
              "      <td>265992.000000</td>\n",
              "      <td>265992.000000</td>\n",
              "      <td>265992.000000</td>\n",
              "      <td>265992.000000</td>\n",
              "      <td>265992.000000</td>\n",
              "      <td>265992.000000</td>\n",
              "    </tr>\n",
              "    <tr>\n",
              "      <th>mean</th>\n",
              "      <td>278180.518577</td>\n",
              "      <td>0.080729</td>\n",
              "      <td>0.417052</td>\n",
              "      <td>1.687979e+05</td>\n",
              "      <td>5.990260e+05</td>\n",
              "      <td>27108.573909</td>\n",
              "      <td>5.383962e+05</td>\n",
              "      <td>0.020868</td>\n",
              "      <td>-16036.995067</td>\n",
              "      <td>63815.045904</td>\n",
              "      <td>...</td>\n",
              "      <td>0.008130</td>\n",
              "      <td>0.000595</td>\n",
              "      <td>0.000507</td>\n",
              "      <td>0.000335</td>\n",
              "      <td>0.006402</td>\n",
              "      <td>0.007000</td>\n",
              "      <td>0.034362</td>\n",
              "      <td>0.267395</td>\n",
              "      <td>0.265474</td>\n",
              "      <td>1.899974</td>\n",
              "    </tr>\n",
              "    <tr>\n",
              "      <th>std</th>\n",
              "      <td>102790.175348</td>\n",
              "      <td>0.272419</td>\n",
              "      <td>0.722121</td>\n",
              "      <td>2.371231e+05</td>\n",
              "      <td>4.024908e+05</td>\n",
              "      <td>14493.737315</td>\n",
              "      <td>3.694465e+05</td>\n",
              "      <td>0.013831</td>\n",
              "      <td>4363.988632</td>\n",
              "      <td>141275.766519</td>\n",
              "      <td>...</td>\n",
              "      <td>0.089798</td>\n",
              "      <td>0.024387</td>\n",
              "      <td>0.022518</td>\n",
              "      <td>0.018299</td>\n",
              "      <td>0.083849</td>\n",
              "      <td>0.110757</td>\n",
              "      <td>0.204685</td>\n",
              "      <td>0.916002</td>\n",
              "      <td>0.794056</td>\n",
              "      <td>1.869295</td>\n",
              "    </tr>\n",
              "    <tr>\n",
              "      <th>min</th>\n",
              "      <td>100002.000000</td>\n",
              "      <td>0.000000</td>\n",
              "      <td>0.000000</td>\n",
              "      <td>2.565000e+04</td>\n",
              "      <td>4.500000e+04</td>\n",
              "      <td>1615.500000</td>\n",
              "      <td>4.050000e+04</td>\n",
              "      <td>0.000290</td>\n",
              "      <td>-25229.000000</td>\n",
              "      <td>-17912.000000</td>\n",
              "      <td>...</td>\n",
              "      <td>0.000000</td>\n",
              "      <td>0.000000</td>\n",
              "      <td>0.000000</td>\n",
              "      <td>0.000000</td>\n",
              "      <td>0.000000</td>\n",
              "      <td>0.000000</td>\n",
              "      <td>0.000000</td>\n",
              "      <td>0.000000</td>\n",
              "      <td>0.000000</td>\n",
              "      <td>0.000000</td>\n",
              "    </tr>\n",
              "    <tr>\n",
              "      <th>25%</th>\n",
              "      <td>189145.500000</td>\n",
              "      <td>0.000000</td>\n",
              "      <td>0.000000</td>\n",
              "      <td>1.125000e+05</td>\n",
              "      <td>2.700000e+05</td>\n",
              "      <td>16524.000000</td>\n",
              "      <td>2.385000e+05</td>\n",
              "      <td>0.010006</td>\n",
              "      <td>-19682.000000</td>\n",
              "      <td>-2760.000000</td>\n",
              "      <td>...</td>\n",
              "      <td>0.000000</td>\n",
              "      <td>0.000000</td>\n",
              "      <td>0.000000</td>\n",
              "      <td>0.000000</td>\n",
              "      <td>0.000000</td>\n",
              "      <td>0.000000</td>\n",
              "      <td>0.000000</td>\n",
              "      <td>0.000000</td>\n",
              "      <td>0.000000</td>\n",
              "      <td>0.000000</td>\n",
              "    </tr>\n",
              "    <tr>\n",
              "      <th>50%</th>\n",
              "      <td>278202.000000</td>\n",
              "      <td>0.000000</td>\n",
              "      <td>0.000000</td>\n",
              "      <td>1.471500e+05</td>\n",
              "      <td>5.135310e+05</td>\n",
              "      <td>24903.000000</td>\n",
              "      <td>4.500000e+05</td>\n",
              "      <td>0.018850</td>\n",
              "      <td>-15750.000000</td>\n",
              "      <td>-1213.000000</td>\n",
              "      <td>...</td>\n",
              "      <td>0.000000</td>\n",
              "      <td>0.000000</td>\n",
              "      <td>0.000000</td>\n",
              "      <td>0.000000</td>\n",
              "      <td>0.000000</td>\n",
              "      <td>0.000000</td>\n",
              "      <td>0.000000</td>\n",
              "      <td>0.000000</td>\n",
              "      <td>0.000000</td>\n",
              "      <td>1.000000</td>\n",
              "    </tr>\n",
              "    <tr>\n",
              "      <th>75%</th>\n",
              "      <td>367142.500000</td>\n",
              "      <td>0.000000</td>\n",
              "      <td>1.000000</td>\n",
              "      <td>2.025000e+05</td>\n",
              "      <td>8.086500e+05</td>\n",
              "      <td>34596.000000</td>\n",
              "      <td>6.795000e+05</td>\n",
              "      <td>0.028663</td>\n",
              "      <td>-12413.000000</td>\n",
              "      <td>-289.000000</td>\n",
              "      <td>...</td>\n",
              "      <td>0.000000</td>\n",
              "      <td>0.000000</td>\n",
              "      <td>0.000000</td>\n",
              "      <td>0.000000</td>\n",
              "      <td>0.000000</td>\n",
              "      <td>0.000000</td>\n",
              "      <td>0.000000</td>\n",
              "      <td>0.000000</td>\n",
              "      <td>0.000000</td>\n",
              "      <td>3.000000</td>\n",
              "    </tr>\n",
              "    <tr>\n",
              "      <th>max</th>\n",
              "      <td>456255.000000</td>\n",
              "      <td>1.000000</td>\n",
              "      <td>19.000000</td>\n",
              "      <td>1.170000e+08</td>\n",
              "      <td>4.050000e+06</td>\n",
              "      <td>258025.500000</td>\n",
              "      <td>4.050000e+06</td>\n",
              "      <td>0.072508</td>\n",
              "      <td>-7489.000000</td>\n",
              "      <td>365243.000000</td>\n",
              "      <td>...</td>\n",
              "      <td>1.000000</td>\n",
              "      <td>1.000000</td>\n",
              "      <td>1.000000</td>\n",
              "      <td>1.000000</td>\n",
              "      <td>4.000000</td>\n",
              "      <td>9.000000</td>\n",
              "      <td>8.000000</td>\n",
              "      <td>27.000000</td>\n",
              "      <td>261.000000</td>\n",
              "      <td>25.000000</td>\n",
              "    </tr>\n",
              "  </tbody>\n",
              "</table>\n",
              "<p>8 rows × 106 columns</p>\n",
              "</div>"
            ],
            "text/plain": [
              "          SK_ID_CURR         TARGET   CNT_CHILDREN  AMT_INCOME_TOTAL  \\\n",
              "count  307511.000000  307511.000000  307511.000000      3.075110e+05   \n",
              "mean   278180.518577       0.080729       0.417052      1.687979e+05   \n",
              "std    102790.175348       0.272419       0.722121      2.371231e+05   \n",
              "min    100002.000000       0.000000       0.000000      2.565000e+04   \n",
              "25%    189145.500000       0.000000       0.000000      1.125000e+05   \n",
              "50%    278202.000000       0.000000       0.000000      1.471500e+05   \n",
              "75%    367142.500000       0.000000       1.000000      2.025000e+05   \n",
              "max    456255.000000       1.000000      19.000000      1.170000e+08   \n",
              "\n",
              "         AMT_CREDIT    AMT_ANNUITY  AMT_GOODS_PRICE  \\\n",
              "count  3.075110e+05  307499.000000     3.072330e+05   \n",
              "mean   5.990260e+05   27108.573909     5.383962e+05   \n",
              "std    4.024908e+05   14493.737315     3.694465e+05   \n",
              "min    4.500000e+04    1615.500000     4.050000e+04   \n",
              "25%    2.700000e+05   16524.000000     2.385000e+05   \n",
              "50%    5.135310e+05   24903.000000     4.500000e+05   \n",
              "75%    8.086500e+05   34596.000000     6.795000e+05   \n",
              "max    4.050000e+06  258025.500000     4.050000e+06   \n",
              "\n",
              "       REGION_POPULATION_RELATIVE     DAYS_BIRTH  DAYS_EMPLOYED  ...  \\\n",
              "count               307511.000000  307511.000000  307511.000000  ...   \n",
              "mean                     0.020868  -16036.995067   63815.045904  ...   \n",
              "std                      0.013831    4363.988632  141275.766519  ...   \n",
              "min                      0.000290  -25229.000000  -17912.000000  ...   \n",
              "25%                      0.010006  -19682.000000   -2760.000000  ...   \n",
              "50%                      0.018850  -15750.000000   -1213.000000  ...   \n",
              "75%                      0.028663  -12413.000000    -289.000000  ...   \n",
              "max                      0.072508   -7489.000000  365243.000000  ...   \n",
              "\n",
              "       FLAG_DOCUMENT_18  FLAG_DOCUMENT_19  FLAG_DOCUMENT_20  FLAG_DOCUMENT_21  \\\n",
              "count     307511.000000     307511.000000     307511.000000     307511.000000   \n",
              "mean           0.008130          0.000595          0.000507          0.000335   \n",
              "std            0.089798          0.024387          0.022518          0.018299   \n",
              "min            0.000000          0.000000          0.000000          0.000000   \n",
              "25%            0.000000          0.000000          0.000000          0.000000   \n",
              "50%            0.000000          0.000000          0.000000          0.000000   \n",
              "75%            0.000000          0.000000          0.000000          0.000000   \n",
              "max            1.000000          1.000000          1.000000          1.000000   \n",
              "\n",
              "       AMT_REQ_CREDIT_BUREAU_HOUR  AMT_REQ_CREDIT_BUREAU_DAY  \\\n",
              "count               265992.000000              265992.000000   \n",
              "mean                     0.006402                   0.007000   \n",
              "std                      0.083849                   0.110757   \n",
              "min                      0.000000                   0.000000   \n",
              "25%                      0.000000                   0.000000   \n",
              "50%                      0.000000                   0.000000   \n",
              "75%                      0.000000                   0.000000   \n",
              "max                      4.000000                   9.000000   \n",
              "\n",
              "       AMT_REQ_CREDIT_BUREAU_WEEK  AMT_REQ_CREDIT_BUREAU_MON  \\\n",
              "count               265992.000000              265992.000000   \n",
              "mean                     0.034362                   0.267395   \n",
              "std                      0.204685                   0.916002   \n",
              "min                      0.000000                   0.000000   \n",
              "25%                      0.000000                   0.000000   \n",
              "50%                      0.000000                   0.000000   \n",
              "75%                      0.000000                   0.000000   \n",
              "max                      8.000000                  27.000000   \n",
              "\n",
              "       AMT_REQ_CREDIT_BUREAU_QRT  AMT_REQ_CREDIT_BUREAU_YEAR  \n",
              "count              265992.000000               265992.000000  \n",
              "mean                    0.265474                    1.899974  \n",
              "std                     0.794056                    1.869295  \n",
              "min                     0.000000                    0.000000  \n",
              "25%                     0.000000                    0.000000  \n",
              "50%                     0.000000                    1.000000  \n",
              "75%                     0.000000                    3.000000  \n",
              "max                   261.000000                   25.000000  \n",
              "\n",
              "[8 rows x 106 columns]"
            ]
          },
          "metadata": {
            "tags": []
          },
          "execution_count": 3
        }
      ]
    },
    {
      "cell_type": "code",
      "metadata": {
        "id": "LDhRkGY0_dFo",
        "outputId": "15e4f05d-1e7d-47d9-8dbd-be6c4526c499",
        "colab": {
          "base_uri": "https://localhost:8080/"
        }
      },
      "source": [
        "# 数値以外の列を確認\n",
        "app_train_object = app_train.select_dtypes('object').columns.tolist()\n",
        "print('objectの数:',len(app_train_object))\n",
        "print(app_train_object)"
      ],
      "execution_count": null,
      "outputs": [
        {
          "output_type": "stream",
          "text": [
            "objectの数: 16\n",
            "['NAME_CONTRACT_TYPE', 'CODE_GENDER', 'FLAG_OWN_CAR', 'FLAG_OWN_REALTY', 'NAME_TYPE_SUITE', 'NAME_INCOME_TYPE', 'NAME_EDUCATION_TYPE', 'NAME_FAMILY_STATUS', 'NAME_HOUSING_TYPE', 'OCCUPATION_TYPE', 'WEEKDAY_APPR_PROCESS_START', 'ORGANIZATION_TYPE', 'FONDKAPREMONT_MODE', 'HOUSETYPE_MODE', 'WALLSMATERIAL_MODE', 'EMERGENCYSTATE_MODE']\n"
          ],
          "name": "stdout"
        }
      ]
    },
    {
      "cell_type": "code",
      "metadata": {
        "id": "apM2PoVy_flb",
        "outputId": "7bf35eed-3de0-4f5c-a1c1-67f8cb62ffad",
        "colab": {
          "base_uri": "https://localhost:8080/",
          "height": 360
        }
      },
      "source": [
        "# 欠損値を確認\n",
        "def missing_values_table(df):\n",
        "        # Total missing values\n",
        "        mis_val = df.isnull().sum()\n",
        "        \n",
        "        # Percentage of missing values\n",
        "        mis_val_percent = 100 * df.isnull().sum() / len(df)\n",
        "        \n",
        "        # Make a table with the results\n",
        "        mis_val_table = pd.concat([mis_val, mis_val_percent], axis=1)\n",
        "        \n",
        "        # Rename the columns\n",
        "        mis_val_table_ren_columns = mis_val_table.rename(\n",
        "        columns = {0 : 'Missing Values', 1 : '% of Total Values'})\n",
        "        \n",
        "        # Sort the table by percentage of missing descending\n",
        "        mis_val_table_ren_columns = mis_val_table_ren_columns[\n",
        "            mis_val_table_ren_columns.iloc[:,1] != 0].sort_values(\n",
        "        '% of Total Values', ascending=False).round(1)\n",
        "        \n",
        "        # Print some summary information\n",
        "        print (\"Your selected dataframe has \" + str(df.shape[1]) + \" columns.\\n\"      \n",
        "            \"There are \" + str(mis_val_table_ren_columns.shape[0]) +\n",
        "              \" columns that have missing values.\")\n",
        "        \n",
        "        # Return the dataframe with missing information\n",
        "        return mis_val_table_ren_columns\n",
        "    \n",
        "missing_df = missing_values_table(app_train)\n",
        "\n",
        "print('欠損値を含む列数:',len(missing_df))\n",
        "missing_df.head(10)"
      ],
      "execution_count": null,
      "outputs": [
        {
          "output_type": "stream",
          "text": [
            "Your selected dataframe has 122 columns.\n",
            "There are 67 columns that have missing values.\n",
            "欠損値を含む列数: 67\n"
          ],
          "name": "stdout"
        },
        {
          "output_type": "execute_result",
          "data": {
            "text/html": [
              "<div>\n",
              "<style scoped>\n",
              "    .dataframe tbody tr th:only-of-type {\n",
              "        vertical-align: middle;\n",
              "    }\n",
              "\n",
              "    .dataframe tbody tr th {\n",
              "        vertical-align: top;\n",
              "    }\n",
              "\n",
              "    .dataframe thead th {\n",
              "        text-align: right;\n",
              "    }\n",
              "</style>\n",
              "<table border=\"1\" class=\"dataframe\">\n",
              "  <thead>\n",
              "    <tr style=\"text-align: right;\">\n",
              "      <th></th>\n",
              "      <th>Missing Values</th>\n",
              "      <th>% of Total Values</th>\n",
              "    </tr>\n",
              "  </thead>\n",
              "  <tbody>\n",
              "    <tr>\n",
              "      <th>COMMONAREA_MEDI</th>\n",
              "      <td>214865</td>\n",
              "      <td>69.9</td>\n",
              "    </tr>\n",
              "    <tr>\n",
              "      <th>COMMONAREA_AVG</th>\n",
              "      <td>214865</td>\n",
              "      <td>69.9</td>\n",
              "    </tr>\n",
              "    <tr>\n",
              "      <th>COMMONAREA_MODE</th>\n",
              "      <td>214865</td>\n",
              "      <td>69.9</td>\n",
              "    </tr>\n",
              "    <tr>\n",
              "      <th>NONLIVINGAPARTMENTS_MEDI</th>\n",
              "      <td>213514</td>\n",
              "      <td>69.4</td>\n",
              "    </tr>\n",
              "    <tr>\n",
              "      <th>NONLIVINGAPARTMENTS_MODE</th>\n",
              "      <td>213514</td>\n",
              "      <td>69.4</td>\n",
              "    </tr>\n",
              "    <tr>\n",
              "      <th>NONLIVINGAPARTMENTS_AVG</th>\n",
              "      <td>213514</td>\n",
              "      <td>69.4</td>\n",
              "    </tr>\n",
              "    <tr>\n",
              "      <th>FONDKAPREMONT_MODE</th>\n",
              "      <td>210295</td>\n",
              "      <td>68.4</td>\n",
              "    </tr>\n",
              "    <tr>\n",
              "      <th>LIVINGAPARTMENTS_MODE</th>\n",
              "      <td>210199</td>\n",
              "      <td>68.4</td>\n",
              "    </tr>\n",
              "    <tr>\n",
              "      <th>LIVINGAPARTMENTS_MEDI</th>\n",
              "      <td>210199</td>\n",
              "      <td>68.4</td>\n",
              "    </tr>\n",
              "    <tr>\n",
              "      <th>LIVINGAPARTMENTS_AVG</th>\n",
              "      <td>210199</td>\n",
              "      <td>68.4</td>\n",
              "    </tr>\n",
              "  </tbody>\n",
              "</table>\n",
              "</div>"
            ],
            "text/plain": [
              "                          Missing Values  % of Total Values\n",
              "COMMONAREA_MEDI                   214865               69.9\n",
              "COMMONAREA_AVG                    214865               69.9\n",
              "COMMONAREA_MODE                   214865               69.9\n",
              "NONLIVINGAPARTMENTS_MEDI          213514               69.4\n",
              "NONLIVINGAPARTMENTS_MODE          213514               69.4\n",
              "NONLIVINGAPARTMENTS_AVG           213514               69.4\n",
              "FONDKAPREMONT_MODE                210295               68.4\n",
              "LIVINGAPARTMENTS_MODE             210199               68.4\n",
              "LIVINGAPARTMENTS_MEDI             210199               68.4\n",
              "LIVINGAPARTMENTS_AVG              210199               68.4"
            ]
          },
          "metadata": {
            "tags": []
          },
          "execution_count": 5
        }
      ]
    },
    {
      "cell_type": "code",
      "metadata": {
        "id": "wyRDH-xP_uIM",
        "outputId": "ae9c59e2-04b4-49cb-aa14-edf2b1f74789",
        "colab": {
          "base_uri": "https://localhost:8080/"
        }
      },
      "source": [
        "#TARGETの相関係数を確認\n",
        "corr = my_functions.corr_to_one_feature(app_train, 'TARGET')\n",
        "\n",
        "print(corr.head(5))\n",
        "print(corr.tail(5))"
      ],
      "execution_count": null,
      "outputs": [
        {
          "output_type": "stream",
          "text": [
            "TARGET                         1.000000\n",
            "DAYS_BIRTH                     0.078239\n",
            "REGION_RATING_CLIENT_W_CITY    0.060893\n",
            "REGION_RATING_CLIENT           0.058899\n",
            "DAYS_LAST_PHONE_CHANGE         0.055218\n",
            "Name: TARGET, dtype: float64\n",
            "FLOORSMAX_AVG   -0.044003\n",
            "DAYS_EMPLOYED   -0.044932\n",
            "EXT_SOURCE_1    -0.155317\n",
            "EXT_SOURCE_2    -0.160472\n",
            "EXT_SOURCE_3    -0.178919\n",
            "Name: TARGET, dtype: float64\n"
          ],
          "name": "stdout"
        }
      ]
    },
    {
      "cell_type": "code",
      "metadata": {
        "id": "kUAnX0on_zkO"
      },
      "source": [
        "# ターゲット1と相関が高い3つを学習させる\n",
        "feature = ['DAYS_BIRTH','REGION_RATING_CLIENT_W_CITY']\n",
        "\n",
        "X = app_train[feature].values\n",
        "y = app_train['TARGET'].values"
      ],
      "execution_count": null,
      "outputs": []
    },
    {
      "cell_type": "code",
      "metadata": {
        "id": "4UTD5FIQ_4sp"
      },
      "source": [
        "# 訓練データと、検証データに分割（75:25）\n",
        "from sklearn.model_selection import train_test_split\n",
        "\n",
        "X_train, X_valid, y_train, y_valid = \\\n",
        "train_test_split(X, y, test_size=0.25, random_state=0)"
      ],
      "execution_count": null,
      "outputs": []
    },
    {
      "cell_type": "code",
      "metadata": {
        "id": "PIhES_HS_82A",
        "outputId": "c01bce03-8110-4ab8-cd61-2616507f30df",
        "colab": {
          "base_uri": "https://localhost:8080/"
        }
      },
      "source": [
        "print('X_train.shape:',X_train.shape)\n",
        "print('X_valid.shpae:',X_valid.shape)\n",
        "print('y_train.shpae:',y_train.shape)\n",
        "print('y_valid.shpae:',y_valid.shape)"
      ],
      "execution_count": null,
      "outputs": [
        {
          "output_type": "stream",
          "text": [
            "X_train.shape: (230633, 2)\n",
            "X_valid.shpae: (76878, 2)\n",
            "y_train.shpae: (230633,)\n",
            "y_valid.shpae: (76878,)\n"
          ],
          "name": "stdout"
        }
      ]
    },
    {
      "cell_type": "code",
      "metadata": {
        "id": "zoGjqfLaAOhW",
        "outputId": "c62c5a12-6a68-41ce-a119-e1521411c853",
        "colab": {
          "base_uri": "https://localhost:8080/",
          "height": 311
        }
      },
      "source": [
        "# testデータの読み込み\n",
        "app_test = pd.read_csv('/Users/kudokoki/dive-practice/downroad_data_sets/HomeCresit/application_test.csv')\n",
        "print('Training data shape: ', app_test.shape)\n",
        "app_test.head()"
      ],
      "execution_count": null,
      "outputs": [
        {
          "output_type": "stream",
          "text": [
            "Training data shape:  (48744, 121)\n"
          ],
          "name": "stdout"
        },
        {
          "output_type": "execute_result",
          "data": {
            "text/html": [
              "<div>\n",
              "<style scoped>\n",
              "    .dataframe tbody tr th:only-of-type {\n",
              "        vertical-align: middle;\n",
              "    }\n",
              "\n",
              "    .dataframe tbody tr th {\n",
              "        vertical-align: top;\n",
              "    }\n",
              "\n",
              "    .dataframe thead th {\n",
              "        text-align: right;\n",
              "    }\n",
              "</style>\n",
              "<table border=\"1\" class=\"dataframe\">\n",
              "  <thead>\n",
              "    <tr style=\"text-align: right;\">\n",
              "      <th></th>\n",
              "      <th>SK_ID_CURR</th>\n",
              "      <th>NAME_CONTRACT_TYPE</th>\n",
              "      <th>CODE_GENDER</th>\n",
              "      <th>FLAG_OWN_CAR</th>\n",
              "      <th>FLAG_OWN_REALTY</th>\n",
              "      <th>CNT_CHILDREN</th>\n",
              "      <th>AMT_INCOME_TOTAL</th>\n",
              "      <th>AMT_CREDIT</th>\n",
              "      <th>AMT_ANNUITY</th>\n",
              "      <th>AMT_GOODS_PRICE</th>\n",
              "      <th>...</th>\n",
              "      <th>FLAG_DOCUMENT_18</th>\n",
              "      <th>FLAG_DOCUMENT_19</th>\n",
              "      <th>FLAG_DOCUMENT_20</th>\n",
              "      <th>FLAG_DOCUMENT_21</th>\n",
              "      <th>AMT_REQ_CREDIT_BUREAU_HOUR</th>\n",
              "      <th>AMT_REQ_CREDIT_BUREAU_DAY</th>\n",
              "      <th>AMT_REQ_CREDIT_BUREAU_WEEK</th>\n",
              "      <th>AMT_REQ_CREDIT_BUREAU_MON</th>\n",
              "      <th>AMT_REQ_CREDIT_BUREAU_QRT</th>\n",
              "      <th>AMT_REQ_CREDIT_BUREAU_YEAR</th>\n",
              "    </tr>\n",
              "  </thead>\n",
              "  <tbody>\n",
              "    <tr>\n",
              "      <th>0</th>\n",
              "      <td>100001</td>\n",
              "      <td>Cash loans</td>\n",
              "      <td>F</td>\n",
              "      <td>N</td>\n",
              "      <td>Y</td>\n",
              "      <td>0</td>\n",
              "      <td>135000.0</td>\n",
              "      <td>568800.0</td>\n",
              "      <td>20560.5</td>\n",
              "      <td>450000.0</td>\n",
              "      <td>...</td>\n",
              "      <td>0</td>\n",
              "      <td>0</td>\n",
              "      <td>0</td>\n",
              "      <td>0</td>\n",
              "      <td>0.0</td>\n",
              "      <td>0.0</td>\n",
              "      <td>0.0</td>\n",
              "      <td>0.0</td>\n",
              "      <td>0.0</td>\n",
              "      <td>0.0</td>\n",
              "    </tr>\n",
              "    <tr>\n",
              "      <th>1</th>\n",
              "      <td>100005</td>\n",
              "      <td>Cash loans</td>\n",
              "      <td>M</td>\n",
              "      <td>N</td>\n",
              "      <td>Y</td>\n",
              "      <td>0</td>\n",
              "      <td>99000.0</td>\n",
              "      <td>222768.0</td>\n",
              "      <td>17370.0</td>\n",
              "      <td>180000.0</td>\n",
              "      <td>...</td>\n",
              "      <td>0</td>\n",
              "      <td>0</td>\n",
              "      <td>0</td>\n",
              "      <td>0</td>\n",
              "      <td>0.0</td>\n",
              "      <td>0.0</td>\n",
              "      <td>0.0</td>\n",
              "      <td>0.0</td>\n",
              "      <td>0.0</td>\n",
              "      <td>3.0</td>\n",
              "    </tr>\n",
              "    <tr>\n",
              "      <th>2</th>\n",
              "      <td>100013</td>\n",
              "      <td>Cash loans</td>\n",
              "      <td>M</td>\n",
              "      <td>Y</td>\n",
              "      <td>Y</td>\n",
              "      <td>0</td>\n",
              "      <td>202500.0</td>\n",
              "      <td>663264.0</td>\n",
              "      <td>69777.0</td>\n",
              "      <td>630000.0</td>\n",
              "      <td>...</td>\n",
              "      <td>0</td>\n",
              "      <td>0</td>\n",
              "      <td>0</td>\n",
              "      <td>0</td>\n",
              "      <td>0.0</td>\n",
              "      <td>0.0</td>\n",
              "      <td>0.0</td>\n",
              "      <td>0.0</td>\n",
              "      <td>1.0</td>\n",
              "      <td>4.0</td>\n",
              "    </tr>\n",
              "    <tr>\n",
              "      <th>3</th>\n",
              "      <td>100028</td>\n",
              "      <td>Cash loans</td>\n",
              "      <td>F</td>\n",
              "      <td>N</td>\n",
              "      <td>Y</td>\n",
              "      <td>2</td>\n",
              "      <td>315000.0</td>\n",
              "      <td>1575000.0</td>\n",
              "      <td>49018.5</td>\n",
              "      <td>1575000.0</td>\n",
              "      <td>...</td>\n",
              "      <td>0</td>\n",
              "      <td>0</td>\n",
              "      <td>0</td>\n",
              "      <td>0</td>\n",
              "      <td>0.0</td>\n",
              "      <td>0.0</td>\n",
              "      <td>0.0</td>\n",
              "      <td>0.0</td>\n",
              "      <td>0.0</td>\n",
              "      <td>3.0</td>\n",
              "    </tr>\n",
              "    <tr>\n",
              "      <th>4</th>\n",
              "      <td>100038</td>\n",
              "      <td>Cash loans</td>\n",
              "      <td>M</td>\n",
              "      <td>Y</td>\n",
              "      <td>N</td>\n",
              "      <td>1</td>\n",
              "      <td>180000.0</td>\n",
              "      <td>625500.0</td>\n",
              "      <td>32067.0</td>\n",
              "      <td>625500.0</td>\n",
              "      <td>...</td>\n",
              "      <td>0</td>\n",
              "      <td>0</td>\n",
              "      <td>0</td>\n",
              "      <td>0</td>\n",
              "      <td>NaN</td>\n",
              "      <td>NaN</td>\n",
              "      <td>NaN</td>\n",
              "      <td>NaN</td>\n",
              "      <td>NaN</td>\n",
              "      <td>NaN</td>\n",
              "    </tr>\n",
              "  </tbody>\n",
              "</table>\n",
              "<p>5 rows × 121 columns</p>\n",
              "</div>"
            ],
            "text/plain": [
              "   SK_ID_CURR NAME_CONTRACT_TYPE CODE_GENDER FLAG_OWN_CAR FLAG_OWN_REALTY  \\\n",
              "0      100001         Cash loans           F            N               Y   \n",
              "1      100005         Cash loans           M            N               Y   \n",
              "2      100013         Cash loans           M            Y               Y   \n",
              "3      100028         Cash loans           F            N               Y   \n",
              "4      100038         Cash loans           M            Y               N   \n",
              "\n",
              "   CNT_CHILDREN  AMT_INCOME_TOTAL  AMT_CREDIT  AMT_ANNUITY  AMT_GOODS_PRICE  \\\n",
              "0             0          135000.0    568800.0      20560.5         450000.0   \n",
              "1             0           99000.0    222768.0      17370.0         180000.0   \n",
              "2             0          202500.0    663264.0      69777.0         630000.0   \n",
              "3             2          315000.0   1575000.0      49018.5        1575000.0   \n",
              "4             1          180000.0    625500.0      32067.0         625500.0   \n",
              "\n",
              "   ... FLAG_DOCUMENT_18 FLAG_DOCUMENT_19 FLAG_DOCUMENT_20 FLAG_DOCUMENT_21  \\\n",
              "0  ...                0                0                0                0   \n",
              "1  ...                0                0                0                0   \n",
              "2  ...                0                0                0                0   \n",
              "3  ...                0                0                0                0   \n",
              "4  ...                0                0                0                0   \n",
              "\n",
              "  AMT_REQ_CREDIT_BUREAU_HOUR  AMT_REQ_CREDIT_BUREAU_DAY  \\\n",
              "0                        0.0                        0.0   \n",
              "1                        0.0                        0.0   \n",
              "2                        0.0                        0.0   \n",
              "3                        0.0                        0.0   \n",
              "4                        NaN                        NaN   \n",
              "\n",
              "   AMT_REQ_CREDIT_BUREAU_WEEK  AMT_REQ_CREDIT_BUREAU_MON  \\\n",
              "0                         0.0                        0.0   \n",
              "1                         0.0                        0.0   \n",
              "2                         0.0                        0.0   \n",
              "3                         0.0                        0.0   \n",
              "4                         NaN                        NaN   \n",
              "\n",
              "   AMT_REQ_CREDIT_BUREAU_QRT  AMT_REQ_CREDIT_BUREAU_YEAR  \n",
              "0                        0.0                         0.0  \n",
              "1                        0.0                         3.0  \n",
              "2                        1.0                         4.0  \n",
              "3                        0.0                         3.0  \n",
              "4                        NaN                         NaN  \n",
              "\n",
              "[5 rows x 121 columns]"
            ]
          },
          "metadata": {
            "tags": []
          },
          "execution_count": 10
        }
      ]
    },
    {
      "cell_type": "code",
      "metadata": {
        "id": "A487lp3iAXGd"
      },
      "source": [
        "X_test = app_test[feature].values"
      ],
      "execution_count": null,
      "outputs": []
    },
    {
      "cell_type": "markdown",
      "metadata": {
        "id": "THef_-2G-FYW"
      },
      "source": [
        "## カテゴリデータ処理"
      ]
    },
    {
      "cell_type": "code",
      "metadata": {
        "id": "V82BWD2PBYy-",
        "outputId": "612f479c-511b-4734-dcb4-b4dc534e3e93",
        "colab": {
          "base_uri": "https://localhost:8080/"
        }
      },
      "source": [
        "app_train.dtypes.value_counts()"
      ],
      "execution_count": null,
      "outputs": [
        {
          "output_type": "execute_result",
          "data": {
            "text/plain": [
              "float64    65\n",
              "int64      41\n",
              "object     16\n",
              "dtype: int64"
            ]
          },
          "metadata": {
            "tags": []
          },
          "execution_count": 12
        }
      ]
    },
    {
      "cell_type": "code",
      "metadata": {
        "id": "GTZYDbR4Cpl5",
        "outputId": "31b56400-32f1-4608-cb4a-3f342fd581ac",
        "colab": {
          "base_uri": "https://localhost:8080/"
        }
      },
      "source": [
        "app_train.select_dtypes('object').apply(pd.Series.nunique, axis = 0)"
      ],
      "execution_count": null,
      "outputs": [
        {
          "output_type": "execute_result",
          "data": {
            "text/plain": [
              "NAME_CONTRACT_TYPE             2\n",
              "CODE_GENDER                    3\n",
              "FLAG_OWN_CAR                   2\n",
              "FLAG_OWN_REALTY                2\n",
              "NAME_TYPE_SUITE                7\n",
              "NAME_INCOME_TYPE               8\n",
              "NAME_EDUCATION_TYPE            5\n",
              "NAME_FAMILY_STATUS             6\n",
              "NAME_HOUSING_TYPE              6\n",
              "OCCUPATION_TYPE               18\n",
              "WEEKDAY_APPR_PROCESS_START     7\n",
              "ORGANIZATION_TYPE             58\n",
              "FONDKAPREMONT_MODE             4\n",
              "HOUSETYPE_MODE                 3\n",
              "WALLSMATERIAL_MODE             7\n",
              "EMERGENCYSTATE_MODE            2\n",
              "dtype: int64"
            ]
          },
          "metadata": {
            "tags": []
          },
          "execution_count": 13
        }
      ]
    },
    {
      "cell_type": "code",
      "metadata": {
        "code_folding": [],
        "id": "doGZCzFhCrc8",
        "outputId": "94126b55-9779-4e8c-8f4d-0bd8c9eef970",
        "colab": {
          "base_uri": "https://localhost:8080/"
        }
      },
      "source": [
        "# カテゴリデータをエンコード\n",
        "from sklearn.preprocessing import LabelEncoder\n",
        "\n",
        "le = LabelEncoder()\n",
        "le_count = 0\n",
        "\n",
        "for col in app_train:\n",
        "    if app_train[col].dtype == 'object':\n",
        "        # If 2 or fewer unique categories\n",
        "        if len(list(app_train[col].unique())) <= 2:\n",
        "            # Train on the training data\n",
        "            le.fit(app_train[col])\n",
        "            # Transform both training and testing data\n",
        "            app_train[col] = le.transform(app_train[col])\n",
        "            app_test[col] = le.transform(app_test[col])\n",
        "\n",
        "            # Keep track of how many columns were label encoded\n",
        "            le_count += 1\n",
        "\n",
        "print('%d columns were label encoded.' % le_count)"
      ],
      "execution_count": null,
      "outputs": [
        {
          "output_type": "stream",
          "text": [
            "3 columns were label encoded.\n"
          ],
          "name": "stdout"
        }
      ]
    },
    {
      "cell_type": "code",
      "metadata": {
        "id": "vqBLqezzCuPm",
        "outputId": "805bab13-bd52-4424-d538-6ce5acf3ec84",
        "colab": {
          "base_uri": "https://localhost:8080/"
        }
      },
      "source": [
        "print('Training Features shape: ', app_train.shape)\n",
        "print('Testing Features shape: ', app_test.shape)"
      ],
      "execution_count": null,
      "outputs": [
        {
          "output_type": "stream",
          "text": [
            "Training Features shape:  (307511, 122)\n",
            "Testing Features shape:  (48744, 121)\n"
          ],
          "name": "stdout"
        }
      ]
    },
    {
      "cell_type": "code",
      "metadata": {
        "id": "b80a5yJ-CwZb"
      },
      "source": [
        "# one-hot エンコード\n",
        "app_train = pd.get_dummies(app_train)\n",
        "app_test = pd.get_dummies(app_test)"
      ],
      "execution_count": null,
      "outputs": []
    },
    {
      "cell_type": "code",
      "metadata": {
        "id": "wSIVwbwzCyyD",
        "outputId": "c258c8c0-338f-4dd7-daf2-698368e074f4",
        "colab": {
          "base_uri": "https://localhost:8080/"
        }
      },
      "source": [
        "print('after One-Hot')\n",
        "print('Training Features shape: ', app_train.shape)\n",
        "print('Testing Features shape: ', app_test.shape)"
      ],
      "execution_count": null,
      "outputs": [
        {
          "output_type": "stream",
          "text": [
            "after One-Hot\n",
            "Training Features shape:  (307511, 243)\n",
            "Testing Features shape:  (48744, 239)\n"
          ],
          "name": "stdout"
        }
      ]
    },
    {
      "cell_type": "code",
      "metadata": {
        "id": "sUxhXFO8C1oG",
        "outputId": "d5c1c956-7433-4680-c733-dd36c8fb31e2",
        "colab": {
          "base_uri": "https://localhost:8080/"
        }
      },
      "source": [
        "train_labels = app_train['TARGET']\n",
        "\n",
        "# Align the training and testing data, keep only columns present in both dataframes\n",
        "app_train, app_test = app_train.align(app_test, join = 'inner', axis = 1)\n",
        "\n",
        "# Add the target back in\n",
        "app_train['TARGET'] = train_labels\n",
        "\n",
        "print('Training Features shape: ', app_train.shape)\n",
        "print('Testing Features shape: ', app_test.shape)"
      ],
      "execution_count": null,
      "outputs": [
        {
          "output_type": "stream",
          "text": [
            "Training Features shape:  (307511, 240)\n",
            "Testing Features shape:  (48744, 239)\n"
          ],
          "name": "stdout"
        }
      ]
    },
    {
      "cell_type": "code",
      "metadata": {
        "id": "vYHpPHx0C4Jr",
        "outputId": "f9c49e46-c6e9-4ee0-c254-6122cf7ab1d4",
        "colab": {
          "base_uri": "https://localhost:8080/"
        }
      },
      "source": [
        "corr = my_functions.corr_to_one_feature(app_train, 'TARGET')\n",
        "\n",
        "# Display correlations\n",
        "print('Most Positive Correlations:\\n', corr.head(5))\n",
        "print('\\nMost Negative Correlations:\\n', corr.tail(5))"
      ],
      "execution_count": null,
      "outputs": [
        {
          "output_type": "stream",
          "text": [
            "Most Positive Correlations:\n",
            " TARGET                         1.000000\n",
            "DAYS_BIRTH                     0.078239\n",
            "REGION_RATING_CLIENT_W_CITY    0.060893\n",
            "REGION_RATING_CLIENT           0.058899\n",
            "NAME_INCOME_TYPE_Working       0.057481\n",
            "Name: TARGET, dtype: float64\n",
            "\n",
            "Most Negative Correlations:\n",
            " CODE_GENDER_F                          -0.054704\n",
            "NAME_EDUCATION_TYPE_Higher education   -0.056593\n",
            "EXT_SOURCE_1                           -0.155317\n",
            "EXT_SOURCE_2                           -0.160472\n",
            "EXT_SOURCE_3                           -0.178919\n",
            "Name: TARGET, dtype: float64\n"
          ],
          "name": "stdout"
        }
      ]
    },
    {
      "cell_type": "markdown",
      "metadata": {
        "id": "NTMNswa7-FYr"
      },
      "source": [
        "### 欠損値の確認と処理"
      ]
    },
    {
      "cell_type": "code",
      "metadata": {
        "id": "s39VgB-QC6qs",
        "outputId": "ae97875a-5d54-46a1-bfe3-806186bfaa1b",
        "colab": {
          "base_uri": "https://localhost:8080/",
          "height": 952
        }
      },
      "source": [
        "# 欠損値を確認\n",
        "data = app_train\n",
        "\n",
        "missing = data.isnull().sum()[data.isnull().sum()>0].sort_values(ascending=False)\n",
        "missing_train = pd.DataFrame({'欠損数':missing,\n",
        "                           '欠損率':missing/len(data)*100})\n",
        "\n",
        "print('欠損値を含む列数:',len(missing_train))\n",
        "missing_train.head(10)"
      ],
      "execution_count": null,
      "outputs": [
        {
          "output_type": "stream",
          "text": [
            "欠損値を含む列数: 61\n"
          ],
          "name": "stdout"
        },
        {
          "output_type": "execute_result",
          "data": {
            "text/html": [
              "<div>\n",
              "<style scoped>\n",
              "    .dataframe tbody tr th:only-of-type {\n",
              "        vertical-align: middle;\n",
              "    }\n",
              "\n",
              "    .dataframe tbody tr th {\n",
              "        vertical-align: top;\n",
              "    }\n",
              "\n",
              "    .dataframe thead th {\n",
              "        text-align: right;\n",
              "    }\n",
              "</style>\n",
              "<table border=\"1\" class=\"dataframe\">\n",
              "  <thead>\n",
              "    <tr style=\"text-align: right;\">\n",
              "      <th></th>\n",
              "      <th>欠損数</th>\n",
              "      <th>欠損率</th>\n",
              "    </tr>\n",
              "  </thead>\n",
              "  <tbody>\n",
              "    <tr>\n",
              "      <th>COMMONAREA_MEDI</th>\n",
              "      <td>214865</td>\n",
              "      <td>69.872297</td>\n",
              "    </tr>\n",
              "    <tr>\n",
              "      <th>COMMONAREA_MODE</th>\n",
              "      <td>214865</td>\n",
              "      <td>69.872297</td>\n",
              "    </tr>\n",
              "    <tr>\n",
              "      <th>COMMONAREA_AVG</th>\n",
              "      <td>214865</td>\n",
              "      <td>69.872297</td>\n",
              "    </tr>\n",
              "    <tr>\n",
              "      <th>NONLIVINGAPARTMENTS_MEDI</th>\n",
              "      <td>213514</td>\n",
              "      <td>69.432963</td>\n",
              "    </tr>\n",
              "    <tr>\n",
              "      <th>NONLIVINGAPARTMENTS_AVG</th>\n",
              "      <td>213514</td>\n",
              "      <td>69.432963</td>\n",
              "    </tr>\n",
              "    <tr>\n",
              "      <th>NONLIVINGAPARTMENTS_MODE</th>\n",
              "      <td>213514</td>\n",
              "      <td>69.432963</td>\n",
              "    </tr>\n",
              "    <tr>\n",
              "      <th>LIVINGAPARTMENTS_MEDI</th>\n",
              "      <td>210199</td>\n",
              "      <td>68.354953</td>\n",
              "    </tr>\n",
              "    <tr>\n",
              "      <th>LIVINGAPARTMENTS_AVG</th>\n",
              "      <td>210199</td>\n",
              "      <td>68.354953</td>\n",
              "    </tr>\n",
              "    <tr>\n",
              "      <th>LIVINGAPARTMENTS_MODE</th>\n",
              "      <td>210199</td>\n",
              "      <td>68.354953</td>\n",
              "    </tr>\n",
              "    <tr>\n",
              "      <th>FLOORSMIN_MODE</th>\n",
              "      <td>208642</td>\n",
              "      <td>67.848630</td>\n",
              "    </tr>\n",
              "  </tbody>\n",
              "</table>\n",
              "</div>"
            ],
            "text/plain": [
              "                             欠損数        欠損率\n",
              "COMMONAREA_MEDI           214865  69.872297\n",
              "COMMONAREA_MODE           214865  69.872297\n",
              "COMMONAREA_AVG            214865  69.872297\n",
              "NONLIVINGAPARTMENTS_MEDI  213514  69.432963\n",
              "NONLIVINGAPARTMENTS_AVG   213514  69.432963\n",
              "NONLIVINGAPARTMENTS_MODE  213514  69.432963\n",
              "LIVINGAPARTMENTS_MEDI     210199  68.354953\n",
              "LIVINGAPARTMENTS_AVG      210199  68.354953\n",
              "LIVINGAPARTMENTS_MODE     210199  68.354953\n",
              "FLOORSMIN_MODE            208642  67.848630"
            ]
          },
          "metadata": {
            "tags": []
          },
          "execution_count": 20
        }
      ]
    },
    {
      "cell_type": "code",
      "metadata": {
        "id": "fUT_Y-ekDAn4",
        "outputId": "6bc68fa3-2bb4-47d2-89b6-1836153d612b",
        "colab": {
          "base_uri": "https://localhost:8080/",
          "height": 360
        }
      },
      "source": [
        "# 欠損値を確認\n",
        "data = app_test\n",
        "\n",
        "missing = data.isnull().sum()[data.isnull().sum()>0].sort_values(ascending=False)\n",
        "missing_test = pd.DataFrame({'欠損数':missing,\n",
        "                           '欠損率':missing/len(data)*100})\n",
        "\n",
        "print('欠損値を含む列数:',len(missing_test))\n",
        "missing_test.head(10)"
      ],
      "execution_count": null,
      "outputs": [
        {
          "output_type": "stream",
          "text": [
            "欠損値を含む列数: 58\n"
          ],
          "name": "stdout"
        },
        {
          "output_type": "execute_result",
          "data": {
            "text/html": [
              "<div>\n",
              "<style scoped>\n",
              "    .dataframe tbody tr th:only-of-type {\n",
              "        vertical-align: middle;\n",
              "    }\n",
              "\n",
              "    .dataframe tbody tr th {\n",
              "        vertical-align: top;\n",
              "    }\n",
              "\n",
              "    .dataframe thead th {\n",
              "        text-align: right;\n",
              "    }\n",
              "</style>\n",
              "<table border=\"1\" class=\"dataframe\">\n",
              "  <thead>\n",
              "    <tr style=\"text-align: right;\">\n",
              "      <th></th>\n",
              "      <th>欠損数</th>\n",
              "      <th>欠損率</th>\n",
              "    </tr>\n",
              "  </thead>\n",
              "  <tbody>\n",
              "    <tr>\n",
              "      <th>COMMONAREA_AVG</th>\n",
              "      <td>33495</td>\n",
              "      <td>68.716150</td>\n",
              "    </tr>\n",
              "    <tr>\n",
              "      <th>COMMONAREA_MEDI</th>\n",
              "      <td>33495</td>\n",
              "      <td>68.716150</td>\n",
              "    </tr>\n",
              "    <tr>\n",
              "      <th>COMMONAREA_MODE</th>\n",
              "      <td>33495</td>\n",
              "      <td>68.716150</td>\n",
              "    </tr>\n",
              "    <tr>\n",
              "      <th>NONLIVINGAPARTMENTS_MODE</th>\n",
              "      <td>33347</td>\n",
              "      <td>68.412523</td>\n",
              "    </tr>\n",
              "    <tr>\n",
              "      <th>NONLIVINGAPARTMENTS_AVG</th>\n",
              "      <td>33347</td>\n",
              "      <td>68.412523</td>\n",
              "    </tr>\n",
              "    <tr>\n",
              "      <th>NONLIVINGAPARTMENTS_MEDI</th>\n",
              "      <td>33347</td>\n",
              "      <td>68.412523</td>\n",
              "    </tr>\n",
              "    <tr>\n",
              "      <th>LIVINGAPARTMENTS_MEDI</th>\n",
              "      <td>32780</td>\n",
              "      <td>67.249302</td>\n",
              "    </tr>\n",
              "    <tr>\n",
              "      <th>LIVINGAPARTMENTS_AVG</th>\n",
              "      <td>32780</td>\n",
              "      <td>67.249302</td>\n",
              "    </tr>\n",
              "    <tr>\n",
              "      <th>LIVINGAPARTMENTS_MODE</th>\n",
              "      <td>32780</td>\n",
              "      <td>67.249302</td>\n",
              "    </tr>\n",
              "    <tr>\n",
              "      <th>FLOORSMIN_AVG</th>\n",
              "      <td>32466</td>\n",
              "      <td>66.605121</td>\n",
              "    </tr>\n",
              "  </tbody>\n",
              "</table>\n",
              "</div>"
            ],
            "text/plain": [
              "                            欠損数        欠損率\n",
              "COMMONAREA_AVG            33495  68.716150\n",
              "COMMONAREA_MEDI           33495  68.716150\n",
              "COMMONAREA_MODE           33495  68.716150\n",
              "NONLIVINGAPARTMENTS_MODE  33347  68.412523\n",
              "NONLIVINGAPARTMENTS_AVG   33347  68.412523\n",
              "NONLIVINGAPARTMENTS_MEDI  33347  68.412523\n",
              "LIVINGAPARTMENTS_MEDI     32780  67.249302\n",
              "LIVINGAPARTMENTS_AVG      32780  67.249302\n",
              "LIVINGAPARTMENTS_MODE     32780  67.249302\n",
              "FLOORSMIN_AVG             32466  66.605121"
            ]
          },
          "metadata": {
            "tags": []
          },
          "execution_count": 21
        }
      ]
    },
    {
      "cell_type": "markdown",
      "metadata": {
        "id": "P4srqJ1h-FYx"
      },
      "source": [
        "1. **欠損地を無視するパターン**"
      ]
    },
    {
      "cell_type": "code",
      "metadata": {
        "id": "h9DhBzriDOGs",
        "outputId": "07d6fc4e-764d-418c-b4c1-93453c0e9ecd",
        "colab": {
          "base_uri": "https://localhost:8080/"
        }
      },
      "source": [
        "# trainデータだけにある欠損値を確認\n",
        "for i in missing_train.index.values:\n",
        "    if i not in missing_test.index.values:\n",
        "        print(i)"
      ],
      "execution_count": null,
      "outputs": [
        {
          "output_type": "stream",
          "text": [
            "AMT_GOODS_PRICE\n",
            "CNT_FAM_MEMBERS\n",
            "DAYS_LAST_PHONE_CHANGE\n"
          ],
          "name": "stdout"
        }
      ]
    },
    {
      "cell_type": "code",
      "metadata": {
        "id": "m_AekxcQDQLp",
        "outputId": "3f7f0cbc-ece5-4170-922c-61e5b8e65735",
        "colab": {
          "base_uri": "https://localhost:8080/"
        }
      },
      "source": [
        "feature = []\n",
        "for i in app_train:\n",
        "    if i not in missing_train.index.values:\n",
        "        if i not in 'TARGET':\n",
        "            feature.append(i)\n",
        "print('欠損値のない特徴量の数:',len(feature))"
      ],
      "execution_count": null,
      "outputs": [
        {
          "output_type": "stream",
          "text": [
            "欠損値のない特徴量の数: 178\n"
          ],
          "name": "stdout"
        }
      ]
    },
    {
      "cell_type": "code",
      "metadata": {
        "id": "QUamuEArDSyi"
      },
      "source": [
        "# 欠損値を含まない特徴量を抽出\n",
        "\n",
        "X = app_train[feature].values\n",
        "y = app_train['TARGET'].values"
      ],
      "execution_count": null,
      "outputs": []
    },
    {
      "cell_type": "code",
      "metadata": {
        "id": "i9gccPUoDYNI"
      },
      "source": [
        "# 訓練データと、検証データに分割（75:25）\n",
        "\n",
        "X_train, X_valid, y_train, y_valid = \\\n",
        "train_test_split(X, y, test_size=0.25, random_state=0)"
      ],
      "execution_count": null,
      "outputs": []
    },
    {
      "cell_type": "code",
      "metadata": {
        "id": "OpnLxNGLDbVy",
        "outputId": "2adcc71d-00da-4b44-930d-dbaa89a57261",
        "colab": {
          "base_uri": "https://localhost:8080/"
        }
      },
      "source": [
        "print('X_train.shape:',X_train.shape)\n",
        "print('X_valid.shpae:',X_valid.shape)\n",
        "print('y_train.shpae:',y_train.shape)\n",
        "print('y_valid.shpae:',y_valid.shape)"
      ],
      "execution_count": null,
      "outputs": [
        {
          "output_type": "stream",
          "text": [
            "X_train.shape: (230633, 178)\n",
            "X_valid.shpae: (76878, 178)\n",
            "y_train.shpae: (230633,)\n",
            "y_valid.shpae: (76878,)\n"
          ],
          "name": "stdout"
        }
      ]
    },
    {
      "cell_type": "code",
      "metadata": {
        "id": "rgUpcjAbDdPj",
        "outputId": "4625083a-2355-40b9-c0cf-effb8962af57",
        "colab": {
          "base_uri": "https://localhost:8080/"
        }
      },
      "source": [
        "# 標準化\n",
        "from sklearn.preprocessing import StandardScaler\n",
        "\n",
        "# 標準化クラスをインスタンス化\n",
        "scaler = StandardScaler()\n",
        "\n",
        "# 配列Xの平均と分散を計算して記憶する\n",
        "scaler.fit(X_train)\n",
        "\n",
        "# 標準化\n",
        "X_train_scd = scaler.transform(X_train)\n",
        "X_valid_scd = scaler.transform(X_valid)\n",
        "\n",
        "#表示行数を１０行に設定\n",
        "np.set_printoptions(threshold=10)\n",
        "\n",
        "print(X_train_scd)\n",
        "print(X_valid_scd)"
      ],
      "execution_count": null,
      "outputs": [
        {
          "output_type": "stream",
          "text": [
            "[[-1.22214563  3.08671705  1.39335828 ... -0.13305475  0.96522763\n",
            "  -0.08786737]\n",
            " [ 0.01253087 -0.32396879  1.39335828 ... -0.13305475  0.96522763\n",
            "  -0.08786737]\n",
            " [-0.07199509 -0.32396879 -0.7176905  ... -0.13305475 -1.03602505\n",
            "  -0.08786737]\n",
            " ...\n",
            " [-0.01801564  3.08671705 -0.7176905  ... -0.13305475  0.96522763\n",
            "  -0.08786737]\n",
            " [-0.40501919 -0.32396879  1.39335828 ... -0.13305475 -1.03602505\n",
            "  -0.08786737]\n",
            " [ 1.71076695 -0.32396879 -0.7176905  ... -0.13305475  0.96522763\n",
            "  -0.08786737]]\n",
            "[[-1.25198175 -0.32396879 -0.7176905  ... -0.13305475 -1.03602505\n",
            "  -0.08786737]\n",
            " [ 0.82612484 -0.32396879 -0.7176905  ... -0.13305475  0.96522763\n",
            "  -0.08786737]\n",
            " [ 1.53374511  3.08671705  1.39335828 ... -0.13305475  0.96522763\n",
            "  -0.08786737]\n",
            " ...\n",
            " [ 0.63156722 -0.32396879 -0.7176905  ... -0.13305475  0.96522763\n",
            "  -0.08786737]\n",
            " [-1.64620592 -0.32396879 -0.7176905  ... -0.13305475  0.96522763\n",
            "  -0.08786737]\n",
            " [ 0.13714    -0.32396879  1.39335828 ... -0.13305475  0.96522763\n",
            "  -0.08786737]]\n"
          ],
          "name": "stdout"
        }
      ]
    },
    {
      "cell_type": "code",
      "metadata": {
        "id": "_3RHkUyEDshe",
        "outputId": "b7ac94bb-df9b-478c-ceda-a65aa45b0461",
        "colab": {
          "base_uri": "https://localhost:8080/"
        }
      },
      "source": [
        "print('Training Features shape: ', app_train.shape)"
      ],
      "execution_count": null,
      "outputs": [
        {
          "output_type": "stream",
          "text": [
            "Training Features shape:  (307511, 240)\n"
          ],
          "name": "stdout"
        }
      ]
    },
    {
      "cell_type": "markdown",
      "metadata": {
        "id": "pIkwDQQv-FZH"
      },
      "source": [
        "2. **欠損値を0埋めするパターン**"
      ]
    },
    {
      "cell_type": "code",
      "metadata": {
        "id": "oT1KxZclDx5v"
      },
      "source": [
        "app_train_fill_zero = app_train.copy()"
      ],
      "execution_count": null,
      "outputs": []
    },
    {
      "cell_type": "code",
      "metadata": {
        "id": "7-CMRGeFD1L5",
        "outputId": "bbfe90af-8307-4615-dcda-3dc228887d57",
        "colab": {
          "base_uri": "https://localhost:8080/",
          "height": 952
        }
      },
      "source": [
        "missing = data.isnull().sum()[data.isnull().sum()>0].sort_values(ascending=False)\n",
        "missing_train = pd.DataFrame({'欠損数':missing,\n",
        "                           '欠損率':missing/len(data)*100})\n",
        "\n",
        "print('欠損値を含む列数:',len(missing_train))\n",
        "missing_train.head(10)"
      ],
      "execution_count": null,
      "outputs": [
        {
          "output_type": "stream",
          "text": [
            "欠損値を含む列数: 58\n"
          ],
          "name": "stdout"
        },
        {
          "output_type": "execute_result",
          "data": {
            "text/html": [
              "<div>\n",
              "<style scoped>\n",
              "    .dataframe tbody tr th:only-of-type {\n",
              "        vertical-align: middle;\n",
              "    }\n",
              "\n",
              "    .dataframe tbody tr th {\n",
              "        vertical-align: top;\n",
              "    }\n",
              "\n",
              "    .dataframe thead th {\n",
              "        text-align: right;\n",
              "    }\n",
              "</style>\n",
              "<table border=\"1\" class=\"dataframe\">\n",
              "  <thead>\n",
              "    <tr style=\"text-align: right;\">\n",
              "      <th></th>\n",
              "      <th>欠損数</th>\n",
              "      <th>欠損率</th>\n",
              "    </tr>\n",
              "  </thead>\n",
              "  <tbody>\n",
              "    <tr>\n",
              "      <th>COMMONAREA_AVG</th>\n",
              "      <td>33495</td>\n",
              "      <td>68.716150</td>\n",
              "    </tr>\n",
              "    <tr>\n",
              "      <th>COMMONAREA_MEDI</th>\n",
              "      <td>33495</td>\n",
              "      <td>68.716150</td>\n",
              "    </tr>\n",
              "    <tr>\n",
              "      <th>COMMONAREA_MODE</th>\n",
              "      <td>33495</td>\n",
              "      <td>68.716150</td>\n",
              "    </tr>\n",
              "    <tr>\n",
              "      <th>NONLIVINGAPARTMENTS_MODE</th>\n",
              "      <td>33347</td>\n",
              "      <td>68.412523</td>\n",
              "    </tr>\n",
              "    <tr>\n",
              "      <th>NONLIVINGAPARTMENTS_AVG</th>\n",
              "      <td>33347</td>\n",
              "      <td>68.412523</td>\n",
              "    </tr>\n",
              "    <tr>\n",
              "      <th>NONLIVINGAPARTMENTS_MEDI</th>\n",
              "      <td>33347</td>\n",
              "      <td>68.412523</td>\n",
              "    </tr>\n",
              "    <tr>\n",
              "      <th>LIVINGAPARTMENTS_MEDI</th>\n",
              "      <td>32780</td>\n",
              "      <td>67.249302</td>\n",
              "    </tr>\n",
              "    <tr>\n",
              "      <th>LIVINGAPARTMENTS_AVG</th>\n",
              "      <td>32780</td>\n",
              "      <td>67.249302</td>\n",
              "    </tr>\n",
              "    <tr>\n",
              "      <th>LIVINGAPARTMENTS_MODE</th>\n",
              "      <td>32780</td>\n",
              "      <td>67.249302</td>\n",
              "    </tr>\n",
              "    <tr>\n",
              "      <th>FLOORSMIN_AVG</th>\n",
              "      <td>32466</td>\n",
              "      <td>66.605121</td>\n",
              "    </tr>\n",
              "  </tbody>\n",
              "</table>\n",
              "</div>"
            ],
            "text/plain": [
              "                            欠損数        欠損率\n",
              "COMMONAREA_AVG            33495  68.716150\n",
              "COMMONAREA_MEDI           33495  68.716150\n",
              "COMMONAREA_MODE           33495  68.716150\n",
              "NONLIVINGAPARTMENTS_MODE  33347  68.412523\n",
              "NONLIVINGAPARTMENTS_AVG   33347  68.412523\n",
              "NONLIVINGAPARTMENTS_MEDI  33347  68.412523\n",
              "LIVINGAPARTMENTS_MEDI     32780  67.249302\n",
              "LIVINGAPARTMENTS_AVG      32780  67.249302\n",
              "LIVINGAPARTMENTS_MODE     32780  67.249302\n",
              "FLOORSMIN_AVG             32466  66.605121"
            ]
          },
          "metadata": {
            "tags": []
          },
          "execution_count": 30
        }
      ]
    },
    {
      "cell_type": "code",
      "metadata": {
        "id": "yHIIuvDQD4P9"
      },
      "source": [
        "# NaNを0で埋める\n",
        "app_train_fill_zero = app_train_fill_zero.fillna(0)"
      ],
      "execution_count": null,
      "outputs": []
    },
    {
      "cell_type": "code",
      "metadata": {
        "id": "R-kBhN1wD80s",
        "outputId": "0373c1f4-23f6-4306-817a-adbc9612998d",
        "colab": {
          "base_uri": "https://localhost:8080/"
        }
      },
      "source": [
        "data = app_train_fill_zero\n",
        "\n",
        "missing = data.isnull().sum()[data.isnull().sum()>0].sort_values(ascending=False)\n",
        "missing_train = pd.DataFrame({'欠損数':missing,\n",
        "                           '欠損率':missing/len(data)*100})\n",
        "\n",
        "print('欠損値を含む列数:',len(missing_train))"
      ],
      "execution_count": null,
      "outputs": [
        {
          "output_type": "stream",
          "text": [
            "欠損値を含む列数: 0\n"
          ],
          "name": "stdout"
        }
      ]
    },
    {
      "cell_type": "code",
      "metadata": {
        "id": "Xhch9Ie9EGja",
        "outputId": "d28079e0-3459-4f65-9a9b-76d3b0018f76",
        "colab": {
          "base_uri": "https://localhost:8080/"
        }
      },
      "source": [
        "feature = []\n",
        "for i in app_train:\n",
        "    if i not in 'TARGET':\n",
        "        feature.append(i)\n",
        "print('特徴量数:',len(feature))"
      ],
      "execution_count": null,
      "outputs": [
        {
          "output_type": "stream",
          "text": [
            "特徴量数: 239\n"
          ],
          "name": "stdout"
        }
      ]
    },
    {
      "cell_type": "code",
      "metadata": {
        "id": "rTPpV_LGEIpO",
        "outputId": "ed6d3f68-b9d2-47cc-d7a9-c4b37d0a2f9f",
        "colab": {
          "base_uri": "https://localhost:8080/"
        }
      },
      "source": [
        "# train,validデータの作成\n",
        "X = app_train_fill_zero[feature].values\n",
        "y = app_train_fill_zero['TARGET'].values\n",
        "\n",
        "X_train, X_valid, y_train, y_valid = \\\n",
        "train_test_split(X, y, test_size=0.25, random_state=0)\n",
        "\n",
        "print('X_train.shape:',X_train.shape)\n",
        "print('X_valid.shpae:',X_valid.shape)\n",
        "print('y_train.shpae:',y_train.shape)\n",
        "print('y_valid.shpae:',y_valid.shape)"
      ],
      "execution_count": null,
      "outputs": [
        {
          "output_type": "stream",
          "text": [
            "X_train.shape: (230633, 239)\n",
            "X_valid.shpae: (76878, 239)\n",
            "y_train.shpae: (230633,)\n",
            "y_valid.shpae: (76878,)\n"
          ],
          "name": "stdout"
        }
      ]
    },
    {
      "cell_type": "markdown",
      "metadata": {
        "id": "XWHZd6QM-FZX"
      },
      "source": [
        "3.**欠損値を平均値で埋めるパターン**"
      ]
    },
    {
      "cell_type": "code",
      "metadata": {
        "id": "etwZ0sA1EYzW"
      },
      "source": [
        "app_train_fill_mean = app_train.copy()"
      ],
      "execution_count": null,
      "outputs": []
    },
    {
      "cell_type": "code",
      "metadata": {
        "id": "gPFfmI3iEuPO"
      },
      "source": [
        "mean = app_train_fill_mean.mean()\n",
        "\n",
        "app_train_fill_mean = app_train_fill_mean.fillna(mean)"
      ],
      "execution_count": null,
      "outputs": []
    },
    {
      "cell_type": "code",
      "metadata": {
        "id": "kBi6LQjcEu-f",
        "outputId": "402c01d5-5a7c-44ef-9f41-6d863bd9619f",
        "colab": {
          "base_uri": "https://localhost:8080/"
        }
      },
      "source": [
        "data = app_train_fill_mean\n",
        "\n",
        "missing = data.isnull().sum()[data.isnull().sum()>0].sort_values(ascending=False)\n",
        "missing_train = pd.DataFrame({'欠損数':missing,\n",
        "                           '欠損率':missing/len(data)*100})\n",
        "\n",
        "print('欠損値を含む列数:',len(missing_train))"
      ],
      "execution_count": null,
      "outputs": [
        {
          "output_type": "stream",
          "text": [
            "欠損値を含む列数: 0\n"
          ],
          "name": "stdout"
        }
      ]
    },
    {
      "cell_type": "code",
      "metadata": {
        "id": "hmTjEBpIExTI",
        "outputId": "87ec5cbe-c121-4d8e-8e69-d90307c7118b",
        "colab": {
          "base_uri": "https://localhost:8080/"
        }
      },
      "source": [
        "feature = []\n",
        "for i in app_train:\n",
        "    if i not in 'TARGET':\n",
        "        feature.append(i)\n",
        "print('特徴量数:',len(feature))"
      ],
      "execution_count": null,
      "outputs": [
        {
          "output_type": "stream",
          "text": [
            "特徴量数: 239\n"
          ],
          "name": "stdout"
        }
      ]
    },
    {
      "cell_type": "code",
      "metadata": {
        "id": "tTTwbwqiEzxu",
        "outputId": "29ccf879-1785-4fde-b6ca-d19d7d34515e",
        "colab": {
          "base_uri": "https://localhost:8080/"
        }
      },
      "source": [
        "# train,validデータの作成\n",
        "X = app_train_fill_mean[feature].values\n",
        "y = app_train_fill_mean['TARGET'].values\n",
        "\n",
        "X_train, X_valid, y_train, y_valid = \\\n",
        "train_test_split(X, y, test_size=0.25, random_state=0)\n",
        "\n",
        "print('X_train.shape:',X_train.shape)\n",
        "print('X_valid.shpae:',X_valid.shape)\n",
        "print('y_train.shpae:',y_train.shape)\n",
        "print('y_valid.shpae:',y_valid.shape)"
      ],
      "execution_count": null,
      "outputs": [
        {
          "output_type": "stream",
          "text": [
            "X_train.shape: (230633, 239)\n",
            "X_valid.shpae: (76878, 239)\n",
            "y_train.shpae: (230633,)\n",
            "y_valid.shpae: (76878,)\n"
          ],
          "name": "stdout"
        }
      ]
    },
    {
      "cell_type": "markdown",
      "metadata": {
        "id": "PJiaZvCc-FZi"
      },
      "source": [
        "4. **'DAYS_BIRTH'の値がおかしいので確認**"
      ]
    },
    {
      "cell_type": "code",
      "metadata": {
        "id": "eNvRjii9FLtr",
        "outputId": "c13664a8-852c-41aa-f2e3-aa7afec240b5",
        "colab": {
          "base_uri": "https://localhost:8080/"
        }
      },
      "source": [
        "app_train_fill_mean['DAYS_BIRTH'].describe()"
      ],
      "execution_count": null,
      "outputs": [
        {
          "output_type": "execute_result",
          "data": {
            "text/plain": [
              "count    307511.000000\n",
              "mean     -16036.995067\n",
              "std        4363.988632\n",
              "min      -25229.000000\n",
              "25%      -19682.000000\n",
              "50%      -15750.000000\n",
              "75%      -12413.000000\n",
              "max       -7489.000000\n",
              "Name: DAYS_BIRTH, dtype: float64"
            ]
          },
          "metadata": {
            "tags": []
          },
          "execution_count": 40
        }
      ]
    },
    {
      "cell_type": "code",
      "metadata": {
        "id": "wWJTqK_oFOop",
        "outputId": "20e3223e-dcb0-4d57-c8ec-97754818bd16",
        "colab": {
          "base_uri": "https://localhost:8080/"
        }
      },
      "source": [
        "# 正しい年齢に変換\n",
        "app_train_fill_mean['DAYS_BIRTH'] = (app_train_fill_mean['DAYS_BIRTH']/-365) # 申請日から遡った日数なので-1を掛ける\n",
        "app_train_fill_mean['DAYS_BIRTH'].describe()"
      ],
      "execution_count": null,
      "outputs": [
        {
          "output_type": "execute_result",
          "data": {
            "text/plain": [
              "count    307511.000000\n",
              "mean         43.936973\n",
              "std          11.956133\n",
              "min          20.517808\n",
              "25%          34.008219\n",
              "50%          43.150685\n",
              "75%          53.923288\n",
              "max          69.120548\n",
              "Name: DAYS_BIRTH, dtype: float64"
            ]
          },
          "metadata": {
            "tags": []
          },
          "execution_count": 41
        }
      ]
    },
    {
      "cell_type": "markdown",
      "metadata": {
        "id": "61CXVaWp-FZr"
      },
      "source": [
        "5. **'DAYS_EMPLOYED'(被雇用日数)に異常値があるので対応**"
      ]
    },
    {
      "cell_type": "code",
      "metadata": {
        "id": "rLvw4hgyFSQb",
        "outputId": "4f55aaa8-40a0-4469-89f8-2f3908088ee5",
        "colab": {
          "base_uri": "https://localhost:8080/"
        }
      },
      "source": [
        "app_train_fill_mean['DAYS_EMPLOYED'].describe()"
      ],
      "execution_count": null,
      "outputs": [
        {
          "output_type": "execute_result",
          "data": {
            "text/plain": [
              "count    307511.000000\n",
              "mean      63815.045904\n",
              "std      141275.766519\n",
              "min      -17912.000000\n",
              "25%       -2760.000000\n",
              "50%       -1213.000000\n",
              "75%        -289.000000\n",
              "max      365243.000000\n",
              "Name: DAYS_EMPLOYED, dtype: float64"
            ]
          },
          "metadata": {
            "tags": []
          },
          "execution_count": 42
        }
      ]
    },
    {
      "cell_type": "code",
      "metadata": {
        "id": "MqW_DaGnFUbB",
        "outputId": "734d8828-83c4-4edb-ab4f-f0c1118556e2",
        "colab": {
          "base_uri": "https://localhost:8080/",
          "height": 265
        }
      },
      "source": [
        "plt.hist(app_train_fill_mean['DAYS_EMPLOYED']);"
      ],
      "execution_count": null,
      "outputs": [
        {
          "output_type": "display_data",
          "data": {
            "image/png": "[encoded data removed]",
            "text/plain": [
              "<Figure size 432x288 with 1 Axes>"
            ]
          },
          "metadata": {
            "tags": [],
            "needs_background": "light"
          }
        }
      ]
    },
    {
      "cell_type": "code",
      "metadata": {
        "id": "AdmlpYnGFW9h",
        "outputId": "b252f00c-37d5-41e7-936c-956725dceac8",
        "colab": {
          "base_uri": "https://localhost:8080/",
          "height": 335
        }
      },
      "source": [
        "# 異常値をNanで置き換えて、ヒストグラムを可視化\n",
        "app_train_fill_mean['DAYS_EMPLOYED'].replace({365243: np.nan}, inplace = True)\n",
        "plt.hist(app_train_fill_mean['DAYS_EMPLOYED']);"
      ],
      "execution_count": null,
      "outputs": [
        {
          "output_type": "display_data",
          "data": {
            "image/png": "[encoded data removed]",
            "text/plain": [
              "<Figure size 432x288 with 1 Axes>"
            ]
          },
          "metadata": {
            "tags": [],
            "needs_background": "light"
          }
        }
      ]
    },
    {
      "cell_type": "code",
      "metadata": {
        "id": "243iD_VKFgSL"
      },
      "source": [
        "#NaNで置き換えたところを、平均値で埋める\n",
        "mean = app_train_fill_mean.mean()\n",
        "\n",
        "app_train_fill_mean = app_train_fill_mean.fillna(mean)"
      ],
      "execution_count": null,
      "outputs": []
    },
    {
      "cell_type": "code",
      "metadata": {
        "id": "yVxGm-2WFlA9",
        "outputId": "530c13e7-bd04-490b-8f7b-18c75273ed1f",
        "colab": {
          "base_uri": "https://localhost:8080/"
        }
      },
      "source": [
        "data = app_train_fill_mean\n",
        "\n",
        "missing = data.isnull().sum()[data.isnull().sum()>0].sort_values(ascending=False)\n",
        "missing_train = pd.DataFrame({'欠損数':missing,\n",
        "                           '欠損率':missing/len(data)*100})\n",
        "\n",
        "print('欠損値を含む列数:',len(missing_train))"
      ],
      "execution_count": null,
      "outputs": [
        {
          "output_type": "stream",
          "text": [
            "欠損値を含む列数: 0\n"
          ],
          "name": "stdout"
        }
      ]
    },
    {
      "cell_type": "code",
      "metadata": {
        "id": "fUC4GY8yFoAB",
        "outputId": "f95b9742-2298-446c-ccac-93c59f25730d",
        "colab": {
          "base_uri": "https://localhost:8080/"
        }
      },
      "source": [
        "feature = []\n",
        "for i in app_train:\n",
        "    if i not in 'TARGET':\n",
        "        feature.append(i)\n",
        "print('特徴量数:', len(feature))"
      ],
      "execution_count": null,
      "outputs": [
        {
          "output_type": "stream",
          "text": [
            "特徴量数: 239\n"
          ],
          "name": "stdout"
        }
      ]
    },
    {
      "cell_type": "markdown",
      "metadata": {
        "id": "O_VEud6I-FaB"
      },
      "source": [
        "## Notebookを参考にして、新たな特徴量を作成"
      ]
    },
    {
      "cell_type": "code",
      "metadata": {
        "id": "SYi67rAPF1dC"
      },
      "source": [
        "# 収入に対するクレジット金額の割合\n",
        "app_train_fill_mean['CREDIT_INCOME_PERCENT'] = \\\n",
        "app_train_fill_mean['AMT_CREDIT'] / app_train_fill_mean['AMT_INCOME_TOTAL']\n",
        "\n",
        "# 収入に対する年金の割合\n",
        "app_train_fill_mean['ANNUITY_INCOME_PERCENT'] = \\\n",
        "app_train_fill_mean['AMT_ANNUITY'] / app_train_fill_mean['AMT_INCOME_TOTAL']\n",
        "\n",
        "# クレジット金額対する年金の割合\n",
        "app_train_fill_mean['CREDIT_TERM'] = \\\n",
        "app_train_fill_mean['AMT_ANNUITY'] / app_train_fill_mean['AMT_CREDIT']\n",
        "\n",
        "# 年齢に対する雇用日数の割合\n",
        "app_train_fill_mean['DAYS_EMPLOYED_PERCENT'] = \\\n",
        "app_train_fill_mean['DAYS_EMPLOYED'] / app_train_fill_mean['DAYS_BIRTH']"
      ],
      "execution_count": null,
      "outputs": []
    },
    {
      "cell_type": "code",
      "metadata": {
        "id": "sfmx7FpWGAVO",
        "outputId": "2bbcac78-4d7a-4937-fc11-d645ffbd1a0a",
        "colab": {
          "base_uri": "https://localhost:8080/"
        }
      },
      "source": [
        "print('Training Features shape: ', app_train_fill_mean.shape)"
      ],
      "execution_count": null,
      "outputs": [
        {
          "output_type": "stream",
          "text": [
            "Training Features shape:  (307511, 244)\n"
          ],
          "name": "stdout"
        }
      ]
    },
    {
      "cell_type": "code",
      "metadata": {
        "id": "OhVwmAp_GJfO",
        "outputId": "c1d5e6f2-32ac-4cb9-d309-c061436da521",
        "colab": {
          "base_uri": "https://localhost:8080/"
        }
      },
      "source": [
        "feature = []\n",
        "for i in app_train_fill_mean:\n",
        "    if i not in 'TARGET':\n",
        "        feature.append(i)\n",
        "print('特徴量数:',len(feature))"
      ],
      "execution_count": null,
      "outputs": [
        {
          "output_type": "stream",
          "text": [
            "特徴量数: 243\n"
          ],
          "name": "stdout"
        }
      ]
    },
    {
      "cell_type": "markdown",
      "metadata": {
        "id": "L26aqDxY-FaK"
      },
      "source": [
        "## testデータにも同じ処理を施す"
      ]
    },
    {
      "cell_type": "code",
      "metadata": {
        "id": "rIULvXXhGZvg"
      },
      "source": [
        "app_test_fill_mean = app_test.copy()"
      ],
      "execution_count": null,
      "outputs": []
    },
    {
      "cell_type": "code",
      "metadata": {
        "id": "DbHj3ATPGlnF",
        "outputId": "ef51bbf1-3222-41e5-fbdc-c5b801ad6efa",
        "colab": {
          "base_uri": "https://localhost:8080/"
        }
      },
      "source": [
        "# 年単位に変換\n",
        "app_test_fill_mean['DAYS_BIRTH'] = (app_test_fill_mean['DAYS_BIRTH']/-365)\n",
        "app_test_fill_mean['DAYS_BIRTH'].describe()"
      ],
      "execution_count": null,
      "outputs": [
        {
          "output_type": "execute_result",
          "data": {
            "text/plain": [
              "count    48744.000000\n",
              "mean        44.022150\n",
              "std         11.851782\n",
              "min         20.104110\n",
              "25%         34.235616\n",
              "50%         43.246575\n",
              "75%         53.800000\n",
              "max         69.027397\n",
              "Name: DAYS_BIRTH, dtype: float64"
            ]
          },
          "metadata": {
            "tags": []
          },
          "execution_count": 52
        }
      ]
    },
    {
      "cell_type": "code",
      "metadata": {
        "id": "KgGQegLmGoRI",
        "outputId": "c7e6abff-4f92-4504-c473-1de426c1a571",
        "colab": {
          "base_uri": "https://localhost:8080/",
          "height": 332
        }
      },
      "source": [
        "app_test_fill_mean['DAYS_EMPLOYED'].replace({365243: np.nan}, inplace = True)\n",
        "plt.hist(app_test_fill_mean['DAYS_EMPLOYED']);"
      ],
      "execution_count": null,
      "outputs": [
        {
          "output_type": "display_data",
          "data": {
            "image/png": "[encoded data removed]",
            "text/plain": [
              "<Figure size 432x288 with 1 Axes>"
            ]
          },
          "metadata": {
            "tags": [],
            "needs_background": "light"
          }
        }
      ]
    },
    {
      "cell_type": "code",
      "metadata": {
        "id": "YpILr55PGtJc"
      },
      "source": [
        "# テストデータをトレインデータの平均で埋める\n",
        "mean = app_test_fill_mean.mean()\n",
        "app_test_fill_mean = app_test_fill_mean.fillna(mean)"
      ],
      "execution_count": null,
      "outputs": []
    },
    {
      "cell_type": "code",
      "metadata": {
        "id": "KDL_GXQSGvdX"
      },
      "source": [
        "# テストデータにも、トレインデータと同様に特徴量を作成する\n",
        "app_test_fill_mean['CREDIT_INCOME_PERCENT'] = \\\n",
        "app_test_fill_mean['AMT_CREDIT'] / app_test_fill_mean['AMT_INCOME_TOTAL']\n",
        "\n",
        "app_test_fill_mean['ANNUITY_INCOME_PERCENT'] = \\\n",
        "app_test_fill_mean['AMT_ANNUITY'] / app_test_fill_mean['AMT_INCOME_TOTAL']\n",
        "\n",
        "app_test_fill_mean['CREDIT_TERM'] = \\\n",
        "app_test_fill_mean['AMT_ANNUITY'] / app_test_fill_mean['AMT_CREDIT']\n",
        "\n",
        "app_test_fill_mean['DAYS_EMPLOYED_PERCENT'] = \\\n",
        "app_test_fill_mean['DAYS_EMPLOYED'] / app_test_fill_mean['DAYS_BIRTH']"
      ],
      "execution_count": null,
      "outputs": []
    },
    {
      "cell_type": "code",
      "metadata": {
        "id": "3jXJD_EEGx1K",
        "outputId": "c9d0ce01-da73-4c73-f498-56acb6f6d428",
        "colab": {
          "base_uri": "https://localhost:8080/"
        }
      },
      "source": [
        "print('Training Features shape: ', app_test_fill_mean.shape)"
      ],
      "execution_count": null,
      "outputs": [
        {
          "output_type": "stream",
          "text": [
            "Training Features shape:  (48744, 243)\n"
          ],
          "name": "stdout"
        }
      ]
    },
    {
      "cell_type": "code",
      "metadata": {
        "id": "HKky2tXFGz5L",
        "outputId": "0e951c77-9358-4758-aea9-f474d14238ce",
        "colab": {
          "base_uri": "https://localhost:8080/"
        }
      },
      "source": [
        "# 特徴量の選択（TARGET以外使用）\n",
        "feature = []\n",
        "for i in app_train_fill_mean:\n",
        "    if i not in 'TARGET':\n",
        "        feature.append(i)\n",
        "print('特徴量数:',len(feature))"
      ],
      "execution_count": null,
      "outputs": [
        {
          "output_type": "stream",
          "text": [
            "特徴量数: 243\n"
          ],
          "name": "stdout"
        }
      ]
    },
    {
      "cell_type": "markdown",
      "metadata": {
        "id": "RqnEtY-G-Fae"
      },
      "source": [
        "## 学習、推定、評価"
      ]
    },
    {
      "cell_type": "code",
      "metadata": {
        "id": "Q3T7bA_0-Fae",
        "outputId": "a02ffb3f-a0cb-4dca-d111-cfd9534e6031"
      },
      "source": [
        "from sklearn.model_selection import train_test_split\n",
        "\n",
        "X = app_train_fill_mean[feature].values\n",
        "y = app_train_fill_mean['TARGET'].values\n",
        "\n",
        "X_train, X_test, y_train, y_test = train_test_split(X, y, random_state=0)\n",
        "\n",
        "print('X_train.shape:',X_train.shape)\n",
        "print('X_valid.shpae:',X_valid.shape)\n",
        "print('y_train.shpae:',y_train.shape)\n",
        "print('y_valid.shpae:',y_valid.shape)"
      ],
      "execution_count": null,
      "outputs": [
        {
          "output_type": "stream",
          "text": [
            "X_train.shape: (230633, 243)\n",
            "X_valid.shpae: (76878, 239)\n",
            "y_train.shpae: (230633,)\n",
            "y_valid.shpae: (76878,)\n"
          ],
          "name": "stdout"
        }
      ]
    },
    {
      "cell_type": "code",
      "metadata": {
        "id": "ZbEtjw_AG5ve",
        "outputId": "4b8295d5-6380-4afd-c7db-b98551ce1eeb",
        "colab": {
          "base_uri": "https://localhost:8080/"
        }
      },
      "source": [
        "from sklearn.preprocessing import StandardScaler\n",
        "\n",
        "# 標準化クラスをインスタンス化\n",
        "scaler = StandardScaler()\n",
        "\n",
        "# 配列Xの平均と分散を計算して記憶する\n",
        "scaler.fit(X_train)\n",
        "\n",
        "# 標準化\n",
        "X_train_scd = scaler.transform(X_train)\n",
        "X_test_scd = scaler.transform(X_test)\n",
        "\n",
        "#表示行数を１０行に設定\n",
        "np.set_printoptions(threshold=10)\n",
        "\n",
        "print(X_train_scd)\n",
        "print(X_test_scd)"
      ],
      "execution_count": null,
      "outputs": [
        {
          "output_type": "stream",
          "text": [
            "[[-1.22214563  3.08671705  1.39335828 ... -1.30974201 -0.16386951\n",
            "   0.49927008]\n",
            " [ 0.01253087 -0.32396879  1.39335828 ...  0.20852589  0.09595042\n",
            "   0.16416715]\n",
            " [-0.07199509 -0.32396879 -0.7176905  ... -0.5657998   2.17040682\n",
            "   0.27451683]\n",
            " ...\n",
            " [-0.01801564  3.08671705 -0.7176905  ... -0.64573246 -0.16386951\n",
            "   0.11885863]\n",
            " [-0.40501919 -0.32396879  1.39335828 ... -0.99245947  1.44616174\n",
            "  -0.39633289]\n",
            " [ 1.71076695 -0.32396879 -0.7176905  ...  1.10433514 -0.50768784\n",
            "   0.05557196]]\n",
            "[[-1.25198175 -0.32396879 -0.7176905  ... -0.09032098 -0.23427707\n",
            "   0.41646318]\n",
            " [ 0.82612484 -0.32396879 -0.7176905  ... -1.17952068 -0.21549879\n",
            "   0.30610612]\n",
            " [ 1.53374511  3.08671705  1.39335828 ... -0.85700823 -0.16386951\n",
            "  -0.66627359]\n",
            " ...\n",
            " [ 0.63156722 -0.32396879 -0.7176905  ...  1.2456082   0.72048749\n",
            "   0.27087669]\n",
            " [-1.64620592 -0.32396879 -0.7176905  ...  0.4338867  -0.94605272\n",
            "   0.73548527]\n",
            " [ 0.13714    -0.32396879  1.39335828 ...  0.24917132 -1.11366101\n",
            "   1.00544835]]\n"
          ],
          "name": "stdout"
        }
      ]
    },
    {
      "cell_type": "code",
      "metadata": {
        "id": "j0LVXa17-Faj",
        "outputId": "5cc6f1b3-38ee-43b9-88b0-860b5d6c8e8a"
      },
      "source": [
        "# ランダムフォレスト\n",
        "from sklearn.ensemble import RandomForestClassifier\n",
        "from sklearn.metrics import roc_curve, roc_auc_score\n",
        "\n",
        "\n",
        "clf = RandomForestClassifier(max_depth=2, random_state=0)\n",
        "\n",
        "clf.fit(X_train_scd, y_train)\n",
        "\n",
        "y_pred = clf.predict_proba(X_test_scd)[:,1]\n",
        "\n",
        "\n",
        "# FPR,TPR\n",
        "fpr, tpr, thresholds = roc_curve(y_test, y_pred)\n",
        "print('ランダムフォレスト学習　AUC : ',roc_auc_score(y_test, y_pred))"
      ],
      "execution_count": null,
      "outputs": [
        {
          "output_type": "stream",
          "text": [
            "ランダムフォレスト学習　AUC :  0.7050051164219637\n"
          ],
          "name": "stdout"
        }
      ]
    },
    {
      "cell_type": "code",
      "metadata": {
        "id": "eP9aFrAuG883",
        "outputId": "71a86c40-ab5f-48db-c9cf-2359613f273f",
        "colab": {
          "base_uri": "https://localhost:8080/"
        }
      },
      "source": [
        "# ロジスティック回帰\n",
        "from sklearn.linear_model import LogisticRegression\n",
        "import warnings\n",
        "warnings.simplefilter('ignore')\n",
        "\n",
        "clf = LogisticRegression(random_state=0)\n",
        "\n",
        "clf.fit(X_train_scd, y_train)\n",
        "\n",
        "y_pred = clf.predict_proba(X_test_scd)[:, 1]\n",
        "\n",
        "fpr, tpr, thresholds = roc_curve(y_test, y_pred)\n",
        "print('ロジスティック回帰学習　AUC : ', roc_auc_score(y_test, y_pred))"
      ],
      "execution_count": null,
      "outputs": [
        {
          "output_type": "stream",
          "text": [
            "ロジスティック回帰学習　AUC :  0.7508375944438744\n"
          ],
          "name": "stdout"
        }
      ]
    },
    {
      "cell_type": "markdown",
      "metadata": {
        "id": "5xs1wPE6HGNh"
      },
      "source": [
        "### **問題1　クロスバリデーション**"
      ]
    },
    {
      "cell_type": "code",
      "metadata": {
        "id": "s8DK5ufNK3GX",
        "outputId": "921ca091-672d-4f5b-cb46-2db0d4db4b51",
        "colab": {
          "base_uri": "https://localhost:8080/"
        }
      },
      "source": [
        "import numpy as np\n",
        "from sklearn.model_selection import KFold\n",
        "\n",
        "# train,validデータの作成\n",
        "X = app_train_fill_mean[feature].values\n",
        "y = app_train_fill_mean['TARGET'].values\n",
        "\n",
        "kf = KFold(n_splits=5)\n",
        "for train_index, test_index in kf.split(X, y):\n",
        "    print(\"train_index:\", train_index, \"test_index:\", test_index)"
      ],
      "execution_count": null,
      "outputs": [
        {
          "output_type": "stream",
          "text": [
            "train_index: [ 61503  61504  61505 ... 307508 307509 307510] test_index: [    0     1     2 ... 61500 61501 61502]\n",
            "train_index: [     0      1      2 ... 307508 307509 307510] test_index: [ 61503  61504  61505 ... 123002 123003 123004]\n",
            "train_index: [     0      1      2 ... 307508 307509 307510] test_index: [123005 123006 123007 ... 184504 184505 184506]\n",
            "train_index: [     0      1      2 ... 307508 307509 307510] test_index: [184507 184508 184509 ... 246006 246007 246008]\n",
            "train_index: [     0      1      2 ... 246006 246007 246008] test_index: [246009 246010 246011 ... 307508 307509 307510]\n"
          ],
          "name": "stdout"
        }
      ]
    },
    {
      "cell_type": "code",
      "metadata": {
        "id": "Sua3GzR7-Faq"
      },
      "source": [
        "# 指標値格納リスト\n",
        "randomf = []\n",
        "logistic = []"
      ],
      "execution_count": null,
      "outputs": []
    },
    {
      "cell_type": "code",
      "metadata": {
        "id": "IJL2hI1yMdeO"
      },
      "source": [
        "for train_index, test_index in kf.split(X, y):\n",
        "    # 標準化クラスをインスタンス化\n",
        "    scaler = StandardScaler()\n",
        "\n",
        "    # 配列Xの平均と分散を計算して記憶する\n",
        "    scaler.fit(X[train_index])\n",
        "\n",
        "    # 標準化\n",
        "    X_train_scd = scaler.transform(X[train_index])\n",
        "    X_test_scd = scaler.transform(X[test_index])\n",
        "\n",
        "    # ランダムフォレスト\n",
        "    clf = RandomForestClassifier(max_depth=2, random_state=0)\n",
        "    clf.fit(X_train_scd, y[train_index])\n",
        "    y_pred = clf.predict_proba(X_test_scd)[:,1]\n",
        "\n",
        "    # FPR,TPR\n",
        "    fpr, tpr, thresholds = roc_curve(y[test_index], y_pred)\n",
        "    score = roc_auc_score(y[test_index], y_pred)\n",
        "    randomf.append(score)"
      ],
      "execution_count": null,
      "outputs": []
    },
    {
      "cell_type": "code",
      "metadata": {
        "id": "GFi4z7Mc-Fau",
        "outputId": "b3013c1c-80c0-4484-d044-70d21bfd5b8c"
      },
      "source": [
        "randomf = np.array(randomf)\n",
        "\n",
        "print('ランダムフォレスト\\n分割数 : {}\\n平均AUC面積 : {}'.format(len(randomf), randomf.mean()))"
      ],
      "execution_count": null,
      "outputs": [
        {
          "output_type": "stream",
          "text": [
            "ランダムフォレスト\n",
            "分割数 : 5\n",
            "平均AUC面積 : 0.7018039043113335\n"
          ],
          "name": "stdout"
        }
      ]
    },
    {
      "cell_type": "code",
      "metadata": {
        "id": "iGCYOkxZd4KL"
      },
      "source": [
        "# ロジスティック回帰\n",
        "for train_index, test_index in kf.split(X, y):\n",
        "    # 標準化クラスをインスタンス化\n",
        "    scaler = StandardScaler()\n",
        "\n",
        "    # 配列Xの平均と分散を計算して記憶する\n",
        "    scaler.fit(X[train_index])\n",
        "\n",
        "    # 標準化\n",
        "    X_train_scd = scaler.transform(X[train_index])\n",
        "    X_test_scd = scaler.transform(X[test_index])\n",
        "\n",
        "    # ロジスティック回帰\n",
        "    clf = LogisticRegression(random_state=0)\n",
        "    clf.fit(X_train_scd, y[train_index])\n",
        "    y_pred = clf.predict_proba(X_test_scd)[:,1]\n",
        "\n",
        "    # FPR,TPR\n",
        "    fpr, tpr, thresholds = roc_curve(y[test_index], y_pred)\n",
        "    score = roc_auc_score(y[test_index], y_pred)\n",
        "    logistic.append(score)"
      ],
      "execution_count": null,
      "outputs": []
    },
    {
      "cell_type": "code",
      "metadata": {
        "id": "JVWxAtJsncDk",
        "outputId": "116a754f-f767-4a30-d4c6-1e543874b265",
        "colab": {
          "base_uri": "https://localhost:8080/"
        }
      },
      "source": [
        "logistic = np.array(logistic)\n",
        "\n",
        "print('ロジスティック回帰\\n分割数 : {}\\n平均AUC面積 : {}'.format(len(logistic), logistic.mean()))"
      ],
      "execution_count": null,
      "outputs": [
        {
          "output_type": "stream",
          "text": [
            "ロジスティック回帰\n",
            "分割数 : 5\n",
            "平均AUC面積 : 0.7481410678236979\n"
          ],
          "name": "stdout"
        }
      ]
    },
    {
      "cell_type": "markdown",
      "metadata": {
        "id": "MvyhoX631c-s"
      },
      "source": [
        "### **問題2　グリッドサーチ**"
      ]
    },
    {
      "cell_type": "code",
      "metadata": {
        "id": "hNuydup32hr3"
      },
      "source": [
        "### 探索するパラメータ\n",
        "def param():\n",
        "    ret = {\n",
        "        'C': [0.01, 0.1, 1],\n",
        "        'penalty': ['l1', 'l2'],\n",
        "    }\n",
        "    return ret"
      ],
      "execution_count": null,
      "outputs": []
    },
    {
      "cell_type": "code",
      "metadata": {
        "id": "WXLZl4AdbpuM",
        "outputId": "a77a35e8-d65a-493b-d586-01cf4a890ffe"
      },
      "source": [
        "from sklearn.model_selection import GridSearchCV\n",
        "from sklearn.preprocessing import StandardScaler\n",
        "\n",
        "X_train, X_valid, y_train, y_valid = train_test_split(X,\n",
        "                                                      y,\n",
        "                                                      test_size=0.25,\n",
        "                                                      random_state=0)\n",
        "\n",
        "# 標準化クラスをインスタンス化\n",
        "scaler = StandardScaler()\n",
        "\n",
        "# 配列Xの平均と分散を計算して記憶する\n",
        "scaler.fit(X_train)\n",
        "\n",
        "# 標準化\n",
        "X_train_scd = scaler.transform(X_train)\n",
        "X_valid_scd = scaler.transform(X_valid)\n",
        "\n",
        "clf = LogisticRegression(random_state=0)\n",
        "\n",
        "gscv = GridSearchCV(clf, param(), cv=5, verbose=0, scoring='roc_auc')\n",
        "gscv.fit(X_train_scd, y_train)"
      ],
      "execution_count": null,
      "outputs": [
        {
          "output_type": "execute_result",
          "data": {
            "text/plain": [
              "GridSearchCV(cv=5, error_score=nan,\n",
              "             estimator=LogisticRegression(C=1.0, class_weight=None, dual=False,\n",
              "                                          fit_intercept=True,\n",
              "                                          intercept_scaling=1, l1_ratio=None,\n",
              "                                          max_iter=100, multi_class='auto',\n",
              "                                          n_jobs=None, penalty='l2',\n",
              "                                          random_state=0, solver='lbfgs',\n",
              "                                          tol=0.0001, verbose=0,\n",
              "                                          warm_start=False),\n",
              "             iid='deprecated', n_jobs=None,\n",
              "             param_grid={'C': [0.01, 0.1, 1], 'penalty': ['l1', 'l2']},\n",
              "             pre_dispatch='2*n_jobs', refit=True, return_train_score=False,\n",
              "             scoring='roc_auc', verbose=0)"
            ]
          },
          "metadata": {
            "tags": []
          },
          "execution_count": 83
        }
      ]
    },
    {
      "cell_type": "code",
      "metadata": {
        "id": "vheyTQzo-Fa4",
        "outputId": "a996ff9b-ff24-4dbd-e8e5-d104571fd42a"
      },
      "source": [
        "gs_result = pd.DataFrame.from_dict(gscv.cv_results_)\n",
        "gs_result.T"
      ],
      "execution_count": null,
      "outputs": [
        {
          "output_type": "execute_result",
          "data": {
            "text/html": [
              "<div>\n",
              "<style scoped>\n",
              "    .dataframe tbody tr th:only-of-type {\n",
              "        vertical-align: middle;\n",
              "    }\n",
              "\n",
              "    .dataframe tbody tr th {\n",
              "        vertical-align: top;\n",
              "    }\n",
              "\n",
              "    .dataframe thead th {\n",
              "        text-align: right;\n",
              "    }\n",
              "</style>\n",
              "<table border=\"1\" class=\"dataframe\">\n",
              "  <thead>\n",
              "    <tr style=\"text-align: right;\">\n",
              "      <th></th>\n",
              "      <th>0</th>\n",
              "      <th>1</th>\n",
              "      <th>2</th>\n",
              "      <th>3</th>\n",
              "      <th>4</th>\n",
              "      <th>5</th>\n",
              "    </tr>\n",
              "  </thead>\n",
              "  <tbody>\n",
              "    <tr>\n",
              "      <th>mean_fit_time</th>\n",
              "      <td>0.319535</td>\n",
              "      <td>5.47742</td>\n",
              "      <td>0.272163</td>\n",
              "      <td>6.41001</td>\n",
              "      <td>0.432517</td>\n",
              "      <td>6.48651</td>\n",
              "    </tr>\n",
              "    <tr>\n",
              "      <th>std_fit_time</th>\n",
              "      <td>0.229267</td>\n",
              "      <td>1.23359</td>\n",
              "      <td>0.0690436</td>\n",
              "      <td>0.659581</td>\n",
              "      <td>0.249479</td>\n",
              "      <td>0.625617</td>\n",
              "    </tr>\n",
              "    <tr>\n",
              "      <th>mean_score_time</th>\n",
              "      <td>0</td>\n",
              "      <td>0.0400508</td>\n",
              "      <td>0</td>\n",
              "      <td>0.0318292</td>\n",
              "      <td>0</td>\n",
              "      <td>0.0386958</td>\n",
              "    </tr>\n",
              "    <tr>\n",
              "      <th>std_score_time</th>\n",
              "      <td>0</td>\n",
              "      <td>0.00945525</td>\n",
              "      <td>0</td>\n",
              "      <td>0.00225454</td>\n",
              "      <td>0</td>\n",
              "      <td>0.0114205</td>\n",
              "    </tr>\n",
              "    <tr>\n",
              "      <th>param_C</th>\n",
              "      <td>0.01</td>\n",
              "      <td>0.01</td>\n",
              "      <td>0.1</td>\n",
              "      <td>0.1</td>\n",
              "      <td>1</td>\n",
              "      <td>1</td>\n",
              "    </tr>\n",
              "    <tr>\n",
              "      <th>param_penalty</th>\n",
              "      <td>l1</td>\n",
              "      <td>l2</td>\n",
              "      <td>l1</td>\n",
              "      <td>l2</td>\n",
              "      <td>l1</td>\n",
              "      <td>l2</td>\n",
              "    </tr>\n",
              "    <tr>\n",
              "      <th>params</th>\n",
              "      <td>{'C': 0.01, 'penalty': 'l1'}</td>\n",
              "      <td>{'C': 0.01, 'penalty': 'l2'}</td>\n",
              "      <td>{'C': 0.1, 'penalty': 'l1'}</td>\n",
              "      <td>{'C': 0.1, 'penalty': 'l2'}</td>\n",
              "      <td>{'C': 1, 'penalty': 'l1'}</td>\n",
              "      <td>{'C': 1, 'penalty': 'l2'}</td>\n",
              "    </tr>\n",
              "    <tr>\n",
              "      <th>split0_test_score</th>\n",
              "      <td>NaN</td>\n",
              "      <td>0.750471</td>\n",
              "      <td>NaN</td>\n",
              "      <td>0.750607</td>\n",
              "      <td>NaN</td>\n",
              "      <td>0.750564</td>\n",
              "    </tr>\n",
              "    <tr>\n",
              "      <th>split1_test_score</th>\n",
              "      <td>NaN</td>\n",
              "      <td>0.748251</td>\n",
              "      <td>NaN</td>\n",
              "      <td>0.748201</td>\n",
              "      <td>NaN</td>\n",
              "      <td>0.748043</td>\n",
              "    </tr>\n",
              "    <tr>\n",
              "      <th>split2_test_score</th>\n",
              "      <td>NaN</td>\n",
              "      <td>0.735683</td>\n",
              "      <td>NaN</td>\n",
              "      <td>0.735755</td>\n",
              "      <td>NaN</td>\n",
              "      <td>0.735662</td>\n",
              "    </tr>\n",
              "    <tr>\n",
              "      <th>split3_test_score</th>\n",
              "      <td>NaN</td>\n",
              "      <td>0.751064</td>\n",
              "      <td>NaN</td>\n",
              "      <td>0.750964</td>\n",
              "      <td>NaN</td>\n",
              "      <td>0.750876</td>\n",
              "    </tr>\n",
              "    <tr>\n",
              "      <th>split4_test_score</th>\n",
              "      <td>NaN</td>\n",
              "      <td>0.74823</td>\n",
              "      <td>NaN</td>\n",
              "      <td>0.748088</td>\n",
              "      <td>NaN</td>\n",
              "      <td>0.747915</td>\n",
              "    </tr>\n",
              "    <tr>\n",
              "      <th>mean_test_score</th>\n",
              "      <td>NaN</td>\n",
              "      <td>0.74674</td>\n",
              "      <td>NaN</td>\n",
              "      <td>0.746723</td>\n",
              "      <td>NaN</td>\n",
              "      <td>0.746612</td>\n",
              "    </tr>\n",
              "    <tr>\n",
              "      <th>std_test_score</th>\n",
              "      <td>NaN</td>\n",
              "      <td>0.00564572</td>\n",
              "      <td>NaN</td>\n",
              "      <td>0.00561091</td>\n",
              "      <td>NaN</td>\n",
              "      <td>0.0056116</td>\n",
              "    </tr>\n",
              "    <tr>\n",
              "      <th>rank_test_score</th>\n",
              "      <td>4</td>\n",
              "      <td>1</td>\n",
              "      <td>5</td>\n",
              "      <td>2</td>\n",
              "      <td>6</td>\n",
              "      <td>3</td>\n",
              "    </tr>\n",
              "  </tbody>\n",
              "</table>\n",
              "</div>"
            ],
            "text/plain": [
              "                                              0                             1  \\\n",
              "mean_fit_time                          0.319535                       5.47742   \n",
              "std_fit_time                           0.229267                       1.23359   \n",
              "mean_score_time                               0                     0.0400508   \n",
              "std_score_time                                0                    0.00945525   \n",
              "param_C                                    0.01                          0.01   \n",
              "param_penalty                                l1                            l2   \n",
              "params             {'C': 0.01, 'penalty': 'l1'}  {'C': 0.01, 'penalty': 'l2'}   \n",
              "split0_test_score                           NaN                      0.750471   \n",
              "split1_test_score                           NaN                      0.748251   \n",
              "split2_test_score                           NaN                      0.735683   \n",
              "split3_test_score                           NaN                      0.751064   \n",
              "split4_test_score                           NaN                       0.74823   \n",
              "mean_test_score                             NaN                       0.74674   \n",
              "std_test_score                              NaN                    0.00564572   \n",
              "rank_test_score                               4                             1   \n",
              "\n",
              "                                             2                            3  \\\n",
              "mean_fit_time                         0.272163                      6.41001   \n",
              "std_fit_time                         0.0690436                     0.659581   \n",
              "mean_score_time                              0                    0.0318292   \n",
              "std_score_time                               0                   0.00225454   \n",
              "param_C                                    0.1                          0.1   \n",
              "param_penalty                               l1                           l2   \n",
              "params             {'C': 0.1, 'penalty': 'l1'}  {'C': 0.1, 'penalty': 'l2'}   \n",
              "split0_test_score                          NaN                     0.750607   \n",
              "split1_test_score                          NaN                     0.748201   \n",
              "split2_test_score                          NaN                     0.735755   \n",
              "split3_test_score                          NaN                     0.750964   \n",
              "split4_test_score                          NaN                     0.748088   \n",
              "mean_test_score                            NaN                     0.746723   \n",
              "std_test_score                             NaN                   0.00561091   \n",
              "rank_test_score                              5                            2   \n",
              "\n",
              "                                           4                          5  \n",
              "mean_fit_time                       0.432517                    6.48651  \n",
              "std_fit_time                        0.249479                   0.625617  \n",
              "mean_score_time                            0                  0.0386958  \n",
              "std_score_time                             0                  0.0114205  \n",
              "param_C                                    1                          1  \n",
              "param_penalty                             l1                         l2  \n",
              "params             {'C': 1, 'penalty': 'l1'}  {'C': 1, 'penalty': 'l2'}  \n",
              "split0_test_score                        NaN                   0.750564  \n",
              "split1_test_score                        NaN                   0.748043  \n",
              "split2_test_score                        NaN                   0.735662  \n",
              "split3_test_score                        NaN                   0.750876  \n",
              "split4_test_score                        NaN                   0.747915  \n",
              "mean_test_score                          NaN                   0.746612  \n",
              "std_test_score                           NaN                  0.0056116  \n",
              "rank_test_score                            6                          3  "
            ]
          },
          "metadata": {
            "tags": []
          },
          "execution_count": 84
        }
      ]
    },
    {
      "cell_type": "code",
      "metadata": {
        "id": "YeciV9cE-Fa5",
        "outputId": "ba34e57e-d01a-4857-d773-7b8d229080a8"
      },
      "source": [
        "display(gscv.best_params_)\n",
        "\n",
        "# 精度が一番高いモデルをbestに格納\n",
        "best = gscv.best_estimator_\n",
        "\n",
        "display(X_valid.shape)\n",
        "# \n",
        "pred = best.predict_proba(X_valid_scd)\n",
        "\n"
      ],
      "execution_count": null,
      "outputs": [
        {
          "output_type": "display_data",
          "data": {
            "text/plain": [
              "{'C': 0.01, 'penalty': 'l2'}"
            ]
          },
          "metadata": {
            "tags": []
          }
        },
        {
          "output_type": "display_data",
          "data": {
            "text/plain": [
              "(76878, 243)"
            ]
          },
          "metadata": {
            "tags": []
          }
        }
      ]
    },
    {
      "cell_type": "code",
      "metadata": {
        "id": "fy2kMtmj-Fa7",
        "outputId": "d858392e-285f-4479-b716-4d7e9c7ff188"
      },
      "source": [
        "from sklearn.metrics import confusion_matrix\n",
        "\n",
        "print('学習モデル: ロジスティック回帰')\n",
        "print('探索パラメータ：', param())\n",
        "print('分割数: ', 5)\n",
        "print('ベストパラメータ: ', gscv.best_params_)\n",
        "print('平均精度: ', gscv.best_score_)\n",
        "print('混合行列\\n', confusion_matrix(y_valid, best.predict(X_valid_scd)))"
      ],
      "execution_count": null,
      "outputs": [
        {
          "output_type": "stream",
          "text": [
            "学習モデル: ロジスティック回帰\n",
            "探索パラメータ： {'C': [0.01, 0.1, 1], 'penalty': ['l1', 'l2']}\n",
            "分割数:  5\n",
            "ベストパラメータ:  {'C': 0.01, 'penalty': 'l2'}\n",
            "平均精度:  0.746739847383936\n",
            "混合行列\n",
            " [[70715    72]\n",
            " [ 6022    69]]\n"
          ],
          "name": "stdout"
        }
      ]
    },
    {
      "cell_type": "markdown",
      "metadata": {
        "id": "unUkdZeV-Fa9"
      },
      "source": [
        "FP(返済不能の人を返済可と判断した個数)が6022個。\n",
        "多いやんけ。"
      ]
    },
    {
      "cell_type": "markdown",
      "metadata": {
        "id": "Tofu4d39-Fa9"
      },
      "source": [
        "## 問題3　Notebookを参考にパラメータの探索の手法を調べる\n",
        "\n",
        "[Intro to Model Tuning: Grid and Random Search](https://www.kaggle.com/willkoehrsen/intro-to-model-tuning-grid-and-random-search)\n",
        "\n",
        "Gradient Boosting Machineというモデルがあり、現在Kaggleでのほとんどの競技会で最高のパフォーマンスを発揮する方法らしい。また、学習モデルはほとんどの場合、決定木を採用されるとのこと。\n",
        "\n",
        "参考にしたNotebookはLightGBMライブラリのGradientBoostingMachineを使用している。とりあえず写経してみる。"
      ]
    },
    {
      "cell_type": "markdown",
      "metadata": {
        "id": "8hfBPjcz-Fa9"
      },
      "source": [
        "1. **動作確認のため、trainデータのサンプル数を16000個まで削減。trainを10000、testを6000に分割**"
      ]
    },
    {
      "cell_type": "code",
      "metadata": {
        "id": "0KZdYQFx-Fa-"
      },
      "source": [
        "#import pandas as pd\n",
        "import numpy as np\n",
        "\n",
        "# Modeling\n",
        "import lightgbm\n",
        "\n",
        "# Splitting data\n",
        "from sklearn.model_selection import train_test_split\n",
        "\n",
        "N_FOLDS = 5\n",
        "MAX_EVALS = 5"
      ],
      "execution_count": null,
      "outputs": []
    },
    {
      "cell_type": "code",
      "metadata": {
        "id": "LzWxFY0H-FbB"
      },
      "source": [
        "features = pd.read_csv('/Users/kudokoki/dive-practice/downroad_data_sets/HomeCresit/application_train.csv')\n",
        "\n",
        "# DataFrame.sample()　サンプルデータを抽出\n",
        "features = features.sample(n = 16000, random_state = 42)\n",
        "\n",
        "# Only numeric features\n",
        "features = features.select_dtypes('number') # 数値データのみ\n",
        "\n",
        "# Extract the labels\n",
        "labels = np.array(features['TARGET'].astype(np.int32)).reshape((-1, ))\n",
        "features = features.drop(columns = ['TARGET', 'SK_ID_CURR'])\n",
        "\n",
        "# Split into training and testing data\n",
        "train_features, test_features, train_labels, test_labels = train_test_split(features, labels, test_size = 6000, random_state = 50)"
      ],
      "execution_count": null,
      "outputs": []
    },
    {
      "cell_type": "code",
      "metadata": {
        "id": "fSudrwye-FbC",
        "outputId": "bd772465-4b0d-4583-b40c-a4326002343c"
      },
      "source": [
        "print(\"Training features shape: \", train_features.shape)\n",
        "print(\"Testing features shape: \", test_features.shape)"
      ],
      "execution_count": null,
      "outputs": [
        {
          "output_type": "stream",
          "text": [
            "Training features shape:  (10000, 104)\n",
            "Testing features shape:  (6000, 104)\n"
          ],
          "name": "stdout"
        }
      ]
    },
    {
      "cell_type": "markdown",
      "metadata": {
        "id": "iyV3G6si-FbG"
      },
      "source": [
        "### 早期打ち切り\n",
        "勾配ブースティングマシンで最も重要なハイパーパラメータの1つは、推定量の数（順次トレーニングされる決定木の数）です。これを検索の別のハイパーパラメータとして設定することもできますが、より良い方法があります。早期停止です。早期停止とは、指定された反復回数で検証エラーが減少しなくなるまでトレーニングすることを意味します。 GBMの場合、これはより多くの決定木をトレーニングすることを意味します。この例では、100ラウンドで早期停止を使用します。つまり、検証エラーが100ラウンド減少しなくなるまでトレーニングが続行されます。次に、検証データで最高のスコアが得られた推定量の数が、最終モデルで使用する推定量の数として選択されます。\n",
        "\n",
        "早期停止は、相互検証機能のLightGBMライブラリを使用して簡単に実装できます。"
      ]
    },
    {
      "cell_type": "code",
      "metadata": {
        "id": "1pwcuK9U-FbG"
      },
      "source": [
        "# Create a training and testing dataset\n",
        "\n",
        "# lightgbmのデータセット\n",
        "train_set = lightgbm.Dataset(data = train_features, label = train_labels)\n",
        "test_set = lightgbm.Dataset(data = test_features, label = test_labels)"
      ],
      "execution_count": null,
      "outputs": []
    },
    {
      "cell_type": "code",
      "metadata": {
        "id": "sloUGbYY-FbI",
        "outputId": "2a499bf5-9ae3-4e22-fed3-3c8a6b4d7e2e"
      },
      "source": [
        "# Get default hyperparameters\n",
        "model = lightgbm.LGBMClassifier(randum_state=0)\n",
        "default_params = model.get_params()\n",
        "# Remove the number of estimators because we set this to 10000 in the cv call\n",
        "del default_params['n_estimators']\n",
        "default_params"
      ],
      "execution_count": null,
      "outputs": [
        {
          "output_type": "execute_result",
          "data": {
            "text/plain": [
              "{'boosting_type': 'gbdt',\n",
              " 'class_weight': None,\n",
              " 'colsample_bytree': 1.0,\n",
              " 'importance_type': 'split',\n",
              " 'learning_rate': 0.1,\n",
              " 'max_depth': -1,\n",
              " 'min_child_samples': 20,\n",
              " 'min_child_weight': 0.001,\n",
              " 'min_split_gain': 0.0,\n",
              " 'n_jobs': -1,\n",
              " 'num_leaves': 31,\n",
              " 'objective': None,\n",
              " 'random_state': None,\n",
              " 'reg_alpha': 0.0,\n",
              " 'reg_lambda': 0.0,\n",
              " 'silent': True,\n",
              " 'subsample': 1.0,\n",
              " 'subsample_for_bin': 200000,\n",
              " 'subsample_freq': 0,\n",
              " 'randum_state': 0}"
            ]
          },
          "metadata": {
            "tags": []
          },
          "execution_count": 77
        }
      ]
    },
    {
      "cell_type": "markdown",
      "metadata": {
        "id": "aZygSuRz-FbK"
      },
      "source": [
        "メインとなるパラメータを確認する。\n",
        "[参考ブログ](https://www.codexa.net/lightgbm-beginner/)\n",
        "* num_leaves<br>\n",
        "LightGBMで最も重要と言っても過言ではないのがnum_leaves(葉の数)です。num_leavesは決定木の複雑度を調整します。num_leavesの値が高すぎると過学習となり、低すぎると未学習になります。num_leavesを調整する場合はmax_depth（決定木の深さ）のパラメータと一緒に調整すると良いです。\n",
        "\n",
        "\n",
        "* min_data_in_leaf <br>\n",
        "Leaf-wiseを採用しているLightGBMではmin_data_in_leafはとても重要なハイパーパラメータです。min_data_in_leafは決定木のノード（葉）の最小データ数を指定します。値が高いと決定木が深く育つのを抑えるため過学習防ぎますが、逆に未学習となる場合もあります。min_data_in_leafは訓練データのレコード数とnum_leavesに大きく影響されます。\n",
        "\n",
        "\n",
        "* max_depth<br> \n",
        "決定木の深さを指定するハイパーパラメータです。単体で調整するよりも、他のハイパーパラメータとのバランスを考えながら調整します。\n",
        "\n",
        "\n",
        "パラメータチューニングのコツがブログに記載してるので確認すること。"
      ]
    },
    {
      "cell_type": "code",
      "metadata": {
        "id": "m1SIvHNj-FbK"
      },
      "source": [
        "# Cross validation with early stopping\n",
        "cv_results = lightgbm.cv(default_params,\n",
        "                    train_set,\n",
        "                    num_boost_round=10000,\n",
        "                    early_stopping_rounds=100,\n",
        "                    metrics='auc',\n",
        "                    nfold=N_FOLDS,\n",
        "                    seed=42)"
      ],
      "execution_count": null,
      "outputs": []
    },
    {
      "cell_type": "code",
      "metadata": {
        "id": "8eAynXwx-FbL",
        "outputId": "cbe6b457-c487-4728-fe30-8fa86d3f86c4"
      },
      "source": [
        "print('The maximum validation ROC AUC was: {:.5f} with a standard deviation of {:.5f}.'.format(cv_results['auc-mean'][-1], cv_results['auc-stdv'][-1]))\n",
        "print('The optimal number of boosting rounds (estimators) was {}.'.format(len(cv_results['auc-mean'])))"
      ],
      "execution_count": null,
      "outputs": [
        {
          "output_type": "stream",
          "text": [
            "The maximum validation ROC AUC was: 0.70058 with a standard deviation of 0.02819.\n",
            "The optimal number of boosting rounds (estimators) was 23.\n"
          ],
          "name": "stdout"
        }
      ]
    },
    {
      "cell_type": "code",
      "metadata": {
        "id": "w2nIHLxy-FbN",
        "outputId": "f24f324c-ddab-416a-85a4-1f6b514593aa"
      },
      "source": [
        "from sklearn.metrics import roc_auc_score\n",
        "\n",
        "# Optimal number of esimators found in cv\n",
        "model.n_estimators = len(cv_results['auc-mean'])\n",
        "\n",
        "# Train and make predicions with model\n",
        "model.fit(train_features, train_labels)\n",
        "preds = model.predict_proba(test_features)[:, 1]\n",
        "baseline_auc = roc_auc_score(test_labels, preds)\n",
        "\n",
        "print('The baseline model scores {:.5f} ROC AUC on the test set.'.format(baseline_auc))"
      ],
      "execution_count": null,
      "outputs": [
        {
          "output_type": "stream",
          "text": [
            "The baseline model scores 0.72832 ROC AUC on the test set.\n"
          ],
          "name": "stdout"
        }
      ]
    },
    {
      "cell_type": "markdown",
      "metadata": {
        "id": "YHleMdiM-FbV"
      },
      "source": [
        "よくわからないので、写経を中断し、自作のデータをぶっ込んでみる。"
      ]
    },
    {
      "cell_type": "markdown",
      "metadata": {
        "id": "yUs0lX7L-FbW"
      },
      "source": [
        "### **問題4　高い汎用性モデルの作成**"
      ]
    },
    {
      "cell_type": "code",
      "metadata": {
        "id": "TuN4c8at-FbW"
      },
      "source": [
        "train_data = lightgbm.Dataset(X_train_scd, label=y_train)\n",
        "valid_data = lightgbm.Dataset(X_valid_scd, label=y_valid, reference=train_data)"
      ],
      "execution_count": null,
      "outputs": []
    },
    {
      "cell_type": "code",
      "metadata": {
        "id": "Z1tqmBXU-FbY",
        "outputId": "3561bfdc-1534-4632-a787-2d272661c88b"
      },
      "source": [
        "# Get default hyperparameters\n",
        "lgbm = lightgbm.LGBMClassifier(randum_state=0)\n",
        "default_params = lgbm.get_params()\n",
        "default_params"
      ],
      "execution_count": null,
      "outputs": [
        {
          "output_type": "execute_result",
          "data": {
            "text/plain": [
              "{'boosting_type': 'gbdt',\n",
              " 'class_weight': None,\n",
              " 'colsample_bytree': 1.0,\n",
              " 'importance_type': 'split',\n",
              " 'learning_rate': 0.1,\n",
              " 'max_depth': -1,\n",
              " 'min_child_samples': 20,\n",
              " 'min_child_weight': 0.001,\n",
              " 'min_split_gain': 0.0,\n",
              " 'n_estimators': 100,\n",
              " 'n_jobs': -1,\n",
              " 'num_leaves': 31,\n",
              " 'objective': None,\n",
              " 'random_state': None,\n",
              " 'reg_alpha': 0.0,\n",
              " 'reg_lambda': 0.0,\n",
              " 'silent': True,\n",
              " 'subsample': 1.0,\n",
              " 'subsample_for_bin': 200000,\n",
              " 'subsample_freq': 0,\n",
              " 'randum_state': 0}"
            ]
          },
          "metadata": {
            "tags": []
          },
          "execution_count": 118
        }
      ]
    },
    {
      "cell_type": "code",
      "metadata": {
        "id": "sngvy2tO-Fbb"
      },
      "source": [
        "params = {\n",
        "    'task': 'train',\n",
        "    'boosting_type': 'gbdt',\n",
        "    'objective': 'multiclass',\n",
        "    'num_class': 2,\n",
        "    'verbose': 0,\n",
        "}"
      ],
      "execution_count": null,
      "outputs": []
    },
    {
      "cell_type": "code",
      "metadata": {
        "id": "oVkOruFp-Fbd",
        "outputId": "d19570b0-2b1b-4b5d-fa5b-983f1bfdde27"
      },
      "source": [
        "gbm = lightgbm.train(params,\n",
        "                train_data,\n",
        "                valid_sets=valid_data,\n",
        "                num_boost_round=100,\n",
        "                verbose_eval=5)"
      ],
      "execution_count": null,
      "outputs": [
        {
          "output_type": "stream",
          "text": [
            "[5]\tvalid_0's multi_logloss: 0.260527\n",
            "[10]\tvalid_0's multi_logloss: 0.254078\n",
            "[15]\tvalid_0's multi_logloss: 0.250531\n",
            "[20]\tvalid_0's multi_logloss: 0.248154\n",
            "[25]\tvalid_0's multi_logloss: 0.246485\n",
            "[30]\tvalid_0's multi_logloss: 0.245125\n",
            "[35]\tvalid_0's multi_logloss: 0.244142\n",
            "[40]\tvalid_0's multi_logloss: 0.243578\n",
            "[45]\tvalid_0's multi_logloss: 0.24305\n",
            "[50]\tvalid_0's multi_logloss: 0.242653\n",
            "[55]\tvalid_0's multi_logloss: 0.242333\n",
            "[60]\tvalid_0's multi_logloss: 0.241993\n",
            "[65]\tvalid_0's multi_logloss: 0.241919\n",
            "[70]\tvalid_0's multi_logloss: 0.241891\n",
            "[75]\tvalid_0's multi_logloss: 0.241811\n",
            "[80]\tvalid_0's multi_logloss: 0.241696\n",
            "[85]\tvalid_0's multi_logloss: 0.241655\n",
            "[90]\tvalid_0's multi_logloss: 0.241613\n",
            "[95]\tvalid_0's multi_logloss: 0.241614\n",
            "[100]\tvalid_0's multi_logloss: 0.241547\n"
          ],
          "name": "stdout"
        }
      ]
    },
    {
      "cell_type": "markdown",
      "metadata": {
        "id": "sy-14ZIS-Fbf"
      },
      "source": [
        "とりあえず動いた。ブログ曰く、logloss(損失関数の値？)が下がり続けてるのはまだ改善の余地がある、と言う解釈らしい。"
      ]
    },
    {
      "cell_type": "code",
      "metadata": {
        "id": "GUShNucX-Fbg"
      },
      "source": [
        "# 検証データを使い推定結果を算出\n",
        "gbm_preds = gbm.predict(X_valid_scd)"
      ],
      "execution_count": null,
      "outputs": []
    },
    {
      "cell_type": "code",
      "metadata": {
        "id": "NOSUQBm7-Fbh",
        "outputId": "10446b61-6219-4fd5-da88-7ef7658f477c"
      },
      "source": [
        "gbm_preds"
      ],
      "execution_count": null,
      "outputs": [
        {
          "output_type": "execute_result",
          "data": {
            "text/plain": [
              "array([[0.70181114, 0.29818886],\n",
              "       [0.97093144, 0.02906856],\n",
              "       [0.92902834, 0.07097166],\n",
              "       ...,\n",
              "       [0.98087949, 0.01912051],\n",
              "       [0.71452948, 0.28547052],\n",
              "       [0.94961969, 0.05038031]])"
            ]
          },
          "metadata": {
            "tags": []
          },
          "execution_count": 136
        }
      ]
    },
    {
      "cell_type": "code",
      "metadata": {
        "id": "olABfANV-Fbi",
        "outputId": "45cef2a8-faf9-49a9-a1c2-d5e154124c8a"
      },
      "source": [
        "y_pred = []\n",
        " \n",
        "for x in gbm_preds:\n",
        "    y_pred.append(np.argmax(x))\n",
        "    \n",
        "print(y_pred[:10], '\\n', y_pred[-10:])"
      ],
      "execution_count": null,
      "outputs": [
        {
          "output_type": "stream",
          "text": [
            "[0, 0, 0, 0, 0, 0, 0, 0, 0, 0] \n",
            " [0, 0, 0, 0, 0, 0, 0, 0, 0, 0]\n"
          ],
          "name": "stdout"
        }
      ]
    },
    {
      "cell_type": "code",
      "metadata": {
        "id": "HwcUnTkC-Fbl",
        "outputId": "cfd3a256-c2ee-45de-82ea-ad0770688c6b"
      },
      "source": [
        "print('lightgbm.LGBMClassifierを使った時の混合行列\\n', confusion_matrix(y_valid, y_pred))\n",
        "\n",
        "print('GridSearchCVを使った時の混合行列\\n', confusion_matrix(y_valid, best.predict(X_valid_scd)))"
      ],
      "execution_count": null,
      "outputs": [
        {
          "output_type": "stream",
          "text": [
            "lightgbm.LGBMClassifierを使った時の混合行列\n",
            " [[70671   116]\n",
            " [ 5974   117]]\n",
            "GridSearchCVを使った時の混合行列\n",
            " [[70715    72]\n",
            " [ 6022    69]]\n"
          ],
          "name": "stdout"
        }
      ]
    },
    {
      "cell_type": "markdown",
      "metadata": {
        "id": "vlL9Ml_8-Fbn"
      },
      "source": [
        "FP(左下)は若干少なくなり、TN(右下)が増えてくれた。が、FN(右上)が増えてしまった。"
      ]
    },
    {
      "cell_type": "markdown",
      "metadata": {
        "id": "vP5vledg-Fbo"
      },
      "source": [
        "参考ブログにこんなことが書いてあった。\n",
        "---\n",
        "推測精度を向上させたいときにいじるパラメータ\n",
        "* 大きいmax_bin（初期値255）を使う\n",
        "* 小さいlearning_rate(初期値0.1)と大きいnum_iterations(初期値100)を使う\n",
        "* 大きいnum_leaves（初期値31）を使う\n",
        "* 訓練データのレコード数を増やす（可能であれば）"
      ]
    },
    {
      "cell_type": "code",
      "metadata": {
        "id": "Su11eiTa-Fbo"
      },
      "source": [
        "# max_binを追加してみる\n",
        "params2 = {\n",
        "    'task': 'train',\n",
        "    'boosting_type': 'gbdt',\n",
        "    'objective': 'multiclass',\n",
        "    'num_class': 2,\n",
        "    'verbose': 0,\n",
        "    'max_bin': 255,\n",
        "}"
      ],
      "execution_count": null,
      "outputs": []
    },
    {
      "cell_type": "code",
      "metadata": {
        "id": "u_UD3tCp-Fbt",
        "outputId": "75dc4fb7-8a66-488d-d8db-a1cd1f1b7a64"
      },
      "source": [
        "gbm = lightgbm.train(params,\n",
        "                train_data,\n",
        "                valid_sets=valid_data,\n",
        "                num_boost_round=100,\n",
        "                verbose_eval=5)"
      ],
      "execution_count": null,
      "outputs": [
        {
          "output_type": "stream",
          "text": [
            "[5]\tvalid_0's multi_logloss: 0.260527\n",
            "[10]\tvalid_0's multi_logloss: 0.254078\n",
            "[15]\tvalid_0's multi_logloss: 0.250531\n",
            "[20]\tvalid_0's multi_logloss: 0.248154\n",
            "[25]\tvalid_0's multi_logloss: 0.246485\n",
            "[30]\tvalid_0's multi_logloss: 0.245125\n",
            "[35]\tvalid_0's multi_logloss: 0.244142\n",
            "[40]\tvalid_0's multi_logloss: 0.243578\n",
            "[45]\tvalid_0's multi_logloss: 0.24305\n",
            "[50]\tvalid_0's multi_logloss: 0.242653\n",
            "[55]\tvalid_0's multi_logloss: 0.242333\n",
            "[60]\tvalid_0's multi_logloss: 0.241993\n",
            "[65]\tvalid_0's multi_logloss: 0.241919\n",
            "[70]\tvalid_0's multi_logloss: 0.241891\n",
            "[75]\tvalid_0's multi_logloss: 0.241811\n",
            "[80]\tvalid_0's multi_logloss: 0.241696\n",
            "[85]\tvalid_0's multi_logloss: 0.241655\n",
            "[90]\tvalid_0's multi_logloss: 0.241613\n",
            "[95]\tvalid_0's multi_logloss: 0.241614\n",
            "[100]\tvalid_0's multi_logloss: 0.241547\n"
          ],
          "name": "stdout"
        }
      ]
    },
    {
      "cell_type": "markdown",
      "metadata": {
        "id": "tXim7tyb-Fbv"
      },
      "source": [
        "まだloglossが下がる傾向がある。もっとパラメータをいじってみる。"
      ]
    },
    {
      "cell_type": "code",
      "metadata": {
        "id": "1bTITcSH-Fbv"
      },
      "source": [
        "# num_leaves(決定木の数？)をデフォの倍の62に指定\n",
        "params3 = {\n",
        "    'task': 'train',\n",
        "    'boosting_type': 'gbdt',\n",
        "    'objective': 'multiclass',\n",
        "    'num_class': 2,\n",
        "    'verbose': 0,\n",
        "    'max_bin': 255,\n",
        "    'num_leaves': 62\n",
        "}"
      ],
      "execution_count": null,
      "outputs": []
    },
    {
      "cell_type": "code",
      "metadata": {
        "id": "VANka3qs-Fbx",
        "outputId": "182ef025-fb3b-4f1c-ee5a-a942ecaa52d7"
      },
      "source": [
        "gbm = lightgbm.train(params,\n",
        "                train_data,\n",
        "                valid_sets=valid_data,\n",
        "                num_boost_round=200, # 200回に変更\n",
        "                verbose_eval=10) # ログを10回ごとに変更"
      ],
      "execution_count": null,
      "outputs": [
        {
          "output_type": "stream",
          "text": [
            "[10]\tvalid_0's multi_logloss: 0.254078\n",
            "[20]\tvalid_0's multi_logloss: 0.248154\n",
            "[30]\tvalid_0's multi_logloss: 0.245125\n",
            "[40]\tvalid_0's multi_logloss: 0.243578\n",
            "[50]\tvalid_0's multi_logloss: 0.242653\n",
            "[60]\tvalid_0's multi_logloss: 0.241993\n",
            "[70]\tvalid_0's multi_logloss: 0.241891\n",
            "[80]\tvalid_0's multi_logloss: 0.241696\n",
            "[90]\tvalid_0's multi_logloss: 0.241613\n",
            "[100]\tvalid_0's multi_logloss: 0.241547\n",
            "[110]\tvalid_0's multi_logloss: 0.241504\n",
            "[120]\tvalid_0's multi_logloss: 0.241513\n",
            "[130]\tvalid_0's multi_logloss: 0.241459\n",
            "[140]\tvalid_0's multi_logloss: 0.241454\n",
            "[150]\tvalid_0's multi_logloss: 0.24145\n",
            "[160]\tvalid_0's multi_logloss: 0.24141\n",
            "[170]\tvalid_0's multi_logloss: 0.241377\n",
            "[180]\tvalid_0's multi_logloss: 0.241304\n",
            "[190]\tvalid_0's multi_logloss: 0.241281\n",
            "[200]\tvalid_0's multi_logloss: 0.241371\n"
          ],
          "name": "stdout"
        }
      ]
    },
    {
      "cell_type": "markdown",
      "metadata": {
        "id": "_kUx7pMr-Fby"
      },
      "source": [
        "何度かloglossが上昇したのが見受けられる。これで推定してみる。"
      ]
    },
    {
      "cell_type": "code",
      "metadata": {
        "id": "PIox-eBJ-Fby",
        "outputId": "3ea4bf4a-512e-4d2a-e19d-3e28dbef3cea"
      },
      "source": [
        "# 検証データを使い推定結果を算出\n",
        "gbm_preds = gbm.predict(X_valid_scd)[:,1]\n",
        "# FPR,TPR\n",
        "fpr, tpr, thresholds = roc_curve(y_valid, gbm_preds)\n",
        "score = roc_auc_score(y_valid, gbm_preds)\n",
        "score"
      ],
      "execution_count": null,
      "outputs": [
        {
          "output_type": "execute_result",
          "data": {
            "text/plain": [
              "0.7655189398784545"
            ]
          },
          "metadata": {
            "tags": []
          },
          "execution_count": 158
        }
      ]
    },
    {
      "cell_type": "markdown",
      "metadata": {
        "id": "OpYc7DTL-Fb2"
      },
      "source": [
        "グリッドサーチを使用した時のロジスティック回帰の平均精度が約0.746なので、0.02ほど精度が上がった。"
      ]
    },
    {
      "cell_type": "code",
      "metadata": {
        "id": "ADBbOcPt-Fb2",
        "outputId": "0cc0e801-7cbf-4cf5-d5d9-2e9d9a983ea3"
      },
      "source": [
        "y_pred = []\n",
        "for x in gbm_preds:\n",
        "    y_pred.append(np.argmax(x))\n",
        "print(confusion_matrix(y_valid, y_pred))"
      ],
      "execution_count": null,
      "outputs": [
        {
          "output_type": "stream",
          "text": [
            "[[70787     0]\n",
            " [ 6091     0]]\n"
          ],
          "name": "stdout"
        }
      ]
    },
    {
      "cell_type": "markdown",
      "metadata": {
        "id": "tTTLBhcg-Fb7"
      },
      "source": [
        "なぜかまたNが0に戻った。\n",
        "制御するパラメータを増やして損失関数を下げたつもりだったが、肝心の混合行列はあまり良い変化はなかった。"
      ]
    },
    {
      "cell_type": "markdown",
      "metadata": {
        "id": "hW40yxbR-Fb7"
      },
      "source": [
        "## trainデータで訓練・検証を分けてたが、trainを全て訓練データにし、testをテストデータで評価するらしいので、学習し直してみる。"
      ]
    },
    {
      "cell_type": "code",
      "metadata": {
        "id": "xJn2XXVY-Fb7"
      },
      "source": [
        "new_train = app_train_fill_mean.drop(columns=['SK_ID_CURR', 'TARGET']).values\n",
        "new_vaild = app_train_fill_mean['TARGET'].values\n",
        "new_y = app_test_fill_mean.drop(columns=['SK_ID_CURR'])"
      ],
      "execution_count": null,
      "outputs": []
    },
    {
      "cell_type": "code",
      "metadata": {
        "id": "rqDWegQd-Fb-"
      },
      "source": [
        "scaler = StandardScaler()\n",
        "\n",
        "new_train_scd = scaler.fit_transform(new_train)"
      ],
      "execution_count": null,
      "outputs": []
    },
    {
      "cell_type": "code",
      "metadata": {
        "id": "hbUWjEr7-FcD"
      },
      "source": [
        "import lightgbm as lgb\n",
        "\n",
        "clf = lgb.LGBMClassifier(n_estimators=100,random_state = 0)\n",
        "clf.fit(new_train, new_vaild)\n",
        "y_pred = clf.predict_proba(new_y)[:,1]"
      ],
      "execution_count": null,
      "outputs": []
    },
    {
      "cell_type": "code",
      "metadata": {
        "id": "19wYW5yl-FcE",
        "outputId": "db495f75-238f-42cd-e3e4-76031f1b7e16"
      },
      "source": [
        "# Submission dataframe\n",
        "submit = pd.DataFrame(app_test_fill_mean['SK_ID_CURR'])\n",
        "submit['TARGET'] = y_pred\n",
        "\n",
        "submit.head()"
      ],
      "execution_count": null,
      "outputs": [
        {
          "output_type": "execute_result",
          "data": {
            "text/html": [
              "<div>\n",
              "<style scoped>\n",
              "    .dataframe tbody tr th:only-of-type {\n",
              "        vertical-align: middle;\n",
              "    }\n",
              "\n",
              "    .dataframe tbody tr th {\n",
              "        vertical-align: top;\n",
              "    }\n",
              "\n",
              "    .dataframe thead th {\n",
              "        text-align: right;\n",
              "    }\n",
              "</style>\n",
              "<table border=\"1\" class=\"dataframe\">\n",
              "  <thead>\n",
              "    <tr style=\"text-align: right;\">\n",
              "      <th></th>\n",
              "      <th>SK_ID_CURR</th>\n",
              "      <th>TARGET</th>\n",
              "    </tr>\n",
              "  </thead>\n",
              "  <tbody>\n",
              "    <tr>\n",
              "      <th>0</th>\n",
              "      <td>100001</td>\n",
              "      <td>0.034316</td>\n",
              "    </tr>\n",
              "    <tr>\n",
              "      <th>1</th>\n",
              "      <td>100005</td>\n",
              "      <td>0.102102</td>\n",
              "    </tr>\n",
              "    <tr>\n",
              "      <th>2</th>\n",
              "      <td>100013</td>\n",
              "      <td>0.026616</td>\n",
              "    </tr>\n",
              "    <tr>\n",
              "      <th>3</th>\n",
              "      <td>100028</td>\n",
              "      <td>0.037114</td>\n",
              "    </tr>\n",
              "    <tr>\n",
              "      <th>4</th>\n",
              "      <td>100038</td>\n",
              "      <td>0.150262</td>\n",
              "    </tr>\n",
              "  </tbody>\n",
              "</table>\n",
              "</div>"
            ],
            "text/plain": [
              "   SK_ID_CURR    TARGET\n",
              "0      100001  0.034316\n",
              "1      100005  0.102102\n",
              "2      100013  0.026616\n",
              "3      100028  0.037114\n",
              "4      100038  0.150262"
            ]
          },
          "metadata": {
            "tags": []
          },
          "execution_count": 182
        }
      ]
    },
    {
      "cell_type": "markdown",
      "metadata": {
        "id": "EKdO9ZGm-FcG"
      },
      "source": [
        "### **問題5　kaggleに提出**"
      ]
    },
    {
      "cell_type": "code",
      "metadata": {
        "id": "oqIOPdiA-FcG"
      },
      "source": [
        "# Save the submission dataframe\n",
        "submit.to_csv('/Users/kudokoki/submit_an_assignment/Sprint/submission.csv',\n",
        "              index = False)"
      ],
      "execution_count": null,
      "outputs": []
    },
    {
      "cell_type": "markdown",
      "metadata": {
        "id": "0FqVmtKx-FcH"
      },
      "source": [
        "### 感想\n",
        "授業についていけない気がする。もっと基礎からやり直したいが、毎日の課題で時間を作るのが難しいと感じる。今後続けていくか検討する必要があると思った1日だった。"
      ]
    }
  ]
}