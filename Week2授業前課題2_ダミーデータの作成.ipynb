{
  "nbformat": 4,
  "nbformat_minor": 0,
  "metadata": {
    "colab": {
      "name": "Week2授業前課題2 ダミーデータの作成.ipynb",
      "provenance": [],
      "collapsed_sections": [],
      "authorship_tag": "ABX9TyO/yFN982uZ4RQ8JrvgSwYa",
      "include_colab_link": true
    },
    "kernelspec": {
      "name": "python3",
      "display_name": "Python 3"
    }
  },
  "cells": [
    {
      "cell_type": "markdown",
      "metadata": {
        "id": "view-in-github",
        "colab_type": "text"
      },
      "source": [
        "<a href=\"https://colab.research.google.com/github/kokikudo/submit_an_assignment/blob/master/Week2%E6%8E%88%E6%A5%AD%E5%89%8D%E8%AA%B2%E9%A1%8C2_%E3%83%80%E3%83%9F%E3%83%BC%E3%83%87%E3%83%BC%E3%82%BF%E3%81%AE%E4%BD%9C%E6%88%90.ipynb\" target=\"_parent\"><img src=\"https://colab.research.google.com/assets/colab-badge.svg\" alt=\"Open In Colab\"/></a>"
      ]
    },
    {
      "cell_type": "markdown",
      "metadata": {
        "id": "cPx-pFz_OMpE"
      },
      "source": [
        "#Week2授業前課題2 ダミーデータの作成\n",
        "## 1. 課題の目的\n",
        "* 数式演算ライブラリのNumPyに慣れる\n",
        "* グラフの表示に慣れる\n",
        "\n",
        "\n"
      ]
    },
    {
      "cell_type": "markdown",
      "metadata": {
        "id": "TESESTgNPDXI"
      },
      "source": [
        "## 2. やること\n",
        "###**ダミーデータの作成**\n",
        "機械学習に関する実験で使われるダミーデータを作成してみる。<br>\n",
        "・理想<br>\n",
        "<img alt=\"Wheat and chessboard problem\" src=\"https://t.gyazo.com/teams/diveintocode/29840c67d7aabcd16c3dd5325819ec65.png\">"
      ]
    },
    {
      "cell_type": "markdown",
      "metadata": {
        "id": "PsiMP9LLP05O"
      },
      "source": [
        "___\n",
        "###問題1　乱数の作成\n",
        "平均が(-3, 0)、共分散行列が以下で表される2次元正規分布による乱数を500個作成してみる。\n",
        "\n",
        "$$\n",
        "        \\left[\\begin{array}{c}\n",
        "            1.0 \\quad 0.8 \\\\\n",
        "            0.8 \\quad 1.0 \\\\\n",
        "        \\end{array}\\right] \\quad\n",
        "$$\n"
      ]
    },
    {
      "cell_type": "code",
      "metadata": {
        "id": "Iyv7K2gAPKdf",
        "outputId": "24f5aa7d-8e9c-4a5b-e547-18bb2624d991",
        "colab": {
          "base_uri": "https://localhost:8080/",
          "height": 34
        }
      },
      "source": [
        "import numpy as np\n",
        "\n",
        "mean = np.array([-3, 0])\n",
        "cov = np.array([\n",
        "                [1.0, 0.8],\n",
        "                [0.8, 1.0],\n",
        "                ])\n",
        "np.random.seed(0)\n",
        "random_data = np.random.multivariate_normal(mean, cov, size=500)\n",
        "np.shape(random_data)"
      ],
      "execution_count": null,
      "outputs": [
        {
          "output_type": "execute_result",
          "data": {
            "text/plain": [
              "(500, 2)"
            ]
          },
          "metadata": {
            "tags": []
          },
          "execution_count": 37
        }
      ]
    },
    {
      "cell_type": "markdown",
      "metadata": {
        "id": "YtDE_TVFVbax"
      },
      "source": [
        "___\n",
        "### 問題2　散布図による可視化"
      ]
    },
    {
      "cell_type": "code",
      "metadata": {
        "id": "RS4iM5ibVnWO",
        "outputId": "d5c280d4-bf75-4044-eba0-170a916d1fbc",
        "colab": {
          "base_uri": "https://localhost:8080/",
          "height": 294
        }
      },
      "source": [
        "import matplotlib.pyplot as plt\n",
        "%matplotlib inline\n",
        "\n",
        "x = random_data[:,0]    # random_dataの0列目をx軸とする\n",
        "y = random_data[:,1]    # random_dataの1列目をy軸とする\n",
        "\n",
        "plt.title(\"scatter\")\n",
        "plt.xlabel(\"x\")\n",
        "plt.ylabel('y')\n",
        "plt.scatter(x, y)   # scatter(x, y)で横軸x,縦軸yの散布図ができる\n",
        "plt.show()"
      ],
      "execution_count": null,
      "outputs": [
        {
          "output_type": "display_data",
          "data": {
            "image/png": "[encoded data removed]",
            "text/plain": [
              "<Figure size 432x288 with 1 Axes>"
            ]
          },
          "metadata": {
            "tags": [],
            "needs_background": "light"
          }
        }
      ]
    },
    {
      "cell_type": "markdown",
      "metadata": {
        "id": "3YQEvmW9ZHmT"
      },
      "source": [
        "___\n",
        "### 問題3　ヒストグラムによる可視化\n",
        "問題1で作成したデータをヒストグラムで可視化してみる。"
      ]
    },
    {
      "cell_type": "code",
      "metadata": {
        "id": "ai94QeimPUvl",
        "outputId": "1f408f39-943e-4328-91b9-5ab97872d2b2",
        "colab": {
          "base_uri": "https://localhost:8080/",
          "height": 573
        }
      },
      "source": [
        "# x軸を指定する\n",
        "# x軸の最小値と最大値はそれぞれ配列内の最小値、最大値とする\n",
        "axis_x_min = np.amin([x, y])\n",
        "axis_y_min = np.amax([x, y])\n",
        "\n",
        "plt.xlim(axis_x_min, axis_y_min)  # xlim(a, b) a〜bまでをx軸の範囲にする\n",
        "plt.title('histogram of x')\n",
        "plt.xlabel('x')\n",
        "plt.ylabel('freqency')\n",
        "plt.hist(x, 50)  # 棒の数はとりあえず50個\n",
        "plt.show()\n",
        "\n",
        "plt.xlim(axis_x_min, axis_y_min)\n",
        "plt.title('histogram of y')\n",
        "plt.xlabel('y')\n",
        "plt.ylabel('freqency')\n",
        "plt.hist(y, 50)\n",
        "plt.show()"
      ],
      "execution_count": 66,
      "outputs": [
        {
          "output_type": "display_data",
          "data": {
            "image/png": "[encoded data removed]",
            "text/plain": [
              "<Figure size 432x288 with 1 Axes>"
            ]
          },
          "metadata": {
            "tags": [],
            "needs_background": "light"
          }
        },
        {
          "output_type": "display_data",
          "data": {
            "image/png": "[encoded data removed]",
            "text/plain": [
              "<Figure size 432x288 with 1 Axes>"
            ]
          },
          "metadata": {
            "tags": [],
            "needs_background": "light"
          }
        }
      ]
    },
    {
      "cell_type": "markdown",
      "metadata": {
        "id": "kyA9ZFi7aLIM"
      },
      "source": [
        "___\n",
        "### 問題4　データの追加\n",
        "新たに平均が(0, -3)、共分散行列(問題1と同じ)で表される2次元正規分布による乱数を500個作成してみる。<br>\n",
        "そして、問題1のグラフと合わせて一つの散布図として可視化する。（どっちがどっちのグラフかわかるように、問題1を0、問題4を1とした凡例（はんれい）を追加する）"
      ]
    },
    {
      "cell_type": "code",
      "metadata": {
        "id": "n6f6b2xIadAn",
        "outputId": "7eb0ce0e-d128-4462-b522-957330034660",
        "colab": {
          "base_uri": "https://localhost:8080/",
          "height": 294
        }
      },
      "source": [
        "mean2 = np.array([0, -3])\n",
        "cov2 = np.array([\n",
        "                [1.0, 0.8],\n",
        "                [0.8, 1.0],\n",
        "                ])\n",
        "np.random.seed(0)\n",
        "random_data2 = np.random.multivariate_normal(mean2, cov2, size=500)\n",
        "\n",
        "x2 = random_data2[:,0]    \n",
        "y2 = random_data2[:,1]    \n",
        "\n",
        "plt.title(\"scatter\")\n",
        "plt.xlabel(\"x\")\n",
        "plt.ylabel('y')\n",
        "plt.scatter(x, y, label='0')    # label=\"\" 凡例の名前を指定\n",
        "plt.scatter(x2, y2, label='1')\n",
        "plt.legend()    # 凡例を反映\n",
        "plt.show()"
      ],
      "execution_count": 68,
      "outputs": [
        {
          "output_type": "display_data",
          "data": {
            "image/png": "[encoded data removed]",
            "text/plain": [
              "<Figure size 432x288 with 1 Axes>"
            ]
          },
          "metadata": {
            "tags": [],
            "needs_background": "light"
          }
        }
      ]
    },
    {
      "cell_type": "markdown",
      "metadata": {
        "id": "0nN43sdOdZDH"
      },
      "source": [
        "___\n",
        "### 問題5データの結合\n",
        "二つのグラフを結合してみる。"
      ]
    },
    {
      "cell_type": "code",
      "metadata": {
        "id": "FJLJZPBrrrXz",
        "outputId": "890e8d74-4212-4d78-b19e-3cd7d4942d38",
        "colab": {
          "base_uri": "https://localhost:8080/",
          "height": 34
        }
      },
      "source": [
        "# np.vstack([a1, a2])   配列a1とa2を縦に結合\n",
        "# np.concatenate([a1, a2], 0) と同等\n",
        "combination_random_data = np.vstack([random_data, random_data2])\n",
        "np.shape(combination_random_data)"
      ],
      "execution_count": null,
      "outputs": [
        {
          "output_type": "execute_result",
          "data": {
            "text/plain": [
              "(1000, 2)"
            ]
          },
          "metadata": {
            "tags": []
          },
          "execution_count": 43
        }
      ]
    },
    {
      "cell_type": "markdown",
      "metadata": {
        "id": "ac2x94aBvUx3"
      },
      "source": [
        "___\n",
        "### 問題6　ラベル付け\n",
        "結合しただけだと、どちらのデータなのか見分けがつかないため、問題1のデータには0、問題4のデータには1のラベル付けをする。<br>\n",
        "→要素が0の配列(500, 1)と要素が1の配列(500, 1)を縦に結合(1000, 1)。そのデータを問題5で結合したデータに追加し、(1000, 3)の配列にする。"
      ]
    },
    {
      "cell_type": "code",
      "metadata": {
        "id": "c6fAMvCevx73",
        "outputId": "7a4116b3-22ad-4e99-d56d-6ba96468026f",
        "colab": {
          "base_uri": "https://localhost:8080/",
          "height": 260
        }
      },
      "source": [
        "label_0 = np.zeros((500, 1))    # np.zero((a, b))   全ての要素が0のa行b列の配列が返る\n",
        "label_1 = np.ones((500, 1))     # np.ones((a, b))   全ての要素が1のa行b列の配列が返る\n",
        "all_label = np.block([[label_0], [label_1]])    # np.block([])  複数の配列を直感的に結合できる\n",
        "\n",
        "# 乱数データとラベルデータを結合\n",
        "labeled_random_data = np.block([combination_random_data, all_label])   \n",
        "\n",
        "# ラベルの位置に異常がないか確認\n",
        "print(labeled_random_data[:5], '\\n')\n",
        "print(labeled_random_data[499:501], '\\n')\n",
        "print(labeled_random_data[995:])"
      ],
      "execution_count": 69,
      "outputs": [
        {
          "output_type": "stream",
          "text": [
            "[[-4.80006782 -1.54698618  0.        ]\n",
            " [-4.63714503 -0.21987973  0.        ]\n",
            " [-4.46267867 -2.08076347  0.        ]\n",
            " [-3.85346966 -0.94919637  0.        ]\n",
            " [-3.03192065  0.22776465  0.        ]] \n",
            "\n",
            "[[-1.79803505  0.97547372  0.        ]\n",
            " [-1.80006782 -4.54698618  1.        ]] \n",
            "\n",
            "[[-0.47493982 -3.36186128  1.        ]\n",
            " [ 0.68225498 -2.16545763  1.        ]\n",
            " [-0.40484501 -3.14372258  1.        ]\n",
            " [ 0.1584315  -2.78199606  1.        ]\n",
            " [ 1.20196495 -2.02452628  1.        ]]\n"
          ],
          "name": "stdout"
        }
      ]
    },
    {
      "cell_type": "markdown",
      "metadata": {
        "id": "FYfRzaGMHOJb"
      },
      "source": [
        "___\n",
        "## 感想\n",
        "一通り完成はしたが、正規分布すらまともに知らないため、理解できたか怪しい。<br>\n",
        "問題1にある、「平均が(-3, 0)、共分散行列が以下で表される2次元正規分布による乱数」という文章の意味するところが全然理解できなかった。<br>\n",
        "いよいよ数学の知識が必要になってきたので空いた時間を見つけて勉強したいと思った。<br>\n",
        "配列の結合の操作が、np.block()を使えば意外と簡単だと思った。"
      ]
    },
    {
      "cell_type": "code",
      "metadata": {
        "id": "rbgAVJjvIEVK"
      },
      "source": [
        ""
      ],
      "execution_count": null,
      "outputs": []
    }
  ]
}