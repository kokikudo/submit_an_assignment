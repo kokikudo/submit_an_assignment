{
  "nbformat": 4,
  "nbformat_minor": 0,
  "metadata": {
    "kernelspec": {
      "display_name": "Python 3",
      "language": "python",
      "name": "python3"
    },
    "language_info": {
      "codemirror_mode": {
        "name": "ipython",
        "version": 3
      },
      "file_extension": ".py",
      "mimetype": "text/x-python",
      "name": "python",
      "nbconvert_exporter": "python",
      "pygments_lexer": "ipython3",
      "version": "3.7.9"
    },
    "toc": {
      "base_numbering": 1,
      "nav_menu": {},
      "number_sections": true,
      "sideBar": true,
      "skip_h1_title": false,
      "title_cell": "Table of Contents",
      "title_sidebar": "Contents",
      "toc_cell": false,
      "toc_position": {
        "height": "calc(100% - 180px)",
        "left": "10px",
        "top": "150px",
        "width": "230.4px"
      },
      "toc_section_display": true,
      "toc_window_display": true
    },
    "varInspector": {
      "cols": {
        "lenName": 16,
        "lenType": 16,
        "lenVar": 40
      },
      "kernels_config": {
        "python": {
          "delete_cmd_postfix": "",
          "delete_cmd_prefix": "del ",
          "library": "var_list.py",
          "varRefreshCmd": "print(var_dic_list())"
        },
        "r": {
          "delete_cmd_postfix": ") ",
          "delete_cmd_prefix": "rm(",
          "library": "var_list.r",
          "varRefreshCmd": "cat(var_dic_list()) "
        }
      },
      "position": {
        "height": "353.4px",
        "left": "781px",
        "right": "20px",
        "top": "119px",
        "width": "350px"
      },
      "types_to_exclude": [
        "module",
        "function",
        "builtin_function_or_method",
        "instance",
        "_Feature"
      ],
      "window_display": false
    },
    "colab": {
      "name": "Sprint5_Scratch_SVM.ipynb",
      "provenance": [],
      "include_colab_link": true
    }
  },
  "cells": [
    {
      "cell_type": "markdown",
      "metadata": {
        "id": "view-in-github",
        "colab_type": "text"
      },
      "source": [
        "<a href=\"https://colab.research.google.com/github/kokikudo/submit_an_assignment/blob/master/Sprint5_Scratch_SVM.ipynb\" target=\"_parent\"><img src=\"https://colab.research.google.com/assets/colab-badge.svg\" alt=\"Open In Colab\"/></a>"
      ]
    },
    {
      "cell_type": "markdown",
      "metadata": {
        "id": "OjqgXMTv6pwd"
      },
      "source": [
        "# SVMスクラッチ\n",
        "SVMには学習時に分類の間違いを認めるソフトマージンSVMと、認めないハードマージンSVMがありますが、ここでは実装が単純なハードマージンSVMを扱う。"
      ]
    },
    {
      "cell_type": "code",
      "metadata": {
        "id": "ANa-nA-86pwi"
      },
      "source": [
        "import importlib"
      ],
      "execution_count": null,
      "outputs": []
    },
    {
      "cell_type": "code",
      "metadata": {
        "id": "MWiOrIyk6pwq"
      },
      "source": [
        "class ScratchSVMClassifier():\n",
        "    \"\"\"\n",
        "    SVM分類器のスクラッチ実装\n",
        "\n",
        "    Parameters\n",
        "    ----------\n",
        "    num_iter : int\n",
        "      イテレーション数\n",
        "    lr : float\n",
        "      学習率\n",
        "    kernel : str\n",
        "      カーネルの種類。線形カーネル（linear）か多項式カーネル（polly）\n",
        "    threshold : float\n",
        "      サポートベクターを選ぶための閾値\n",
        "    verbose : bool\n",
        "      学習過程を出力する場合はTrue\n",
        "\n",
        "    Attributes\n",
        "    ----------\n",
        "    self.n_support_vectors : int\n",
        "      サポートベクターの数\n",
        "    self.index_support_vectors : 次の形のndarray, shape (n_support_vectors,)\n",
        "      サポートベクターのインデックス\n",
        "    self.X_sv :  次の形のndarray, shape(n_support_vectors, n_features)\n",
        "      サポートベクターの特徴量\n",
        "    self.lam_sv :  次の形のndarray, shape(n_support_vectors, 1)\n",
        "      サポートベクターの未定乗数\n",
        "    self.y_sv :  次の形のndarray, shape(n_support_vectors, 1)\n",
        "      サポートベクターのラベル\n",
        "\n",
        "    \"\"\"\n",
        "    def __init__(self,\n",
        "                 num_iter=5000,\n",
        "                 lr=1e-2,\n",
        "                 kernel='liner',\n",
        "                 d=1,\n",
        "                 threshold=1e-5,\n",
        "                 verbose=False):\n",
        "        # ハイパーパラメータを属性として記録\n",
        "        self.iter = num_iter\n",
        "        self.lr = lr\n",
        "        self.kernel = kernel\n",
        "        self.d = d\n",
        "        self.threshold = threshold\n",
        "        self.verbose = verbose\n",
        "\n",
        "    # 線形カーネル\n",
        "    def _liner_kernel(self, X, i, j):\n",
        "        return X[i].T @ X[j]\n",
        "\n",
        "    # 多項式カーネル\n",
        "    def _polynomial_kernel(self, X, i, j):\n",
        "        return (1 * (X[i].T @ X[j]) + 0)**self.d\n",
        "\n",
        "    def fit(self, X, y, X_val=None, y_val=None):\n",
        "        \"\"\"\n",
        "        SVM分類器を学習する。検証データが入力された場合はそれに対する精度もイテレーションごとに計算する。\n",
        "\n",
        "        Parameters\n",
        "        ----------\n",
        "        X : 次の形のndarray, shape (n_samples, n_features)\n",
        "            訓練データの特徴量\n",
        "        y : 次の形のndarray, shape (n_samples, )\n",
        "            訓練データの正解値\n",
        "        X_val : 次の形のndarray, shape (n_samples, n_features)\n",
        "            検証データの特徴量\n",
        "        y_val : 次の形のndarray, shape (n_samples, )\n",
        "            検証データの正解値\n",
        "        \"\"\"\n",
        "\n",
        "        self.lamda = np.random.rand(X.shape[0])\n",
        "\n",
        "        # カーネル設定\n",
        "        if self.kernel == 'liner':\n",
        "            kernel = self._liner_kernel\n",
        "        if self.kernel == 'polynomial':\n",
        "            kernel = self._polynomial_kernel\n",
        "\n",
        "        if self.verbose:\n",
        "            #verboseをTrueにした際は学習過程を出力\n",
        "            for k in range(self.iter):\n",
        "                self._gradieny_ascent(X, y, kernel)\n",
        "                print('---------------------------------------')\n",
        "                print('n_iter:', k, 'lamda:', self.lamda)\n",
        "        for k in range(self.iter):\n",
        "            self._gradieny_ascent(X, y, kernel)\n",
        "\n",
        "        # サポートベクターの選定\n",
        "        self.index_support_vectors = np.where(self.lamda > self.threshold)\n",
        "        self.n_support_vectors = len(X[self.index_support_vectors])\n",
        "        self.X_sv = X[self.index_support_vectors]\n",
        "        self.lam_sv = self.lamda[self.index_support_vectors]\n",
        "        self.y_sv = y[self.index_support_vectors]\n",
        "        print('閾値：', self.threshold)\n",
        "        print('サポートベクター（候補）: 個数', self.n_support_vectors, '\\n',\n",
        "              X[self.index_support_vectors])\n",
        "\n",
        "    def _gradieny_ascent(self, X, y, kernel):\n",
        "        lamda = self.lamda\n",
        "        #lamda_list = np.array([])\n",
        "        for i in range(len(X)):\n",
        "            discent = 0\n",
        "            for j in range(len(X)):\n",
        "                discent += self.lamda[j] * y[i] * y[j] * kernel(X, i, j)\n",
        "            #lamda_list = np.append(lamda_list, discent)\n",
        "            discent = lamda[i] + self.lr * (1 - discent)\n",
        "            self.lamda[i] = np.maximum(0, discent)\n",
        "\n",
        "        #self.lamda = lamda + self.lr * (1 - lamda_list)\n",
        "\n",
        "    def predict(self, X):\n",
        "        \"\"\"\n",
        "        SVM分類器を使いラベルを推定する。\n",
        "        \n",
        "        Parameters\n",
        "        ----------\n",
        "        X : 次の形のndarray, shape (n_samples, n_features)\n",
        "            サンプル\n",
        "\n",
        "        Returns\n",
        "        -------\n",
        "            次の形のndarray, shape (n_samples, 1)\n",
        "            SVM分類器による推定結果\n",
        "        \"\"\"\n",
        "        x = X\n",
        "        N = self.n_support_vectors\n",
        "        n = self.index_support_vectors\n",
        "        lamda_n = self.lam_sv\n",
        "        ysv_n = self.y_sv\n",
        "        s_n = self.X_sv\n",
        "        if self.kernel == 'liner':\n",
        "            pred_kernel = x @ s_n.T\n",
        "        if self.kernel == 'polynomial':\n",
        "            pred_kernel = (1 * (x @ s_n.T) + 0)**self.d\n",
        "\n",
        "        # 推定開始\n",
        "        pred_y = lamda_n * ysv_n * pred_kernel\n",
        "        pred_y = np.sum(pred_y, axis=1)\n",
        "        pred_y = pred_y / abs(pred_y)\n",
        "        pred_y = pred_y.astype(int)\n",
        "\n",
        "        return pred_y"
      ],
      "execution_count": null,
      "outputs": []
    },
    {
      "cell_type": "markdown",
      "metadata": {
        "id": "pUHPlqgs6pwu"
      },
      "source": [
        "## 【問題1】ラグランジュの未定乗数法による最急降下\n",
        "SVMの学習は、ラグランジュの未定乗数法を用います。サンプル数分のラグランジュ乗数 λ\n",
        " を用意して、以下の式により更新していきます。この計算を行うメソッドをScratchSVMClassifierクラスに実装してください。\n",
        " \n",
        " $$\n",
        " \\lambda_i^{new} = \\lambda_i + \\alpha(1 - \\sum_{j=1}^{n}{\\lambda_j y_i y_j k(x_i, x_j)})\n",
        " $$\n",
        " \n",
        " ここで $k(xi,xj)$ はカーネル関数です。線形カーネルの場合は次のようになります。他のカーネル関数にも対応できるように、この部分は独立したメソッドとしておきましょう。\n",
        " \n",
        " $$\n",
        " k(x_i, x_j) = x_{i}^{T} x_j\n",
        " $$\n",
        " \n",
        " 条件として、更新毎に \n",
        "$$λ\n",
        "i\n",
        ">=\n",
        "0$$\n",
        "を満たす必要があります。満たさない場合は \n",
        "$$λ\n",
        "i\n",
        "=\n",
        "0$$\n",
        "とします。\n",
        "\n",
        "$i,j$ : サンプルのインデックス\n",
        "\n",
        "$λnewi$ : 更新後のi番目のサンプルのラグランジュ乗数\n",
        "\n",
        "$λi$ : 更新前のi番目のサンプルのラグランジュ乗数\n",
        "\n",
        "$α$ : 学習率\n",
        "\n",
        "$λj$ : j番目のサンプルのラグランジュ乗数\n",
        "\n",
        "$yi$ : i番目のサンプルのラベル\n",
        "\n",
        "$yj$ : j番目のサンプルのラベル\n",
        "\n",
        "$xi$ : i番目のサンプルの特徴量ベクトル\n",
        "\n",
        "$xj$ : j番目のサンプルの特徴量ベクトル\n",
        "\n",
        "\n",
        "あるサンプルに対しての全てのサンプルとの関係を計算していくことになります。\n",
        "\n"
      ]
    },
    {
      "cell_type": "code",
      "metadata": {
        "id": "2TqDGr0_6pwu"
      },
      "source": [
        "import numpy as np"
      ],
      "execution_count": null,
      "outputs": []
    },
    {
      "cell_type": "code",
      "metadata": {
        "id": "WEh3yuPr6pwy"
      },
      "source": [
        "# シンプルデータセット1\n",
        "np.random.seed(seed=0)\n",
        "n_samples = 500\n",
        "f0 = [-1, 2]\n",
        "f1 = [2, -1]\n",
        "cov = [[1.0,0.8], [0.8, 1.0]]\n",
        "f0 = np.random.multivariate_normal(f0, cov, int(n_samples/2))\n",
        "f1 = np.random.multivariate_normal(f1, cov, int(n_samples/2))\n",
        "simpleX = np.concatenate((f0, f1))\n",
        "simpley = np.concatenate((np.ones((int(n_samples/2))), np.ones((int(n_samples/2))) *(-1))).astype(np.int)\n",
        "random_index = np.random.permutation(np.arange(n_samples))\n",
        "simpleX = simpleX[random_index]\n",
        "simpley = simpley[random_index]"
      ],
      "execution_count": null,
      "outputs": []
    },
    {
      "cell_type": "code",
      "metadata": {
        "id": "irKyAYf66pw1",
        "outputId": "40e7afd9-cadf-45cf-abc3-8dc7e15b1085"
      },
      "source": [
        "# シンプルデータ1を5個抽出\n",
        "small_X = simpleX[:5]\n",
        "small_X"
      ],
      "execution_count": null,
      "outputs": [
        {
          "output_type": "execute_result",
          "data": {
            "text/plain": [
              "array([[ 0.77238275, -2.29167329],\n",
              "       [-0.59334945,  1.66788336],\n",
              "       [-2.0764856 ,  0.48746845],\n",
              "       [ 0.11922688,  3.62537974],\n",
              "       [-3.13000578, -0.15673155]])"
            ]
          },
          "metadata": {
            "tags": []
          },
          "execution_count": 5
        }
      ]
    },
    {
      "cell_type": "code",
      "metadata": {
        "id": "XqB76kYp6pw6",
        "outputId": "f40f3dac-d6d3-40cd-e966-85d341d7e89e"
      },
      "source": [
        "small_y = simpley[:5]\n",
        "small_y"
      ],
      "execution_count": null,
      "outputs": [
        {
          "output_type": "execute_result",
          "data": {
            "text/plain": [
              "array([-1,  1,  1,  1,  1])"
            ]
          },
          "metadata": {
            "tags": []
          },
          "execution_count": 6
        }
      ]
    },
    {
      "cell_type": "code",
      "metadata": {
        "id": "tDtna6t26pw9",
        "outputId": "514ce899-c301-4bb6-baaa-b34a048613ef"
      },
      "source": [
        "# ラムダをとりあえず用意\n",
        "lamda = np.random.rand(small_X.shape[0])\n",
        "lamda"
      ],
      "execution_count": null,
      "outputs": [
        {
          "output_type": "execute_result",
          "data": {
            "text/plain": [
              "array([0.78078852, 0.64849689, 0.12651209, 0.86002657, 0.6180731 ])"
            ]
          },
          "metadata": {
            "tags": []
          },
          "execution_count": 7
        }
      ]
    },
    {
      "cell_type": "code",
      "metadata": {
        "id": "QhTRC32r6pxA",
        "outputId": "566b4cbf-2e77-49f5-acbf-41b838d7d91d"
      },
      "source": [
        "for i in range(len(small_X)):\n",
        "    discent = 0\n",
        "    for j in range(len(small_X)):\n",
        "        discent += lamda[j] * small_y[i] * small_y[j] * (small_X[i].T @ small_X[j])\n",
        "    new = discent\n",
        "    print(new)"
      ],
      "execution_count": null,
      "outputs": [
        {
          "output_type": "stream",
          "text": [
            "16.024761206900695\n",
            "11.759047623560367\n",
            "9.30316575948352\n",
            "21.216719786872062\n",
            "8.715391684451376\n"
          ],
          "name": "stdout"
        }
      ]
    },
    {
      "cell_type": "code",
      "metadata": {
        "id": "PA4eaq7M6pxE",
        "outputId": "7acb93c3-b4da-4b6c-85ea-b5d3d58a8a69"
      },
      "source": [
        "lamda_list = np.array([])\n",
        "for i in range(len(small_X)):\n",
        "    discent = 0\n",
        "    for j in range(len(small_X)):\n",
        "        discent += lamda[j] * small_y[i] * small_y[j] * (small_X[i].T @ small_X[j])\n",
        "    lamda_list = np.append(lamda_list, discent)\n",
        "print(lamda_list)"
      ],
      "execution_count": null,
      "outputs": [
        {
          "output_type": "stream",
          "text": [
            "[16.02476121 11.75904762  9.30316576 21.21671979  8.71539168]\n"
          ],
          "name": "stdout"
        }
      ]
    },
    {
      "cell_type": "code",
      "metadata": {
        "id": "8sSyi4hU6pxH",
        "outputId": "58ae6f7f-9a4a-4b04-d489-9179d4f9a2bb"
      },
      "source": [
        "alpha = 1e-2\n",
        "new_lamda = lamda + alpha * (1 - lamda_list)\n",
        "new_lamda"
      ],
      "execution_count": null,
      "outputs": [
        {
          "output_type": "execute_result",
          "data": {
            "text/plain": [
              "array([0.63054091, 0.54090642, 0.04348043, 0.65785937, 0.54091919])"
            ]
          },
          "metadata": {
            "tags": []
          },
          "execution_count": 10
        }
      ]
    },
    {
      "cell_type": "code",
      "metadata": {
        "id": "aDLPaSWh6pxJ",
        "outputId": "518eff74-0228-4f62-8ca2-c37aaff8fa39"
      },
      "source": [
        "test1 = ScratchSVMClassifier()\n",
        "test1.fit(small_X, small_y)\n",
        "test1.lamda"
      ],
      "execution_count": null,
      "outputs": [
        {
          "output_type": "stream",
          "text": [
            "閾値： 1e-05\n",
            "サポートベクター（候補）: 個数 2 \n",
            " [[-0.59334945  1.66788336]\n",
            " [-2.0764856   0.48746845]]\n"
          ],
          "name": "stdout"
        },
        {
          "output_type": "execute_result",
          "data": {
            "text/plain": [
              "array([0.        , 0.24856807, 0.10806832, 0.        , 0.        ])"
            ]
          },
          "metadata": {
            "tags": []
          },
          "execution_count": 11
        }
      ]
    },
    {
      "cell_type": "markdown",
      "metadata": {
        "id": "69C8J_t-6pxM"
      },
      "source": [
        "とりあえず動いた。"
      ]
    },
    {
      "cell_type": "markdown",
      "metadata": {
        "id": "WF-2t4h46pxN"
      },
      "source": [
        "## 【問題2】サポートベクターの決定\n",
        "計算したラグランジュ乗数 λ\n",
        " が設定した閾値より大きいサンプルをサポートベクターとして扱います。推定時にサポートベクターが必要になります。サポートベクターを決定し、インスタンス変数として保持しておくコードを書いてください。\n",
        "\n",
        "\n",
        "閾値はハイパーパラメータですが、1e-5程度からはじめると良いでしょう。サポートベクターの数を出力させられるようにしておくと学習がうまく行えているかを確認できます。"
      ]
    },
    {
      "cell_type": "code",
      "metadata": {
        "id": "_ejKkhHc6pxN",
        "outputId": "9c6c1f9a-22fb-4e74-acc4-74c848563cf9"
      },
      "source": [
        "# クラス外で試す\n",
        "threshold = 1e-5\n",
        "print('閾値：', threshold)\n",
        "\n",
        "sup_index = test1.lamda > threshold\n",
        "\n",
        "print('サポートベクター（候補）: 個数', len(small_X[sup_index]),'\\n',  small_X[sup_index])"
      ],
      "execution_count": null,
      "outputs": [
        {
          "output_type": "stream",
          "text": [
            "閾値： 1e-05\n",
            "サポートベクター（候補）: 個数 2 \n",
            " [[-0.59334945  1.66788336]\n",
            " [-2.0764856   0.48746845]]\n"
          ],
          "name": "stdout"
        }
      ]
    },
    {
      "cell_type": "code",
      "metadata": {
        "id": "OzdqhSI76pxR",
        "outputId": "1e0895b7-1713-4e45-858c-daa8bc0a219c"
      },
      "source": [
        "# クラスに入れて試す\n",
        "test2 = ScratchSVMClassifier()\n",
        "test2.fit(small_X, small_y)"
      ],
      "execution_count": null,
      "outputs": [
        {
          "output_type": "stream",
          "text": [
            "閾値： 1e-05\n",
            "サポートベクター（候補）: 個数 2 \n",
            " [[-0.59334945  1.66788336]\n",
            " [-2.0764856   0.48746845]]\n"
          ],
          "name": "stdout"
        }
      ]
    },
    {
      "cell_type": "code",
      "metadata": {
        "id": "Y3YskpzP6pxU",
        "outputId": "d293fa01-ead9-4bdc-f344-de3607b75ccb"
      },
      "source": [
        "# 元のサンプル数で試す\n",
        "test2 = ScratchSVMClassifier(num_iter=10)\n",
        "test2.fit(simpleX, simpley)"
      ],
      "execution_count": null,
      "outputs": [
        {
          "output_type": "stream",
          "text": [
            "閾値： 1e-05\n",
            "サポートベクター（候補）: 個数 7 \n",
            " [[ 0.46861035  2.21584467]\n",
            " [-0.95596327  1.07243091]\n",
            " [ 1.54634728 -1.21380311]\n",
            " [ 1.29767058 -0.64553225]\n",
            " [ 2.16044089 -0.14970841]\n",
            " [ 1.24814437 -2.16798041]\n",
            " [ 0.31731679  2.22551981]]\n"
          ],
          "name": "stdout"
        }
      ]
    },
    {
      "cell_type": "markdown",
      "metadata": {
        "id": "4h7FvQOv6pxY"
      },
      "source": [
        "## 【問題3】推定\n",
        "推定時には、推定したいデータの特徴量とサポートベクターの特徴量をカーネル関数によって計算します。求めた \n",
        "$f(x)$の符号が分類結果です。\n",
        "\n",
        "$$\n",
        "f(x) = \\sum_{n=1}^{N}\\lambda_n y_{sv\\_n} k(x, s_n)\n",
        "$$\n",
        "\n",
        "$x$\n",
        " : 推定したいデータの特徴量ベクトル\n",
        "\n",
        "\n",
        "$N$\n",
        " : サポートベクターの数\n",
        "\n",
        "\n",
        "$n$\n",
        " : サポートベクターのインデックス\n",
        "\n",
        "\n",
        "$λn$ : n\n",
        "番目のサポートベクターのラグランジュ乗数\n",
        "\n",
        "$ysv_n$\n",
        " : \n",
        "n\n",
        "番目のサポートベクターのラベル\n",
        "\n",
        "$k()$\n",
        " : カーネル関数\n",
        "\n",
        "$s_n$\n",
        " : \n",
        "n\n",
        "番目のサポートベクターの特徴量"
      ]
    },
    {
      "cell_type": "code",
      "metadata": {
        "id": "1ht4aohQ6pxY",
        "outputId": "491d8acc-8502-4c83-dcab-21dccb0c5a17"
      },
      "source": [
        "test3 = ScratchSVMClassifier(num_iter=10)\n",
        "test3.fit(simpleX, simpley)"
      ],
      "execution_count": null,
      "outputs": [
        {
          "output_type": "stream",
          "text": [
            "閾値： 1e-05\n",
            "サポートベクター（候補）: 個数 11 \n",
            " [[ 3.99770982  1.25164011]\n",
            " [-2.69336749 -0.61318911]\n",
            " [-1.02829008  0.23898594]\n",
            " [ 3.97475019  1.52122485]\n",
            " [ 2.42340322  0.48692572]\n",
            " [ 2.23162545  0.38441708]\n",
            " [ 2.71714245  0.98076082]\n",
            " [ 2.49174927  0.2780935 ]\n",
            " [-2.61058479  0.73924664]\n",
            " [ 0.31731679  2.22551981]\n",
            " [ 1.10298263 -0.54852515]]\n"
          ],
          "name": "stdout"
        }
      ]
    },
    {
      "cell_type": "code",
      "metadata": {
        "id": "XUdmkJJG6pxb",
        "outputId": "e5e38077-ad67-4ae8-8951-6cc95276180c"
      },
      "source": [
        "# クラス外でためす\n",
        "x = simpleX\n",
        "N = test3.n_support_vectors\n",
        "n = test3.index_support_vectors\n",
        "lamda_n = test3.lamda[n]\n",
        "ysv_n = simpley[n]\n",
        "s_n = simpleX[n]\n",
        "kernel = x @ s_n.T\n",
        "\n",
        "pred_y = lamda_n*ysv_n*kernel\n",
        "pred_y = np.sum(pred_y, axis=1)\n",
        "pred_y = pred_y / abs(pred_y)\n",
        "pred_y = pred_y.astype(int)\n",
        "\n",
        "pred_y"
      ],
      "execution_count": null,
      "outputs": [
        {
          "output_type": "execute_result",
          "data": {
            "text/plain": [
              "array([-1,  1,  1,  1,  1,  1, -1, -1, -1, -1, -1,  1,  1, -1,  1,  1,  1,\n",
              "       -1, -1,  1,  1,  1, -1, -1,  1, -1,  1, -1,  1, -1,  1,  1,  1, -1,\n",
              "        1,  1,  1,  1, -1, -1,  1, -1, -1,  1, -1, -1,  1,  1,  1, -1, -1,\n",
              "        1,  1,  1,  1, -1,  1,  1,  1, -1, -1,  1,  1,  1, -1,  1, -1, -1,\n",
              "       -1, -1, -1,  1, -1,  1,  1,  1, -1, -1,  1,  1,  1,  1,  1, -1,  1,\n",
              "       -1, -1,  1,  1, -1, -1,  1,  1, -1,  1,  1,  1, -1,  1, -1, -1, -1,\n",
              "        1, -1,  1,  1, -1, -1,  1, -1, -1, -1,  1, -1,  1, -1, -1,  1,  1,\n",
              "        1,  1,  1, -1,  1,  1, -1, -1, -1, -1,  1,  1,  1,  1, -1, -1,  1,\n",
              "       -1,  1, -1, -1, -1,  1,  1,  1,  1,  1, -1,  1,  1, -1, -1, -1, -1,\n",
              "        1,  1,  1, -1,  1, -1, -1,  1,  1,  1,  1, -1, -1,  1, -1, -1, -1,\n",
              "       -1, -1, -1,  1,  1,  1, -1, -1,  1, -1, -1,  1, -1, -1,  1, -1, -1,\n",
              "        1,  1, -1,  1, -1, -1, -1,  1, -1, -1, -1, -1, -1,  1, -1,  1, -1,\n",
              "       -1, -1,  1,  1,  1, -1, -1,  1,  1, -1, -1,  1, -1, -1,  1,  1, -1,\n",
              "        1,  1, -1,  1,  1,  1, -1, -1, -1, -1, -1, -1, -1, -1,  1,  1, -1,\n",
              "        1, -1,  1, -1,  1, -1, -1,  1, -1, -1,  1, -1,  1,  1, -1,  1,  1,\n",
              "        1, -1,  1, -1,  1, -1, -1, -1,  1,  1,  1,  1,  1, -1,  1, -1, -1,\n",
              "        1,  1,  1,  1,  1, -1,  1, -1, -1,  1,  1,  1,  1, -1,  1,  1, -1,\n",
              "       -1, -1,  1,  1,  1,  1, -1, -1, -1, -1,  1,  1,  1, -1, -1,  1,  1,\n",
              "       -1, -1,  1,  1,  1,  1,  1,  1, -1, -1,  1, -1, -1,  1,  1,  1, -1,\n",
              "        1, -1,  1, -1,  1,  1,  1,  1,  1,  1, -1, -1,  1,  1, -1, -1, -1,\n",
              "        1,  1,  1, -1,  1, -1,  1,  1,  1, -1,  1, -1,  1, -1, -1,  1, -1,\n",
              "       -1, -1, -1, -1, -1, -1, -1, -1, -1, -1,  1,  1,  1,  1, -1,  1,  1,\n",
              "        1,  1,  1, -1, -1, -1,  1, -1, -1,  1,  1, -1, -1,  1,  1, -1, -1,\n",
              "       -1,  1,  1,  1,  1, -1,  1,  1,  1, -1, -1,  1, -1,  1,  1, -1,  1,\n",
              "       -1,  1, -1,  1,  1, -1,  1,  1,  1,  1, -1,  1, -1, -1, -1, -1,  1,\n",
              "       -1, -1, -1, -1, -1,  1, -1, -1, -1, -1, -1,  1, -1,  1, -1,  1,  1,\n",
              "        1, -1,  1, -1, -1,  1,  1, -1, -1, -1, -1, -1, -1,  1, -1, -1, -1,\n",
              "        1, -1, -1,  1,  1, -1,  1, -1, -1,  1, -1,  1,  1, -1, -1,  1,  1,\n",
              "       -1,  1, -1, -1,  1, -1,  1, -1,  1, -1, -1, -1, -1, -1,  1,  1, -1,\n",
              "       -1, -1, -1,  1,  1,  1, -1])"
            ]
          },
          "metadata": {
            "tags": []
          },
          "execution_count": 16
        }
      ]
    },
    {
      "cell_type": "code",
      "metadata": {
        "id": "YT6lGnLf6pxd",
        "outputId": "5184f0ed-4c12-42d8-faa9-a97ab227f238"
      },
      "source": [
        "# クラスの中で試す\n",
        "y_pred = test3.predict(simpleX, simpley)\n",
        "y_pred"
      ],
      "execution_count": null,
      "outputs": [
        {
          "output_type": "execute_result",
          "data": {
            "text/plain": [
              "array([-1,  1,  1,  1,  1,  1, -1, -1, -1, -1, -1,  1,  1, -1,  1,  1,  1,\n",
              "       -1, -1,  1,  1,  1, -1, -1,  1, -1,  1, -1,  1, -1,  1,  1,  1, -1,\n",
              "        1,  1,  1,  1, -1, -1,  1, -1, -1,  1, -1, -1,  1,  1,  1, -1, -1,\n",
              "        1,  1,  1,  1, -1,  1,  1,  1, -1, -1,  1,  1,  1, -1,  1, -1, -1,\n",
              "       -1, -1, -1,  1, -1,  1,  1,  1, -1, -1,  1,  1,  1,  1,  1, -1,  1,\n",
              "       -1, -1,  1,  1, -1, -1,  1,  1, -1,  1,  1,  1, -1,  1, -1, -1, -1,\n",
              "        1, -1,  1,  1, -1, -1,  1, -1, -1, -1,  1, -1,  1, -1, -1,  1,  1,\n",
              "        1,  1,  1, -1,  1,  1, -1, -1, -1, -1,  1,  1,  1,  1, -1, -1,  1,\n",
              "       -1,  1, -1, -1, -1,  1,  1,  1,  1,  1, -1,  1,  1, -1, -1, -1, -1,\n",
              "        1,  1,  1, -1,  1, -1, -1,  1,  1,  1,  1, -1, -1,  1, -1, -1, -1,\n",
              "       -1, -1, -1,  1,  1,  1, -1, -1,  1, -1, -1,  1, -1, -1,  1, -1, -1,\n",
              "        1,  1, -1,  1, -1, -1, -1,  1, -1, -1, -1, -1, -1,  1, -1,  1, -1,\n",
              "       -1, -1,  1,  1,  1, -1, -1,  1,  1, -1, -1,  1, -1, -1,  1,  1, -1,\n",
              "        1,  1, -1,  1,  1,  1, -1, -1, -1, -1, -1, -1, -1, -1,  1,  1, -1,\n",
              "        1, -1,  1, -1,  1, -1, -1,  1, -1, -1,  1, -1,  1,  1, -1,  1,  1,\n",
              "        1, -1,  1, -1,  1, -1, -1, -1,  1,  1,  1,  1,  1, -1,  1, -1, -1,\n",
              "        1,  1,  1,  1,  1, -1,  1, -1, -1,  1,  1,  1,  1, -1,  1,  1, -1,\n",
              "       -1, -1,  1,  1,  1,  1, -1, -1, -1, -1,  1,  1,  1, -1, -1,  1,  1,\n",
              "       -1, -1,  1,  1,  1,  1,  1,  1, -1, -1,  1, -1, -1,  1,  1,  1, -1,\n",
              "        1, -1,  1, -1,  1,  1,  1,  1,  1,  1, -1, -1,  1,  1, -1, -1, -1,\n",
              "        1,  1,  1, -1,  1, -1,  1,  1,  1, -1,  1, -1,  1, -1, -1,  1, -1,\n",
              "       -1, -1, -1, -1, -1, -1, -1, -1, -1, -1,  1,  1,  1,  1, -1,  1,  1,\n",
              "        1,  1,  1, -1, -1, -1,  1, -1, -1,  1,  1, -1, -1,  1,  1, -1, -1,\n",
              "       -1,  1,  1,  1,  1, -1,  1,  1,  1, -1, -1,  1, -1,  1,  1, -1,  1,\n",
              "       -1,  1, -1,  1,  1, -1,  1,  1,  1,  1, -1,  1, -1, -1, -1, -1,  1,\n",
              "       -1, -1, -1, -1, -1,  1, -1, -1, -1, -1, -1,  1, -1,  1, -1,  1,  1,\n",
              "        1, -1,  1, -1, -1,  1,  1, -1, -1, -1, -1, -1, -1,  1, -1, -1, -1,\n",
              "        1, -1, -1,  1,  1, -1,  1, -1, -1,  1, -1,  1,  1, -1, -1,  1,  1,\n",
              "       -1,  1, -1, -1,  1, -1,  1, -1,  1, -1, -1, -1, -1, -1,  1,  1, -1,\n",
              "       -1, -1, -1,  1,  1,  1, -1])"
            ]
          },
          "metadata": {
            "tags": []
          },
          "execution_count": 17
        }
      ]
    },
    {
      "cell_type": "markdown",
      "metadata": {
        "id": "qY5D-JYz6pxg"
      },
      "source": [
        "# 検証"
      ]
    },
    {
      "cell_type": "markdown",
      "metadata": {
        "id": "6ETU7HuP6pxh"
      },
      "source": [
        "## 【問題4】学習と推定\n",
        "機械学習スクラッチ入門のSprintで用意したシンプルデータセット1の2値分類に対してスクラッチ実装の学習と推定を行なってください。\n",
        "\n",
        "\n",
        "scikit-learnによる実装と比べ、正しく動いているかを確認してください。\n",
        "\n",
        "\n",
        "AccuracyやPrecision、Recallなどの指標値はscikit-learnを使用してください。"
      ]
    },
    {
      "cell_type": "code",
      "metadata": {
        "id": "HqfuWxQX6pxh"
      },
      "source": [
        "from sklearn.model_selection import train_test_split\n",
        "from sklearn.preprocessing import StandardScaler\n",
        "\n",
        "X_train, X_test, y_train, y_test = train_test_split(simpleX, simpley, random_state=1)\n",
        "\n",
        "scaler = StandardScaler()\n",
        "scaler.fit(X_train)\n",
        "X_train_std = scaler.transform(X_train)\n",
        "X_test_std = scaler.transform(X_test)"
      ],
      "execution_count": null,
      "outputs": []
    },
    {
      "cell_type": "code",
      "metadata": {
        "id": "HVv9GQkl6pxk",
        "outputId": "ce1eb131-9f9c-452a-edf9-e6ded216763e"
      },
      "source": [
        "test4 = ScratchSVMClassifier(num_iter=100)\n",
        "test4.fit(X_train_std, y_train)"
      ],
      "execution_count": null,
      "outputs": [
        {
          "output_type": "stream",
          "text": [
            "閾値： 1e-05\n",
            "サポートベクター（候補）: 個数 12 \n",
            " [[ 0.28427828 -0.63826654]\n",
            " [-1.29969539 -0.36695235]\n",
            " [-0.86606227 -0.1308968 ]\n",
            " [-0.10279129 -1.03674538]\n",
            " [ 0.21796862 -0.6728361 ]\n",
            " [ 0.38269934 -0.44719935]\n",
            " [ 1.17632942  0.23314073]\n",
            " [-0.15191629  0.76120219]\n",
            " [-0.06630194  0.93690775]\n",
            " [ 1.05176788 -0.16724836]\n",
            " [-0.89355073 -0.18953236]\n",
            " [-0.24737475  0.67069224]]\n"
          ],
          "name": "stdout"
        }
      ]
    },
    {
      "cell_type": "code",
      "metadata": {
        "id": "OI5RSi-G6pxo",
        "outputId": "b2545d64-e8b4-496f-c164-fe00d5bd1c79"
      },
      "source": [
        "test4 = ScratchSVMClassifier(num_iter=100)\n",
        "test4.fit(X_train_std, y_train)\n",
        "y_pred = test4.predict(X_test_std)"
      ],
      "execution_count": null,
      "outputs": [
        {
          "output_type": "stream",
          "text": [
            "閾値： 1e-05\n",
            "サポートベクター（候補）: 個数 14 \n",
            " [[ 0.28427828 -0.63826654]\n",
            " [-0.86606227 -0.1308968 ]\n",
            " [-0.10279129 -1.03674538]\n",
            " [ 0.23107827 -0.83592957]\n",
            " [ 0.21796862 -0.6728361 ]\n",
            " [-0.14991299  0.94242077]\n",
            " [ 0.38269934 -0.44719935]\n",
            " [-0.15191629  0.76120219]\n",
            " [-0.06630194  0.93690775]\n",
            " [-0.08355719  1.0762518 ]\n",
            " [-0.89355073 -0.18953236]\n",
            " [-0.24737475  0.67069224]\n",
            " [-1.06187284  0.19577049]\n",
            " [ 0.25130736 -1.22901316]]\n"
          ],
          "name": "stdout"
        }
      ]
    },
    {
      "cell_type": "code",
      "metadata": {
        "id": "kxLiBcw66pxr"
      },
      "source": [
        "# 指標値出力する関数\n",
        "from sklearn import metrics\n",
        "\n",
        "\n",
        "def evaluate(y_true, y_pred):\n",
        "    # 4種類の指標値と混同行列を算出し、結果を返す\n",
        "\n",
        "    # それぞれの関数に正解値と推定値を渡す\n",
        "    #　正解率\n",
        "    acc = metrics.accuracy_score(y_test, y_pred)\n",
        "    #　適合率\n",
        "    precision = metrics.precision_score(y_test, y_pred)\n",
        "    # 再現率\n",
        "    recall = metrics.recall_score(y_test, y_pred)\n",
        "    # F値\n",
        "    f1 = metrics.f1_score(y_test, y_pred)\n",
        "\n",
        "    # 混同行列\n",
        "    confusion = metrics.confusion_matrix(y_test, y_pred)\n",
        "\n",
        "    print(\n",
        "        'acc : {}\\nprecision : {}\\nrecall : {}\\nf1 : {}\\nconfusion matrix \\n {}'\n",
        "        .format(acc, precision, recall, f1, confusion))"
      ],
      "execution_count": null,
      "outputs": []
    },
    {
      "cell_type": "code",
      "metadata": {
        "id": "Q31PFQCF6pxu",
        "outputId": "fadf5a00-249c-47dd-f061-898418bff65a"
      },
      "source": [
        "evaluate(y_pred, y_test)"
      ],
      "execution_count": null,
      "outputs": [
        {
          "output_type": "stream",
          "text": [
            "acc : 1.0\n",
            "precision : 1.0\n",
            "recall : 1.0\n",
            "f1 : 1.0\n",
            "confusion matrix \n",
            " [[64  0]\n",
            " [ 0 61]]\n"
          ],
          "name": "stdout"
        }
      ]
    },
    {
      "cell_type": "markdown",
      "metadata": {
        "id": "0kFTrA6t6pxx"
      },
      "source": [
        "## 【問題5】決定領域の可視化\n",
        "決定領域を可視化してください。\n",
        "\n",
        "\n",
        "以下の例のようにサポートベクターは異なる色で示してください。\n",
        "<img width=\"大きさ\" alt=\"非表示のときの名前\" src=\"https://t.gyazo.com/teams/diveintocode/ee4a9ab721afe0b964aecf64b3058989.png\">"
      ]
    },
    {
      "cell_type": "code",
      "metadata": {
        "id": "DnLOC4WK6pxx"
      },
      "source": [
        "import matplotlib.pyplot as plt\n",
        "from matplotlib.colors import ListedColormap\n",
        "import matplotlib.patches as mpatches\n",
        "\n",
        "# 決定領域を可視化する関数\n",
        "def decision_region(X, y, model, sup_v, step=0.01, title='decision region', xlabel='xlabel', ylabel='ylabel', target_names=['versicolor', 'virginica']):\n",
        "    \"\"\"\n",
        "    2値分類を2次元の特徴量で学習したモデルの決定領域を描く。\n",
        "    背景の色が学習したモデルによる推定値から描画される。\n",
        "    散布図の点は訓練データまたは検証データである。\n",
        "\n",
        "    Parameters\n",
        "    ----------------\n",
        "    X : ndarray, shape(n_samples, 2)\n",
        "        特徴量\n",
        "    y : ndarray, shape(n_samples,)\n",
        "        ラベル\n",
        "    model : object\n",
        "        学習したモデルのインスンタスを入れる\n",
        "    step : float, (default : 0.1)\n",
        "        推定値を計算する間隔を設定する\n",
        "    title : str\n",
        "        グラフのタイトルの文章を与える\n",
        "    xlabel, ylabel : str\n",
        "        軸ラベルの文章を与える\n",
        "    target_names= : list of str\n",
        "        凡例の一覧を与える\n",
        "    \"\"\"\n",
        "    # setting\n",
        "    scatter_color = ['red', 'blue']\n",
        "    contourf_color = ['pink', 'skyblue']\n",
        "    n_class = 2\n",
        "\n",
        "    # pred\n",
        "    mesh_f0, mesh_f1  = np.meshgrid(np.arange(np.min(X[:,0])-0.5, np.max(X[:,0])+0.5, step), np.arange(np.min(X[:,1])-0.5, np.max(X[:,1])+0.5, step))\n",
        "    mesh = np.c_[np.ravel(mesh_f0),np.ravel(mesh_f1)]\n",
        "    y_pred = model.predict(mesh).reshape(mesh_f0.shape)\n",
        "\n",
        "    # plot\n",
        "    plt.rcParams['font.size'] = 10\n",
        "    plt.title(title)\n",
        "    plt.xlabel(xlabel)\n",
        "    plt.ylabel(ylabel)\n",
        "    plt.contourf(mesh_f0, mesh_f1, y_pred, n_class-1, cmap=ListedColormap(contourf_color))\n",
        "    plt.contour(mesh_f0, mesh_f1, y_pred, n_class-1, colors='y', linewidths=3, alpha=0.5)\n",
        "    for i, target in enumerate(set(y)):\n",
        "        plt.scatter(X[y==target][:, 0], X[y==target][:, 1], s=80, color=scatter_color[i], label=target_names[i], marker='o')\n",
        "    \n",
        "    plt.scatter(sup_v[:, 0], sup_v[:, 1], color='yellow', label='support_vector')\n",
        "    patches = [mpatches.Patch(color=scatter_color[i], label=target_names[i]) for i in range(n_class)]\n",
        "    plt.legend(handles=patches)\n",
        "    plt.legend()\n",
        "    plt.show()"
      ],
      "execution_count": null,
      "outputs": []
    },
    {
      "cell_type": "code",
      "metadata": {
        "id": "GaI_dfYL6px1",
        "outputId": "b7e86cef-b452-4a6f-eb8e-631991f48729"
      },
      "source": [
        "decision_region(X_train_std,\n",
        "                y_train,\n",
        "                test4,\n",
        "                test4.X_sv,\n",
        "                title='decision region {}, {}'.format('test4', 'train'))"
      ],
      "execution_count": null,
      "outputs": [
        {
          "output_type": "display_data",
          "data": {
            "image/png": "[encoded data removed]",
            "text/plain": [
              "<Figure size 432x288 with 1 Axes>"
            ]
          },
          "metadata": {
            "tags": [],
            "needs_background": "light"
          }
        }
      ]
    },
    {
      "cell_type": "code",
      "metadata": {
        "id": "t-_N-0rU6px5",
        "outputId": "e3745b2f-cf68-4c8f-c0cd-25178154025b"
      },
      "source": [
        "decision_region(X_test_std,\n",
        "                y_test,\n",
        "                test4,\n",
        "                test4.X_sv,\n",
        "                title='decision region {}, {}'.format('test4', 'test'))"
      ],
      "execution_count": null,
      "outputs": [
        {
          "output_type": "display_data",
          "data": {
            "image/png": "[encoded data removed]",
            "text/plain": [
              "<Figure size 432x288 with 1 Axes>"
            ]
          },
          "metadata": {
            "tags": [],
            "needs_background": "light"
          }
        }
      ]
    },
    {
      "cell_type": "markdown",
      "metadata": {
        "id": "9ZPcJ6zo6px8"
      },
      "source": [
        "## 【問題6】（アドバンス課題）多項式カーネル関数の作成\n",
        "最初に作成した実装では線形カーネルを使用していました。多項式カーネルにも切り替えられるようにしましょう。\n",
        "\n",
        "\n",
        "「線形カーネルの式」\n",
        "\n",
        "$$\n",
        "k(x_i, x_j) = x_{i}^{T} x_j\n",
        "$$\n",
        "\n",
        "「多項式カーネルの式」\n",
        "\n",
        "$$\n",
        "k(x_i, x_j) = ({\\gamma}x_{i}^{T} x_j + \\theta_0)^{d}\n",
        "$$\n",
        "\n",
        "$γ, θ_0, d$ はハイパーパラメータです。\n",
        "\n",
        "\n",
        "線形カーネルは $γ=1, θ_0=0, d=1$の場合の多項式カーネルと等しいと言えます。"
      ]
    },
    {
      "cell_type": "code",
      "metadata": {
        "id": "XEwGYLqi6px8"
      },
      "source": [
        "# 多項式で2乗に設定\n",
        "svc_d_2 = ScratchSVMClassifier(num_iter=30, kernel='polynomial', d=2)"
      ],
      "execution_count": null,
      "outputs": []
    },
    {
      "cell_type": "code",
      "metadata": {
        "id": "bwppUA0d6px_",
        "outputId": "a258d68a-a0d3-4d39-95ef-79bd6fcae9ad"
      },
      "source": [
        "svc_d_2.fit(X_train_std, y_train)"
      ],
      "execution_count": null,
      "outputs": [
        {
          "output_type": "stream",
          "text": [
            "閾値： 1e-05\n",
            "サポートベクター（候補）: 個数 375 \n",
            " [[ 1.15287010e+00 -6.80683008e-01]\n",
            " [-1.76799190e+00  9.55227688e-02]\n",
            " [-6.09355122e-01  8.35050044e-01]\n",
            " [-5.00817233e-01  1.58273818e+00]\n",
            " [-1.21336330e+00  2.33429005e-01]\n",
            " [ 8.08382221e-01 -1.18654425e+00]\n",
            " [ 2.78801081e-01 -1.12519666e+00]\n",
            " [ 8.79294279e-01 -1.22869801e+00]\n",
            " [-6.66013376e-01  1.18234082e+00]\n",
            " [-7.56207567e-01  8.32089008e-01]\n",
            " [-6.26605338e-01  1.17030517e+00]\n",
            " [ 3.96597607e-01 -1.28197601e+00]\n",
            " [ 1.55323450e+00 -3.09247708e-01]\n",
            " [-1.38188415e+00  3.94068848e-01]\n",
            " [-1.46225550e+00  5.82411335e-01]\n",
            " [ 3.32653447e-01 -1.45321303e+00]\n",
            " [ 7.78427879e-01 -7.51282369e-01]\n",
            " [ 1.47184513e+00 -2.92090742e-01]\n",
            " [-4.52036884e-01  7.57522401e-01]\n",
            " [ 3.35408831e-01 -9.76266078e-01]\n",
            " [-1.31698308e+00  3.19724455e-01]\n",
            " [ 1.82249862e+00 -5.30094172e-01]\n",
            " [-1.81374103e+00 -6.75112913e-01]\n",
            " [ 1.09041983e+00 -8.78289777e-01]\n",
            " [ 3.31787318e-01 -8.27432692e-01]\n",
            " [ 6.03686710e-01 -6.88400069e-01]\n",
            " [-5.53124334e-02  1.80164981e+00]\n",
            " [ 5.22843023e-01 -9.73264568e-01]\n",
            " [ 1.28445193e+00 -1.02096477e+00]\n",
            " [ 8.15912490e-01 -6.97990195e-01]\n",
            " [ 9.22046018e-01 -8.86745199e-01]\n",
            " [-1.28270622e+00  4.43032038e-01]\n",
            " [ 1.62024600e+00 -2.41821272e-01]\n",
            " [-1.97533779e+00  3.02103689e-01]\n",
            " [-1.99806315e-01  1.35531518e+00]\n",
            " [ 1.51807468e+00 -1.23229503e+00]\n",
            " [ 1.76491696e+00  2.55810158e-01]\n",
            " [-8.83137572e-01  4.12329589e-01]\n",
            " [-3.05123229e-01  9.66977018e-01]\n",
            " [ 1.61954681e+00 -1.05141730e+00]\n",
            " [ 1.12845038e+00 -7.70261782e-01]\n",
            " [ 1.87133522e+00  5.41104239e-01]\n",
            " [-1.42646790e+00  5.45095908e-01]\n",
            " [ 5.54051093e-01 -1.05991503e+00]\n",
            " [ 6.83384042e-01 -8.05225570e-01]\n",
            " [ 1.87835155e+00 -4.03688119e-01]\n",
            " [ 6.65279151e-01 -1.61262484e+00]\n",
            " [ 4.10277476e-01  2.36064443e+00]\n",
            " [-1.66048161e-01  1.36525730e+00]\n",
            " [ 6.26406592e-01 -7.77158208e-01]\n",
            " [ 1.39546477e+00 -9.40111031e-01]\n",
            " [-1.35888218e+00  1.54614193e-01]\n",
            " [ 1.05619938e+00 -6.01592880e-01]\n",
            " [-5.29939094e-01  1.18417770e+00]\n",
            " [-4.48306842e-01  1.21709307e+00]\n",
            " [ 1.21717342e+00 -3.53777413e-01]\n",
            " [ 4.99349435e-01 -6.19369064e-01]\n",
            " [ 1.59667724e+00 -4.64382157e-01]\n",
            " [ 3.23401190e-01 -1.59385280e+00]\n",
            " [-1.55629874e+00  2.93204794e-01]\n",
            " [-1.14156325e+00  1.15953463e+00]\n",
            " [ 8.93564400e-01 -3.73217066e-01]\n",
            " [-7.36184094e-01  6.94080309e-01]\n",
            " [-2.24563317e+00 -1.14638686e-01]\n",
            " [ 2.95179140e-01 -1.40806322e+00]\n",
            " [-1.24233032e+00  5.64188462e-01]\n",
            " [-2.76784249e-01  1.30761447e+00]\n",
            " [ 2.84278283e-01 -6.38266538e-01]\n",
            " [-9.71717656e-02 -1.51676869e+00]\n",
            " [-9.25737343e-01  1.87257907e-01]\n",
            " [ 7.51583861e-01 -8.88987618e-01]\n",
            " [ 1.18609734e+00 -4.94863601e-01]\n",
            " [ 1.71901645e-01  1.72410233e+00]\n",
            " [ 1.19098030e+00 -9.13677936e-01]\n",
            " [-1.29969539e+00 -3.66952350e-01]\n",
            " [-9.90168913e-01  8.76145820e-01]\n",
            " [-1.21969277e+00  7.05465549e-01]\n",
            " [ 1.51993748e+00  1.77931788e-02]\n",
            " [-1.93830998e+00  2.50103596e-01]\n",
            " [-1.03102911e+00  8.66132071e-01]\n",
            " [-6.62767976e-01  1.27952436e+00]\n",
            " [-7.24390737e-01  9.92453738e-01]\n",
            " [-3.61411556e-02  1.84435651e+00]\n",
            " [ 2.78014992e-01  2.09639620e+00]\n",
            " [-8.05670211e-01  7.85018917e-01]\n",
            " [ 1.28167985e+00 -4.95626959e-01]\n",
            " [-8.51388085e-01  4.83365943e-01]\n",
            " [-8.66143547e-01  5.04986051e-01]\n",
            " [-1.79580884e+00  1.74746867e-01]\n",
            " [-8.66062275e-01 -1.30896798e-01]\n",
            " [ 1.07201520e+00 -7.78341240e-01]\n",
            " [ 4.28779622e-01 -1.10535624e+00]\n",
            " [-1.72866101e-01  1.69922337e+00]\n",
            " [-4.11314780e-01  1.31373699e+00]\n",
            " [ 5.52083394e-01 -1.38550058e+00]\n",
            " [-8.94511478e-01  4.02886826e-01]\n",
            " [-7.10349850e-01  7.47584674e-01]\n",
            " [ 4.78005473e-01 -1.40120176e+00]\n",
            " [ 1.01575184e-01 -1.63153528e+00]\n",
            " [ 1.45350357e+00 -7.06118593e-01]\n",
            " [-3.58562201e-01  1.05642095e+00]\n",
            " [-2.29241270e+00 -3.04158792e-01]\n",
            " [ 5.17535706e-01 -1.10171617e+00]\n",
            " [-6.97096981e-01  7.55231004e-01]\n",
            " [ 4.11783696e-01 -1.63420439e+00]\n",
            " [-1.97153786e+00 -1.73104042e-01]\n",
            " [ 1.00219212e+00 -2.71946454e-01]\n",
            " [-2.26020868e-01  9.67914887e-01]\n",
            " [-6.75052754e-01  9.38946770e-01]\n",
            " [-1.46448495e+00  1.44280335e-01]\n",
            " [ 8.55153126e-01 -9.13159863e-01]\n",
            " [ 4.87136907e-01 -8.07583756e-01]\n",
            " [-7.60195690e-01  1.62364732e+00]\n",
            " [-2.35736282e-01  1.19022620e+00]\n",
            " [-2.46765529e-01  1.56091925e+00]\n",
            " [ 9.89082351e-01 -1.32199324e+00]\n",
            " [ 1.28829188e+00 -5.63025147e-01]\n",
            " [-6.02537810e-01  1.79829709e+00]\n",
            " [-9.98247919e-01  1.05749750e+00]\n",
            " [ 1.29888109e+00 -4.24886179e-01]\n",
            " [-1.25948434e+00 -2.45159225e-02]\n",
            " [-4.67547559e-01  1.09614440e+00]\n",
            " [-1.12228118e+00  5.00136730e-01]\n",
            " [-2.66664018e-01 -1.99078802e+00]\n",
            " [ 1.12815923e+00 -1.13503807e+00]\n",
            " [-4.62522254e-01  1.11264191e+00]\n",
            " [ 4.86206736e-01 -9.76137756e-01]\n",
            " [ 5.25666990e-01 -1.12248590e+00]\n",
            " [-6.73299888e-01  1.36482486e+00]\n",
            " [ 3.22849476e-01 -1.43006623e+00]\n",
            " [ 1.90995080e+00 -2.95463199e-01]\n",
            " [ 1.68476926e+00 -3.17791616e-03]\n",
            " [-7.14100050e-01  1.03929640e+00]\n",
            " [-3.20213643e-01  1.18034202e+00]\n",
            " [-8.69194465e-01  7.55452038e-01]\n",
            " [-1.34745344e+00  2.73927133e-01]\n",
            " [ 1.95962147e+00 -8.20493969e-03]\n",
            " [ 9.29137076e-01 -1.12992547e+00]\n",
            " [ 1.61979220e+00 -3.04100277e-01]\n",
            " [ 9.55623038e-01 -3.65282595e-01]\n",
            " [-1.02791293e-01 -1.03674538e+00]\n",
            " [ 6.44247321e-01 -7.39481440e-01]\n",
            " [ 2.73523440e-01  1.80672530e+00]\n",
            " [ 1.26049793e+00 -8.27040915e-01]\n",
            " [ 1.17077941e+00 -2.35975340e-02]\n",
            " [-1.07642310e+00  1.82593207e-01]\n",
            " [-4.10122959e-01  7.13698322e-01]\n",
            " [-4.03782970e-01  8.77304699e-01]\n",
            " [ 1.25403061e+00 -5.81204106e-02]\n",
            " [ 1.17026440e-01 -1.72699794e+00]\n",
            " [ 1.10041018e+00 -8.51536120e-01]\n",
            " [ 1.33471836e+00 -6.43514671e-01]\n",
            " [ 4.40656286e-02 -1.17536219e+00]\n",
            " [-1.11648573e+00  5.26092673e-01]\n",
            " [-8.92789867e-01  4.90780770e-01]\n",
            " [ 4.67918821e-01 -1.50732676e+00]\n",
            " [-1.59449022e-01  1.29138598e+00]\n",
            " [-5.41569860e-01  1.59718872e+00]\n",
            " [-1.13642142e+00  4.67131260e-01]\n",
            " [ 7.50946649e-01 -1.06440955e+00]\n",
            " [-1.15778907e+00  8.77310262e-01]\n",
            " [ 6.50698601e-01 -6.20508185e-01]\n",
            " [ 1.91862464e+00  4.06618558e-02]\n",
            " [-1.98950595e+00  3.51030497e-01]\n",
            " [-1.01470597e+00  8.17746227e-01]\n",
            " [-8.77644935e-01  1.10338701e+00]\n",
            " [-1.16803549e+00  5.46648524e-01]\n",
            " [-1.16893880e+00  6.34101508e-01]\n",
            " [ 2.31078273e-01 -8.35929571e-01]\n",
            " [-1.96335596e+00  5.31110115e-02]\n",
            " [-8.09326139e-01  1.48270960e+00]\n",
            " [ 2.17968620e-01 -6.72836103e-01]\n",
            " [-1.41530350e+00 -5.81758364e-02]\n",
            " [ 6.00308341e-01 -1.21423373e+00]\n",
            " [ 2.33578423e+00  2.92734100e-01]\n",
            " [ 8.67562763e-01 -7.71301333e-01]\n",
            " [-3.27314817e-01  1.22871068e+00]\n",
            " [-5.30438152e-01  9.02823114e-01]\n",
            " [-3.30570077e-01  1.35021307e+00]\n",
            " [ 9.70299401e-01 -7.92864298e-01]\n",
            " [ 4.18431303e-01 -1.11011069e+00]\n",
            " [ 9.47453325e-01 -5.77544451e-01]\n",
            " [ 4.79386527e-01 -9.06372736e-01]\n",
            " [ 2.53142866e-01 -1.78638431e+00]\n",
            " [-1.36835317e-01 -2.65002619e+00]\n",
            " [-1.04012894e-01  1.08144531e+00]\n",
            " [ 8.23649842e-01 -2.91124206e-01]\n",
            " [ 7.85897114e-01 -1.02608747e+00]\n",
            " [-3.36197646e-01  1.12396708e+00]\n",
            " [-9.49154916e-01  3.92836293e-01]\n",
            " [-1.68625289e+00 -3.71729782e-01]\n",
            " [ 9.49032031e-01 -7.86923409e-01]\n",
            " [-1.36103215e+00  6.48135471e-01]\n",
            " [-1.36189208e+00  5.65277341e-01]\n",
            " [-3.43026545e-01  1.06759382e+00]\n",
            " [ 8.07717145e-01 -5.28880491e-01]\n",
            " [ 1.16732205e+00 -4.84349238e-01]\n",
            " [-1.20142320e+00  2.12895155e-01]\n",
            " [ 1.04675281e+00 -9.30027369e-01]\n",
            " [-8.26854163e-01  8.27894722e-01]\n",
            " [ 9.50403099e-01 -8.28757299e-01]\n",
            " [ 1.23351084e+00 -3.42119489e-01]\n",
            " [-9.19379717e-02 -1.60669320e+00]\n",
            " [ 6.01401534e-01 -7.67127610e-01]\n",
            " [ 8.38474918e-01 -1.20165195e+00]\n",
            " [-8.26123114e-01  9.01178326e-01]\n",
            " [ 5.34332099e-01 -1.27995948e+00]\n",
            " [-1.49912995e-01  9.42420770e-01]\n",
            " [-1.14677313e+00  3.70670994e-01]\n",
            " [ 5.97558598e-01 -1.82145791e+00]\n",
            " [-1.78267018e+00  6.88626256e-01]\n",
            " [ 5.23464736e-01 -1.16947574e+00]\n",
            " [-1.90056834e+00 -6.22521789e-01]\n",
            " [-6.79348342e-01  1.08400578e+00]\n",
            " [-7.34855938e-01  1.18498805e+00]\n",
            " [ 7.03492822e-02 -1.13171989e+00]\n",
            " [ 2.46144368e-01 -1.53038102e+00]\n",
            " [ 2.01594582e+00  3.86147881e-01]\n",
            " [-1.07627868e+00  8.38244341e-01]\n",
            " [ 1.44426229e+00 -3.39685088e-01]\n",
            " [-1.90597375e+00  5.96435836e-04]\n",
            " [-5.68503207e-01  1.32727957e+00]\n",
            " [ 1.05317719e+00 -6.40822870e-01]\n",
            " [-1.20758536e+00  9.98097285e-01]\n",
            " [ 3.82699338e-01 -4.47199351e-01]\n",
            " [ 5.69634728e-02  1.29251366e+00]\n",
            " [ 9.46451406e-01 -4.91440599e-01]\n",
            " [ 4.59674774e-01 -1.13710152e+00]\n",
            " [-1.07343896e-01  1.44208634e+00]\n",
            " [ 7.19024832e-01 -1.09166938e+00]\n",
            " [-9.86485873e-03 -1.80312287e+00]\n",
            " [ 1.17632942e+00  2.33140726e-01]\n",
            " [ 1.06000888e+00 -9.23304109e-01]\n",
            " [-1.42587971e+00  3.71443813e-01]\n",
            " [ 1.22991612e+00 -8.10711983e-01]\n",
            " [ 4.40800974e-01 -9.03178033e-01]\n",
            " [-3.08025179e-01  1.42031524e+00]\n",
            " [-1.09715991e+00  6.39057145e-01]\n",
            " [ 1.06709685e-01 -1.69897226e+00]\n",
            " [ 6.93625540e-01 -1.46803898e+00]\n",
            " [ 4.92111262e-01 -1.33003321e+00]\n",
            " [ 8.09678547e-01 -8.65428467e-01]\n",
            " [-1.68161805e+00  4.53025008e-01]\n",
            " [-7.08956287e-01  8.45830374e-01]\n",
            " [ 1.49848844e+00 -7.10275859e-01]\n",
            " [-4.68084363e-01  8.18649586e-01]\n",
            " [-5.40416942e-01  7.55388734e-01]\n",
            " [-1.34957892e+00  2.73052043e-01]\n",
            " [-4.54797928e-01  1.49581659e+00]\n",
            " [ 1.50015001e+00 -1.67923200e-01]\n",
            " [-1.00054600e+00  7.71150404e-01]\n",
            " [-4.68341245e-01  1.53182054e+00]\n",
            " [-1.02524038e+00  7.98297728e-01]\n",
            " [-9.96166240e-01  1.08039142e+00]\n",
            " [-9.72951748e-01  1.38236874e+00]\n",
            " [-1.46708659e+00  6.75600716e-01]\n",
            " [-3.81237000e-01  1.67538183e+00]\n",
            " [ 1.32250148e+00 -5.49223087e-01]\n",
            " [-1.67073717e+00  3.85535457e-01]\n",
            " [ 8.68673235e-01 -4.11015511e-01]\n",
            " [ 3.06245981e-01 -1.06126306e+00]\n",
            " [ 1.28222699e+00 -5.45036274e-01]\n",
            " [-1.47282671e+00 -4.79437559e-02]\n",
            " [ 5.39880418e-03  1.64801114e+00]\n",
            " [ 2.71063934e-01 -1.64800651e+00]\n",
            " [-1.00752292e+00  6.44911364e-01]\n",
            " [ 1.12788111e+00 -4.66003731e-01]\n",
            " [-4.44847747e-01  1.07261493e+00]\n",
            " [ 7.83539378e-01 -5.08223935e-01]\n",
            " [-9.65650341e-01  8.32461891e-01]\n",
            " [-5.23175424e-01  1.09393780e+00]\n",
            " [ 1.19582807e+00 -5.71434868e-01]\n",
            " [ 1.38744983e+00 -5.93167286e-01]\n",
            " [ 5.96230346e-01 -9.43357314e-01]\n",
            " [ 1.13961649e+00 -8.65521770e-01]\n",
            " [-9.40711395e-01  1.83146892e-01]\n",
            " [-1.95211669e-01  9.89362658e-01]\n",
            " [-3.16268309e-01  1.26833122e+00]\n",
            " [ 1.15704918e+00 -4.19989623e-01]\n",
            " [ 5.85331687e-01 -1.10858751e+00]\n",
            " [-1.21376171e+00  4.10128467e-01]\n",
            " [ 3.84724765e-01 -7.85922303e-01]\n",
            " [-9.30945526e-01  1.76518788e-01]\n",
            " [ 1.26495819e-01 -1.54596738e+00]\n",
            " [-4.24478903e-01  1.60608485e+00]\n",
            " [ 1.66580456e+00 -2.28500276e-01]\n",
            " [ 5.56272982e-01 -9.77417862e-01]\n",
            " [-8.92490748e-01  8.78356348e-01]\n",
            " [-2.26749663e-01 -2.39454804e+00]\n",
            " [ 6.48747599e-01 -7.71373982e-01]\n",
            " [-9.37996526e-01  9.06332585e-01]\n",
            " [ 8.36142931e-01 -2.31509172e-01]\n",
            " [ 1.39772895e+00 -4.16002676e-01]\n",
            " [ 7.73940622e-01 -8.08541104e-01]\n",
            " [ 1.14402510e+00 -8.31579567e-01]\n",
            " [ 7.83840880e-01 -8.87425843e-01]\n",
            " [-1.52712955e+00  5.55762766e-01]\n",
            " [-1.16858537e-01 -1.86818290e+00]\n",
            " [-6.39751224e-01  7.68420713e-01]\n",
            " [-2.16560248e-01  1.38327855e+00]\n",
            " [-1.05047612e+00  4.28491759e-01]\n",
            " [ 7.97888572e-02 -1.54127898e+00]\n",
            " [-2.01538375e+00 -3.23730224e-02]\n",
            " [-7.33163898e-01  1.09652831e+00]\n",
            " [ 1.03513646e+00 -1.46876505e+00]\n",
            " [ 9.70185041e-01 -6.03686447e-01]\n",
            " [ 1.02112969e+00 -1.73917825e-01]\n",
            " [-1.00532424e+00  1.09226455e+00]\n",
            " [ 2.15887704e-01 -1.33114275e+00]\n",
            " [ 1.23787679e+00  3.64480841e-02]\n",
            " [ 1.00737604e+00 -1.01714646e+00]\n",
            " [-1.51916289e-01  7.61202187e-01]\n",
            " [-5.91832810e-01  8.34461944e-01]\n",
            " [-1.20866199e+00  3.04805161e-01]\n",
            " [ 1.74911738e+00 -3.32556950e-01]\n",
            " [-8.95557126e-01  9.43699911e-01]\n",
            " [ 1.03300678e+00 -1.19937758e+00]\n",
            " [-2.59385631e-01  1.74007938e+00]\n",
            " [-6.63019440e-02  9.36907750e-01]\n",
            " [ 1.19603003e+00 -3.10488802e-01]\n",
            " [-4.76055237e-01  1.36769722e+00]\n",
            " [-1.04109787e-01  1.77854564e+00]\n",
            " [ 1.05176788e+00 -1.67248360e-01]\n",
            " [-8.35571944e-02  1.07625180e+00]\n",
            " [-8.93550727e-01 -1.89532361e-01]\n",
            " [ 9.08671174e-01 -2.95141148e-01]\n",
            " [ 4.78938995e-01 -1.09370606e+00]\n",
            " [-1.87270802e+00 -6.75764562e-02]\n",
            " [ 6.21730732e-01 -1.11377424e+00]\n",
            " [-4.82704403e-01  1.81896854e+00]\n",
            " [ 1.92124732e+00 -1.88485761e-01]\n",
            " [-1.18823381e+00  7.48592785e-01]\n",
            " [-1.34212964e+00  4.63680464e-01]\n",
            " [-6.53184634e-01  6.24672186e-01]\n",
            " [-7.31946315e-01  9.99523655e-01]\n",
            " [ 1.50323366e-01 -1.72851045e+00]\n",
            " [ 1.08455504e+00 -9.72178427e-01]\n",
            " [-1.77070353e+00 -4.74270251e-02]\n",
            " [ 8.66243721e-01 -5.45557527e-01]\n",
            " [ 5.95277312e-01 -1.48345954e+00]\n",
            " [-4.42781597e-01  1.07725186e+00]\n",
            " [ 1.09456253e+00 -2.04677724e-01]\n",
            " [-1.27986141e+00  1.02948744e-02]\n",
            " [-1.52271484e-01 -1.93395135e+00]\n",
            " [-9.23261194e-01  1.08436309e+00]\n",
            " [ 1.22298947e+00 -4.30501484e-01]\n",
            " [ 1.64758862e+00 -2.51771063e-02]\n",
            " [-9.69178976e-01  4.73025465e-01]\n",
            " [ 5.83132667e-01 -9.36446662e-01]\n",
            " [ 6.77229124e-01 -9.66781863e-01]\n",
            " [ 1.24040471e+00 -1.37935222e-01]\n",
            " [-4.23801973e-01  1.39559592e+00]\n",
            " [-7.59835283e-01  1.49174077e+00]\n",
            " [-5.56093399e-01  1.12679528e+00]\n",
            " [ 4.35427075e-01 -8.91466909e-01]\n",
            " [ 1.98623333e-01  1.96849440e+00]\n",
            " [-8.96533884e-01  6.79640657e-01]\n",
            " [-3.11100348e-01  1.25057087e+00]\n",
            " [-8.80173360e-01  1.25213616e+00]\n",
            " [ 1.05923446e+00 -7.67569370e-01]\n",
            " [ 4.18971020e-01 -7.67154904e-01]\n",
            " [-6.08641422e-01  4.94509293e-01]\n",
            " [ 8.61863873e-01 -1.47052702e+00]\n",
            " [-7.83585565e-01  1.46486046e+00]\n",
            " [-8.97818506e-01  8.51391698e-01]\n",
            " [-8.00166007e-02  1.12486114e+00]\n",
            " [-2.47374745e-01  6.70692238e-01]\n",
            " [ 1.18752510e+00 -7.69338260e-01]\n",
            " [ 4.94427147e-02 -1.57478961e+00]\n",
            " [-1.06187284e+00  1.95770487e-01]\n",
            " [-7.19005634e-01  1.15128223e+00]\n",
            " [ 1.23403862e+00 -3.39290383e-01]\n",
            " [ 2.51307357e-01 -1.22901316e+00]\n",
            " [-4.08274035e-01  1.57968139e+00]\n",
            " [-6.22017632e-01  9.68822580e-01]]\n"
          ],
          "name": "stdout"
        }
      ]
    },
    {
      "cell_type": "code",
      "metadata": {
        "id": "uwyLiqYH6pyC",
        "outputId": "7ed4bb73-57c9-4c2f-c033-30ad7c055625"
      },
      "source": [
        "y_pred = svc_d_2.predict(X_test_std)\n",
        "\n",
        "evaluate(y_pred, y_test)\n",
        "\n",
        "decision_region(X_train_std,\n",
        "                y_train,\n",
        "                svc_d_2,\n",
        "                svc_d_2.X_sv,\n",
        "                title='decision region {}, {}'.format('svc_d_2', 'train'))"
      ],
      "execution_count": null,
      "outputs": [
        {
          "output_type": "stream",
          "text": [
            "acc : 1.0\n",
            "precision : 1.0\n",
            "recall : 1.0\n",
            "f1 : 1.0\n",
            "confusion matrix \n",
            " [[64  0]\n",
            " [ 0 61]]\n"
          ],
          "name": "stdout"
        },
        {
          "output_type": "display_data",
          "data": {
            "image/png": "[encoded data removed]",
            "text/plain": [
              "<Figure size 432x288 with 1 Axes>"
            ]
          },
          "metadata": {
            "tags": [],
            "needs_background": "light"
          }
        }
      ]
    },
    {
      "cell_type": "markdown",
      "metadata": {
        "id": "WKxiV18B6pyF"
      },
      "source": [
        "多項式（2乗）の場合、全ての学習データがサポートベクターになった。\n",
        "\n",
        "線がクロスに2本できた。"
      ]
    },
    {
      "cell_type": "code",
      "metadata": {
        "id": "r5tD3Xew6pyF",
        "outputId": "5762e4ff-05cc-4573-dc91-b0ef9a97152c"
      },
      "source": [
        "# 多項式で3乗に設定\n",
        "svc_d_3 = ScratchSVMClassifier(num_iter=30, kernel='polynomial', d=3)\n",
        "svc_d_3.fit(X_train_std, y_train)"
      ],
      "execution_count": null,
      "outputs": [
        {
          "output_type": "stream",
          "text": [
            "閾値： 1e-05\n",
            "サポートベクター（候補）: 個数 29 \n",
            " [[-0.45203688  0.7575224 ]\n",
            " [ 0.33178732 -0.82743269]\n",
            " [ 0.49934944 -0.61936906]\n",
            " [ 0.28427828 -0.63826654]\n",
            " [-0.92573734  0.18725791]\n",
            " [-0.86606227 -0.1308968 ]\n",
            " [-0.10279129 -1.03674538]\n",
            " [-0.41012296  0.71369832]\n",
            " [ 0.6506986  -0.62050819]\n",
            " [ 0.23107827 -0.83592957]\n",
            " [ 0.21796862 -0.6728361 ]\n",
            " [ 0.82364984 -0.29112421]\n",
            " [-0.14991299  0.94242077]\n",
            " [ 0.38269934 -0.44719935]\n",
            " [-0.9407114   0.18314689]\n",
            " [ 0.38472476 -0.7859223 ]\n",
            " [-0.93094553  0.17651879]\n",
            " [ 0.83614293 -0.23150917]\n",
            " [-0.15191629  0.76120219]\n",
            " [-0.06630194  0.93690775]\n",
            " [ 1.05176788 -0.16724836]\n",
            " [-0.89355073 -0.18953236]\n",
            " [ 0.90867117 -0.29514115]\n",
            " [-0.65318463  0.62467219]\n",
            " [ 0.43542707 -0.89146691]\n",
            " [ 0.41897102 -0.7671549 ]\n",
            " [-0.60864142  0.49450929]\n",
            " [-0.24737475  0.67069224]\n",
            " [-1.06187284  0.19577049]]\n"
          ],
          "name": "stdout"
        }
      ]
    },
    {
      "cell_type": "code",
      "metadata": {
        "id": "yMLGAL5t6pyK",
        "outputId": "beecc3b2-c841-4f5a-fdf4-b46ff32f3299"
      },
      "source": [
        "y_pred = svc_d_3.predict(X_test_std)\n",
        "\n",
        "evaluate(y_pred, y_test)\n",
        "\n",
        "decision_region(X_train_std,\n",
        "                y_train,\n",
        "                svc_d_3,\n",
        "                svc_d_3.X_sv,\n",
        "                title='decision region {}, {}'.format('svc_d_3', 'train'))"
      ],
      "execution_count": null,
      "outputs": [
        {
          "output_type": "stream",
          "text": [
            "acc : 1.0\n",
            "precision : 1.0\n",
            "recall : 1.0\n",
            "f1 : 1.0\n",
            "confusion matrix \n",
            " [[64  0]\n",
            " [ 0 61]]\n"
          ],
          "name": "stdout"
        },
        {
          "output_type": "display_data",
          "data": {
            "image/png": "[encoded data removed]",
            "text/plain": [
              "<Figure size 432x288 with 1 Axes>"
            ]
          },
          "metadata": {
            "tags": [],
            "needs_background": "light"
          }
        }
      ]
    },
    {
      "cell_type": "markdown",
      "metadata": {
        "id": "HxgoMno_6pyO"
      },
      "source": [
        "線形カーネルよりはサポートベクターの数が増えたがそれ以外は特に変化なし。"
      ]
    },
    {
      "cell_type": "code",
      "metadata": {
        "id": "k0ecppJq6pyP",
        "outputId": "7045ae5a-bbbc-48c6-82b6-4663b5a1703c"
      },
      "source": [
        "# 多項式で4乗に設定\n",
        "svc_d_4 = ScratchSVMClassifier(num_iter=30, kernel='polynomial', d=4)\n",
        "svc_d_4.fit(X_train_std, y_train)"
      ],
      "execution_count": null,
      "outputs": [
        {
          "output_type": "stream",
          "text": [
            "閾値： 1e-05\n",
            "サポートベクター（候補）: 個数 335 \n",
            " [[-1.76799190e+00  9.55227688e-02]\n",
            " [-6.09355122e-01  8.35050044e-01]\n",
            " [-5.00817233e-01  1.58273818e+00]\n",
            " [-1.21336330e+00  2.33429005e-01]\n",
            " [ 8.08382221e-01 -1.18654425e+00]\n",
            " [ 2.78801081e-01 -1.12519666e+00]\n",
            " [ 8.79294279e-01 -1.22869801e+00]\n",
            " [-6.66013376e-01  1.18234082e+00]\n",
            " [-7.56207567e-01  8.32089008e-01]\n",
            " [-6.26605338e-01  1.17030517e+00]\n",
            " [ 3.96597607e-01 -1.28197601e+00]\n",
            " [ 1.55323450e+00 -3.09247708e-01]\n",
            " [-1.38188415e+00  3.94068848e-01]\n",
            " [-1.46225550e+00  5.82411335e-01]\n",
            " [ 3.32653447e-01 -1.45321303e+00]\n",
            " [ 7.78427879e-01 -7.51282369e-01]\n",
            " [ 1.47184513e+00 -2.92090742e-01]\n",
            " [-4.52036884e-01  7.57522401e-01]\n",
            " [ 3.35408831e-01 -9.76266078e-01]\n",
            " [-1.31698308e+00  3.19724455e-01]\n",
            " [ 1.82249862e+00 -5.30094172e-01]\n",
            " [-1.81374103e+00 -6.75112913e-01]\n",
            " [ 3.31787318e-01 -8.27432692e-01]\n",
            " [ 6.03686710e-01 -6.88400069e-01]\n",
            " [-5.53124334e-02  1.80164981e+00]\n",
            " [ 5.22843023e-01 -9.73264568e-01]\n",
            " [ 8.15912490e-01 -6.97990195e-01]\n",
            " [ 9.22046018e-01 -8.86745199e-01]\n",
            " [-1.28270622e+00  4.43032038e-01]\n",
            " [ 1.62024600e+00 -2.41821272e-01]\n",
            " [-1.97533779e+00  3.02103689e-01]\n",
            " [-1.99806315e-01  1.35531518e+00]\n",
            " [ 1.76491696e+00  2.55810158e-01]\n",
            " [-8.83137572e-01  4.12329589e-01]\n",
            " [-3.05123229e-01  9.66977018e-01]\n",
            " [ 1.12845038e+00 -7.70261782e-01]\n",
            " [ 1.87133522e+00  5.41104239e-01]\n",
            " [-1.42646790e+00  5.45095908e-01]\n",
            " [ 5.54051093e-01 -1.05991503e+00]\n",
            " [ 6.83384042e-01 -8.05225570e-01]\n",
            " [ 1.87835155e+00 -4.03688119e-01]\n",
            " [ 6.65279151e-01 -1.61262484e+00]\n",
            " [ 4.10277476e-01  2.36064443e+00]\n",
            " [-1.66048161e-01  1.36525730e+00]\n",
            " [ 6.26406592e-01 -7.77158208e-01]\n",
            " [ 1.39546477e+00 -9.40111031e-01]\n",
            " [-1.35888218e+00  1.54614193e-01]\n",
            " [ 1.05619938e+00 -6.01592880e-01]\n",
            " [-5.29939094e-01  1.18417770e+00]\n",
            " [-4.48306842e-01  1.21709307e+00]\n",
            " [ 1.21717342e+00 -3.53777413e-01]\n",
            " [ 4.99349435e-01 -6.19369064e-01]\n",
            " [ 1.59667724e+00 -4.64382157e-01]\n",
            " [ 3.23401190e-01 -1.59385280e+00]\n",
            " [-1.55629874e+00  2.93204794e-01]\n",
            " [-1.14156325e+00  1.15953463e+00]\n",
            " [ 8.93564400e-01 -3.73217066e-01]\n",
            " [-7.36184094e-01  6.94080309e-01]\n",
            " [-2.24563317e+00 -1.14638686e-01]\n",
            " [ 2.95179140e-01 -1.40806322e+00]\n",
            " [-1.24233032e+00  5.64188462e-01]\n",
            " [-2.76784249e-01  1.30761447e+00]\n",
            " [ 2.84278283e-01 -6.38266538e-01]\n",
            " [-9.71717656e-02 -1.51676869e+00]\n",
            " [-9.25737343e-01  1.87257907e-01]\n",
            " [ 7.51583861e-01 -8.88987618e-01]\n",
            " [ 1.18609734e+00 -4.94863601e-01]\n",
            " [ 1.71901645e-01  1.72410233e+00]\n",
            " [ 1.19098030e+00 -9.13677936e-01]\n",
            " [-1.29969539e+00 -3.66952350e-01]\n",
            " [-9.90168913e-01  8.76145820e-01]\n",
            " [-1.21969277e+00  7.05465549e-01]\n",
            " [ 1.51993748e+00  1.77931788e-02]\n",
            " [-1.93830998e+00  2.50103596e-01]\n",
            " [-1.03102911e+00  8.66132071e-01]\n",
            " [-6.62767976e-01  1.27952436e+00]\n",
            " [-7.24390737e-01  9.92453738e-01]\n",
            " [ 2.78014992e-01  2.09639620e+00]\n",
            " [-8.05670211e-01  7.85018917e-01]\n",
            " [ 1.28167985e+00 -4.95626959e-01]\n",
            " [-8.51388085e-01  4.83365943e-01]\n",
            " [-8.66143547e-01  5.04986051e-01]\n",
            " [-8.66062275e-01 -1.30896798e-01]\n",
            " [ 1.07201520e+00 -7.78341240e-01]\n",
            " [ 4.28779622e-01 -1.10535624e+00]\n",
            " [-4.11314780e-01  1.31373699e+00]\n",
            " [ 5.52083394e-01 -1.38550058e+00]\n",
            " [-8.94511478e-01  4.02886826e-01]\n",
            " [-7.10349850e-01  7.47584674e-01]\n",
            " [ 4.78005473e-01 -1.40120176e+00]\n",
            " [ 1.01575184e-01 -1.63153528e+00]\n",
            " [ 1.45350357e+00 -7.06118593e-01]\n",
            " [-3.58562201e-01  1.05642095e+00]\n",
            " [-2.29241270e+00 -3.04158792e-01]\n",
            " [ 5.17535706e-01 -1.10171617e+00]\n",
            " [-6.97096981e-01  7.55231004e-01]\n",
            " [ 4.11783696e-01 -1.63420439e+00]\n",
            " [ 1.00219212e+00 -2.71946454e-01]\n",
            " [-2.26020868e-01  9.67914887e-01]\n",
            " [-6.75052754e-01  9.38946770e-01]\n",
            " [ 8.55153126e-01 -9.13159863e-01]\n",
            " [ 4.87136907e-01 -8.07583756e-01]\n",
            " [-7.60195690e-01  1.62364732e+00]\n",
            " [-2.35736282e-01  1.19022620e+00]\n",
            " [-2.46765529e-01  1.56091925e+00]\n",
            " [ 9.89082351e-01 -1.32199324e+00]\n",
            " [ 1.28829188e+00 -5.63025147e-01]\n",
            " [-6.02537810e-01  1.79829709e+00]\n",
            " [-9.98247919e-01  1.05749750e+00]\n",
            " [ 1.29888109e+00 -4.24886179e-01]\n",
            " [-1.25948434e+00 -2.45159225e-02]\n",
            " [-4.67547559e-01  1.09614440e+00]\n",
            " [-1.12228118e+00  5.00136730e-01]\n",
            " [-2.66664018e-01 -1.99078802e+00]\n",
            " [ 1.12815923e+00 -1.13503807e+00]\n",
            " [-4.62522254e-01  1.11264191e+00]\n",
            " [ 4.86206736e-01 -9.76137756e-01]\n",
            " [ 5.25666990e-01 -1.12248590e+00]\n",
            " [-6.73299888e-01  1.36482486e+00]\n",
            " [ 3.22849476e-01 -1.43006623e+00]\n",
            " [ 1.90995080e+00 -2.95463199e-01]\n",
            " [-7.14100050e-01  1.03929640e+00]\n",
            " [-3.20213643e-01  1.18034202e+00]\n",
            " [-8.69194465e-01  7.55452038e-01]\n",
            " [-1.34745344e+00  2.73927133e-01]\n",
            " [ 9.29137076e-01 -1.12992547e+00]\n",
            " [ 1.61979220e+00 -3.04100277e-01]\n",
            " [ 9.55623038e-01 -3.65282595e-01]\n",
            " [-1.02791293e-01 -1.03674538e+00]\n",
            " [ 6.44247321e-01 -7.39481440e-01]\n",
            " [ 2.73523440e-01  1.80672530e+00]\n",
            " [ 1.26049793e+00 -8.27040915e-01]\n",
            " [ 1.17077941e+00 -2.35975340e-02]\n",
            " [-1.07642310e+00  1.82593207e-01]\n",
            " [-4.10122959e-01  7.13698322e-01]\n",
            " [-4.03782970e-01  8.77304699e-01]\n",
            " [ 1.25403061e+00 -5.81204106e-02]\n",
            " [ 1.17026440e-01 -1.72699794e+00]\n",
            " [ 1.10041018e+00 -8.51536120e-01]\n",
            " [ 1.33471836e+00 -6.43514671e-01]\n",
            " [ 4.40656286e-02 -1.17536219e+00]\n",
            " [-1.11648573e+00  5.26092673e-01]\n",
            " [-8.92789867e-01  4.90780770e-01]\n",
            " [ 4.67918821e-01 -1.50732676e+00]\n",
            " [-1.59449022e-01  1.29138598e+00]\n",
            " [-5.41569860e-01  1.59718872e+00]\n",
            " [-1.13642142e+00  4.67131260e-01]\n",
            " [ 7.50946649e-01 -1.06440955e+00]\n",
            " [-1.15778907e+00  8.77310262e-01]\n",
            " [ 6.50698601e-01 -6.20508185e-01]\n",
            " [ 1.91862464e+00  4.06618558e-02]\n",
            " [-1.98950595e+00  3.51030497e-01]\n",
            " [-1.01470597e+00  8.17746227e-01]\n",
            " [-8.77644935e-01  1.10338701e+00]\n",
            " [-1.16803549e+00  5.46648524e-01]\n",
            " [-1.16893880e+00  6.34101508e-01]\n",
            " [ 2.31078273e-01 -8.35929571e-01]\n",
            " [-8.09326139e-01  1.48270960e+00]\n",
            " [ 2.17968620e-01 -6.72836103e-01]\n",
            " [-1.41530350e+00 -5.81758364e-02]\n",
            " [ 6.00308341e-01 -1.21423373e+00]\n",
            " [ 2.33578423e+00  2.92734100e-01]\n",
            " [ 8.67562763e-01 -7.71301333e-01]\n",
            " [-3.27314817e-01  1.22871068e+00]\n",
            " [-5.30438152e-01  9.02823114e-01]\n",
            " [-3.30570077e-01  1.35021307e+00]\n",
            " [ 9.70299401e-01 -7.92864298e-01]\n",
            " [ 4.18431303e-01 -1.11011069e+00]\n",
            " [ 9.47453325e-01 -5.77544451e-01]\n",
            " [ 4.79386527e-01 -9.06372736e-01]\n",
            " [ 2.53142866e-01 -1.78638431e+00]\n",
            " [-1.36835317e-01 -2.65002619e+00]\n",
            " [-1.04012894e-01  1.08144531e+00]\n",
            " [ 8.23649842e-01 -2.91124206e-01]\n",
            " [ 7.85897114e-01 -1.02608747e+00]\n",
            " [-3.36197646e-01  1.12396708e+00]\n",
            " [-9.49154916e-01  3.92836293e-01]\n",
            " [-1.68625289e+00 -3.71729782e-01]\n",
            " [ 9.49032031e-01 -7.86923409e-01]\n",
            " [-1.36103215e+00  6.48135471e-01]\n",
            " [-1.36189208e+00  5.65277341e-01]\n",
            " [-3.43026545e-01  1.06759382e+00]\n",
            " [ 8.07717145e-01 -5.28880491e-01]\n",
            " [ 1.16732205e+00 -4.84349238e-01]\n",
            " [-1.20142320e+00  2.12895155e-01]\n",
            " [ 1.04675281e+00 -9.30027369e-01]\n",
            " [-8.26854163e-01  8.27894722e-01]\n",
            " [ 9.50403099e-01 -8.28757299e-01]\n",
            " [ 1.23351084e+00 -3.42119489e-01]\n",
            " [-9.19379717e-02 -1.60669320e+00]\n",
            " [ 6.01401534e-01 -7.67127610e-01]\n",
            " [ 8.38474918e-01 -1.20165195e+00]\n",
            " [-8.26123114e-01  9.01178326e-01]\n",
            " [ 5.34332099e-01 -1.27995948e+00]\n",
            " [-1.49912995e-01  9.42420770e-01]\n",
            " [-1.14677313e+00  3.70670994e-01]\n",
            " [ 5.97558598e-01 -1.82145791e+00]\n",
            " [-1.78267018e+00  6.88626256e-01]\n",
            " [-6.79348342e-01  1.08400578e+00]\n",
            " [-7.34855938e-01  1.18498805e+00]\n",
            " [ 7.03492822e-02 -1.13171989e+00]\n",
            " [ 2.01594582e+00  3.86147881e-01]\n",
            " [-1.07627868e+00  8.38244341e-01]\n",
            " [ 1.44426229e+00 -3.39685088e-01]\n",
            " [-1.90597375e+00  5.96435836e-04]\n",
            " [-5.68503207e-01  1.32727957e+00]\n",
            " [ 1.05317719e+00 -6.40822870e-01]\n",
            " [-1.20758536e+00  9.98097285e-01]\n",
            " [ 3.82699338e-01 -4.47199351e-01]\n",
            " [ 5.69634728e-02  1.29251366e+00]\n",
            " [ 9.46451406e-01 -4.91440599e-01]\n",
            " [-1.07343896e-01  1.44208634e+00]\n",
            " [-9.86485873e-03 -1.80312287e+00]\n",
            " [ 1.17632942e+00  2.33140726e-01]\n",
            " [ 1.06000888e+00 -9.23304109e-01]\n",
            " [ 1.22991612e+00 -8.10711983e-01]\n",
            " [ 4.40800974e-01 -9.03178033e-01]\n",
            " [-3.08025179e-01  1.42031524e+00]\n",
            " [-1.09715991e+00  6.39057145e-01]\n",
            " [ 8.09678547e-01 -8.65428467e-01]\n",
            " [-7.08956287e-01  8.45830374e-01]\n",
            " [ 1.49848844e+00 -7.10275859e-01]\n",
            " [-4.68084363e-01  8.18649586e-01]\n",
            " [-5.40416942e-01  7.55388734e-01]\n",
            " [-1.34957892e+00  2.73052043e-01]\n",
            " [-4.54797928e-01  1.49581659e+00]\n",
            " [ 1.50015001e+00 -1.67923200e-01]\n",
            " [-1.00054600e+00  7.71150404e-01]\n",
            " [-4.68341245e-01  1.53182054e+00]\n",
            " [-1.02524038e+00  7.98297728e-01]\n",
            " [-9.96166240e-01  1.08039142e+00]\n",
            " [-9.72951748e-01  1.38236874e+00]\n",
            " [-3.81237000e-01  1.67538183e+00]\n",
            " [ 1.32250148e+00 -5.49223087e-01]\n",
            " [-1.67073717e+00  3.85535457e-01]\n",
            " [ 8.68673235e-01 -4.11015511e-01]\n",
            " [ 3.06245981e-01 -1.06126306e+00]\n",
            " [ 1.28222699e+00 -5.45036274e-01]\n",
            " [-1.47282671e+00 -4.79437559e-02]\n",
            " [ 5.39880418e-03  1.64801114e+00]\n",
            " [ 2.71063934e-01 -1.64800651e+00]\n",
            " [-1.00752292e+00  6.44911364e-01]\n",
            " [ 1.12788111e+00 -4.66003731e-01]\n",
            " [-4.44847747e-01  1.07261493e+00]\n",
            " [ 7.83539378e-01 -5.08223935e-01]\n",
            " [-9.65650341e-01  8.32461891e-01]\n",
            " [-5.23175424e-01  1.09393780e+00]\n",
            " [ 1.19582807e+00 -5.71434868e-01]\n",
            " [ 1.38744983e+00 -5.93167286e-01]\n",
            " [ 5.96230346e-01 -9.43357314e-01]\n",
            " [ 1.13961649e+00 -8.65521770e-01]\n",
            " [-9.40711395e-01  1.83146892e-01]\n",
            " [-1.95211669e-01  9.89362658e-01]\n",
            " [-3.16268309e-01  1.26833122e+00]\n",
            " [ 1.15704918e+00 -4.19989623e-01]\n",
            " [ 5.85331687e-01 -1.10858751e+00]\n",
            " [-1.21376171e+00  4.10128467e-01]\n",
            " [ 3.84724765e-01 -7.85922303e-01]\n",
            " [-9.30945526e-01  1.76518788e-01]\n",
            " [ 1.26495819e-01 -1.54596738e+00]\n",
            " [-4.24478903e-01  1.60608485e+00]\n",
            " [ 1.66580456e+00 -2.28500276e-01]\n",
            " [ 5.56272982e-01 -9.77417862e-01]\n",
            " [-8.92490748e-01  8.78356348e-01]\n",
            " [-2.26749663e-01 -2.39454804e+00]\n",
            " [ 6.48747599e-01 -7.71373982e-01]\n",
            " [-9.37996526e-01  9.06332585e-01]\n",
            " [ 8.36142931e-01 -2.31509172e-01]\n",
            " [ 1.39772895e+00 -4.16002676e-01]\n",
            " [ 7.73940622e-01 -8.08541104e-01]\n",
            " [ 1.14402510e+00 -8.31579567e-01]\n",
            " [ 7.83840880e-01 -8.87425843e-01]\n",
            " [-1.52712955e+00  5.55762766e-01]\n",
            " [-6.39751224e-01  7.68420713e-01]\n",
            " [-2.16560248e-01  1.38327855e+00]\n",
            " [-1.05047612e+00  4.28491759e-01]\n",
            " [-2.01538375e+00 -3.23730224e-02]\n",
            " [-7.33163898e-01  1.09652831e+00]\n",
            " [ 1.03513646e+00 -1.46876505e+00]\n",
            " [ 9.70185041e-01 -6.03686447e-01]\n",
            " [ 1.02112969e+00 -1.73917825e-01]\n",
            " [ 1.23787679e+00  3.64480841e-02]\n",
            " [ 1.00737604e+00 -1.01714646e+00]\n",
            " [-1.51916289e-01  7.61202187e-01]\n",
            " [-5.91832810e-01  8.34461944e-01]\n",
            " [-1.20866199e+00  3.04805161e-01]\n",
            " [ 1.74911738e+00 -3.32556950e-01]\n",
            " [-8.95557126e-01  9.43699911e-01]\n",
            " [ 1.03300678e+00 -1.19937758e+00]\n",
            " [-2.59385631e-01  1.74007938e+00]\n",
            " [-6.63019440e-02  9.36907750e-01]\n",
            " [ 1.19603003e+00 -3.10488802e-01]\n",
            " [-1.04109787e-01  1.77854564e+00]\n",
            " [ 1.05176788e+00 -1.67248360e-01]\n",
            " [-8.35571944e-02  1.07625180e+00]\n",
            " [-8.93550727e-01 -1.89532361e-01]\n",
            " [ 9.08671174e-01 -2.95141148e-01]\n",
            " [ 4.78938995e-01 -1.09370606e+00]\n",
            " [-1.87270802e+00 -6.75764562e-02]\n",
            " [ 6.21730732e-01 -1.11377424e+00]\n",
            " [ 1.92124732e+00 -1.88485761e-01]\n",
            " [-1.18823381e+00  7.48592785e-01]\n",
            " [-1.34212964e+00  4.63680464e-01]\n",
            " [-6.53184634e-01  6.24672186e-01]\n",
            " [ 1.50323366e-01 -1.72851045e+00]\n",
            " [ 1.08455504e+00 -9.72178427e-01]\n",
            " [-1.77070353e+00 -4.74270251e-02]\n",
            " [ 8.66243721e-01 -5.45557527e-01]\n",
            " [ 5.95277312e-01 -1.48345954e+00]\n",
            " [-4.42781597e-01  1.07725186e+00]\n",
            " [ 1.09456253e+00 -2.04677724e-01]\n",
            " [-1.27986141e+00  1.02948744e-02]\n",
            " [ 1.22298947e+00 -4.30501484e-01]\n",
            " [ 1.64758862e+00 -2.51771063e-02]\n",
            " [-9.69178976e-01  4.73025465e-01]\n",
            " [ 5.83132667e-01 -9.36446662e-01]\n",
            " [ 6.77229124e-01 -9.66781863e-01]\n",
            " [ 1.24040471e+00 -1.37935222e-01]\n",
            " [-4.23801973e-01  1.39559592e+00]\n",
            " [-5.56093399e-01  1.12679528e+00]\n",
            " [ 4.35427075e-01 -8.91466909e-01]\n",
            " [ 1.98623333e-01  1.96849440e+00]\n",
            " [-8.96533884e-01  6.79640657e-01]\n",
            " [ 1.05923446e+00 -7.67569370e-01]\n",
            " [ 4.18971020e-01 -7.67154904e-01]\n",
            " [-6.08641422e-01  4.94509293e-01]\n",
            " [ 8.61863873e-01 -1.47052702e+00]\n",
            " [-8.97818506e-01  8.51391698e-01]\n",
            " [-2.47374745e-01  6.70692238e-01]\n",
            " [ 4.94427147e-02 -1.57478961e+00]\n",
            " [-1.06187284e+00  1.95770487e-01]\n",
            " [-7.19005634e-01  1.15128223e+00]\n",
            " [ 1.23403862e+00 -3.39290383e-01]\n",
            " [ 2.51307357e-01 -1.22901316e+00]\n",
            " [-6.22017632e-01  9.68822580e-01]]\n"
          ],
          "name": "stdout"
        }
      ]
    },
    {
      "cell_type": "code",
      "metadata": {
        "id": "aynLbPsI6pyS",
        "outputId": "2b9cadb5-75d5-4b75-924d-c8adb4bcdd1f"
      },
      "source": [
        "y_pred = svc_d_4.predict(X_test_std)\n",
        "\n",
        "evaluate(y_pred, y_test)\n",
        "\n",
        "decision_region(X_train_std,\n",
        "                y_train,\n",
        "                svc_d_4,\n",
        "                svc_d_4.X_sv,\n",
        "                title='decision region {}, {}'.format('svc_d_4', 'train'))"
      ],
      "execution_count": null,
      "outputs": [
        {
          "output_type": "stream",
          "text": [
            "acc : 1.0\n",
            "precision : 1.0\n",
            "recall : 1.0\n",
            "f1 : 1.0\n",
            "confusion matrix \n",
            " [[64  0]\n",
            " [ 0 61]]\n"
          ],
          "name": "stdout"
        },
        {
          "output_type": "display_data",
          "data": {
            "image/png": "[encoded data removed]",
            "text/plain": [
              "<Figure size 432x288 with 1 Axes>"
            ]
          },
          "metadata": {
            "tags": [],
            "needs_background": "light"
          }
        }
      ]
    },
    {
      "cell_type": "markdown",
      "metadata": {
        "id": "CqPDyj5F6pyW"
      },
      "source": [
        "2乗の時と似た結果になった。\n",
        "\n",
        "混合行列にFalseがないので分離できてるということは、分離できていない方の線（分布の上を通っている線）は別次元にある、ということなのか。。。\n",
        "\n",
        "そもそも、多次元で決定領域を見たい場合は、この決定領域の関数とは別のものが必要になるのではないかと思った。"
      ]
    },
    {
      "cell_type": "markdown",
      "metadata": {
        "id": "MGTh228P6pyW"
      },
      "source": [
        "# 感想\n",
        "課題をこなすことに頭がいっぱいで、自分なりの考察などがあまりできなかった。他の生徒のソースコードを見ると多項式カーネルの問題で、ハイパラメータdと出力の結果を考察していたのですごいと思った。"
      ]
    },
    {
      "cell_type": "markdown",
      "metadata": {
        "id": "p_OXRcVd6pyX"
      },
      "source": [
        "# エクストラ\n",
        "できるだけサポートベクターの数を減らしてみる。"
      ]
    },
    {
      "cell_type": "code",
      "metadata": {
        "id": "Or57RDcr6pyX",
        "outputId": "7752b978-3f89-4f4c-8246-05ba080081a0"
      },
      "source": [
        "svc_d_5 = ScratchSVMClassifier(num_iter=25, lr=1e-1)\n",
        "svc_d_5.fit(X_train_std, y_train)"
      ],
      "execution_count": null,
      "outputs": [
        {
          "output_type": "stream",
          "text": [
            "閾値： 1e-05\n",
            "サポートベクター（候補）: 個数 9 \n",
            " [[ 0.28427828 -0.63826654]\n",
            " [-0.86606227 -0.1308968 ]\n",
            " [-0.10279129 -1.03674538]\n",
            " [ 0.21796862 -0.6728361 ]\n",
            " [ 0.38269934 -0.44719935]\n",
            " [-0.15191629  0.76120219]\n",
            " [-0.06630194  0.93690775]\n",
            " [-0.89355073 -0.18953236]\n",
            " [-0.24737475  0.67069224]]\n"
          ],
          "name": "stdout"
        }
      ]
    },
    {
      "cell_type": "markdown",
      "metadata": {
        "id": "L6_FI1eo6pyb"
      },
      "source": [
        "イテレーション25、学習率0.1で10切った。"
      ]
    },
    {
      "cell_type": "code",
      "metadata": {
        "id": "dkAdpZSg6pyc",
        "outputId": "13e49645-582b-4e5f-86d9-b46adfb49816"
      },
      "source": [
        "svc_d_6 = ScratchSVMClassifier(num_iter=66, lr=1e-1)\n",
        "svc_d_6.fit(X_train_std, y_train)"
      ],
      "execution_count": null,
      "outputs": [
        {
          "output_type": "stream",
          "text": [
            "閾値： 1e-05\n",
            "サポートベクター（候補）: 個数 7 \n",
            " [[-0.86606227 -0.1308968 ]\n",
            " [-0.10279129 -1.03674538]\n",
            " [ 0.21796862 -0.6728361 ]\n",
            " [ 0.38269934 -0.44719935]\n",
            " [-0.15191629  0.76120219]\n",
            " [-0.89355073 -0.18953236]\n",
            " [-0.24737475  0.67069224]]\n"
          ],
          "name": "stdout"
        }
      ]
    },
    {
      "cell_type": "markdown",
      "metadata": {
        "id": "LTr8BWKX6pyg"
      },
      "source": [
        "7個まで少なくなった。"
      ]
    }
  ]
}