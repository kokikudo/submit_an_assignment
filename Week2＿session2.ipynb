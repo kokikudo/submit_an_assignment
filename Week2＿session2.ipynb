{
  "nbformat": 4,
  "nbformat_minor": 0,
  "metadata": {
    "colab": {
      "name": "Week2＿session2.ipynb",
      "provenance": [],
      "authorship_tag": "ABX9TyMxFp15MYnrHtCcQxwAJZFq",
      "include_colab_link": true
    },
    "kernelspec": {
      "name": "python3",
      "display_name": "Python 3"
    }
  },
  "cells": [
    {
      "cell_type": "markdown",
      "metadata": {
        "id": "view-in-github",
        "colab_type": "text"
      },
      "source": [
        "<a href=\"https://colab.research.google.com/github/kokikudo/submit_an_assignment/blob/master/Week2%EF%BC%BFsession2.ipynb\" target=\"_parent\"><img src=\"https://colab.research.google.com/assets/colab-badge.svg\" alt=\"Open In Colab\"/></a>"
      ]
    },
    {
      "cell_type": "markdown",
      "metadata": {
        "id": "ePP3AC5ewPvh"
      },
      "source": [
        "##**何回折ったら富士山を超えるか問題**\n",
        "紙をn回折った時の厚さ$t_n$の計算式は、$t_n = t_0 * 2^n$となる。<br>\n",
        "$t_0$（折る前の紙の厚さ）を0.00008[m]として、課題を解いてみる。\n",
        "\n"
      ]
    },
    {
      "cell_type": "markdown",
      "metadata": {
        "id": "pmR6Uo9Yxc6B"
      },
      "source": [
        "### **問題1、問題2　関数の作成**\n",
        "距離を引数にして、その距離を超えるまでの紙を折る回数を出力する関数を作成する。それを使い、富士山及び太陽以外で地球に最も距離が近い恒星（プロキシマ・ケンタウリ）を越えるまで何回紙をおるか導き出す。"
      ]
    },
    {
      "cell_type": "code",
      "metadata": {
        "id": "FyZM0AwuyXxh"
      },
      "source": [
        "def fold_paper_count(distance):\n",
        "    \"\"\"\n",
        "    ある距離に到達するまで紙を何回おるか計算する関数\n",
        "\n",
        "    Paratater\n",
        "    distance : int\n",
        "    ある距離\n",
        "\n",
        "    Return\n",
        "    count : int\n",
        "    折る回数\n",
        "    \"\"\"\n",
        "    count = 0\n",
        "    Thickness = 0.00008\n",
        "    folded_thickness = Thickness\n",
        "    while folded_thickness < distance:\n",
        "        count += 1\n",
        "        folded_thickness = Thickness * (2**count)\n",
        "    return count"
      ],
      "execution_count": 2,
      "outputs": []
    },
    {
      "cell_type": "code",
      "metadata": {
        "id": "D3lNBBSL008V",
        "outputId": "e2becffa-0b54-414b-e220-b472e8d35389",
        "colab": {
          "base_uri": "https://localhost:8080/",
          "height": 34
        }
      },
      "source": [
        "Fuji = 3776\n",
        "over_Fuji = fold_paper_count(Fuji)\n",
        "print('富士山を越えるまで、紙を{}回おる必要があります。'.format(over_Fuji))"
      ],
      "execution_count": 6,
      "outputs": [
        {
          "output_type": "stream",
          "text": [
            "富士山を越えるまで、紙を26回おる必要があります。\n"
          ],
          "name": "stdout"
        }
      ]
    },
    {
      "cell_type": "code",
      "metadata": {
        "id": "4-gzyuNv11ND",
        "outputId": "1f7998d9-763f-427e-da4d-b02370c082a4",
        "colab": {
          "base_uri": "https://localhost:8080/",
          "height": 34
        }
      },
      "source": [
        "Proxima_Centauri = 4.01513e+16\n",
        "over_Pro = fold_paper_count(Proxima_Centauri)\n",
        "print('地球からプロキシマ・ケンタウリまでの距離を越えるまで、紙を{}回おる必要があります。'.format(over_Pro))"
      ],
      "execution_count": 9,
      "outputs": [
        {
          "output_type": "stream",
          "text": [
            "地球からプロキシマ・ケンタウリまでの距離を越えるまで、紙を69回おる必要があります。\n"
          ],
          "name": "stdout"
        }
      ]
    },
    {
      "cell_type": "markdown",
      "metadata": {
        "id": "IYIKWA6A3SWZ"
      },
      "source": [
        "### **問題3　必要な紙の長さ**\n",
        "実際の紙では紙を何十回もおることはできないが、紙の長さで折る回数がわかる公式がある。折る前の厚さ$t_0$の紙を$n$回おるのに必要な紙の長さ$L$は以下の式となる。\n",
        "$$\n",
        "    L = \\frac{\\pi t_0}{6}(2^n+4)(2^n-1)\n",
        "$$\n",
        "これを使い、任意の厚さに到達するまでに必要な紙の長さを出力する関数を作成する。\n",
        "そして、月、富士山、プロキシマ・ケンタウリに届くまでに必要な紙の長さを求める。"
      ]
    },
    {
      "cell_type": "code",
      "metadata": {
        "id": "jBaRn-Yj793s"
      },
      "source": [
        "import numpy as np"
      ],
      "execution_count": 10,
      "outputs": []
    },
    {
      "cell_type": "code",
      "metadata": {
        "id": "is06Yre34LWi"
      },
      "source": [
        "def get_paper_length(function, distance):\n",
        "    \"\"\"\n",
        "    ある厚さに到達するまでに紙を折るのに必要な紙の長さを出力\n",
        "\n",
        "    Paramater\n",
        "    function : function\n",
        "    関数fold_paper_countから出力された紙を折る回数\n",
        "    distance : int\n",
        "    距離\n",
        "\n",
        "    Return\n",
        "    length : int\n",
        "    おるのに必要な紙の長さ\n",
        "    \"\"\"\n",
        "    Thickness = 0.00008\n",
        "    count = function(distance)\n",
        "    length = ((np.pi * Thickness) / 6) * (2**count + 4) * (2**count -1)\n",
        "    return count, length"
      ],
      "execution_count": 23,
      "outputs": []
    },
    {
      "cell_type": "code",
      "metadata": {
        "id": "2M9xWPFP8bYI",
        "outputId": "e9778cd8-10e9-48c4-e4d3-20492c1aa6f5",
        "colab": {
          "base_uri": "https://localhost:8080/",
          "height": 34
        }
      },
      "source": [
        "Moon = 384.4e+6\n",
        "count, length = get_paper_length(fold_paper_count, Moon)\n",
        "print(f'月までに必要な紙を折る回数は{count}回で、その回数を折るのに必要な紙の長さは{length}[m]です。')"
      ],
      "execution_count": 24,
      "outputs": [
        {
          "output_type": "stream",
          "text": [
            "月までに必要な紙を折る回数は43回で、その回数を折るのに必要な紙の長さは3.240919444170781e+21[m]です。\n"
          ],
          "name": "stdout"
        }
      ]
    },
    {
      "cell_type": "code",
      "metadata": {
        "id": "fro2HH91-ekc",
        "outputId": "a9ee64d2-56af-43c2-9485-64fd76008c51",
        "colab": {
          "base_uri": "https://localhost:8080/",
          "height": 34
        }
      },
      "source": [
        "Fuji = 3776\n",
        "count, length = get_paper_length(fold_paper_count, Fuji)\n",
        "print(f'富士山までに必要な紙を折る回数は{count}回で、その回数を折るのに必要な紙の長さは{length}[m]です。')"
      ],
      "execution_count": 25,
      "outputs": [
        {
          "output_type": "stream",
          "text": [
            "富士山までに必要な紙を折る回数は26回で、その回数を折るのに必要な紙の長さは188646348487.24017[m]です。\n"
          ],
          "name": "stdout"
        }
      ]
    },
    {
      "cell_type": "code",
      "metadata": {
        "id": "1v_oHw41-wH0",
        "outputId": "824da9c3-d577-4064-ff3c-577b37e715e5",
        "colab": {
          "base_uri": "https://localhost:8080/",
          "height": 34
        }
      },
      "source": [
        "Proxima_Centauri = 4.01513e+16\n",
        "count, length = get_paper_length(fold_paper_count, Proxima_Centauri)\n",
        "print(f'プロキシマ・ケンタウリまでに必要な紙を折る回数は{count}回で、その回数を折るのに必要な紙の長さは{length}[m]です。')"
      ],
      "execution_count": 26,
      "outputs": [
        {
          "output_type": "stream",
          "text": [
            "プロキシマ・ケンタウリまでに必要な紙を折る回数は69回で、その回数を折るのに必要な紙の長さは1.4595803601100348e+37[m]です。\n"
          ],
          "name": "stdout"
        }
      ]
    },
    {
      "cell_type": "markdown",
      "metadata": {
        "id": "oDkRW15D_QCI"
      },
      "source": [
        "### **感想**\n",
        "受講時に解いた時よりだいぶ簡単に感じるようになった。課題を解くだけだといまいち成長してる実感がなかったが、今回初めて成長した気になれたのでモチベーションが上がったと思う。また、問題1から関数化したため、その後の問題も1から作る必要無く、簡単に実装できた。"
      ]
    }
  ]
}