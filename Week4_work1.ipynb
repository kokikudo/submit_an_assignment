{
  "nbformat": 4,
  "nbformat_minor": 0,
  "metadata": {
    "colab": {
      "name": "Week4_work1.ipynb",
      "provenance": [],
      "authorship_tag": "ABX9TyOmQXp3v1Q1PVqomE5ax9qB",
      "include_colab_link": true
    },
    "kernelspec": {
      "name": "python3",
      "display_name": "Python 3"
    }
  },
  "cells": [
    {
      "cell_type": "markdown",
      "metadata": {
        "id": "view-in-github",
        "colab_type": "text"
      },
      "source": [
        "<a href=\"https://colab.research.google.com/github/kokikudo/submit_an_assignment/blob/master/Week4_work1.ipynb\" target=\"_parent\"><img src=\"https://colab.research.google.com/assets/colab-badge.svg\" alt=\"Open In Colab\"/></a>"
      ]
    },
    {
      "cell_type": "code",
      "metadata": {
        "id": "ykOMq2lPSDu8"
      },
      "source": [
        "import numpy as np\n",
        "import numpy as np\n",
        "import pandas as pd\n",
        "import matplotlib.pyplot as plt\n",
        "%matplotlib inline\n",
        "import seaborn as sns\n",
        "from sklearn.datasets import load_iris\n",
        "from sklearn.model_selection import train_test_split\n",
        "from sklearn.preprocessing import StandardScaler\n",
        "from sklearn.neighbors import KNeighborsClassifier\n",
        "from sklearn.metrics import accuracy_score\n",
        "from sklearn.metrics import precision_score\n",
        "from sklearn.metrics import recall_score\n",
        "from sklearn.metrics import f1_score\n",
        "from sklearn.metrics import confusion_matrix\n",
        "from sklearn.linear_model import LogisticRegression\n",
        "from sklearn.svm import SVC\n",
        "from sklearn.tree import DecisionTreeClassifier\n",
        "from sklearn.ensemble import RandomForestClassifier\n",
        "import warnings"
      ],
      "execution_count": null,
      "outputs": []
    },
    {
      "cell_type": "markdown",
      "metadata": {
        "id": "12uUt9HnSfaC"
      },
      "source": [
        "## **【問題1】練習のために特徴量とカテゴリを選択**\n",
        "選び方は合計18通りありますが、以下の組み合わせで練習することにします。irisデータセットをWeek3同様に取得した後、データフレームからこれらを抜き出してください。\n",
        "\n",
        "\n",
        "* virgicolorとvirginica\n",
        "* sepal_lengthとpetal_length\n",
        "\n",
        "《実際の問題では？》\n",
        "\n",
        "\n",
        "実際の問題を解く上でも結果の可視化は有効です。しかし、そのために学習や推定に使う特徴量を2つに絞るのは望ましくありません。そのため学習や推定は多次元で行い、可視化をする際にだけ主成分分析などの特徴抽出手法を適用するといったことが行われます。また、Week3で利用した散布図行列を使い可視化することも可能です。"
      ]
    },
    {
      "cell_type": "code",
      "metadata": {
        "id": "mTej2DmTSwm9",
        "outputId": "aef38fa1-c91a-4a01-850a-e28d55519ff9",
        "colab": {
          "base_uri": "https://localhost:8080/",
          "height": 195
        }
      },
      "source": [
        "iris = load_iris()\n",
        "iris_df = pd.DataFrame(iris.data, columns=iris.feature_names)\n",
        "iris_df.head()"
      ],
      "execution_count": null,
      "outputs": [
        {
          "output_type": "execute_result",
          "data": {
            "text/html": [
              "<div>\n",
              "<style scoped>\n",
              "    .dataframe tbody tr th:only-of-type {\n",
              "        vertical-align: middle;\n",
              "    }\n",
              "\n",
              "    .dataframe tbody tr th {\n",
              "        vertical-align: top;\n",
              "    }\n",
              "\n",
              "    .dataframe thead th {\n",
              "        text-align: right;\n",
              "    }\n",
              "</style>\n",
              "<table border=\"1\" class=\"dataframe\">\n",
              "  <thead>\n",
              "    <tr style=\"text-align: right;\">\n",
              "      <th></th>\n",
              "      <th>sepal length (cm)</th>\n",
              "      <th>sepal width (cm)</th>\n",
              "      <th>petal length (cm)</th>\n",
              "      <th>petal width (cm)</th>\n",
              "    </tr>\n",
              "  </thead>\n",
              "  <tbody>\n",
              "    <tr>\n",
              "      <th>0</th>\n",
              "      <td>5.1</td>\n",
              "      <td>3.5</td>\n",
              "      <td>1.4</td>\n",
              "      <td>0.2</td>\n",
              "    </tr>\n",
              "    <tr>\n",
              "      <th>1</th>\n",
              "      <td>4.9</td>\n",
              "      <td>3.0</td>\n",
              "      <td>1.4</td>\n",
              "      <td>0.2</td>\n",
              "    </tr>\n",
              "    <tr>\n",
              "      <th>2</th>\n",
              "      <td>4.7</td>\n",
              "      <td>3.2</td>\n",
              "      <td>1.3</td>\n",
              "      <td>0.2</td>\n",
              "    </tr>\n",
              "    <tr>\n",
              "      <th>3</th>\n",
              "      <td>4.6</td>\n",
              "      <td>3.1</td>\n",
              "      <td>1.5</td>\n",
              "      <td>0.2</td>\n",
              "    </tr>\n",
              "    <tr>\n",
              "      <th>4</th>\n",
              "      <td>5.0</td>\n",
              "      <td>3.6</td>\n",
              "      <td>1.4</td>\n",
              "      <td>0.2</td>\n",
              "    </tr>\n",
              "  </tbody>\n",
              "</table>\n",
              "</div>"
            ],
            "text/plain": [
              "   sepal length (cm)  sepal width (cm)  petal length (cm)  petal width (cm)\n",
              "0                5.1               3.5                1.4               0.2\n",
              "1                4.9               3.0                1.4               0.2\n",
              "2                4.7               3.2                1.3               0.2\n",
              "3                4.6               3.1                1.5               0.2\n",
              "4                5.0               3.6                1.4               0.2"
            ]
          },
          "metadata": {
            "tags": []
          },
          "execution_count": 2
        }
      ]
    },
    {
      "cell_type": "code",
      "metadata": {
        "id": "CeL_snrpT6iX",
        "outputId": "50fde8f2-915c-4405-b6ab-cece1e72716c",
        "colab": {
          "base_uri": "https://localhost:8080/",
          "height": 402
        }
      },
      "source": [
        "iris_df['species'] = iris.target\n",
        "new_iris_df = iris_df.iloc[:, [0, 2, 4]]\n",
        "new_iris_df = new_iris_df[new_iris_df['species'] != 0]\n",
        "new_iris_df = new_iris_df.reset_index()\n",
        "new_iris_df.loc[new_iris_df['species'] == 1, ['species']] = 0\n",
        "new_iris_df.loc[new_iris_df['species'] == 2, ['species']] = 1\n",
        "df = new_iris_df.drop(columns='index')\n",
        "df"
      ],
      "execution_count": null,
      "outputs": [
        {
          "output_type": "execute_result",
          "data": {
            "text/html": [
              "<div>\n",
              "<style scoped>\n",
              "    .dataframe tbody tr th:only-of-type {\n",
              "        vertical-align: middle;\n",
              "    }\n",
              "\n",
              "    .dataframe tbody tr th {\n",
              "        vertical-align: top;\n",
              "    }\n",
              "\n",
              "    .dataframe thead th {\n",
              "        text-align: right;\n",
              "    }\n",
              "</style>\n",
              "<table border=\"1\" class=\"dataframe\">\n",
              "  <thead>\n",
              "    <tr style=\"text-align: right;\">\n",
              "      <th></th>\n",
              "      <th>sepal length (cm)</th>\n",
              "      <th>petal length (cm)</th>\n",
              "      <th>species</th>\n",
              "    </tr>\n",
              "  </thead>\n",
              "  <tbody>\n",
              "    <tr>\n",
              "      <th>0</th>\n",
              "      <td>7.0</td>\n",
              "      <td>4.7</td>\n",
              "      <td>0</td>\n",
              "    </tr>\n",
              "    <tr>\n",
              "      <th>1</th>\n",
              "      <td>6.4</td>\n",
              "      <td>4.5</td>\n",
              "      <td>0</td>\n",
              "    </tr>\n",
              "    <tr>\n",
              "      <th>2</th>\n",
              "      <td>6.9</td>\n",
              "      <td>4.9</td>\n",
              "      <td>0</td>\n",
              "    </tr>\n",
              "    <tr>\n",
              "      <th>3</th>\n",
              "      <td>5.5</td>\n",
              "      <td>4.0</td>\n",
              "      <td>0</td>\n",
              "    </tr>\n",
              "    <tr>\n",
              "      <th>4</th>\n",
              "      <td>6.5</td>\n",
              "      <td>4.6</td>\n",
              "      <td>0</td>\n",
              "    </tr>\n",
              "    <tr>\n",
              "      <th>...</th>\n",
              "      <td>...</td>\n",
              "      <td>...</td>\n",
              "      <td>...</td>\n",
              "    </tr>\n",
              "    <tr>\n",
              "      <th>95</th>\n",
              "      <td>6.7</td>\n",
              "      <td>5.2</td>\n",
              "      <td>1</td>\n",
              "    </tr>\n",
              "    <tr>\n",
              "      <th>96</th>\n",
              "      <td>6.3</td>\n",
              "      <td>5.0</td>\n",
              "      <td>1</td>\n",
              "    </tr>\n",
              "    <tr>\n",
              "      <th>97</th>\n",
              "      <td>6.5</td>\n",
              "      <td>5.2</td>\n",
              "      <td>1</td>\n",
              "    </tr>\n",
              "    <tr>\n",
              "      <th>98</th>\n",
              "      <td>6.2</td>\n",
              "      <td>5.4</td>\n",
              "      <td>1</td>\n",
              "    </tr>\n",
              "    <tr>\n",
              "      <th>99</th>\n",
              "      <td>5.9</td>\n",
              "      <td>5.1</td>\n",
              "      <td>1</td>\n",
              "    </tr>\n",
              "  </tbody>\n",
              "</table>\n",
              "<p>100 rows × 3 columns</p>\n",
              "</div>"
            ],
            "text/plain": [
              "    sepal length (cm)  petal length (cm)  species\n",
              "0                 7.0                4.7        0\n",
              "1                 6.4                4.5        0\n",
              "2                 6.9                4.9        0\n",
              "3                 5.5                4.0        0\n",
              "4                 6.5                4.6        0\n",
              "..                ...                ...      ...\n",
              "95                6.7                5.2        1\n",
              "96                6.3                5.0        1\n",
              "97                6.5                5.2        1\n",
              "98                6.2                5.4        1\n",
              "99                5.9                5.1        1\n",
              "\n",
              "[100 rows x 3 columns]"
            ]
          },
          "metadata": {
            "tags": []
          },
          "execution_count": 3
        }
      ]
    },
    {
      "cell_type": "markdown",
      "metadata": {
        "id": "pAxUyvGGZY-C"
      },
      "source": [
        "## **【問題2】データの分析**\n",
        "まずはデータの分析を行いますが、これはWeek3の課題1で行いました。その際出力した散布図行列を見ることで、先ほどの18通りそれぞれの散布図も確認できます。sepal_lengthとpetal_lengthを使い、virgicolorとvirginicaを分類するのは少し難しそうな状況であることが分かるはずです。\n",
        "\n",
        "\n",
        "ここでは復習を兼ねて、抜き出したデータの散布図と箱ひげ図（boxplot）、バイオリン図（violinplot）を表示してください。\n",
        "\n",
        "\n",
        "《実際の問題では？》\n",
        "\n",
        "\n",
        "このデータ分析の結果を元に前処理として特徴量エンジニアリングを行っていきます。\n",
        "\n",
        "\n",
        "今回はsepal_lengthとpetal_lengthを抜き出しましたが、分析した上で、問題を少々難しくするための前処理をしたと言えます。"
      ]
    },
    {
      "cell_type": "code",
      "metadata": {
        "id": "gYaIIzHj_lFc",
        "outputId": "5c08f01a-9254-4813-a886-8bcb9edd3388",
        "colab": {
          "base_uri": "https://localhost:8080/",
          "height": 374
        }
      },
      "source": [
        "#散布図\n",
        "sns.pairplot(df,hue = \"species\")\n",
        "plt.show()"
      ],
      "execution_count": null,
      "outputs": [
        {
          "output_type": "display_data",
          "data": {
            "image/png": "[encoded data removed]",
            "text/plain": [
              "<Figure size 405.375x360 with 6 Axes>"
            ]
          },
          "metadata": {
            "tags": [],
            "needs_background": "light"
          }
        }
      ]
    },
    {
      "cell_type": "code",
      "metadata": {
        "id": "bhwE0hXqbeH1",
        "outputId": "6883c9a9-0c48-44e1-ea9c-29c0b3d60a26",
        "colab": {
          "base_uri": "https://localhost:8080/",
          "height": 716
        }
      },
      "source": [
        "fig,ax = plt.subplots(2,1,figsize = (6,12))\n",
        "label = [\"virgicolor\",\"virginica\"]\n",
        "for i in range(2):\n",
        "    ax[i].set_title(label[i])\n",
        "    ax[i].boxplot([df.iloc[:50,i],df.iloc[50:,i]],labels = label)\n",
        "\n",
        "plt.show()"
      ],
      "execution_count": null,
      "outputs": [
        {
          "output_type": "display_data",
          "data": {
            "image/png": "[encoded data removed]",
            "text/plain": [
              "<Figure size 432x864 with 2 Axes>"
            ]
          },
          "metadata": {
            "tags": [],
            "needs_background": "light"
          }
        }
      ]
    },
    {
      "cell_type": "code",
      "metadata": {
        "id": "kza9fYYiAQvI",
        "outputId": "51998a25-cad9-4ed4-8d22-42cdbf447205",
        "colab": {
          "base_uri": "https://localhost:8080/",
          "height": 716
        }
      },
      "source": [
        "#バイオリン図\n",
        "fig,ax = plt.subplots(2,1,figsize = (6,12))\n",
        "for i in range(2):\n",
        "    ax[i].set_title(label[i])\n",
        "    ax[i].set_xticks([1,2])\n",
        "    ax[i].set_xticklabels(label)    \n",
        "    ax[i].violinplot([df.iloc[:50,i],df.iloc[50:,i]])\n",
        "plt.show()"
      ],
      "execution_count": null,
      "outputs": [
        {
          "output_type": "display_data",
          "data": {
            "image/png": "[encoded data removed]",
            "text/plain": [
              "<Figure size 432x864 with 2 Axes>"
            ]
          },
          "metadata": {
            "tags": [],
            "needs_background": "light"
          }
        }
      ]
    },
    {
      "cell_type": "markdown",
      "metadata": {
        "id": "jQ92f9vZicpT"
      },
      "source": [
        "## **【問題3】前処理・訓練データと検証データの分割**\n",
        "前処理の一貫として、訓練データと検証データの分割を行います。今回は訓練データ75%、検証データ25%として分割してください。\n",
        "\n",
        "\n",
        "scikit-learnのtrain_test_splitが利用できます。公式ドキュメントのExamplesを参考に動かしてください。\n",
        "\n",
        "\n",
        "sklearn.model_selection.train_test_split — scikit-learn 0.21.3 documentation\n",
        "\n",
        "\n",
        "《注意点》\n",
        "\n",
        "\n",
        "データの分析まではPandasのDataFrameを使用してきました。しかし、scikit-learnはNumPyのndarrayを想定して作られています。そのため、この段階でndarrayへの変換を行いましょう。特徴量（説明変数）をX、正解（目的変数）をyというndarrayに格納します。\n",
        "\n",
        "\n",
        "《分割する理由》\n",
        "\n",
        "\n",
        "分類問題の目的は未知のデータを正しく分類することです。その目的が達成できているかを確認するため、実際には答えの分かっているデータの一部を学習には使わず残しておきます。この学習に使用していないデータで推定を行い、そこから求めた指標値によって検証します。学習に使うデータを訓練データ、検証に使うデータが検証データで、一般的に7対3から8対2程度の割合にします。"
      ]
    },
    {
      "cell_type": "code",
      "metadata": {
        "id": "Hn0RdPHKAdC3"
      },
      "source": [
        "X = np.array(df.iloc[:,:-1])\n",
        "y = np.array(df.species)\n",
        "x_train,x_test,y_train,y_test = train_test_split(X,y,test_size = 0.25)"
      ],
      "execution_count": null,
      "outputs": []
    },
    {
      "cell_type": "code",
      "metadata": {
        "id": "6GUDmq38Aihj"
      },
      "source": [
        "scaler = StandardScaler()\n",
        "scaler.fit(x_train)\n",
        "x_std = scaler.transform(x_train)  #scaler.fit_transform(x_train)で１行でも書ける\n",
        "x_std2 = scaler.fit_transform(x_test)  #テスト用データの標準化も忘れずに行う"
      ],
      "execution_count": null,
      "outputs": []
    },
    {
      "cell_type": "code",
      "metadata": {
        "id": "Qz5Zlm7Qincm"
      },
      "source": [
        "X = df.iloc[:, :2].values\n",
        "y = df.iloc[:, 2].values\n",
        "\n",
        "X_train, X_test, y_train, y_test = train_test_split(X, y, random_state=0, stratify=y)"
      ],
      "execution_count": null,
      "outputs": []
    },
    {
      "cell_type": "markdown",
      "metadata": {
        "id": "3J5aySUZkluF"
      },
      "source": [
        "## **【問題4】前処理・標準化**\n",
        "分類精度をあげるための加工を行います。手法ごとに適切な方法は異なりますが、ここでは一例として 標準化 を行うことにします。\n",
        "\n",
        "\n",
        "標準化を行うライブラリもscikit-learnに用意されています。これを使って標準化してください。\n",
        "\n",
        "\n",
        "sklearn.model_selection.train_test_split — scikit-learn 0.21.3 documentation\n",
        "\n",
        "\n",
        "《注意点》\n",
        "\n",
        "\n",
        "標準化は訓練用のデータでfitを行い、訓練用、検証用双方のデータにtransformを行います。検証データは学習の段階には存在しない未知のデータの代わりなので、標準化のための平均や標準偏差の計算に使ってはいけません。また、今回は分類問題なので、ラベルについては標準化させる必要はありません。\n",
        "\n",
        "\n",
        "《実際の問題での前処理は？》\n",
        "\n",
        "\n",
        "アヤメのデータセットのように綺麗で扱いやすい状況で提供されることはまずありません。分析を行いながら、様々な加工が必要になってきます。例えばWeek3の課題2で行った欠損値の確認の後、場合により欠損値の補間も行います。外れ値の確認や、複数のデータセットの整理などもあります。"
      ]
    },
    {
      "cell_type": "code",
      "metadata": {
        "id": "5E5wxKxul6SA"
      },
      "source": [
        "scaler = StandardScaler()\n",
        "scaler.fit(x_train)\n",
        "x_std = scaler.transform(x_train)  #scaler.fit_transform(x_train)で１行でも書ける\n",
        "x_std2 = scaler.fit_transform(x_test)  #テスト用データの標準化も忘れずに行う"
      ],
      "execution_count": null,
      "outputs": []
    },
    {
      "cell_type": "markdown",
      "metadata": {
        "id": "WfafBSUkA--Q"
      },
      "source": [
        "## **【問題5】学習と推定**\n",
        "最近傍法（k-nearest neighbors, k-nn）で学習を行います。scikit-learnの公式ドキュメントのExamplesを参考に、k-nnの学習を行ってください。ここで入力するのは訓練データです。\n",
        "学習が終わった後、検証データをpredictメソッドに入力し、推定を行ってください。\n",
        "パラメータが複数ありますが、今はそれらの理解を重視しません。最も基本的な要素として、n_neighborsの数があるため、これは複数試してみましょう。デフォルトの5、および1と3を最低限行ってください。5の場合を5-nn、3の場合を3-nnのように呼びます。"
      ]
    },
    {
      "cell_type": "code",
      "metadata": {
        "id": "CuTpbUX2A75k"
      },
      "source": [
        "#1-nnから75-nnまで格納\n",
        "y_pred = np.arange((x_std.shape[0]+1)*(len(x_test))).reshape(x_std.shape[0]+1,len(x_test))\n",
        "\n",
        "for i in range(1,(x_std.shape[0]+1)):\n",
        "    knn = KNeighborsClassifier(n_neighbors = i)\n",
        "    knn.fit(x_std,y_train)\n",
        "    y_pred[i] = knn.predict(x_std2)"
      ],
      "execution_count": null,
      "outputs": []
    },
    {
      "cell_type": "markdown",
      "metadata": {
        "id": "bgsYD6_8BGQp"
      },
      "source": [
        "## **【問題6】評価**\n",
        "検証データの特徴量を入力して得られた推定値と、検証データの正解値の近さを計算し、学習したモデルを評価します。\n",
        "2値分類を評価するための指標値には Accuracy（正解率）、Precision（適合率）、Recall（再現率）、F値 があります。それぞれの意味を理解するには、 混同行列（confusion matrix） を見ることになります。\n",
        "scikit-learnを使い4種類の指標を計算する\n",
        "混同行列をscikit-learnを使い表示する\n",
        "4種類の指標値の意味について簡単に調査して文章でまとめる"
      ]
    },
    {
      "cell_type": "code",
      "metadata": {
        "id": "5g-uzmsXBDL-",
        "outputId": "3b0c767f-31dd-4f3c-996b-7ed57057feb9",
        "colab": {
          "base_uri": "https://localhost:8080/",
          "height": 773
        }
      },
      "source": [
        "\n",
        "#75-nnまで確認できる\n",
        "k = 5\n",
        "for i in range(1,k+1):\n",
        "    print(\"{}-nnのAccuracy(正解率)：{}\".format(i,accuracy_score(y_test,y_pred[i])))\n",
        "    print(\"{}-nnのPrecision(適合率)：{}\".format(i,precision_score(y_test,y_pred[i])))\n",
        "    print(\"{}-nnのRecall(再現率)：{}\".format(i,recall_score(y_test,y_pred[i])))\n",
        "    print(\"{}-nnのF値：{}\".format(i,f1_score(y_test,y_pred[i])))\n",
        "    print(\"\\n混同行列：\\n{}\".format(confusion_matrix(y_test,y_pred[i])))\n",
        "    print(\"ーーーーーーーーーーーーーーー\")"
      ],
      "execution_count": null,
      "outputs": [
        {
          "output_type": "stream",
          "text": [
            "1-nnのAccuracy(正解率)：0.8\n",
            "1-nnのPrecision(適合率)：0.7333333333333333\n",
            "1-nnのRecall(再現率)：0.9166666666666666\n",
            "1-nnのF値：0.8148148148148148\n",
            "\n",
            "混同行列：\n",
            "[[ 9  4]\n",
            " [ 1 11]]\n",
            "ーーーーーーーーーーーーーーー\n",
            "2-nnのAccuracy(正解率)：0.76\n",
            "2-nnのPrecision(適合率)：0.7142857142857143\n",
            "2-nnのRecall(再現率)：0.8333333333333334\n",
            "2-nnのF値：0.7692307692307692\n",
            "\n",
            "混同行列：\n",
            "[[ 9  4]\n",
            " [ 2 10]]\n",
            "ーーーーーーーーーーーーーーー\n",
            "3-nnのAccuracy(正解率)：0.8\n",
            "3-nnのPrecision(適合率)：0.7333333333333333\n",
            "3-nnのRecall(再現率)：0.9166666666666666\n",
            "3-nnのF値：0.8148148148148148\n",
            "\n",
            "混同行列：\n",
            "[[ 9  4]\n",
            " [ 1 11]]\n",
            "ーーーーーーーーーーーーーーー\n",
            "4-nnのAccuracy(正解率)：0.88\n",
            "4-nnのPrecision(適合率)：0.8461538461538461\n",
            "4-nnのRecall(再現率)：0.9166666666666666\n",
            "4-nnのF値：0.8799999999999999\n",
            "\n",
            "混同行列：\n",
            "[[11  2]\n",
            " [ 1 11]]\n",
            "ーーーーーーーーーーーーーーー\n",
            "5-nnのAccuracy(正解率)：0.8\n",
            "5-nnのPrecision(適合率)：0.7333333333333333\n",
            "5-nnのRecall(再現率)：0.9166666666666666\n",
            "5-nnのF値：0.8148148148148148\n",
            "\n",
            "混同行列：\n",
            "[[ 9  4]\n",
            " [ 1 11]]\n",
            "ーーーーーーーーーーーーーーー\n"
          ],
          "name": "stdout"
        }
      ]
    },
    {
      "cell_type": "markdown",
      "metadata": {
        "id": "S6RIJmLmBRmn"
      },
      "source": [
        "## **【問題7】可視化**\n",
        "評価の一貫として可視化を行います。今回の場合2次元の特徴量で分類を行いましたから、散布図で可視化が可能です。\n",
        "以下にどう分割するかという 決定領域 を描く関数を用意しました。これを利用して可視化を行ってください。Xとyには訓練データまたは検証データを与えます。"
      ]
    },
    {
      "cell_type": "code",
      "metadata": {
        "id": "12moh7WlBKSd"
      },
      "source": [
        "\n",
        "import matplotlib.pyplot as plt\n",
        "from matplotlib.colors import ListedColormap\n",
        "import matplotlib.patches as mpatches\n",
        "def decision_region(X, y, model, step=0.01, title='decision region', xlabel='xlabel', ylabel='ylabel', target_names=['versicolor', 'virginica']):\n",
        "    \"\"\"\n",
        "    2値分類を2次元の特徴量で学習したモデルの決定領域を描く。\n",
        "    背景の色が学習したモデルによる推定値から描画される。\n",
        "    散布図の点は訓練データまたは検証データである。\n",
        "\n",
        "    Parameters\n",
        "    ----------------\n",
        "    X : ndarray, shape(n_samples, 2)\n",
        "        特徴量\n",
        "    y : ndarray, shape(n_samples,)\n",
        "        ラベル\n",
        "    model : object\n",
        "        学習したモデルのインスンタスを入れる\n",
        "    step : float, (default : 0.1)\n",
        "        推定値を計算する間隔を設定する\n",
        "    title : str\n",
        "        グラフのタイトルの文章を与える\n",
        "    xlabel, ylabel : str\n",
        "        軸ラベルの文章を与える\n",
        "    target_names= : list of str\n",
        "        凡例の一覧を与える\n",
        "    \"\"\"\n",
        "    # setting\n",
        "    scatter_color = ['red', 'blue']\n",
        "    contourf_color = ['pink', 'skyblue']\n",
        "    n_class = 2\n",
        "    # pred\n",
        "    mesh_f0, mesh_f1  = np.meshgrid(np.arange(np.min(X[:,0])-0.5, np.max(X[:,0])+0.5, step), np.arange(np.min(X[:,1])-0.5, np.max(X[:,1])+0.5, step))\n",
        "    mesh = np.c_[np.ravel(mesh_f0),np.ravel(mesh_f1)]\n",
        "    y_pred = model.predict(mesh).reshape(mesh_f0.shape)\n",
        "    # plot\n",
        "    plt.title(title)\n",
        "    plt.xlabel(xlabel)\n",
        "    plt.ylabel(ylabel)\n",
        "    plt.contourf(mesh_f0, mesh_f1, y_pred, n_class-1, cmap=ListedColormap(contourf_color))\n",
        "    plt.contour(mesh_f0, mesh_f1, y_pred, n_class-1, colors='y', linewidths=3, alpha=0.5)\n",
        "    for i, target in enumerate(set(y)):\n",
        "        plt.scatter(X[y==target][:, 0], X[y==target][:, 1], s=80, color=scatter_color[i], label=target_names[i], marker='o')\n",
        "    patches = [mpatches.Patch(color=scatter_color[i], label=target_names[i]) for i in range(n_class)]\n",
        "    plt.legend(handles=patches)\n",
        "    plt.legend()\n",
        "    plt.show()"
      ],
      "execution_count": null,
      "outputs": []
    },
    {
      "cell_type": "code",
      "metadata": {
        "id": "a5WAG4fDBanH",
        "outputId": "10c7ad01-8134-4efd-f823-039f9bf351a8",
        "colab": {
          "base_uri": "https://localhost:8080/",
          "height": 573
        }
      },
      "source": [
        "\n",
        "k = 5\n",
        "\n",
        "knn = KNeighborsClassifier(n_neighbors = k)\n",
        "knn.fit(x_std,y_train)\n",
        "\n",
        "#y_pred2 = knn.predict(x_std)\n",
        "#y_pred3 = knn.predict(x_std2)\n",
        "decision_region(x_std,y_train,knn)  #訓練用データの決定領域\n",
        "decision_region(x_std2,y_test,knn)  #テスト用データの決定領域"
      ],
      "execution_count": null,
      "outputs": [
        {
          "output_type": "display_data",
          "data": {
            "image/png": "[encoded data removed]",
            "text/plain": [
              "<Figure size 432x288 with 1 Axes>"
            ]
          },
          "metadata": {
            "tags": [],
            "needs_background": "light"
          }
        },
        {
          "output_type": "display_data",
          "data": {
            "image/png": "[encoded data removed]",
            "text/plain": [
              "<Figure size 432x288 with 1 Axes>"
            ]
          },
          "metadata": {
            "tags": [],
            "needs_background": "light"
          }
        }
      ]
    },
    {
      "cell_type": "markdown",
      "metadata": {
        "id": "l2jibkfVBkgO"
      },
      "source": [
        "## **【問題8】他の手法の学習¶**\n",
        "以下の全ての手法について学習・推定・評価・可視化を行ってください。そして、指標値を１つの表にまとめてください。その表と決定領域を利用して結果を簡単に考察してください。どの手法がどの指標値で良かったかや、どういった決定領域になっていたかを述べてください。\n",
        "\n",
        "最近傍法\n",
        "ロジスティック回帰\n",
        "SVM\n",
        "決定木\n",
        "ランダムフォレスト"
      ]
    },
    {
      "cell_type": "code",
      "metadata": {
        "id": "2veSXk3HBdDE"
      },
      "source": [
        "values = np.empty(20).reshape(5,4)\n",
        "values2 = np.empty(20).reshape(5,4)"
      ],
      "execution_count": null,
      "outputs": []
    },
    {
      "cell_type": "code",
      "metadata": {
        "id": "TnXoBvzUBnwN",
        "outputId": "8e658944-788f-4617-da94-386bb28d532d",
        "colab": {
          "base_uri": "https://localhost:8080/",
          "height": 430
        }
      },
      "source": [
        "\n",
        "#最近傍法(k=1のk近傍法)\n",
        "knn = KNeighborsClassifier(n_neighbors = 1)\n",
        "knn.fit(x_std,y_train)\n",
        "y_pred_m = knn.predict(x_std2)\n",
        "values[0,:] = accuracy_score(y_test,y_pred_m),precision_score(y_test,y_pred_m),recall_score(y_test,y_pred_m),f1_score(y_test,y_pred_m)\n",
        "print(\"Accuracy(正解率)：{}\".format(values[0,0]))\n",
        "print(\"Precision(適合率)：{}\".format(values[0,1]))\n",
        "print(\"Recall(再現率)：{}\".format(values[0,2]))\n",
        "print(\"F値：{}\".format(values[0,3]))\n",
        "print(\"\\n混同行列：\\n{}\".format(confusion_matrix(y_test,y_pred_m)))\n",
        "decision_region(x_std2,y_test,knn)"
      ],
      "execution_count": null,
      "outputs": [
        {
          "output_type": "stream",
          "text": [
            "Accuracy(正解率)：0.8\n",
            "Precision(適合率)：0.7333333333333333\n",
            "Recall(再現率)：0.9166666666666666\n",
            "F値：0.8148148148148148\n",
            "\n",
            "混同行列：\n",
            "[[ 9  4]\n",
            " [ 1 11]]\n"
          ],
          "name": "stdout"
        },
        {
          "output_type": "display_data",
          "data": {
            "image/png": "[encoded data removed]",
            "text/plain": [
              "<Figure size 432x288 with 1 Axes>"
            ]
          },
          "metadata": {
            "tags": [],
            "needs_background": "light"
          }
        }
      ]
    },
    {
      "cell_type": "code",
      "metadata": {
        "id": "8SsVp7QHBpmk",
        "outputId": "83a15186-2ff0-4b2f-e7d2-bca702257caa",
        "colab": {
          "base_uri": "https://localhost:8080/",
          "height": 430
        }
      },
      "source": [
        "\n",
        "#ロジスティック回帰\n",
        "lr = LogisticRegression()\n",
        "lr.fit(x_std,y_train)\n",
        "y_pred_l = lr.predict(x_std2)\n",
        "values[1,:] = accuracy_score(y_test,y_pred_l),precision_score(y_test,y_pred_l),recall_score(y_test,y_pred_l),f1_score(y_test,y_pred_l)\n",
        "print(\"Accuracy(正解率)：{}\".format(values[1,0]))\n",
        "print(\"Precision(適合率)：{}\".format(values[1,1]))\n",
        "print(\"Recall(再現率)：{}\".format(values[1,2]))\n",
        "print(\"F値：{}\".format(values[1,3]))\n",
        "print(\"\\n混同行列：\\n{}\".format(confusion_matrix(y_test,y_pred_l)))\n",
        "decision_region(x_std2,y_test,lr)"
      ],
      "execution_count": null,
      "outputs": [
        {
          "output_type": "stream",
          "text": [
            "Accuracy(正解率)：0.8\n",
            "Precision(適合率)：0.7333333333333333\n",
            "Recall(再現率)：0.9166666666666666\n",
            "F値：0.8148148148148148\n",
            "\n",
            "混同行列：\n",
            "[[ 9  4]\n",
            " [ 1 11]]\n"
          ],
          "name": "stdout"
        },
        {
          "output_type": "display_data",
          "data": {
            "image/png": "[encoded data removed]",
            "text/plain": [
              "<Figure size 432x288 with 1 Axes>"
            ]
          },
          "metadata": {
            "tags": [],
            "needs_background": "light"
          }
        }
      ]
    },
    {
      "cell_type": "code",
      "metadata": {
        "id": "DraOCh3hBvOj",
        "outputId": "2dd23408-caf4-432d-9970-a7830be5c236",
        "colab": {
          "base_uri": "https://localhost:8080/",
          "height": 430
        }
      },
      "source": [
        "#SVM\n",
        "svm = SVC()\n",
        "svm.fit(x_std,y_train)\n",
        "y_pred_s  =svm.predict(x_std2)\n",
        "values[2,:] = accuracy_score(y_test,y_pred_s),precision_score(y_test,y_pred_s),recall_score(y_test,y_pred_s),f1_score(y_test,y_pred_s)\n",
        "print(\"Accuracy(正解率)：{}\".format(values[2,0]))\n",
        "print(\"Precision(適合率)：{}\".format(values[2,1]))\n",
        "print(\"Recall(再現率)：{}\".format(values[2,2]))\n",
        "print(\"F値：{}\".format(values[2,3]))\n",
        "print(\"\\n混同行列：\\n{}\".format(confusion_matrix(y_test,y_pred_s)))\n",
        "decision_region(x_std2,y_test,svm)"
      ],
      "execution_count": null,
      "outputs": [
        {
          "output_type": "stream",
          "text": [
            "Accuracy(正解率)：0.8\n",
            "Precision(適合率)：0.7333333333333333\n",
            "Recall(再現率)：0.9166666666666666\n",
            "F値：0.8148148148148148\n",
            "\n",
            "混同行列：\n",
            "[[ 9  4]\n",
            " [ 1 11]]\n"
          ],
          "name": "stdout"
        },
        {
          "output_type": "display_data",
          "data": {
            "image/png": "[encoded data removed]",
            "text/plain": [
              "<Figure size 432x288 with 1 Axes>"
            ]
          },
          "metadata": {
            "tags": [],
            "needs_background": "light"
          }
        }
      ]
    },
    {
      "cell_type": "code",
      "metadata": {
        "id": "M1fCd8ixByr7",
        "outputId": "b17f4c5c-e232-4fa0-e60b-6353f83ab614",
        "colab": {
          "base_uri": "https://localhost:8080/",
          "height": 430
        }
      },
      "source": [
        "# 決定木\n",
        "dt = DecisionTreeClassifier()\n",
        "dt.fit(x_std,y_train)\n",
        "y_pred_d  = dt.predict(x_std2)\n",
        "values[3,:] = accuracy_score(y_test,y_pred_d),precision_score(y_test,y_pred_d),recall_score(y_test,y_pred_d),f1_score(y_test,y_pred_d)\n",
        "print(\"Accuracy(正解率)：{}\".format(values[3,0]))\n",
        "print(\"Precision(適合率)：{}\".format(values[3,1]))\n",
        "print(\"Recall(再現率)：{}\".format(values[3,2]))\n",
        "print(\"F値：{}\".format(values[3,3]))\n",
        "print(\"\\n混同行列：\\n{}\".format(confusion_matrix(y_test,y_pred_d)))\n",
        "decision_region(x_std2,y_test,dt)"
      ],
      "execution_count": null,
      "outputs": [
        {
          "output_type": "stream",
          "text": [
            "Accuracy(正解率)：0.8\n",
            "Precision(適合率)：0.7333333333333333\n",
            "Recall(再現率)：0.9166666666666666\n",
            "F値：0.8148148148148148\n",
            "\n",
            "混同行列：\n",
            "[[ 9  4]\n",
            " [ 1 11]]\n"
          ],
          "name": "stdout"
        },
        {
          "output_type": "display_data",
          "data": {
            "image/png": "[encoded data removed]",
            "text/plain": [
              "<Figure size 432x288 with 1 Axes>"
            ]
          },
          "metadata": {
            "tags": [],
            "needs_background": "light"
          }
        }
      ]
    },
    {
      "cell_type": "code",
      "metadata": {
        "id": "Kl2gygf1B_5O",
        "outputId": "e3a17113-40c8-4885-c149-ef157422f223",
        "colab": {
          "base_uri": "https://localhost:8080/",
          "height": 430
        }
      },
      "source": [
        "#ランダムフォレスト\n",
        "rf = RandomForestClassifier()\n",
        "rf.fit(x_std,y_train)\n",
        "y_pred_r = rf.predict(x_std2)\n",
        "values[4,:] = accuracy_score(y_test,y_pred_r),precision_score(y_test,y_pred_r),recall_score(y_test,y_pred_r),f1_score(y_test,y_pred_r)\n",
        "print(\"Accuracy(正解率)：{}\".format(values[4,0]))\n",
        "print(\"Precision(適合率)：{}\".format(values[4,1]))\n",
        "print(\"Recall(再現率)：{}\".format(values[4,2]))\n",
        "print(\"F値：{}\".format(values[4,3]))\n",
        "print(\"\\n混同行列：\\n{}\".format(confusion_matrix(y_test,y_pred_r)))\n",
        "decision_region(x_std2,y_test,rf)"
      ],
      "execution_count": null,
      "outputs": [
        {
          "output_type": "stream",
          "text": [
            "Accuracy(正解率)：0.8\n",
            "Precision(適合率)：0.7333333333333333\n",
            "Recall(再現率)：0.9166666666666666\n",
            "F値：0.8148148148148148\n",
            "\n",
            "混同行列：\n",
            "[[ 9  4]\n",
            " [ 1 11]]\n"
          ],
          "name": "stdout"
        },
        {
          "output_type": "display_data",
          "data": {
            "image/png": "[encoded data removed]",
            "text/plain": [
              "<Figure size 432x288 with 1 Axes>"
            ]
          },
          "metadata": {
            "tags": [],
            "needs_background": "light"
          }
        }
      ]
    },
    {
      "cell_type": "code",
      "metadata": {
        "id": "aZHpv0mgCGyO",
        "outputId": "c0280489-4155-4c1f-9b25-3dfb4f2c52ee",
        "colab": {
          "base_uri": "https://localhost:8080/",
          "height": 195
        }
      },
      "source": [
        "pd.DataFrame(values,index = [\"最近傍法\",\"ロジスティック回帰\",\"SVM\",\"決定木\",\"ランダムフォレスト\"],columns = [\"Accuracy\",\"Precision\",\"Recall\",\"F値\"])"
      ],
      "execution_count": null,
      "outputs": [
        {
          "output_type": "execute_result",
          "data": {
            "text/html": [
              "<div>\n",
              "<style scoped>\n",
              "    .dataframe tbody tr th:only-of-type {\n",
              "        vertical-align: middle;\n",
              "    }\n",
              "\n",
              "    .dataframe tbody tr th {\n",
              "        vertical-align: top;\n",
              "    }\n",
              "\n",
              "    .dataframe thead th {\n",
              "        text-align: right;\n",
              "    }\n",
              "</style>\n",
              "<table border=\"1\" class=\"dataframe\">\n",
              "  <thead>\n",
              "    <tr style=\"text-align: right;\">\n",
              "      <th></th>\n",
              "      <th>Accuracy</th>\n",
              "      <th>Precision</th>\n",
              "      <th>Recall</th>\n",
              "      <th>F値</th>\n",
              "    </tr>\n",
              "  </thead>\n",
              "  <tbody>\n",
              "    <tr>\n",
              "      <th>最近傍法</th>\n",
              "      <td>0.8</td>\n",
              "      <td>0.733333</td>\n",
              "      <td>0.916667</td>\n",
              "      <td>0.814815</td>\n",
              "    </tr>\n",
              "    <tr>\n",
              "      <th>ロジスティック回帰</th>\n",
              "      <td>0.8</td>\n",
              "      <td>0.733333</td>\n",
              "      <td>0.916667</td>\n",
              "      <td>0.814815</td>\n",
              "    </tr>\n",
              "    <tr>\n",
              "      <th>SVM</th>\n",
              "      <td>0.8</td>\n",
              "      <td>0.733333</td>\n",
              "      <td>0.916667</td>\n",
              "      <td>0.814815</td>\n",
              "    </tr>\n",
              "    <tr>\n",
              "      <th>決定木</th>\n",
              "      <td>0.8</td>\n",
              "      <td>0.733333</td>\n",
              "      <td>0.916667</td>\n",
              "      <td>0.814815</td>\n",
              "    </tr>\n",
              "    <tr>\n",
              "      <th>ランダムフォレスト</th>\n",
              "      <td>0.8</td>\n",
              "      <td>0.733333</td>\n",
              "      <td>0.916667</td>\n",
              "      <td>0.814815</td>\n",
              "    </tr>\n",
              "  </tbody>\n",
              "</table>\n",
              "</div>"
            ],
            "text/plain": [
              "           Accuracy  Precision    Recall        F値\n",
              "最近傍法            0.8   0.733333  0.916667  0.814815\n",
              "ロジスティック回帰       0.8   0.733333  0.916667  0.814815\n",
              "SVM             0.8   0.733333  0.916667  0.814815\n",
              "決定木             0.8   0.733333  0.916667  0.814815\n",
              "ランダムフォレスト       0.8   0.733333  0.916667  0.814815"
            ]
          },
          "metadata": {
            "tags": []
          },
          "execution_count": 28
        }
      ]
    },
    {
      "cell_type": "markdown",
      "metadata": {
        "id": "4VwjSlmECdDi"
      },
      "source": [
        "## **【問題9】（アドバンス課題）標準化の有無の比較¶**\n",
        "前処理として標準化を行いましたが、これを行わなかった場合どのような結果が得られるでしょうか。各手法に対しての指標値の表と決定領域の図を作成し比較および考察を行ってください。考察には標準化が機械学習の前処理としてどのような意味があるかを絡めてください。"
      ]
    },
    {
      "cell_type": "code",
      "metadata": {
        "id": "aVFDLrUWCXtE",
        "outputId": "ef4a213a-b90b-4ef4-d4d4-1b1df5d62a82",
        "colab": {
          "base_uri": "https://localhost:8080/",
          "height": 430
        }
      },
      "source": [
        "#最近傍法(k=1のk近傍法)\n",
        "knn = KNeighborsClassifier(n_neighbors = 1)\n",
        "knn.fit(x_train,y_train)\n",
        "y_pred_m = knn.predict(x_test)\n",
        "values2[0,:] = accuracy_score(y_test,y_pred_m),precision_score(y_test,y_pred_m),recall_score(y_test,y_pred_m),f1_score(y_test,y_pred_m)\n",
        "print(\"Accuracy(正解率)：{}\".format(values2[0,0]))\n",
        "print(\"Precision(適合率)：{}\".format(values2[0,1]))\n",
        "print(\"Recall(再現率)：{}\".format(values2[0,2]))\n",
        "print(\"F値：{}\".format(values2[0,3]))\n",
        "print(\"\\n混同行列：\\n{}\".format(confusion_matrix(y_test,y_pred_m)))\n",
        "decision_region(x_test,y_test,knn)"
      ],
      "execution_count": null,
      "outputs": [
        {
          "output_type": "stream",
          "text": [
            "Accuracy(正解率)：0.76\n",
            "Precision(適合率)：0.75\n",
            "Recall(再現率)：0.75\n",
            "F値：0.75\n",
            "\n",
            "混同行列：\n",
            "[[10  3]\n",
            " [ 3  9]]\n"
          ],
          "name": "stdout"
        },
        {
          "output_type": "display_data",
          "data": {
            "image/png": "[encoded data removed]",
            "text/plain": [
              "<Figure size 432x288 with 1 Axes>"
            ]
          },
          "metadata": {
            "tags": [],
            "needs_background": "light"
          }
        }
      ]
    },
    {
      "cell_type": "code",
      "metadata": {
        "id": "pqqWTJyFCh0r",
        "outputId": "b1119ec7-b11d-4816-fea7-4d238d3a8db7",
        "colab": {
          "base_uri": "https://localhost:8080/",
          "height": 430
        }
      },
      "source": [
        "#ロジスティック回帰\n",
        "lr = LogisticRegression()\n",
        "lr.fit(x_train,y_train)\n",
        "y_pred_l = lr.predict(x_test)\n",
        "values2[1,:] = accuracy_score(y_test,y_pred_l),precision_score(y_test,y_pred_l),recall_score(y_test,y_pred_l),f1_score(y_test,y_pred_l)\n",
        "print(\"Accuracy(正解率)：{}\".format(values2[1,0]))\n",
        "print(\"Precision(適合率)：{}\".format(values2[1,1]))\n",
        "print(\"Recall(再現率)：{}\".format(values2[1,2]))\n",
        "print(\"F値：{}\".format(values2[1,3]))\n",
        "print(\"\\n混同行列：\\n{}\".format(confusion_matrix(y_test,y_pred_l)))\n",
        "decision_region(x_test,y_test,lr)"
      ],
      "execution_count": null,
      "outputs": [
        {
          "output_type": "stream",
          "text": [
            "Accuracy(正解率)：0.76\n",
            "Precision(適合率)：0.75\n",
            "Recall(再現率)：0.75\n",
            "F値：0.75\n",
            "\n",
            "混同行列：\n",
            "[[10  3]\n",
            " [ 3  9]]\n"
          ],
          "name": "stdout"
        },
        {
          "output_type": "display_data",
          "data": {
            "image/png": "[encoded data removed]",
            "text/plain": [
              "<Figure size 432x288 with 1 Axes>"
            ]
          },
          "metadata": {
            "tags": [],
            "needs_background": "light"
          }
        }
      ]
    },
    {
      "cell_type": "code",
      "metadata": {
        "id": "2PvfQk9-CnoO",
        "outputId": "1fae4401-0b59-494f-8f31-98b2f96cabea",
        "colab": {
          "base_uri": "https://localhost:8080/",
          "height": 430
        }
      },
      "source": [
        "#SVM\n",
        "svm = SVC()\n",
        "svm.fit(x_train,y_train)\n",
        "y_pred_s  =svm.predict(x_test)\n",
        "values2[2,:] = accuracy_score(y_test,y_pred_s),precision_score(y_test,y_pred_s),recall_score(y_test,y_pred_s),f1_score(y_test,y_pred_s)\n",
        "print(\"Accuracy(正解率)：{}\".format(values2[2,0]))\n",
        "print(\"Precision(適合率)：{}\".format(values2[2,1]))\n",
        "print(\"Recall(再現率)：{}\".format(values2[2,2]))\n",
        "print(\"F値：{}\".format(values2[2,3]))\n",
        "print(\"\\n混同行列：\\n{}\".format(confusion_matrix(y_test,y_pred_s)))\n",
        "decision_region(x_test,y_test,svm)"
      ],
      "execution_count": null,
      "outputs": [
        {
          "output_type": "stream",
          "text": [
            "Accuracy(正解率)：0.72\n",
            "Precision(適合率)：0.6923076923076923\n",
            "Recall(再現率)：0.75\n",
            "F値：0.7199999999999999\n",
            "\n",
            "混同行列：\n",
            "[[9 4]\n",
            " [3 9]]\n"
          ],
          "name": "stdout"
        },
        {
          "output_type": "display_data",
          "data": {
            "image/png": "[encoded data removed]",
            "text/plain": [
              "<Figure size 432x288 with 1 Axes>"
            ]
          },
          "metadata": {
            "tags": [],
            "needs_background": "light"
          }
        }
      ]
    },
    {
      "cell_type": "code",
      "metadata": {
        "id": "8gzKXySXCqYR",
        "outputId": "5ec6874c-0d80-4e70-cdd1-fd64bfeebf13",
        "colab": {
          "base_uri": "https://localhost:8080/",
          "height": 430
        }
      },
      "source": [
        "#決定木\n",
        "dt = DecisionTreeClassifier()\n",
        "dt.fit(x_train,y_train)\n",
        "y_pred_d  = dt.predict(x_test)\n",
        "values2[3,:] = accuracy_score(y_test,y_pred_d),precision_score(y_test,y_pred_d),recall_score(y_test,y_pred_d),f1_score(y_test,y_pred_d)\n",
        "print(\"Accuracy(正解率)：{}\".format(values2[3,0]))\n",
        "print(\"Precision(適合率)：{}\".format(values2[3,1]))\n",
        "print(\"Recall(再現率)：{}\".format(values2[3,2]))\n",
        "print(\"F値：{}\".format(values2[3,3]))\n",
        "print(\"\\n混同行列：\\n{}\".format(confusion_matrix(y_test,y_pred_d)))\n",
        "decision_region(x_test,y_test,dt)"
      ],
      "execution_count": null,
      "outputs": [
        {
          "output_type": "stream",
          "text": [
            "Accuracy(正解率)：0.76\n",
            "Precision(適合率)：0.75\n",
            "Recall(再現率)：0.75\n",
            "F値：0.75\n",
            "\n",
            "混同行列：\n",
            "[[10  3]\n",
            " [ 3  9]]\n"
          ],
          "name": "stdout"
        },
        {
          "output_type": "display_data",
          "data": {
            "image/png": "[encoded data removed]",
            "text/plain": [
              "<Figure size 432x288 with 1 Axes>"
            ]
          },
          "metadata": {
            "tags": [],
            "needs_background": "light"
          }
        }
      ]
    },
    {
      "cell_type": "code",
      "metadata": {
        "id": "MDxT4IwlCtr5",
        "outputId": "caa341ef-e46c-4447-d0e4-5e402aedad27",
        "colab": {
          "base_uri": "https://localhost:8080/",
          "height": 430
        }
      },
      "source": [
        "#ランダムフォレスト\n",
        "rf = RandomForestClassifier()\n",
        "rf.fit(x_train,y_train)\n",
        "y_pred_r = rf.predict(x_test)\n",
        "values2[4,:] = accuracy_score(y_test,y_pred_r),precision_score(y_test,y_pred_r),recall_score(y_test,y_pred_r),f1_score(y_test,y_pred_r)\n",
        "print(\"Accuracy(正解率)：{}\".format(values2[4,0]))\n",
        "print(\"Precision(適合率)：{}\".format(values2[4,1]))\n",
        "print(\"Recall(再現率)：{}\".format(values2[4,2]))\n",
        "print(\"F値：{}\".format(values2[4,3]))\n",
        "print(\"\\n混同行列：\\n{}\".format(confusion_matrix(y_test,y_pred_r)))\n",
        "decision_region(x_test,y_test,rf)"
      ],
      "execution_count": null,
      "outputs": [
        {
          "output_type": "stream",
          "text": [
            "Accuracy(正解率)：0.76\n",
            "Precision(適合率)：0.75\n",
            "Recall(再現率)：0.75\n",
            "F値：0.75\n",
            "\n",
            "混同行列：\n",
            "[[10  3]\n",
            " [ 3  9]]\n"
          ],
          "name": "stdout"
        },
        {
          "output_type": "display_data",
          "data": {
            "image/png": "[encoded data removed]",
            "text/plain": [
              "<Figure size 432x288 with 1 Axes>"
            ]
          },
          "metadata": {
            "tags": [],
            "needs_background": "light"
          }
        }
      ]
    },
    {
      "cell_type": "code",
      "metadata": {
        "id": "MnIDqB7YCv1-",
        "outputId": "9226b2a6-d0ef-45c9-af23-9771568bd127",
        "colab": {
          "base_uri": "https://localhost:8080/",
          "height": 407
        }
      },
      "source": [
        "print(\"標準化した表:\")\n",
        "display(pd.DataFrame(values,index = [\"最近傍法\",\"ロジスティック回帰\",\"SVM\",\"決定木\",\"ランダムフォレスト\"],columns = [\"Accuracy\",\"Precision\",\"Recall\",\"F値\"]))\n",
        "print(\"標準化していない表:\")\n",
        "display(pd.DataFrame(values2,index = [\"最近傍法\",\"ロジスティック回帰\",\"SVM\",\"決定木\",\"ランダムフォレスト\"],columns = [\"Accuracy\",\"Precision\",\"Recall\",\"F値\"]))"
      ],
      "execution_count": null,
      "outputs": [
        {
          "output_type": "stream",
          "text": [
            "標準化した表:\n"
          ],
          "name": "stdout"
        },
        {
          "output_type": "display_data",
          "data": {
            "text/html": [
              "<div>\n",
              "<style scoped>\n",
              "    .dataframe tbody tr th:only-of-type {\n",
              "        vertical-align: middle;\n",
              "    }\n",
              "\n",
              "    .dataframe tbody tr th {\n",
              "        vertical-align: top;\n",
              "    }\n",
              "\n",
              "    .dataframe thead th {\n",
              "        text-align: right;\n",
              "    }\n",
              "</style>\n",
              "<table border=\"1\" class=\"dataframe\">\n",
              "  <thead>\n",
              "    <tr style=\"text-align: right;\">\n",
              "      <th></th>\n",
              "      <th>Accuracy</th>\n",
              "      <th>Precision</th>\n",
              "      <th>Recall</th>\n",
              "      <th>F値</th>\n",
              "    </tr>\n",
              "  </thead>\n",
              "  <tbody>\n",
              "    <tr>\n",
              "      <th>最近傍法</th>\n",
              "      <td>0.8</td>\n",
              "      <td>0.733333</td>\n",
              "      <td>0.916667</td>\n",
              "      <td>0.814815</td>\n",
              "    </tr>\n",
              "    <tr>\n",
              "      <th>ロジスティック回帰</th>\n",
              "      <td>0.8</td>\n",
              "      <td>0.733333</td>\n",
              "      <td>0.916667</td>\n",
              "      <td>0.814815</td>\n",
              "    </tr>\n",
              "    <tr>\n",
              "      <th>SVM</th>\n",
              "      <td>0.8</td>\n",
              "      <td>0.733333</td>\n",
              "      <td>0.916667</td>\n",
              "      <td>0.814815</td>\n",
              "    </tr>\n",
              "    <tr>\n",
              "      <th>決定木</th>\n",
              "      <td>0.8</td>\n",
              "      <td>0.733333</td>\n",
              "      <td>0.916667</td>\n",
              "      <td>0.814815</td>\n",
              "    </tr>\n",
              "    <tr>\n",
              "      <th>ランダムフォレスト</th>\n",
              "      <td>0.8</td>\n",
              "      <td>0.733333</td>\n",
              "      <td>0.916667</td>\n",
              "      <td>0.814815</td>\n",
              "    </tr>\n",
              "  </tbody>\n",
              "</table>\n",
              "</div>"
            ],
            "text/plain": [
              "           Accuracy  Precision    Recall        F値\n",
              "最近傍法            0.8   0.733333  0.916667  0.814815\n",
              "ロジスティック回帰       0.8   0.733333  0.916667  0.814815\n",
              "SVM             0.8   0.733333  0.916667  0.814815\n",
              "決定木             0.8   0.733333  0.916667  0.814815\n",
              "ランダムフォレスト       0.8   0.733333  0.916667  0.814815"
            ]
          },
          "metadata": {
            "tags": []
          }
        },
        {
          "output_type": "stream",
          "text": [
            "標準化していない表:\n"
          ],
          "name": "stdout"
        },
        {
          "output_type": "display_data",
          "data": {
            "text/html": [
              "<div>\n",
              "<style scoped>\n",
              "    .dataframe tbody tr th:only-of-type {\n",
              "        vertical-align: middle;\n",
              "    }\n",
              "\n",
              "    .dataframe tbody tr th {\n",
              "        vertical-align: top;\n",
              "    }\n",
              "\n",
              "    .dataframe thead th {\n",
              "        text-align: right;\n",
              "    }\n",
              "</style>\n",
              "<table border=\"1\" class=\"dataframe\">\n",
              "  <thead>\n",
              "    <tr style=\"text-align: right;\">\n",
              "      <th></th>\n",
              "      <th>Accuracy</th>\n",
              "      <th>Precision</th>\n",
              "      <th>Recall</th>\n",
              "      <th>F値</th>\n",
              "    </tr>\n",
              "  </thead>\n",
              "  <tbody>\n",
              "    <tr>\n",
              "      <th>最近傍法</th>\n",
              "      <td>0.76</td>\n",
              "      <td>0.750000</td>\n",
              "      <td>0.75</td>\n",
              "      <td>0.75</td>\n",
              "    </tr>\n",
              "    <tr>\n",
              "      <th>ロジスティック回帰</th>\n",
              "      <td>0.76</td>\n",
              "      <td>0.750000</td>\n",
              "      <td>0.75</td>\n",
              "      <td>0.75</td>\n",
              "    </tr>\n",
              "    <tr>\n",
              "      <th>SVM</th>\n",
              "      <td>0.72</td>\n",
              "      <td>0.692308</td>\n",
              "      <td>0.75</td>\n",
              "      <td>0.72</td>\n",
              "    </tr>\n",
              "    <tr>\n",
              "      <th>決定木</th>\n",
              "      <td>0.76</td>\n",
              "      <td>0.750000</td>\n",
              "      <td>0.75</td>\n",
              "      <td>0.75</td>\n",
              "    </tr>\n",
              "    <tr>\n",
              "      <th>ランダムフォレスト</th>\n",
              "      <td>0.76</td>\n",
              "      <td>0.750000</td>\n",
              "      <td>0.75</td>\n",
              "      <td>0.75</td>\n",
              "    </tr>\n",
              "  </tbody>\n",
              "</table>\n",
              "</div>"
            ],
            "text/plain": [
              "           Accuracy  Precision  Recall    F値\n",
              "最近傍法           0.76   0.750000    0.75  0.75\n",
              "ロジスティック回帰      0.76   0.750000    0.75  0.75\n",
              "SVM            0.72   0.692308    0.75  0.72\n",
              "決定木            0.76   0.750000    0.75  0.75\n",
              "ランダムフォレスト      0.76   0.750000    0.75  0.75"
            ]
          },
          "metadata": {
            "tags": []
          }
        }
      ]
    },
    {
      "cell_type": "markdown",
      "metadata": {
        "id": "yeDiR1lXC4dD"
      },
      "source": [
        "標準化した方が精度が少し良い傾向となった。"
      ]
    },
    {
      "cell_type": "markdown",
      "metadata": {
        "id": "3OQ1Z8KSC-su"
      },
      "source": [
        "##感想\n",
        "最初は自力でやったが、問題4の前処理で謎の不具合が起き解決できなかった。ほとんどコピペのため、あまり身につかなかった。もう少し基礎からやり直した方が良いと思った。"
      ]
    },
    {
      "cell_type": "code",
      "metadata": {
        "id": "dIK-dLLJCzgz"
      },
      "source": [
        ""
      ],
      "execution_count": null,
      "outputs": []
    }
  ]
}